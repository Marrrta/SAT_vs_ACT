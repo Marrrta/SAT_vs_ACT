{
 "cells": [
  {
   "cell_type": "markdown",
   "metadata": {},
   "source": [
    "<img src=\"http://imgur.com/1ZcRyrc.png\" style=\"float: left; margin: 20px; height: 55px\">\n",
    "\n",
    "# Project 1: Standardized Test Analysis"
   ]
  },
  {
   "cell_type": "markdown",
   "metadata": {},
   "source": [
    "--- \n",
    "# Part 1\n",
    "\n",
    "Part 1 requires knowledge of basic Python.\n",
    "\n",
    "---"
   ]
  },
  {
   "cell_type": "markdown",
   "metadata": {},
   "source": [
    "## Problem Statement"
   ]
  },
  {
   "cell_type": "markdown",
   "metadata": {},
   "source": [
    "This project attempts to validate the need for two separate standardized admissions tests in the USA. By examining the popularity and results of both SAT and ACT across all states, as well as the acceptance requirements of top academic institutions in the country that involve these tests, it:\n",
    "\n",
    "1. Evaluates the reasons for both tests to be maintained;\n",
    "\n",
    "2. Sizes the opportunity to switch to either only SAT or ACT, either US-wide or for select states;\n",
    "\n",
    "3. Assesses the differences in distribution of results to determine whether the (inconsistent) claims that one of the tests is \"easier\" than the other are justified;\n",
    "\n",
    "4. Provides inputs for high school students as they choose between SAT and ACT in order to get accepted to their prefered college."
   ]
  },
  {
   "cell_type": "markdown",
   "metadata": {},
   "source": [
    "### Contents:\n",
    "- [Background](#Background)\n",
    "- [Data Import & Cleaning](#Data-Import-and-Cleaning)\n",
    "- [Exploratory Data Analysis](#Exploratory-Data-Analysis)\n",
    "- [Data Visualization](#Visualize-the-Data)\n",
    "- [Conclusions and Recommendations](#Conclusions-and-Recommendations)"
   ]
  },
  {
   "cell_type": "markdown",
   "metadata": {},
   "source": [
    "## Background"
   ]
  },
  {
   "cell_type": "markdown",
   "metadata": {},
   "source": [
    "The SAT and ACT are standardized tests that many colleges and universities in the United States require for their admissions process. This score is used along with other materials such as grade point average (GPA) and essay responses to determine whether or not a potential student will be accepted to the university.\n",
    "\n",
    "The SAT has two sections of the test: Evidence-Based Reading and Writing and Math ([*source*](https://www.princetonreview.com/college/sat-sections)). The ACT has 4 sections: English, Mathematics, Reading, and Science, with an additional optional writing section ([*source*](https://www.act.org/content/act/en/products-and-services/the-act/scores/understanding-your-scores.html)). As indicated below, the tests have different score ranges -  you can find more detail on their websites:\n",
    "* [SAT](https://collegereadiness.collegeboard.org/sat): total composite scores range from 400 to 1600\n",
    "* [ACT](https://www.act.org/content/act/en.html): total composite scores range from 1 to 36\n",
    "\n",
    "Regardless of the differences between the two tests, including those listed above, the SAT and the ACT are largely equivalent: both are available to students in all US states and neither is considered prefered by the ultimate consumers of the test results: the admissions committies of US colleges.\n",
    "\n",
    "Standardized tests have long been a controversial for students, administrators, and legislators. Since the 1940's, an increasing number of colleges have been using scores from sudents' performances on tests like the SAT and the ACT as a measure for college readiness and aptitude ([*source*](https://www.minotdailynews.com/news/local-news/2017/04/a-brief-history-of-the-sat-and-act/)). Supporters of these tests argue that these scores can be used as an objective measure to determine college admittance. Opponents of these tests claim that these tests are not accurate measures of students potential or ability and serve as an inequitable barrier to entry. Lately, more and more schools are opting to drop the SAT/ACT requirement for their Fall 2021 applications ([*read more about this here*](https://www.cnn.com/2020/04/14/us/coronavirus-colleges-sat-act-test-trnd/index.html)). However, since this decision is driven not by the controversy but rather by the logistical difficulties during the current coronavirus pandemic, it is not clear whether the change is likely to be maintained once the pandemic has been contained.\n"
   ]
  },
  {
   "cell_type": "markdown",
   "metadata": {},
   "source": [
    "**To-Do:** *Fill out this cell (or edit the above cell) with any other background or information that is necessary for your problem statement.*"
   ]
  },
  {
   "cell_type": "markdown",
   "metadata": {},
   "source": [
    "### Data\n",
    "\n",
    "The project utilizes information provided in the following datasets:\n",
    "\n",
    "* [`act_2017.csv`](./data/act_2017.csv): 2017 ACT Scores by State, including an average composite score and participation among eligible students\n",
    "* [`act_2018.csv`](./data/act_2018.csv): 2018 ACT Scores by State, including an average composite score and participation among eligible students\n",
    "* [`act_2019.csv`](./data/act_2019.csv): 2019 ACT Scores by State, including an average composite score and participation among eligible students\n",
    "* [`sat_2017.csv`](./data/sat_2017.csv): 2017 SAT Scores by State, including an average composite score and participation among eligible students\n",
    "* [`sat_2018.csv`](./data/sat_2018.csv): 2018 SAT Scores by State, including an average composite score and participation among eligible students\n",
    "* [`sat_2019.csv`](./data/sat_2019.csv): 2019 SAT Scores by State, including an average composite score and participation among eligible students\n",
    "* [`sat_act_by_college.csv`](./data/sat_act_by_college.csv): Ranges of Accepted ACT & SAT Student Scores by Colleges, including the interquartile ranges for students accepted to 416 higher education institutions in the US, as well as acceptance rate and total annual number of applicants for each school"
   ]
  },
  {
   "cell_type": "markdown",
   "metadata": {},
   "source": [
    "**To-Do:** *Fill out this cell with the datasets you will use for your analysis. Write a brief description of the contents for each dataset that you choose.*"
   ]
  },
  {
   "cell_type": "markdown",
   "metadata": {},
   "source": [
    "### Outside Research"
   ]
  },
  {
   "cell_type": "markdown",
   "metadata": {},
   "source": [
    "Based on your problem statement and your chosen datasets, spend some time doing outside research on state policies or additional information that might be relevant. Summarize your findings below. If you bring in any outside tables or charts, make sure you are explicit about having borrowed them. If you quote any text, make sure that it renders as being quoted. **Make sure that you cite your sources.**"
   ]
  },
  {
   "cell_type": "markdown",
   "metadata": {},
   "source": [
    "**To-Do:** *Fill out this cell with outside research or any additional background information that will support your analysis.*"
   ]
  },
  {
   "cell_type": "markdown",
   "metadata": {},
   "source": [
    "### Coding Challenges\n",
    "\n",
    "1. Manually calculate mean:\n",
    "\n",
    "    Write a function that takes in values and returns the mean of the values. Create a list of numbers that you test on your function to check to make sure your function works!\n",
    "    \n",
    "    *Note*: Do not use any mean methods built-in to any Python libraries to do this! This should be done without importing any additional libraries."
   ]
  },
  {
   "cell_type": "code",
   "execution_count": 125,
   "metadata": {},
   "outputs": [
    {
     "data": {
      "text/plain": [
       "True"
      ]
     },
     "execution_count": 125,
     "metadata": {},
     "output_type": "execute_result"
    }
   ],
   "source": [
    "# importing np to later test my functions:\n",
    "import numpy as np\n",
    "\n",
    "# Code:\n",
    "\n",
    "def mean_of_values(vals):\n",
    "    try:\n",
    "        nom = 0\n",
    "        denom = 0\n",
    "        for val in vals:\n",
    "            nom += val\n",
    "            denom += 1\n",
    "            mean_of_vals = nom / denom\n",
    "        return mean_of_vals\n",
    "    except:\n",
    "        print(\"Did you provide a list of numbers formatted as numbers?\")\n",
    "\n",
    "#testing that function works as expected and returns correct value\n",
    "test_vals = [3,4,5,9,2,0]\n",
    "mean_of_values(test_vals) == np.mean(test_vals)"
   ]
  },
  {
   "cell_type": "markdown",
   "metadata": {},
   "source": [
    "2. Manually calculate standard deviation:\n",
    "\n",
    "    The formula for standard deviation is below:\n",
    "\n",
    "    $$\\sigma = \\sqrt{\\frac{1}{n}\\sum_{i=1}^n(x_i - \\mu)^2}$$\n",
    "\n",
    "    Where $x_i$ represents each value in the dataset, $\\mu$ represents the mean of all values in the dataset and $n$ represents the number of values in the dataset.\n",
    "\n",
    "    Write a function that takes in values and returns the standard deviation of the values using the formula above. Hint: use the function you wrote above to calculate the mean! Use the list of numbers you created above to test on your function.\n",
    "    \n",
    "    *Note*: Do not use any standard deviation methods built-in to any Python libraries to do this! This should be done without importing any additional libraries."
   ]
  },
  {
   "cell_type": "code",
   "execution_count": 126,
   "metadata": {},
   "outputs": [
    {
     "data": {
      "text/plain": [
       "True"
      ]
     },
     "execution_count": 126,
     "metadata": {},
     "output_type": "execute_result"
    }
   ],
   "source": [
    "# Code:\n",
    "def stdev_of_values(vals):\n",
    "    try:\n",
    "        nom = 0\n",
    "        denom = 0\n",
    "        sum_errors_sq = 0\n",
    "        for val in vals:\n",
    "            nom += val\n",
    "            denom += 1\n",
    "            mean_of_vals = nom / denom\n",
    "        for val in vals:\n",
    "            sum_errors_sq += (val - mean_of_vals)**2\n",
    "            std_of_vals = (sum_errors_sq/denom)**0.5\n",
    "        return std_of_vals\n",
    "    except:\n",
    "        print(\"Did you provide a list of numbers formatted as numbers?\")\n",
    "\n",
    "\n",
    "#testing that function works as expected and returns correct value\n",
    "test_vals = [3,4,5,9,2,0]\n",
    "stdev_of_values(test_vals) == np.std(test_vals)"
   ]
  },
  {
   "cell_type": "markdown",
   "metadata": {},
   "source": [
    "3. Data cleaning function:\n",
    "    \n",
    "    Write a function that takes in a string that is a number and a percent symbol (ex. '50%', '30.5%', etc.) and converts this to a float that is the decimal approximation of the percent. For example, inputting '50%' in your function should return 0.5, '30.5%' should return 0.305, etc. Make sure to test your function to make sure it works!\n",
    "\n",
    "You will use these functions later on in the project!"
   ]
  },
  {
   "cell_type": "code",
   "execution_count": 127,
   "metadata": {},
   "outputs": [
    {
     "data": {
      "text/plain": [
       "0.353"
      ]
     },
     "execution_count": 127,
     "metadata": {},
     "output_type": "execute_result"
    }
   ],
   "source": [
    "# Code:\n",
    "def str_to_float(str):\n",
    "    str_no_perc = str.replace('%','')\n",
    "#    str_no_dash = str_no_perc.replace('-','')#some values in my data include a '-' so I want to take care of that at the same time\n",
    "    num = float(str_no_perc)/100\n",
    "    return num\n",
    "\n",
    "#testing the function to make sure it works as intended:\n",
    "str_to_float('35.3%')"
   ]
  },
  {
   "cell_type": "markdown",
   "metadata": {},
   "source": [
    "--- \n",
    "# Part 2\n",
    "\n",
    "Part 2 requires knowledge of Pandas, EDA, data cleaning, and data visualization.\n",
    "\n",
    "---"
   ]
  },
  {
   "cell_type": "markdown",
   "metadata": {},
   "source": [
    "*All libraries used should be added here*"
   ]
  },
  {
   "cell_type": "code",
   "execution_count": 128,
   "metadata": {},
   "outputs": [],
   "source": [
    "# Imports:\n",
    "import numpy as np\n",
    "import pandas as pd\n",
    "import seaborn as sns\n",
    "from matplotlib import pyplot as plt"
   ]
  },
  {
   "cell_type": "markdown",
   "metadata": {},
   "source": [
    "## Data Import and Cleaning"
   ]
  },
  {
   "cell_type": "markdown",
   "metadata": {},
   "source": [
    "### Data Import & Cleaning\n",
    "\n",
    "Import the datasets that you selected for this project and go through the following steps at a minimum. You are welcome to do further cleaning as you feel necessary:\n",
    "1. Display the data: print the first 5 rows of each dataframe to your Jupyter notebook.\n",
    "2. Check for missing values.\n",
    "3. Check for any obvious issues with the observations (keep in mind the minimum & maximum possible values for each test/subtest).\n",
    "4. Fix any errors you identified in steps 2-3.\n",
    "5. Display the data types of each feature.\n",
    "6. Fix any incorrect data types found in step 5.\n",
    "    - Fix any individual values preventing other columns from being the appropriate type.\n",
    "    - If your dataset has a column of percents (ex. '50%', '30.5%', etc.), use the function you wrote in Part 1 (coding challenges, number 3) to convert this to floats! *Hint*: use `.map()` or `.apply()`.\n",
    "7. Rename Columns.\n",
    "    - Column names should be all lowercase.\n",
    "    - Column names should not contain spaces (underscores will suffice--this allows for using the `df.column_name` method to access columns in addition to `df['column_name']`).\n",
    "    - Column names should be unique and informative.\n",
    "8. Drop unnecessary rows (if needed).\n",
    "9. Merge dataframes that can be merged.\n",
    "10. Perform any additional cleaning that you feel is necessary.\n",
    "11. Save your cleaned and merged dataframes as csv files."
   ]
  },
  {
   "cell_type": "markdown",
   "metadata": {},
   "source": [
    "_**Reading in selected datasets:**_"
   ]
  },
  {
   "cell_type": "code",
   "execution_count": 129,
   "metadata": {},
   "outputs": [],
   "source": [
    "# Code:\n",
    "act_2017_df = pd.read_csv('~/dsi/01-week/project_1/data/act_2017.csv')\n",
    "act_2018_df = pd.read_csv('~/dsi/01-week/project_1/data/act_2018.csv')\n",
    "act_2019_df = pd.read_csv('~/dsi/01-week/project_1/data/act_2019.csv')\n",
    "\n",
    "sat_2017_df = pd.read_csv('~/dsi/01-week/project_1/data/sat_2017.csv')\n",
    "sat_2018_df = pd.read_csv('~/dsi/01-week/project_1/data/sat_2018.csv')\n",
    "sat_2019_df = pd.read_csv('~/dsi/01-week/project_1/data/sat_2019.csv')\n",
    "\n",
    "sat_act_by_college_df = pd.read_csv('~/dsi/01-week/project_1/data/sat_act_by_college.csv', encoding='utf8')"
   ]
  },
  {
   "cell_type": "markdown",
   "metadata": {},
   "source": [
    "_**Preparing data for use in EDA and visualizations, including displaying, checking for null values and data types, fixing unexpected data types and values, changing column names, merging of all act and all sat data, and saving data to csv files:**_"
   ]
  },
  {
   "cell_type": "code",
   "execution_count": 130,
   "metadata": {},
   "outputs": [
    {
     "name": "stdout",
     "output_type": "stream",
     "text": [
      "<class 'pandas.core.frame.DataFrame'>\n",
      "RangeIndex: 52 entries, 0 to 51\n",
      "Data columns (total 7 columns):\n",
      " #   Column         Non-Null Count  Dtype  \n",
      "---  ------         --------------  -----  \n",
      " 0   State          52 non-null     object \n",
      " 1   Participation  52 non-null     object \n",
      " 2   English        52 non-null     float64\n",
      " 3   Math           52 non-null     float64\n",
      " 4   Reading        52 non-null     float64\n",
      " 5   Science        52 non-null     float64\n",
      " 6   Composite      52 non-null     object \n",
      "dtypes: float64(4), object(3)\n",
      "memory usage: 3.0+ KB\n"
     ]
    }
   ],
   "source": [
    "act_2017_df.head()\n",
    "act_2017_df.info()"
   ]
  },
  {
   "cell_type": "code",
   "execution_count": 131,
   "metadata": {},
   "outputs": [],
   "source": [
    "# dropping subject-specific scores since 2018, 2019, and the sat datasets do not include this detail\n",
    "act_2017_df.drop(['English', 'Math', 'Reading', 'Science'], axis = 1, inplace = True)"
   ]
  },
  {
   "cell_type": "code",
   "execution_count": 132,
   "metadata": {},
   "outputs": [
    {
     "data": {
      "text/html": [
       "<div>\n",
       "<style scoped>\n",
       "    .dataframe tbody tr th:only-of-type {\n",
       "        vertical-align: middle;\n",
       "    }\n",
       "\n",
       "    .dataframe tbody tr th {\n",
       "        vertical-align: top;\n",
       "    }\n",
       "\n",
       "    .dataframe thead th {\n",
       "        text-align: right;\n",
       "    }\n",
       "</style>\n",
       "<table border=\"1\" class=\"dataframe\">\n",
       "  <thead>\n",
       "    <tr style=\"text-align: right;\">\n",
       "      <th></th>\n",
       "      <th>State</th>\n",
       "      <th>Participation</th>\n",
       "      <th>Composite</th>\n",
       "      <th>Year</th>\n",
       "    </tr>\n",
       "  </thead>\n",
       "  <tbody>\n",
       "    <tr>\n",
       "      <th>0</th>\n",
       "      <td>National</td>\n",
       "      <td>60%</td>\n",
       "      <td>21.0</td>\n",
       "      <td>2017</td>\n",
       "    </tr>\n",
       "    <tr>\n",
       "      <th>1</th>\n",
       "      <td>Alabama</td>\n",
       "      <td>100%</td>\n",
       "      <td>19.2</td>\n",
       "      <td>2017</td>\n",
       "    </tr>\n",
       "    <tr>\n",
       "      <th>2</th>\n",
       "      <td>Alaska</td>\n",
       "      <td>65%</td>\n",
       "      <td>19.8</td>\n",
       "      <td>2017</td>\n",
       "    </tr>\n",
       "    <tr>\n",
       "      <th>3</th>\n",
       "      <td>Arizona</td>\n",
       "      <td>62%</td>\n",
       "      <td>19.7</td>\n",
       "      <td>2017</td>\n",
       "    </tr>\n",
       "    <tr>\n",
       "      <th>4</th>\n",
       "      <td>Arkansas</td>\n",
       "      <td>100%</td>\n",
       "      <td>19.4</td>\n",
       "      <td>2017</td>\n",
       "    </tr>\n",
       "  </tbody>\n",
       "</table>\n",
       "</div>"
      ],
      "text/plain": [
       "      State Participation Composite  Year\n",
       "0  National           60%      21.0  2017\n",
       "1   Alabama          100%      19.2  2017\n",
       "2    Alaska           65%      19.8  2017\n",
       "3   Arizona           62%      19.7  2017\n",
       "4  Arkansas          100%      19.4  2017"
      ]
     },
     "execution_count": 132,
     "metadata": {},
     "output_type": "execute_result"
    }
   ],
   "source": [
    "# adding year column in each act df before merging the three into one dataframe\n",
    "act_2017_df['Year'] = 2017\n",
    "act_2017_df.head()"
   ]
  },
  {
   "cell_type": "code",
   "execution_count": 133,
   "metadata": {},
   "outputs": [
    {
     "name": "stdout",
     "output_type": "stream",
     "text": [
      "<class 'pandas.core.frame.DataFrame'>\n",
      "RangeIndex: 52 entries, 0 to 51\n",
      "Data columns (total 3 columns):\n",
      " #   Column         Non-Null Count  Dtype  \n",
      "---  ------         --------------  -----  \n",
      " 0   State          52 non-null     object \n",
      " 1   Participation  52 non-null     object \n",
      " 2   Composite      52 non-null     float64\n",
      "dtypes: float64(1), object(2)\n",
      "memory usage: 1.3+ KB\n"
     ]
    },
    {
     "data": {
      "text/html": [
       "<div>\n",
       "<style scoped>\n",
       "    .dataframe tbody tr th:only-of-type {\n",
       "        vertical-align: middle;\n",
       "    }\n",
       "\n",
       "    .dataframe tbody tr th {\n",
       "        vertical-align: top;\n",
       "    }\n",
       "\n",
       "    .dataframe thead th {\n",
       "        text-align: right;\n",
       "    }\n",
       "</style>\n",
       "<table border=\"1\" class=\"dataframe\">\n",
       "  <thead>\n",
       "    <tr style=\"text-align: right;\">\n",
       "      <th></th>\n",
       "      <th>State</th>\n",
       "      <th>Participation</th>\n",
       "      <th>Composite</th>\n",
       "      <th>Year</th>\n",
       "    </tr>\n",
       "  </thead>\n",
       "  <tbody>\n",
       "    <tr>\n",
       "      <th>0</th>\n",
       "      <td>Alabama</td>\n",
       "      <td>100%</td>\n",
       "      <td>19.1</td>\n",
       "      <td>2018</td>\n",
       "    </tr>\n",
       "    <tr>\n",
       "      <th>1</th>\n",
       "      <td>Alaska</td>\n",
       "      <td>33%</td>\n",
       "      <td>20.8</td>\n",
       "      <td>2018</td>\n",
       "    </tr>\n",
       "    <tr>\n",
       "      <th>2</th>\n",
       "      <td>Arizona</td>\n",
       "      <td>66%</td>\n",
       "      <td>19.2</td>\n",
       "      <td>2018</td>\n",
       "    </tr>\n",
       "    <tr>\n",
       "      <th>3</th>\n",
       "      <td>Arkansas</td>\n",
       "      <td>100%</td>\n",
       "      <td>19.4</td>\n",
       "      <td>2018</td>\n",
       "    </tr>\n",
       "    <tr>\n",
       "      <th>4</th>\n",
       "      <td>California</td>\n",
       "      <td>27%</td>\n",
       "      <td>22.7</td>\n",
       "      <td>2018</td>\n",
       "    </tr>\n",
       "  </tbody>\n",
       "</table>\n",
       "</div>"
      ],
      "text/plain": [
       "        State Participation  Composite  Year\n",
       "0     Alabama          100%       19.1  2018\n",
       "1      Alaska           33%       20.8  2018\n",
       "2     Arizona           66%       19.2  2018\n",
       "3    Arkansas          100%       19.4  2018\n",
       "4  California           27%       22.7  2018"
      ]
     },
     "execution_count": 133,
     "metadata": {},
     "output_type": "execute_result"
    }
   ],
   "source": [
    "act_2018_df.info()\n",
    "act_2018_df['Year'] = 2018\n",
    "act_2018_df.head()"
   ]
  },
  {
   "cell_type": "code",
   "execution_count": 134,
   "metadata": {},
   "outputs": [
    {
     "data": {
      "text/html": [
       "<div>\n",
       "<style scoped>\n",
       "    .dataframe tbody tr th:only-of-type {\n",
       "        vertical-align: middle;\n",
       "    }\n",
       "\n",
       "    .dataframe tbody tr th {\n",
       "        vertical-align: top;\n",
       "    }\n",
       "\n",
       "    .dataframe thead th {\n",
       "        text-align: right;\n",
       "    }\n",
       "</style>\n",
       "<table border=\"1\" class=\"dataframe\">\n",
       "  <thead>\n",
       "    <tr style=\"text-align: right;\">\n",
       "      <th></th>\n",
       "      <th>State</th>\n",
       "      <th>Participation</th>\n",
       "      <th>Composite</th>\n",
       "      <th>Year</th>\n",
       "    </tr>\n",
       "  </thead>\n",
       "  <tbody>\n",
       "    <tr>\n",
       "      <th>0</th>\n",
       "      <td>Alabama</td>\n",
       "      <td>100%</td>\n",
       "      <td>18.9</td>\n",
       "      <td>2019</td>\n",
       "    </tr>\n",
       "    <tr>\n",
       "      <th>1</th>\n",
       "      <td>Alaska</td>\n",
       "      <td>38%</td>\n",
       "      <td>20.1</td>\n",
       "      <td>2019</td>\n",
       "    </tr>\n",
       "    <tr>\n",
       "      <th>2</th>\n",
       "      <td>Arizona</td>\n",
       "      <td>73%</td>\n",
       "      <td>19.0</td>\n",
       "      <td>2019</td>\n",
       "    </tr>\n",
       "    <tr>\n",
       "      <th>3</th>\n",
       "      <td>Arkansas</td>\n",
       "      <td>100%</td>\n",
       "      <td>19.3</td>\n",
       "      <td>2019</td>\n",
       "    </tr>\n",
       "    <tr>\n",
       "      <th>4</th>\n",
       "      <td>California</td>\n",
       "      <td>23%</td>\n",
       "      <td>22.6</td>\n",
       "      <td>2019</td>\n",
       "    </tr>\n",
       "  </tbody>\n",
       "</table>\n",
       "</div>"
      ],
      "text/plain": [
       "        State Participation  Composite  Year\n",
       "0     Alabama          100%       18.9  2019\n",
       "1      Alaska           38%       20.1  2019\n",
       "2     Arizona           73%       19.0  2019\n",
       "3    Arkansas          100%       19.3  2019\n",
       "4  California           23%       22.6  2019"
      ]
     },
     "execution_count": 134,
     "metadata": {},
     "output_type": "execute_result"
    }
   ],
   "source": [
    "act_2019_df.head()\n",
    "act_2019_df['Year'] = 2019\n",
    "act_2019_df.head()"
   ]
  },
  {
   "cell_type": "code",
   "execution_count": 135,
   "metadata": {},
   "outputs": [],
   "source": [
    "# concatenating all act dataframes into one:\n",
    "['act_'+str(year)+'_df' for year in range(2017,2020)]\n",
    "act_all_dfs = [act_2017_df, act_2018_df, act_2019_df]\n",
    "act_all_df = pd.concat(act_all_dfs)"
   ]
  },
  {
   "cell_type": "code",
   "execution_count": 136,
   "metadata": {},
   "outputs": [
    {
     "name": "stdout",
     "output_type": "stream",
     "text": [
      "(52, 4)\n",
      "(52, 4)\n",
      "(52, 4)\n",
      "(156, 4)\n"
     ]
    }
   ],
   "source": [
    "# checking that each year's df got completely included in the 'all' df: 52 + 52 + 52 = 156\n",
    "print(act_2017_df.shape)\n",
    "print(act_2018_df.shape)\n",
    "print(act_2019_df.shape)\n",
    "\n",
    "print(act_all_df.shape)"
   ]
  },
  {
   "cell_type": "code",
   "execution_count": 137,
   "metadata": {},
   "outputs": [
    {
     "data": {
      "text/html": [
       "<div>\n",
       "<style scoped>\n",
       "    .dataframe tbody tr th:only-of-type {\n",
       "        vertical-align: middle;\n",
       "    }\n",
       "\n",
       "    .dataframe tbody tr th {\n",
       "        vertical-align: top;\n",
       "    }\n",
       "\n",
       "    .dataframe thead th {\n",
       "        text-align: right;\n",
       "    }\n",
       "</style>\n",
       "<table border=\"1\" class=\"dataframe\">\n",
       "  <thead>\n",
       "    <tr style=\"text-align: right;\">\n",
       "      <th></th>\n",
       "      <th>State</th>\n",
       "      <th>Participation</th>\n",
       "      <th>Total</th>\n",
       "      <th>Year</th>\n",
       "    </tr>\n",
       "  </thead>\n",
       "  <tbody>\n",
       "    <tr>\n",
       "      <th>0</th>\n",
       "      <td>Alabama</td>\n",
       "      <td>5%</td>\n",
       "      <td>1165</td>\n",
       "      <td>2017</td>\n",
       "    </tr>\n",
       "    <tr>\n",
       "      <th>1</th>\n",
       "      <td>Alaska</td>\n",
       "      <td>38%</td>\n",
       "      <td>1080</td>\n",
       "      <td>2017</td>\n",
       "    </tr>\n",
       "    <tr>\n",
       "      <th>2</th>\n",
       "      <td>Arizona</td>\n",
       "      <td>30%</td>\n",
       "      <td>1116</td>\n",
       "      <td>2017</td>\n",
       "    </tr>\n",
       "    <tr>\n",
       "      <th>3</th>\n",
       "      <td>Arkansas</td>\n",
       "      <td>3%</td>\n",
       "      <td>1208</td>\n",
       "      <td>2017</td>\n",
       "    </tr>\n",
       "    <tr>\n",
       "      <th>4</th>\n",
       "      <td>California</td>\n",
       "      <td>53%</td>\n",
       "      <td>1055</td>\n",
       "      <td>2017</td>\n",
       "    </tr>\n",
       "  </tbody>\n",
       "</table>\n",
       "</div>"
      ],
      "text/plain": [
       "        State Participation  Total  Year\n",
       "0     Alabama            5%   1165  2017\n",
       "1      Alaska           38%   1080  2017\n",
       "2     Arizona           30%   1116  2017\n",
       "3    Arkansas            3%   1208  2017\n",
       "4  California           53%   1055  2017"
      ]
     },
     "execution_count": 137,
     "metadata": {},
     "output_type": "execute_result"
    }
   ],
   "source": [
    "# inspecting the sat df, removing unnecessary columns, and adding year to later concatenate all sat dfs into one:\n",
    "sat_2017_df.head()\n",
    "sat_2017_df.drop(['Evidence-Based Reading and Writing', 'Math'], axis = 1, inplace=True)\n",
    "sat_2017_df['Year'] = 2017\n",
    "sat_2017_df.head()"
   ]
  },
  {
   "cell_type": "code",
   "execution_count": 138,
   "metadata": {},
   "outputs": [
    {
     "data": {
      "text/html": [
       "<div>\n",
       "<style scoped>\n",
       "    .dataframe tbody tr th:only-of-type {\n",
       "        vertical-align: middle;\n",
       "    }\n",
       "\n",
       "    .dataframe tbody tr th {\n",
       "        vertical-align: top;\n",
       "    }\n",
       "\n",
       "    .dataframe thead th {\n",
       "        text-align: right;\n",
       "    }\n",
       "</style>\n",
       "<table border=\"1\" class=\"dataframe\">\n",
       "  <thead>\n",
       "    <tr style=\"text-align: right;\">\n",
       "      <th></th>\n",
       "      <th>State</th>\n",
       "      <th>Participation</th>\n",
       "      <th>Total</th>\n",
       "      <th>Year</th>\n",
       "    </tr>\n",
       "  </thead>\n",
       "  <tbody>\n",
       "    <tr>\n",
       "      <th>0</th>\n",
       "      <td>Alabama</td>\n",
       "      <td>6%</td>\n",
       "      <td>1166</td>\n",
       "      <td>2018</td>\n",
       "    </tr>\n",
       "    <tr>\n",
       "      <th>1</th>\n",
       "      <td>Alaska</td>\n",
       "      <td>43%</td>\n",
       "      <td>1106</td>\n",
       "      <td>2018</td>\n",
       "    </tr>\n",
       "    <tr>\n",
       "      <th>2</th>\n",
       "      <td>Arizona</td>\n",
       "      <td>29%</td>\n",
       "      <td>1149</td>\n",
       "      <td>2018</td>\n",
       "    </tr>\n",
       "    <tr>\n",
       "      <th>3</th>\n",
       "      <td>Arkansas</td>\n",
       "      <td>5%</td>\n",
       "      <td>1169</td>\n",
       "      <td>2018</td>\n",
       "    </tr>\n",
       "    <tr>\n",
       "      <th>4</th>\n",
       "      <td>California</td>\n",
       "      <td>60%</td>\n",
       "      <td>1076</td>\n",
       "      <td>2018</td>\n",
       "    </tr>\n",
       "  </tbody>\n",
       "</table>\n",
       "</div>"
      ],
      "text/plain": [
       "        State Participation  Total  Year\n",
       "0     Alabama            6%   1166  2018\n",
       "1      Alaska           43%   1106  2018\n",
       "2     Arizona           29%   1149  2018\n",
       "3    Arkansas            5%   1169  2018\n",
       "4  California           60%   1076  2018"
      ]
     },
     "execution_count": 138,
     "metadata": {},
     "output_type": "execute_result"
    }
   ],
   "source": [
    "sat_2018_df.head()\n",
    "sat_2018_df.drop(['Evidence-Based Reading and Writing', 'Math'], axis = 1, inplace=True)\n",
    "sat_2018_df['Year'] = 2018\n",
    "sat_2018_df.head()"
   ]
  },
  {
   "cell_type": "code",
   "execution_count": 139,
   "metadata": {},
   "outputs": [
    {
     "data": {
      "text/html": [
       "<div>\n",
       "<style scoped>\n",
       "    .dataframe tbody tr th:only-of-type {\n",
       "        vertical-align: middle;\n",
       "    }\n",
       "\n",
       "    .dataframe tbody tr th {\n",
       "        vertical-align: top;\n",
       "    }\n",
       "\n",
       "    .dataframe thead th {\n",
       "        text-align: right;\n",
       "    }\n",
       "</style>\n",
       "<table border=\"1\" class=\"dataframe\">\n",
       "  <thead>\n",
       "    <tr style=\"text-align: right;\">\n",
       "      <th></th>\n",
       "      <th>State</th>\n",
       "      <th>Participation Rate</th>\n",
       "      <th>Total</th>\n",
       "    </tr>\n",
       "  </thead>\n",
       "  <tbody>\n",
       "    <tr>\n",
       "      <th>0</th>\n",
       "      <td>Alabama</td>\n",
       "      <td>7%</td>\n",
       "      <td>1143</td>\n",
       "    </tr>\n",
       "    <tr>\n",
       "      <th>1</th>\n",
       "      <td>Alaska</td>\n",
       "      <td>41%</td>\n",
       "      <td>1097</td>\n",
       "    </tr>\n",
       "    <tr>\n",
       "      <th>2</th>\n",
       "      <td>Arizona</td>\n",
       "      <td>31%</td>\n",
       "      <td>1134</td>\n",
       "    </tr>\n",
       "    <tr>\n",
       "      <th>3</th>\n",
       "      <td>Arkansas</td>\n",
       "      <td>6%</td>\n",
       "      <td>1141</td>\n",
       "    </tr>\n",
       "    <tr>\n",
       "      <th>4</th>\n",
       "      <td>California</td>\n",
       "      <td>63%</td>\n",
       "      <td>1065</td>\n",
       "    </tr>\n",
       "  </tbody>\n",
       "</table>\n",
       "</div>"
      ],
      "text/plain": [
       "        State Participation Rate  Total\n",
       "0     Alabama                 7%   1143\n",
       "1      Alaska                41%   1097\n",
       "2     Arizona                31%   1134\n",
       "3    Arkansas                 6%   1141\n",
       "4  California                63%   1065"
      ]
     },
     "execution_count": 139,
     "metadata": {},
     "output_type": "execute_result"
    }
   ],
   "source": [
    "sat_2019_df.drop(['EBRW', 'Math'], axis = 1, inplace=True)\n",
    "sat_2019_df.head()"
   ]
  },
  {
   "cell_type": "code",
   "execution_count": 140,
   "metadata": {},
   "outputs": [],
   "source": [
    "# renaming and cleaning the 'Participation Rate' column:\n",
    "sat_2019_df.head()\n",
    "sat_2019_df.rename(columns = {'Participation Rate':'Participation'}, inplace=True)\n",
    "sat_2019_df['Year'] = 2019\n",
    "sat_2019_df['Participation'].value_counts()\n",
    "sat_2019_df['Participation'] = sat_2019_df['Participation'].apply(lambda x: x.replace(\"—\", '0'))"
   ]
  },
  {
   "cell_type": "code",
   "execution_count": 141,
   "metadata": {},
   "outputs": [],
   "source": [
    "# merging all sat dfs into one:\n",
    "['sat_'+str(year)+'_df' for year in range(2017,2020)]\n",
    "sat_all_dfs = [sat_2017_df, sat_2018_df, sat_2019_df]\n",
    "sat_all_df = pd.concat(sat_all_dfs)"
   ]
  },
  {
   "cell_type": "code",
   "execution_count": 142,
   "metadata": {},
   "outputs": [
    {
     "data": {
      "text/html": [
       "<div>\n",
       "<style scoped>\n",
       "    .dataframe tbody tr th:only-of-type {\n",
       "        vertical-align: middle;\n",
       "    }\n",
       "\n",
       "    .dataframe tbody tr th {\n",
       "        vertical-align: top;\n",
       "    }\n",
       "\n",
       "    .dataframe thead th {\n",
       "        text-align: right;\n",
       "    }\n",
       "</style>\n",
       "<table border=\"1\" class=\"dataframe\">\n",
       "  <thead>\n",
       "    <tr style=\"text-align: right;\">\n",
       "      <th></th>\n",
       "      <th>State</th>\n",
       "      <th>Participation</th>\n",
       "      <th>Total</th>\n",
       "      <th>Year</th>\n",
       "      <th>total_norm</th>\n",
       "    </tr>\n",
       "  </thead>\n",
       "  <tbody>\n",
       "    <tr>\n",
       "      <th>0</th>\n",
       "      <td>Alabama</td>\n",
       "      <td>5%</td>\n",
       "      <td>1165</td>\n",
       "      <td>2017</td>\n",
       "      <td>0.637500</td>\n",
       "    </tr>\n",
       "    <tr>\n",
       "      <th>1</th>\n",
       "      <td>Alaska</td>\n",
       "      <td>38%</td>\n",
       "      <td>1080</td>\n",
       "      <td>2017</td>\n",
       "      <td>0.566667</td>\n",
       "    </tr>\n",
       "    <tr>\n",
       "      <th>2</th>\n",
       "      <td>Arizona</td>\n",
       "      <td>30%</td>\n",
       "      <td>1116</td>\n",
       "      <td>2017</td>\n",
       "      <td>0.596667</td>\n",
       "    </tr>\n",
       "    <tr>\n",
       "      <th>3</th>\n",
       "      <td>Arkansas</td>\n",
       "      <td>3%</td>\n",
       "      <td>1208</td>\n",
       "      <td>2017</td>\n",
       "      <td>0.673333</td>\n",
       "    </tr>\n",
       "    <tr>\n",
       "      <th>4</th>\n",
       "      <td>California</td>\n",
       "      <td>53%</td>\n",
       "      <td>1055</td>\n",
       "      <td>2017</td>\n",
       "      <td>0.545833</td>\n",
       "    </tr>\n",
       "  </tbody>\n",
       "</table>\n",
       "</div>"
      ],
      "text/plain": [
       "        State Participation  Total  Year  total_norm\n",
       "0     Alabama            5%   1165  2017    0.637500\n",
       "1      Alaska           38%   1080  2017    0.566667\n",
       "2     Arizona           30%   1116  2017    0.596667\n",
       "3    Arkansas            3%   1208  2017    0.673333\n",
       "4  California           53%   1055  2017    0.545833"
      ]
     },
     "execution_count": 142,
     "metadata": {},
     "output_type": "execute_result"
    }
   ],
   "source": [
    "# applying min-max normalization to total column in SAT column to allow comparisons between ACT and SAT:\n",
    "sat_all_df['total_norm'] = (sat_all_df['Total'] - 400)/1200\n",
    "sat_all_df.head()"
   ]
  },
  {
   "cell_type": "code",
   "execution_count": 143,
   "metadata": {},
   "outputs": [
    {
     "name": "stdout",
     "output_type": "stream",
     "text": [
      "(51, 4)\n",
      "(51, 4)\n",
      "(53, 4)\n",
      "(155, 5)\n"
     ]
    }
   ],
   "source": [
    "# checking that each year's df got completely included in the 'all' df: 51 + 51 + 53 = 155\n",
    "print(sat_2017_df.shape)\n",
    "print(sat_2018_df.shape)\n",
    "print(sat_2019_df.shape)\n",
    "\n",
    "print(sat_all_df.shape)"
   ]
  },
  {
   "cell_type": "code",
   "execution_count": 144,
   "metadata": {},
   "outputs": [
    {
     "name": "stdout",
     "output_type": "stream",
     "text": [
      "<class 'pandas.core.frame.DataFrame'>\n",
      "Int64Index: 156 entries, 0 to 51\n",
      "Data columns (total 4 columns):\n",
      " #   Column         Non-Null Count  Dtype \n",
      "---  ------         --------------  ----- \n",
      " 0   State          156 non-null    object\n",
      " 1   Participation  156 non-null    object\n",
      " 2   Total          156 non-null    object\n",
      " 3   Year           156 non-null    int64 \n",
      "dtypes: int64(1), object(3)\n",
      "memory usage: 6.1+ KB\n"
     ]
    }
   ],
   "source": [
    "# renaming \"Composite\" to \"Total\" to later merge act and sat dataframes into one and checking data types in act_all_df:\n",
    "act_all_df.rename(columns = {'Composite': 'Total'}, inplace= True)\n",
    "act_all_df.info()"
   ]
  },
  {
   "cell_type": "code",
   "execution_count": 145,
   "metadata": {},
   "outputs": [],
   "source": [
    "# fixing data types and column names in act_all_df\n",
    "act_all_df['Total'] = act_all_df['Total'].apply(lambda x: str(x))\n",
    "act_all_df['Total'] = act_all_df['Total'].apply(lambda x: x.replace('x',''))\n",
    "act_all_df['Total'] = act_all_df['Total'].apply(lambda x: float(x))\n",
    "act_all_df['Participation'] = act_all_df['Participation'].apply(lambda x: str_to_float(x))\n",
    "act_all_df = act_all_df.rename(columns = {orig: orig.lower() for orig in act_all_df.columns})"
   ]
  },
  {
   "cell_type": "code",
   "execution_count": 146,
   "metadata": {},
   "outputs": [
    {
     "data": {
      "text/html": [
       "<div>\n",
       "<style scoped>\n",
       "    .dataframe tbody tr th:only-of-type {\n",
       "        vertical-align: middle;\n",
       "    }\n",
       "\n",
       "    .dataframe tbody tr th {\n",
       "        vertical-align: top;\n",
       "    }\n",
       "\n",
       "    .dataframe thead th {\n",
       "        text-align: right;\n",
       "    }\n",
       "</style>\n",
       "<table border=\"1\" class=\"dataframe\">\n",
       "  <thead>\n",
       "    <tr style=\"text-align: right;\">\n",
       "      <th></th>\n",
       "      <th>state</th>\n",
       "      <th>participation</th>\n",
       "      <th>total</th>\n",
       "      <th>year</th>\n",
       "      <th>total_norm</th>\n",
       "    </tr>\n",
       "  </thead>\n",
       "  <tbody>\n",
       "    <tr>\n",
       "      <th>0</th>\n",
       "      <td>National</td>\n",
       "      <td>0.60</td>\n",
       "      <td>21.0</td>\n",
       "      <td>2017</td>\n",
       "      <td>0.571429</td>\n",
       "    </tr>\n",
       "    <tr>\n",
       "      <th>1</th>\n",
       "      <td>Alabama</td>\n",
       "      <td>1.00</td>\n",
       "      <td>19.2</td>\n",
       "      <td>2017</td>\n",
       "      <td>0.520000</td>\n",
       "    </tr>\n",
       "    <tr>\n",
       "      <th>2</th>\n",
       "      <td>Alaska</td>\n",
       "      <td>0.65</td>\n",
       "      <td>19.8</td>\n",
       "      <td>2017</td>\n",
       "      <td>0.537143</td>\n",
       "    </tr>\n",
       "    <tr>\n",
       "      <th>3</th>\n",
       "      <td>Arizona</td>\n",
       "      <td>0.62</td>\n",
       "      <td>19.7</td>\n",
       "      <td>2017</td>\n",
       "      <td>0.534286</td>\n",
       "    </tr>\n",
       "    <tr>\n",
       "      <th>4</th>\n",
       "      <td>Arkansas</td>\n",
       "      <td>1.00</td>\n",
       "      <td>19.4</td>\n",
       "      <td>2017</td>\n",
       "      <td>0.525714</td>\n",
       "    </tr>\n",
       "  </tbody>\n",
       "</table>\n",
       "</div>"
      ],
      "text/plain": [
       "      state  participation  total  year  total_norm\n",
       "0  National           0.60   21.0  2017    0.571429\n",
       "1   Alabama           1.00   19.2  2017    0.520000\n",
       "2    Alaska           0.65   19.8  2017    0.537143\n",
       "3   Arizona           0.62   19.7  2017    0.534286\n",
       "4  Arkansas           1.00   19.4  2017    0.525714"
      ]
     },
     "execution_count": 146,
     "metadata": {},
     "output_type": "execute_result"
    }
   ],
   "source": [
    "# applying min-max normalization to total column in ACT column to allow for comparisons to normalized SAT results:\n",
    "act_all_df['total_norm'] = (act_all_df['total'] - 1)/35\n",
    "act_all_df.head()"
   ]
  },
  {
   "cell_type": "code",
   "execution_count": 147,
   "metadata": {},
   "outputs": [
    {
     "data": {
      "text/plain": [
       "min    0.477143\n",
       "max    0.702857\n",
       "Name: total_norm, dtype: float64"
      ]
     },
     "execution_count": 147,
     "metadata": {},
     "output_type": "execute_result"
    }
   ],
   "source": [
    "# checking statistics of new normalized column for ACT to make sure all data falls into the [0-1] range:\n",
    "act_all_df['total_norm'].agg(['min', 'max'])"
   ]
  },
  {
   "cell_type": "code",
   "execution_count": 148,
   "metadata": {},
   "outputs": [
    {
     "data": {
      "text/plain": [
       "min    0.445833\n",
       "max    0.748333\n",
       "Name: total_norm, dtype: float64"
      ]
     },
     "execution_count": 148,
     "metadata": {},
     "output_type": "execute_result"
    }
   ],
   "source": [
    "# checking statistics of new normalized column for SAT to make sure all data falls into the [0-1] range\n",
    "sat_all_df['total_norm'].agg(['min', 'max'])"
   ]
  },
  {
   "cell_type": "code",
   "execution_count": 149,
   "metadata": {},
   "outputs": [],
   "source": [
    "# fixing the data type for \"Participation\"\n",
    "sat_all_df['Participation'] = sat_all_df['Participation'].apply(lambda x: str(x))\n",
    "sat_all_df['Participation'] = sat_all_df['Participation'].apply(lambda x: str_to_float(x))"
   ]
  },
  {
   "cell_type": "code",
   "execution_count": 150,
   "metadata": {},
   "outputs": [
    {
     "name": "stdout",
     "output_type": "stream",
     "text": [
      "<class 'pandas.core.frame.DataFrame'>\n",
      "Int64Index: 155 entries, 0 to 52\n",
      "Data columns (total 5 columns):\n",
      " #   Column         Non-Null Count  Dtype  \n",
      "---  ------         --------------  -----  \n",
      " 0   state          155 non-null    object \n",
      " 1   participation  155 non-null    float64\n",
      " 2   total          155 non-null    int64  \n",
      " 3   year           155 non-null    int64  \n",
      " 4   total_norm     155 non-null    float64\n",
      "dtypes: float64(2), int64(2), object(1)\n",
      "memory usage: 7.3+ KB\n"
     ]
    }
   ],
   "source": [
    "# replacing a couple zero values observed in \"Participation\" with average of all non-zero values\n",
    "sat_average_participation = sat_all_df['Participation'][sat_all_df['Participation']>0].mean() \n",
    "sat_all_df['Participation'] = sat_all_df['Participation'].apply(lambda x: sat_average_participation if x == 0 else x)\n",
    "sat_all_df = sat_all_df.rename(columns = {orig: orig.lower() for orig in sat_all_df.columns})\n",
    "sat_all_df.info()"
   ]
  },
  {
   "cell_type": "code",
   "execution_count": 151,
   "metadata": {},
   "outputs": [],
   "source": [
    "# renaming columns and fixing data types in sat_act_by_college_df:\n",
    "sat_act_by_college_df = sat_act_by_college_df.rename(columns = {orig: orig.lower() for orig in sat_act_by_college_df.columns})\n",
    "sat_act_by_college_df = sat_act_by_college_df.rename(columns = {orig: orig.replace(' ','_') for orig in sat_act_by_college_df.columns})\n",
    "sat_act_by_college_df['accept_rate'] = sat_act_by_college_df['accept_rate'].apply(lambda x: 0 if x in ['-',''] else x)\n",
    "sat_act_by_college_df['accept_rate'] = sat_act_by_college_df['accept_rate'].apply(lambda x: str_to_float(x))"
   ]
  },
  {
   "cell_type": "code",
   "execution_count": 152,
   "metadata": {},
   "outputs": [],
   "source": [
    "# splitting ranges into separate columns for lower and upper bound of SAT IQR:\n",
    "sat_act_by_college_df['sat_total_25th'] = sat_act_by_college_df['sat_total_25th-75th_percentile'].apply(lambda x: x.split('-')[0])\n",
    "sat_act_by_college_df['sat_total_75th'] = sat_act_by_college_df['sat_total_25th-75th_percentile'].apply(lambda x: x.split('-')[1])\n",
    "sat_act_by_college_df['sat_total_25th'] = sat_act_by_college_df['sat_total_25th'].apply(lambda x: '0' if x in ['-',''] else x)\n",
    "sat_act_by_college_df['sat_total_75th'] = sat_act_by_college_df['sat_total_75th'].apply(lambda x: '0' if x in ['-',''] else x)"
   ]
  },
  {
   "cell_type": "code",
   "execution_count": 153,
   "metadata": {},
   "outputs": [],
   "source": [
    "# converting SAT 25th and 75th percentile values to floats:\n",
    "sat_act_by_college_df['sat_total_25th'] = sat_act_by_college_df['sat_total_25th'].apply(lambda x: str(x).lstrip('\\u200b\\u200b '))\n",
    "sat_act_by_college_df['sat_total_25th'] = sat_act_by_college_df['sat_total_25th'].apply(lambda x: float(x))\n",
    "sat_act_by_college_df['sat_total_75th'] = sat_act_by_college_df['sat_total_75th'].apply(lambda x: str(x).lstrip('\\u200b\\u200b '))\n",
    "sat_act_by_college_df['sat_total_75th'] = sat_act_by_college_df['sat_total_75th'].apply(lambda x: float(x))"
   ]
  },
  {
   "cell_type": "code",
   "execution_count": 154,
   "metadata": {},
   "outputs": [],
   "source": [
    "# splitting ranges and coverting 25th and 75th percentile values to floats for ACT:\n",
    "sat_act_by_college_df['act_total_25th'] = sat_act_by_college_df['act_total_25th-75th_percentile'].apply(lambda x: x.split('-')[0])\n",
    "sat_act_by_college_df['act_total_75th'] = sat_act_by_college_df['act_total_25th-75th_percentile'].apply(lambda x: x.split('-')[1])\n",
    "sat_act_by_college_df['act_total_25th'] = sat_act_by_college_df['act_total_25th'].apply(lambda x: '0' if x in ['-',''] else x)\n",
    "sat_act_by_college_df['act_total_75th'] = sat_act_by_college_df['act_total_75th'].apply(lambda x: '0' if x in ['-',''] else x)\n",
    "sat_act_by_college_df['act_total_25th'] = sat_act_by_college_df['act_total_25th'].apply(lambda x: float(x))\n",
    "sat_act_by_college_df['act_total_75th'] = sat_act_by_college_df['act_total_75th'].apply(lambda x: float(x))"
   ]
  },
  {
   "cell_type": "code",
   "execution_count": 155,
   "metadata": {},
   "outputs": [
    {
     "data": {
      "text/html": [
       "<div>\n",
       "<style scoped>\n",
       "    .dataframe tbody tr th:only-of-type {\n",
       "        vertical-align: middle;\n",
       "    }\n",
       "\n",
       "    .dataframe tbody tr th {\n",
       "        vertical-align: top;\n",
       "    }\n",
       "\n",
       "    .dataframe thead th {\n",
       "        text-align: right;\n",
       "    }\n",
       "</style>\n",
       "<table border=\"1\" class=\"dataframe\">\n",
       "  <thead>\n",
       "    <tr style=\"text-align: right;\">\n",
       "      <th></th>\n",
       "      <th>school</th>\n",
       "      <th>test_optional?</th>\n",
       "      <th>applies_to_class_year(s)</th>\n",
       "      <th>policy_details</th>\n",
       "      <th>number_of_applicants</th>\n",
       "      <th>accept_rate</th>\n",
       "      <th>sat_total_25th-75th_percentile</th>\n",
       "      <th>act_total_25th-75th_percentile</th>\n",
       "      <th>sat_total_25th</th>\n",
       "      <th>sat_total_75th</th>\n",
       "      <th>act_total_25th</th>\n",
       "      <th>act_total_75th</th>\n",
       "    </tr>\n",
       "  </thead>\n",
       "  <tbody>\n",
       "    <tr>\n",
       "      <th>0</th>\n",
       "      <td>Stanford University</td>\n",
       "      <td>Yes</td>\n",
       "      <td>2021</td>\n",
       "      <td>Stanford has adopted a one-year test optional ...</td>\n",
       "      <td>47452</td>\n",
       "      <td>0.043</td>\n",
       "      <td>1440-1570</td>\n",
       "      <td>32-35</td>\n",
       "      <td>1440.0</td>\n",
       "      <td>1570.0</td>\n",
       "      <td>32.0</td>\n",
       "      <td>35.0</td>\n",
       "    </tr>\n",
       "    <tr>\n",
       "      <th>1</th>\n",
       "      <td>Harvard College</td>\n",
       "      <td>Yes</td>\n",
       "      <td>2021</td>\n",
       "      <td>Harvard has adopted a one-year test optional p...</td>\n",
       "      <td>42749</td>\n",
       "      <td>0.047</td>\n",
       "      <td>1460-1580</td>\n",
       "      <td>33-35</td>\n",
       "      <td>1460.0</td>\n",
       "      <td>1580.0</td>\n",
       "      <td>33.0</td>\n",
       "      <td>35.0</td>\n",
       "    </tr>\n",
       "    <tr>\n",
       "      <th>2</th>\n",
       "      <td>Princeton University</td>\n",
       "      <td>Yes</td>\n",
       "      <td>2021</td>\n",
       "      <td>Princeton has adopted a one-year test optional...</td>\n",
       "      <td>35370</td>\n",
       "      <td>0.055</td>\n",
       "      <td>1440-1570</td>\n",
       "      <td>32-35</td>\n",
       "      <td>1440.0</td>\n",
       "      <td>1570.0</td>\n",
       "      <td>32.0</td>\n",
       "      <td>35.0</td>\n",
       "    </tr>\n",
       "    <tr>\n",
       "      <th>3</th>\n",
       "      <td>Columbia University</td>\n",
       "      <td>Yes</td>\n",
       "      <td>2021</td>\n",
       "      <td>Columbia has adopted a one-year test optional ...</td>\n",
       "      <td>40203</td>\n",
       "      <td>0.055</td>\n",
       "      <td>1450-1560</td>\n",
       "      <td>33-35</td>\n",
       "      <td>1450.0</td>\n",
       "      <td>1560.0</td>\n",
       "      <td>33.0</td>\n",
       "      <td>35.0</td>\n",
       "    </tr>\n",
       "    <tr>\n",
       "      <th>4</th>\n",
       "      <td>Yale University</td>\n",
       "      <td>Yes</td>\n",
       "      <td>2021</td>\n",
       "      <td>Yale has adopted a one-year test optional poli...</td>\n",
       "      <td>36844</td>\n",
       "      <td>0.061</td>\n",
       "      <td>1460-1570</td>\n",
       "      <td>33-35</td>\n",
       "      <td>1460.0</td>\n",
       "      <td>1570.0</td>\n",
       "      <td>33.0</td>\n",
       "      <td>35.0</td>\n",
       "    </tr>\n",
       "  </tbody>\n",
       "</table>\n",
       "</div>"
      ],
      "text/plain": [
       "                 school test_optional? applies_to_class_year(s)  \\\n",
       "0   Stanford University            Yes                     2021   \n",
       "1       Harvard College            Yes                     2021   \n",
       "2  Princeton University            Yes                     2021   \n",
       "3   Columbia University            Yes                     2021   \n",
       "4       Yale University            Yes                     2021   \n",
       "\n",
       "                                      policy_details  number_of_applicants  \\\n",
       "0  Stanford has adopted a one-year test optional ...                 47452   \n",
       "1  Harvard has adopted a one-year test optional p...                 42749   \n",
       "2  Princeton has adopted a one-year test optional...                 35370   \n",
       "3  Columbia has adopted a one-year test optional ...                 40203   \n",
       "4  Yale has adopted a one-year test optional poli...                 36844   \n",
       "\n",
       "   accept_rate sat_total_25th-75th_percentile act_total_25th-75th_percentile  \\\n",
       "0        0.043                      1440-1570                          32-35   \n",
       "1        0.047                      1460-1580                          33-35   \n",
       "2        0.055                      1440-1570                          32-35   \n",
       "3        0.055                      1450-1560                          33-35   \n",
       "4        0.061                      1460-1570                          33-35   \n",
       "\n",
       "   sat_total_25th  sat_total_75th  act_total_25th  act_total_75th  \n",
       "0          1440.0          1570.0            32.0            35.0  \n",
       "1          1460.0          1580.0            33.0            35.0  \n",
       "2          1440.0          1570.0            32.0            35.0  \n",
       "3          1450.0          1560.0            33.0            35.0  \n",
       "4          1460.0          1570.0            33.0            35.0  "
      ]
     },
     "execution_count": 155,
     "metadata": {},
     "output_type": "execute_result"
    }
   ],
   "source": [
    "# displaying top rows to check consistency of results:\n",
    "sat_act_by_college_df.head()"
   ]
  },
  {
   "cell_type": "code",
   "execution_count": 156,
   "metadata": {},
   "outputs": [
    {
     "data": {
      "text/html": [
       "<div>\n",
       "<style scoped>\n",
       "    .dataframe tbody tr th:only-of-type {\n",
       "        vertical-align: middle;\n",
       "    }\n",
       "\n",
       "    .dataframe tbody tr th {\n",
       "        vertical-align: top;\n",
       "    }\n",
       "\n",
       "    .dataframe thead th {\n",
       "        text-align: right;\n",
       "    }\n",
       "</style>\n",
       "<table border=\"1\" class=\"dataframe\">\n",
       "  <thead>\n",
       "    <tr style=\"text-align: right;\">\n",
       "      <th></th>\n",
       "      <th>school</th>\n",
       "      <th>test_optional?</th>\n",
       "      <th>applies_to_class_year(s)</th>\n",
       "      <th>policy_details</th>\n",
       "      <th>number_of_applicants</th>\n",
       "      <th>accept_rate</th>\n",
       "      <th>sat_total_25th-75th_percentile</th>\n",
       "      <th>act_total_25th-75th_percentile</th>\n",
       "      <th>sat_total_25th</th>\n",
       "      <th>sat_total_75th</th>\n",
       "      <th>act_total_25th</th>\n",
       "      <th>act_total_75th</th>\n",
       "    </tr>\n",
       "  </thead>\n",
       "  <tbody>\n",
       "    <tr>\n",
       "      <th>60</th>\n",
       "      <td>University of California—​Irvine</td>\n",
       "      <td>Yes (TB)</td>\n",
       "      <td>2021 2022 2023 2024</td>\n",
       "      <td>UCI has adopted a four-year test blind policy ...</td>\n",
       "      <td>95568</td>\n",
       "      <td>0.265</td>\n",
       "      <td>1180-1440</td>\n",
       "      <td>--</td>\n",
       "      <td>1180.0</td>\n",
       "      <td>1440.0</td>\n",
       "      <td>0.0</td>\n",
       "      <td>0.0</td>\n",
       "    </tr>\n",
       "    <tr>\n",
       "      <th>93</th>\n",
       "      <td>CUNY--Hunter</td>\n",
       "      <td>Yes (TB)</td>\n",
       "      <td>2021</td>\n",
       "      <td>The CUNY system has adopted a one-year Test Bl...</td>\n",
       "      <td>31030</td>\n",
       "      <td>0.364</td>\n",
       "      <td>1090-1260</td>\n",
       "      <td>--</td>\n",
       "      <td>1090.0</td>\n",
       "      <td>1260.0</td>\n",
       "      <td>0.0</td>\n",
       "      <td>0.0</td>\n",
       "    </tr>\n",
       "    <tr>\n",
       "      <th>114</th>\n",
       "      <td>CUNY--Baruch College</td>\n",
       "      <td>Yes (TB)</td>\n",
       "      <td>2021</td>\n",
       "      <td>The CUNY system has adopted a one-year Test Bl...</td>\n",
       "      <td>20303</td>\n",
       "      <td>0.434</td>\n",
       "      <td>1130-1330</td>\n",
       "      <td>--</td>\n",
       "      <td>1130.0</td>\n",
       "      <td>1330.0</td>\n",
       "      <td>0.0</td>\n",
       "      <td>0.0</td>\n",
       "    </tr>\n",
       "    <tr>\n",
       "      <th>242</th>\n",
       "      <td>DePaul University</td>\n",
       "      <td>Yes</td>\n",
       "      <td>All / Permanent Policy</td>\n",
       "      <td>DePaul University offers a test optional polic...</td>\n",
       "      <td>26895</td>\n",
       "      <td>0.682</td>\n",
       "      <td>1070-1290</td>\n",
       "      <td>--</td>\n",
       "      <td>1070.0</td>\n",
       "      <td>1290.0</td>\n",
       "      <td>0.0</td>\n",
       "      <td>0.0</td>\n",
       "    </tr>\n",
       "    <tr>\n",
       "      <th>261</th>\n",
       "      <td>Montclair State</td>\n",
       "      <td>Yes</td>\n",
       "      <td>All / Permanent Policy</td>\n",
       "      <td>Montclair State offers a test optional policy ...</td>\n",
       "      <td>14324</td>\n",
       "      <td>0.709</td>\n",
       "      <td>990-1170</td>\n",
       "      <td>--</td>\n",
       "      <td>990.0</td>\n",
       "      <td>1170.0</td>\n",
       "      <td>0.0</td>\n",
       "      <td>0.0</td>\n",
       "    </tr>\n",
       "    <tr>\n",
       "      <th>305</th>\n",
       "      <td>Ball State</td>\n",
       "      <td>Yes</td>\n",
       "      <td>All / Permanent Policy</td>\n",
       "      <td>Ball State University offers a test optional p...</td>\n",
       "      <td>23305</td>\n",
       "      <td>0.767</td>\n",
       "      <td>--</td>\n",
       "      <td>--</td>\n",
       "      <td>0.0</td>\n",
       "      <td>0.0</td>\n",
       "      <td>0.0</td>\n",
       "      <td>0.0</td>\n",
       "    </tr>\n",
       "  </tbody>\n",
       "</table>\n",
       "</div>"
      ],
      "text/plain": [
       "                               school test_optional? applies_to_class_year(s)  \\\n",
       "60   University of California—​Irvine       Yes (TB)      2021 2022 2023 2024   \n",
       "93                       CUNY--Hunter       Yes (TB)                     2021   \n",
       "114              CUNY--Baruch College       Yes (TB)                     2021   \n",
       "242                 DePaul University            Yes   All / Permanent Policy   \n",
       "261                   Montclair State            Yes   All / Permanent Policy   \n",
       "305                        Ball State            Yes   All / Permanent Policy   \n",
       "\n",
       "                                        policy_details  number_of_applicants  \\\n",
       "60   UCI has adopted a four-year test blind policy ...                 95568   \n",
       "93   The CUNY system has adopted a one-year Test Bl...                 31030   \n",
       "114  The CUNY system has adopted a one-year Test Bl...                 20303   \n",
       "242  DePaul University offers a test optional polic...                 26895   \n",
       "261  Montclair State offers a test optional policy ...                 14324   \n",
       "305  Ball State University offers a test optional p...                 23305   \n",
       "\n",
       "     accept_rate sat_total_25th-75th_percentile  \\\n",
       "60         0.265                      1180-1440   \n",
       "93         0.364                      1090-1260   \n",
       "114        0.434                      1130-1330   \n",
       "242        0.682                      1070-1290   \n",
       "261        0.709                       990-1170   \n",
       "305        0.767                             --   \n",
       "\n",
       "    act_total_25th-75th_percentile  sat_total_25th  sat_total_75th  \\\n",
       "60                              --          1180.0          1440.0   \n",
       "93                              --          1090.0          1260.0   \n",
       "114                             --          1130.0          1330.0   \n",
       "242                             --          1070.0          1290.0   \n",
       "261                             --           990.0          1170.0   \n",
       "305                             --             0.0             0.0   \n",
       "\n",
       "     act_total_25th  act_total_75th  \n",
       "60              0.0             0.0  \n",
       "93              0.0             0.0  \n",
       "114             0.0             0.0  \n",
       "242             0.0             0.0  \n",
       "261             0.0             0.0  \n",
       "305             0.0             0.0  "
      ]
     },
     "execution_count": 156,
     "metadata": {},
     "output_type": "execute_result"
    }
   ],
   "source": [
    "sat_act_by_college_df.iloc[[60, 93,114, 242, 261,305],:]"
   ]
  },
  {
   "cell_type": "code",
   "execution_count": 157,
   "metadata": {},
   "outputs": [
    {
     "data": {
      "text/plain": [
       "0"
      ]
     },
     "execution_count": 157,
     "metadata": {},
     "output_type": "execute_result"
    }
   ],
   "source": [
    "# dropping rows where either the SAT range or the ACT range is \"--\":\n",
    "sat_act_by_college_df.drop(sat_act_by_college_df[sat_act_by_college_df['sat_total_25th-75th_percentile'] == '--'].index, inplace = True)\n",
    "sat_act_by_college_df.drop(sat_act_by_college_df[sat_act_by_college_df['act_total_25th-75th_percentile'] == '--'].index, inplace = True)\n",
    "len(sat_act_by_college_df[(sat_act_by_college_df['act_total_25th-75th_percentile'] == '--') | (sat_act_by_college_df['sat_total_25th-75th_percentile'] == '--')])"
   ]
  },
  {
   "cell_type": "code",
   "execution_count": 158,
   "metadata": {},
   "outputs": [
    {
     "data": {
      "text/html": [
       "<div>\n",
       "<style scoped>\n",
       "    .dataframe tbody tr th:only-of-type {\n",
       "        vertical-align: middle;\n",
       "    }\n",
       "\n",
       "    .dataframe tbody tr th {\n",
       "        vertical-align: top;\n",
       "    }\n",
       "\n",
       "    .dataframe thead th {\n",
       "        text-align: right;\n",
       "    }\n",
       "</style>\n",
       "<table border=\"1\" class=\"dataframe\">\n",
       "  <thead>\n",
       "    <tr style=\"text-align: right;\">\n",
       "      <th></th>\n",
       "      <th>school</th>\n",
       "      <th>test_optional?</th>\n",
       "      <th>applies_to_class_year(s)</th>\n",
       "      <th>policy_details</th>\n",
       "      <th>number_of_applicants</th>\n",
       "      <th>accept_rate</th>\n",
       "      <th>sat_total_25th-75th_percentile</th>\n",
       "      <th>act_total_25th-75th_percentile</th>\n",
       "      <th>sat_total_25th</th>\n",
       "      <th>sat_total_75th</th>\n",
       "      <th>act_total_25th</th>\n",
       "      <th>act_total_75th</th>\n",
       "      <th>sat_norm_25th</th>\n",
       "      <th>sat_norm_75th</th>\n",
       "      <th>act_norm_25th</th>\n",
       "      <th>act_norm_75th</th>\n",
       "    </tr>\n",
       "  </thead>\n",
       "  <tbody>\n",
       "    <tr>\n",
       "      <th>0</th>\n",
       "      <td>Stanford University</td>\n",
       "      <td>Yes</td>\n",
       "      <td>2021</td>\n",
       "      <td>Stanford has adopted a one-year test optional ...</td>\n",
       "      <td>47452</td>\n",
       "      <td>0.043</td>\n",
       "      <td>1440-1570</td>\n",
       "      <td>32-35</td>\n",
       "      <td>1440.0</td>\n",
       "      <td>1570.0</td>\n",
       "      <td>32.0</td>\n",
       "      <td>35.0</td>\n",
       "      <td>0.866667</td>\n",
       "      <td>0.975000</td>\n",
       "      <td>0.885714</td>\n",
       "      <td>0.971429</td>\n",
       "    </tr>\n",
       "    <tr>\n",
       "      <th>1</th>\n",
       "      <td>Harvard College</td>\n",
       "      <td>Yes</td>\n",
       "      <td>2021</td>\n",
       "      <td>Harvard has adopted a one-year test optional p...</td>\n",
       "      <td>42749</td>\n",
       "      <td>0.047</td>\n",
       "      <td>1460-1580</td>\n",
       "      <td>33-35</td>\n",
       "      <td>1460.0</td>\n",
       "      <td>1580.0</td>\n",
       "      <td>33.0</td>\n",
       "      <td>35.0</td>\n",
       "      <td>0.883333</td>\n",
       "      <td>0.983333</td>\n",
       "      <td>0.914286</td>\n",
       "      <td>0.971429</td>\n",
       "    </tr>\n",
       "    <tr>\n",
       "      <th>2</th>\n",
       "      <td>Princeton University</td>\n",
       "      <td>Yes</td>\n",
       "      <td>2021</td>\n",
       "      <td>Princeton has adopted a one-year test optional...</td>\n",
       "      <td>35370</td>\n",
       "      <td>0.055</td>\n",
       "      <td>1440-1570</td>\n",
       "      <td>32-35</td>\n",
       "      <td>1440.0</td>\n",
       "      <td>1570.0</td>\n",
       "      <td>32.0</td>\n",
       "      <td>35.0</td>\n",
       "      <td>0.866667</td>\n",
       "      <td>0.975000</td>\n",
       "      <td>0.885714</td>\n",
       "      <td>0.971429</td>\n",
       "    </tr>\n",
       "    <tr>\n",
       "      <th>3</th>\n",
       "      <td>Columbia University</td>\n",
       "      <td>Yes</td>\n",
       "      <td>2021</td>\n",
       "      <td>Columbia has adopted a one-year test optional ...</td>\n",
       "      <td>40203</td>\n",
       "      <td>0.055</td>\n",
       "      <td>1450-1560</td>\n",
       "      <td>33-35</td>\n",
       "      <td>1450.0</td>\n",
       "      <td>1560.0</td>\n",
       "      <td>33.0</td>\n",
       "      <td>35.0</td>\n",
       "      <td>0.875000</td>\n",
       "      <td>0.966667</td>\n",
       "      <td>0.914286</td>\n",
       "      <td>0.971429</td>\n",
       "    </tr>\n",
       "    <tr>\n",
       "      <th>4</th>\n",
       "      <td>Yale University</td>\n",
       "      <td>Yes</td>\n",
       "      <td>2021</td>\n",
       "      <td>Yale has adopted a one-year test optional poli...</td>\n",
       "      <td>36844</td>\n",
       "      <td>0.061</td>\n",
       "      <td>1460-1570</td>\n",
       "      <td>33-35</td>\n",
       "      <td>1460.0</td>\n",
       "      <td>1570.0</td>\n",
       "      <td>33.0</td>\n",
       "      <td>35.0</td>\n",
       "      <td>0.883333</td>\n",
       "      <td>0.975000</td>\n",
       "      <td>0.914286</td>\n",
       "      <td>0.971429</td>\n",
       "    </tr>\n",
       "  </tbody>\n",
       "</table>\n",
       "</div>"
      ],
      "text/plain": [
       "                 school test_optional? applies_to_class_year(s)  \\\n",
       "0   Stanford University            Yes                     2021   \n",
       "1       Harvard College            Yes                     2021   \n",
       "2  Princeton University            Yes                     2021   \n",
       "3   Columbia University            Yes                     2021   \n",
       "4       Yale University            Yes                     2021   \n",
       "\n",
       "                                      policy_details  number_of_applicants  \\\n",
       "0  Stanford has adopted a one-year test optional ...                 47452   \n",
       "1  Harvard has adopted a one-year test optional p...                 42749   \n",
       "2  Princeton has adopted a one-year test optional...                 35370   \n",
       "3  Columbia has adopted a one-year test optional ...                 40203   \n",
       "4  Yale has adopted a one-year test optional poli...                 36844   \n",
       "\n",
       "   accept_rate sat_total_25th-75th_percentile act_total_25th-75th_percentile  \\\n",
       "0        0.043                      1440-1570                          32-35   \n",
       "1        0.047                      1460-1580                          33-35   \n",
       "2        0.055                      1440-1570                          32-35   \n",
       "3        0.055                      1450-1560                          33-35   \n",
       "4        0.061                      1460-1570                          33-35   \n",
       "\n",
       "   sat_total_25th  sat_total_75th  act_total_25th  act_total_75th  \\\n",
       "0          1440.0          1570.0            32.0            35.0   \n",
       "1          1460.0          1580.0            33.0            35.0   \n",
       "2          1440.0          1570.0            32.0            35.0   \n",
       "3          1450.0          1560.0            33.0            35.0   \n",
       "4          1460.0          1570.0            33.0            35.0   \n",
       "\n",
       "   sat_norm_25th  sat_norm_75th  act_norm_25th  act_norm_75th  \n",
       "0       0.866667       0.975000       0.885714       0.971429  \n",
       "1       0.883333       0.983333       0.914286       0.971429  \n",
       "2       0.866667       0.975000       0.885714       0.971429  \n",
       "3       0.875000       0.966667       0.914286       0.971429  \n",
       "4       0.883333       0.975000       0.914286       0.971429  "
      ]
     },
     "execution_count": 158,
     "metadata": {},
     "output_type": "execute_result"
    }
   ],
   "source": [
    "# replacing IQRs with normalized scores (min-max):\n",
    "sat_act_by_college_df['sat_norm_25th'] = (sat_act_by_college_df['sat_total_25th'] - 400)/1200\n",
    "sat_act_by_college_df['sat_norm_75th'] = (sat_act_by_college_df['sat_total_75th'] - 400)/1200\n",
    "sat_act_by_college_df['act_norm_25th'] = (sat_act_by_college_df['act_total_25th'] - 1)/35\n",
    "sat_act_by_college_df['act_norm_75th'] = (sat_act_by_college_df['act_total_75th'] - 1)/35\n",
    "sat_act_by_college_df.head()"
   ]
  },
  {
   "cell_type": "code",
   "execution_count": 159,
   "metadata": {},
   "outputs": [],
   "source": [
    "# dropping redundant and unnecessary columns:\n",
    "sat_act_by_college_df.drop(['test_optional?', 'applies_to_class_year(s)', 'policy_details', 'act_total_25th-75th_percentile','sat_total_25th-75th_percentile', 'sat_total_25th', 'sat_total_75th', 'act_total_25th', 'act_total_75th'], axis = 1, inplace= True)"
   ]
  },
  {
   "cell_type": "code",
   "execution_count": 160,
   "metadata": {},
   "outputs": [],
   "source": [
    "# saving all three dataframes to csv files:\n",
    "sat_all_df.to_csv('sat_all.csv')\n",
    "act_all_df.to_csv('act_all.csv')\n",
    "sat_act_by_college_df.to_csv('sat_act_by_college_mod.csv')"
   ]
  },
  {
   "cell_type": "markdown",
   "metadata": {},
   "source": [
    "### Data Dictionary\n",
    "\n",
    "Now that we've fixed our data, and given it appropriate names, let's create a [data dictionary](http://library.ucmerced.edu/node/10249). \n",
    "\n",
    "A data dictionary provides a quick overview of features/variables/columns, alongside data types and descriptions. The more descriptive you can be, the more useful this document is.\n",
    "\n",
    "Example of a Fictional Data Dictionary Entry: \n",
    "\n",
    "|Feature|Type|Dataset|Description|\n",
    "|---|---|---|---|\n",
    "|**county_pop**|*integer*|2010 census|The population of the county (units in thousands, where 2.5 represents 2500 people).| \n",
    "|**per_poverty**|*float*|2010 census|The percent of the county over the age of 18 living below the 200% of official US poverty rate (units percent to two decimal places 98.10 means 98.1%)|\n",
    "\n",
    "[Here's a quick link to a short guide for formatting markdown in Jupyter notebooks](https://jupyter-notebook.readthedocs.io/en/stable/examples/Notebook/Working%20With%20Markdown%20Cells.html).\n",
    "\n",
    "Provided is the skeleton for formatting a markdown table, with columns headers that will help you create a data dictionary to quickly summarize your data, as well as some examples. **This would be a great thing to copy and paste into your custom README for this project.**\n",
    "\n",
    "*Note*: if you are unsure of what a feature is, check the source of the data! This can be found in the README."
   ]
  },
  {
   "cell_type": "markdown",
   "metadata": {},
   "source": [
    "### Data Dictionary\n",
    "\n",
    "A data dictionary provides a quick overview of features/variables/columns, alongside data types and descriptions. The more descriptive you can be, the more useful this document is.\n",
    "\n",
    "Example of a Fictional Data Dictionary Entry: \n",
    "\n",
    "|Feature|Type|Dataset|Description|\n",
    "|---|---|---|---|\n",
    "|**county_pop**|*integer*|2010 census|The population of the county (units in thousands, where 2.5 represents 2500 people).| \n",
    "|**per_poverty**|*float*|2010 census|The percent of the county over the age of 18 living below the 200% of official US poverty rate (units percent to two decimal places 98.10 means 98.1%)|\n",
    "\n",
    "[Here's a quick link to a short guide for formatting markdown in Jupyter notebooks](https://jupyter-notebook.readthedocs.io/en/stable/examples/Notebook/Working%20With%20Markdown%20Cells.html).\n",
    "\n",
    "Provided is the skeleton for formatting a markdown table, with columns headers that will help you create a data dictionary to quickly summarize your data, as well as some examples. **This would be a great thing to copy and paste into your custom README for this project.**\n",
    "\n",
    "*Note*: if you are unsure of what a feature is, check the source of the data! This can be found in the README."
   ]
  },
  {
   "cell_type": "markdown",
   "metadata": {},
   "source": [
    "### Data Dictionary\n",
    "\n",
    "\n",
    "|**Feature**|**Type**|**Dataset**|**Description**|\n",
    "|:---|:---|:---|:---|\n",
    "|state|string|sat_all.csv|Name of US state where SAT is administered|\n",
    "|participation|float|sat_all.csv|Percentage of eligible students who take the SAT in each state|\n",
    "|total_sat|int|sat_all.csv|Average total (composite) SAT score of students in each state|\n",
    "|total_norm_sat|float|sat_all.csv|Average total (composite) SAT score of students in each state, normalized using min-max method|\n",
    "|year|int|sat_all.csv|The year (2017/2018/2019) covered in listed dataset|\n",
    "|state|string|act_all.csv|Name of US state where ACT is administered|\n",
    "|participation|float|act_all.csv|Percentage of eligible students who take the ACT in each state|\n",
    "|total_act|float|act_all.csv|Average total (composite) ACT score of students in each state|\n",
    "|total_norm_act|float|act_all.csv|Average total (composite) ACT score of students in each state, normalized using min-max method|\n",
    "|year|int|act_all.csv|The year (2017/2018/2019) covered in listed dataset|\n",
    "|school|string|sat_act_by_college_mod.csv|Name of a U.S. college|\n",
    "|number_of_applicants|integer|sat_act_by_college_mod.csv|The number of students applying to the college in a year|\n",
    "|accept_rate|float|sat_act_by_college_mod.csv|Percentage of applicants accepted to the college|\n",
    "|sat_norm_25th|float|sat_act_by_college_mod.csv|Lower bound of interquartile range of normalized SAT scores for students accepted to school|\n",
    "|sat_norm_75th|float|sat_act_by_college_mod.csv|Upper bound of interquartile range of normalized SAT scores for students accepted to school|\n",
    "|act_norm_25th|float|sat_act_by_college_mod.csv|Lower bound of interquartile range of normalized ACT scores for students accepted to school|\n",
    "|act_norm_75th|float|sat_act_by_college_mod.csv|Upper bound of interquartile range of normalized ACT scores for students accepted to school|"
   ]
  },
  {
   "cell_type": "code",
   "execution_count": 161,
   "metadata": {},
   "outputs": [
    {
     "name": "stdout",
     "output_type": "stream",
     "text": [
      "<class 'pandas.core.frame.DataFrame'>\n",
      "Int64Index: 155 entries, 0 to 52\n",
      "Data columns (total 5 columns):\n",
      " #   Column         Non-Null Count  Dtype  \n",
      "---  ------         --------------  -----  \n",
      " 0   state          155 non-null    object \n",
      " 1   participation  155 non-null    float64\n",
      " 2   total          155 non-null    int64  \n",
      " 3   year           155 non-null    int64  \n",
      " 4   total_norm     155 non-null    float64\n",
      "dtypes: float64(2), int64(2), object(1)\n",
      "memory usage: 7.3+ KB\n"
     ]
    }
   ],
   "source": [
    "sat_all_df.info()"
   ]
  },
  {
   "cell_type": "markdown",
   "metadata": {},
   "source": [
    "## Exploratory Data Analysis\n",
    "\n",
    "Complete the following steps to explore your data. You are welcome to do more EDA than the steps outlined here as you feel necessary:\n",
    "1. Summary Statistics.\n",
    "\n",
    "_(Steps 2 and three described and executed further below)_"
   ]
  },
  {
   "cell_type": "code",
   "execution_count": 162,
   "metadata": {},
   "outputs": [
    {
     "data": {
      "text/html": [
       "<div>\n",
       "<style scoped>\n",
       "    .dataframe tbody tr th:only-of-type {\n",
       "        vertical-align: middle;\n",
       "    }\n",
       "\n",
       "    .dataframe tbody tr th {\n",
       "        vertical-align: top;\n",
       "    }\n",
       "\n",
       "    .dataframe thead th {\n",
       "        text-align: right;\n",
       "    }\n",
       "</style>\n",
       "<table border=\"1\" class=\"dataframe\">\n",
       "  <thead>\n",
       "    <tr style=\"text-align: right;\">\n",
       "      <th></th>\n",
       "      <th>participation</th>\n",
       "      <th>total</th>\n",
       "      <th>year</th>\n",
       "      <th>total_norm</th>\n",
       "    </tr>\n",
       "  </thead>\n",
       "  <tbody>\n",
       "    <tr>\n",
       "      <th>count</th>\n",
       "      <td>155.000000</td>\n",
       "      <td>155.000000</td>\n",
       "      <td>155.000000</td>\n",
       "      <td>155.000000</td>\n",
       "    </tr>\n",
       "    <tr>\n",
       "      <th>mean</th>\n",
       "      <td>0.448693</td>\n",
       "      <td>1117.406452</td>\n",
       "      <td>2018.012903</td>\n",
       "      <td>0.597839</td>\n",
       "    </tr>\n",
       "    <tr>\n",
       "      <th>std</th>\n",
       "      <td>0.368528</td>\n",
       "      <td>95.750399</td>\n",
       "      <td>0.821679</td>\n",
       "      <td>0.079792</td>\n",
       "    </tr>\n",
       "    <tr>\n",
       "      <th>min</th>\n",
       "      <td>0.020000</td>\n",
       "      <td>935.000000</td>\n",
       "      <td>2017.000000</td>\n",
       "      <td>0.445833</td>\n",
       "    </tr>\n",
       "    <tr>\n",
       "      <th>25%</th>\n",
       "      <td>0.045000</td>\n",
       "      <td>1052.000000</td>\n",
       "      <td>2017.000000</td>\n",
       "      <td>0.543333</td>\n",
       "    </tr>\n",
       "    <tr>\n",
       "      <th>50%</th>\n",
       "      <td>0.490000</td>\n",
       "      <td>1098.000000</td>\n",
       "      <td>2018.000000</td>\n",
       "      <td>0.581667</td>\n",
       "    </tr>\n",
       "    <tr>\n",
       "      <th>75%</th>\n",
       "      <td>0.735000</td>\n",
       "      <td>1209.000000</td>\n",
       "      <td>2019.000000</td>\n",
       "      <td>0.674167</td>\n",
       "    </tr>\n",
       "    <tr>\n",
       "      <th>max</th>\n",
       "      <td>1.000000</td>\n",
       "      <td>1298.000000</td>\n",
       "      <td>2019.000000</td>\n",
       "      <td>0.748333</td>\n",
       "    </tr>\n",
       "  </tbody>\n",
       "</table>\n",
       "</div>"
      ],
      "text/plain": [
       "       participation        total         year  total_norm\n",
       "count     155.000000   155.000000   155.000000  155.000000\n",
       "mean        0.448693  1117.406452  2018.012903    0.597839\n",
       "std         0.368528    95.750399     0.821679    0.079792\n",
       "min         0.020000   935.000000  2017.000000    0.445833\n",
       "25%         0.045000  1052.000000  2017.000000    0.543333\n",
       "50%         0.490000  1098.000000  2018.000000    0.581667\n",
       "75%         0.735000  1209.000000  2019.000000    0.674167\n",
       "max         1.000000  1298.000000  2019.000000    0.748333"
      ]
     },
     "execution_count": 162,
     "metadata": {},
     "output_type": "execute_result"
    }
   ],
   "source": [
    "# Summary statistics for the sat_all_df dataframe\n",
    "sat_all_df.describe()"
   ]
  },
  {
   "cell_type": "code",
   "execution_count": 163,
   "metadata": {},
   "outputs": [
    {
     "data": {
      "text/html": [
       "<div>\n",
       "<style scoped>\n",
       "    .dataframe tbody tr th:only-of-type {\n",
       "        vertical-align: middle;\n",
       "    }\n",
       "\n",
       "    .dataframe tbody tr th {\n",
       "        vertical-align: top;\n",
       "    }\n",
       "\n",
       "    .dataframe thead th {\n",
       "        text-align: right;\n",
       "    }\n",
       "</style>\n",
       "<table border=\"1\" class=\"dataframe\">\n",
       "  <thead>\n",
       "    <tr style=\"text-align: right;\">\n",
       "      <th></th>\n",
       "      <th>participation</th>\n",
       "      <th>total</th>\n",
       "      <th>year</th>\n",
       "      <th>total_norm</th>\n",
       "    </tr>\n",
       "  </thead>\n",
       "  <tbody>\n",
       "    <tr>\n",
       "      <th>count</th>\n",
       "      <td>156.000000</td>\n",
       "      <td>156.000000</td>\n",
       "      <td>156.000000</td>\n",
       "      <td>156.000000</td>\n",
       "    </tr>\n",
       "    <tr>\n",
       "      <th>mean</th>\n",
       "      <td>0.614551</td>\n",
       "      <td>21.501282</td>\n",
       "      <td>2018.000000</td>\n",
       "      <td>0.585751</td>\n",
       "    </tr>\n",
       "    <tr>\n",
       "      <th>std</th>\n",
       "      <td>0.334412</td>\n",
       "      <td>2.087010</td>\n",
       "      <td>0.819126</td>\n",
       "      <td>0.059629</td>\n",
       "    </tr>\n",
       "    <tr>\n",
       "      <th>min</th>\n",
       "      <td>0.060000</td>\n",
       "      <td>17.700000</td>\n",
       "      <td>2017.000000</td>\n",
       "      <td>0.477143</td>\n",
       "    </tr>\n",
       "    <tr>\n",
       "      <th>25%</th>\n",
       "      <td>0.290000</td>\n",
       "      <td>19.800000</td>\n",
       "      <td>2017.000000</td>\n",
       "      <td>0.537143</td>\n",
       "    </tr>\n",
       "    <tr>\n",
       "      <th>50%</th>\n",
       "      <td>0.655000</td>\n",
       "      <td>21.250000</td>\n",
       "      <td>2018.000000</td>\n",
       "      <td>0.578571</td>\n",
       "    </tr>\n",
       "    <tr>\n",
       "      <th>75%</th>\n",
       "      <td>1.000000</td>\n",
       "      <td>23.625000</td>\n",
       "      <td>2019.000000</td>\n",
       "      <td>0.646429</td>\n",
       "    </tr>\n",
       "    <tr>\n",
       "      <th>max</th>\n",
       "      <td>1.000000</td>\n",
       "      <td>25.600000</td>\n",
       "      <td>2019.000000</td>\n",
       "      <td>0.702857</td>\n",
       "    </tr>\n",
       "  </tbody>\n",
       "</table>\n",
       "</div>"
      ],
      "text/plain": [
       "       participation       total         year  total_norm\n",
       "count     156.000000  156.000000   156.000000  156.000000\n",
       "mean        0.614551   21.501282  2018.000000    0.585751\n",
       "std         0.334412    2.087010     0.819126    0.059629\n",
       "min         0.060000   17.700000  2017.000000    0.477143\n",
       "25%         0.290000   19.800000  2017.000000    0.537143\n",
       "50%         0.655000   21.250000  2018.000000    0.578571\n",
       "75%         1.000000   23.625000  2019.000000    0.646429\n",
       "max         1.000000   25.600000  2019.000000    0.702857"
      ]
     },
     "execution_count": 163,
     "metadata": {},
     "output_type": "execute_result"
    }
   ],
   "source": [
    "# Summary statistics for the act_all_df dataframe\n",
    "act_all_df.describe()"
   ]
  },
  {
   "cell_type": "code",
   "execution_count": 164,
   "metadata": {},
   "outputs": [],
   "source": [
    "#sat_all_df['total_norm'].quantile(0.75)- sat_all_df['total_norm'].quantile(0.25)"
   ]
  },
  {
   "cell_type": "markdown",
   "metadata": {},
   "source": [
    "**Observations:** \n",
    "- The mean normalized result for both tests are very close, with that of SAT being slightly higher. \n",
    "- The distribution of results for the SAT is more spread out around the mean:\n",
    "    - the SAT standard deviation is ~0.08, compared to ~0.06 for the ACT,\n",
    "    - the range for the SAT is ~0.30 vs ~ 0.22 for the ACT,\n",
    "    - the IQR for the SAT is ~0.13 vs ~0.11 for the ACT."
   ]
  },
  {
   "cell_type": "code",
   "execution_count": 165,
   "metadata": {},
   "outputs": [
    {
     "data": {
      "text/html": [
       "<div>\n",
       "<style scoped>\n",
       "    .dataframe tbody tr th:only-of-type {\n",
       "        vertical-align: middle;\n",
       "    }\n",
       "\n",
       "    .dataframe tbody tr th {\n",
       "        vertical-align: top;\n",
       "    }\n",
       "\n",
       "    .dataframe thead th {\n",
       "        text-align: right;\n",
       "    }\n",
       "</style>\n",
       "<table border=\"1\" class=\"dataframe\">\n",
       "  <thead>\n",
       "    <tr style=\"text-align: right;\">\n",
       "      <th></th>\n",
       "      <th>number_of_applicants</th>\n",
       "      <th>accept_rate</th>\n",
       "      <th>sat_norm_25th</th>\n",
       "      <th>sat_norm_75th</th>\n",
       "      <th>act_norm_25th</th>\n",
       "      <th>act_norm_75th</th>\n",
       "    </tr>\n",
       "  </thead>\n",
       "  <tbody>\n",
       "    <tr>\n",
       "      <th>count</th>\n",
       "      <td>405.000000</td>\n",
       "      <td>405.000000</td>\n",
       "      <td>405.000000</td>\n",
       "      <td>405.000000</td>\n",
       "      <td>405.000000</td>\n",
       "      <td>405.000000</td>\n",
       "    </tr>\n",
       "    <tr>\n",
       "      <th>mean</th>\n",
       "      <td>17339.239506</td>\n",
       "      <td>0.554116</td>\n",
       "      <td>0.639945</td>\n",
       "      <td>0.799704</td>\n",
       "      <td>0.678257</td>\n",
       "      <td>0.826018</td>\n",
       "    </tr>\n",
       "    <tr>\n",
       "      <th>std</th>\n",
       "      <td>17187.633091</td>\n",
       "      <td>0.242055</td>\n",
       "      <td>0.108270</td>\n",
       "      <td>0.092899</td>\n",
       "      <td>0.118187</td>\n",
       "      <td>0.090251</td>\n",
       "    </tr>\n",
       "    <tr>\n",
       "      <th>min</th>\n",
       "      <td>211.000000</td>\n",
       "      <td>0.043000</td>\n",
       "      <td>0.327500</td>\n",
       "      <td>0.541667</td>\n",
       "      <td>0.400000</td>\n",
       "      <td>0.514286</td>\n",
       "    </tr>\n",
       "    <tr>\n",
       "      <th>25%</th>\n",
       "      <td>5208.000000</td>\n",
       "      <td>0.374000</td>\n",
       "      <td>0.558333</td>\n",
       "      <td>0.725000</td>\n",
       "      <td>0.600000</td>\n",
       "      <td>0.771429</td>\n",
       "    </tr>\n",
       "    <tr>\n",
       "      <th>50%</th>\n",
       "      <td>11478.000000</td>\n",
       "      <td>0.611000</td>\n",
       "      <td>0.625000</td>\n",
       "      <td>0.791667</td>\n",
       "      <td>0.657143</td>\n",
       "      <td>0.828571</td>\n",
       "    </tr>\n",
       "    <tr>\n",
       "      <th>75%</th>\n",
       "      <td>23583.000000</td>\n",
       "      <td>0.742000</td>\n",
       "      <td>0.708333</td>\n",
       "      <td>0.866667</td>\n",
       "      <td>0.771429</td>\n",
       "      <td>0.885714</td>\n",
       "    </tr>\n",
       "    <tr>\n",
       "      <th>max</th>\n",
       "      <td>111322.000000</td>\n",
       "      <td>0.999000</td>\n",
       "      <td>0.941667</td>\n",
       "      <td>0.983333</td>\n",
       "      <td>0.971429</td>\n",
       "      <td>1.000000</td>\n",
       "    </tr>\n",
       "  </tbody>\n",
       "</table>\n",
       "</div>"
      ],
      "text/plain": [
       "       number_of_applicants  accept_rate  sat_norm_25th  sat_norm_75th  \\\n",
       "count            405.000000   405.000000     405.000000     405.000000   \n",
       "mean           17339.239506     0.554116       0.639945       0.799704   \n",
       "std            17187.633091     0.242055       0.108270       0.092899   \n",
       "min              211.000000     0.043000       0.327500       0.541667   \n",
       "25%             5208.000000     0.374000       0.558333       0.725000   \n",
       "50%            11478.000000     0.611000       0.625000       0.791667   \n",
       "75%            23583.000000     0.742000       0.708333       0.866667   \n",
       "max           111322.000000     0.999000       0.941667       0.983333   \n",
       "\n",
       "       act_norm_25th  act_norm_75th  \n",
       "count     405.000000     405.000000  \n",
       "mean        0.678257       0.826018  \n",
       "std         0.118187       0.090251  \n",
       "min         0.400000       0.514286  \n",
       "25%         0.600000       0.771429  \n",
       "50%         0.657143       0.828571  \n",
       "75%         0.771429       0.885714  \n",
       "max         0.971429       1.000000  "
      ]
     },
     "execution_count": 165,
     "metadata": {},
     "output_type": "execute_result"
    }
   ],
   "source": [
    "sat_act_by_college_df.describe()"
   ]
  },
  {
   "cell_type": "markdown",
   "metadata": {},
   "source": [
    "_**Observations:**_\n",
    "It appears as though colleges expect higher results from students taking the ACT compared to the SAT:\n",
    "- the mean value of the 25th percentile for the SAT is ~0.64 vs ~0.68 for the ACT\n",
    "- the mean value of the 75th percentile for the SAT is ~0.77 vs ~0.71 for the ACT\n",
    "- across all schools, the typical range for the minimum accepted SAT scores is ~0.56 - ~0.71 vs ~0.60 - ~0.77 for the ACT"
   ]
  },
  {
   "cell_type": "markdown",
   "metadata": {},
   "source": [
    "2. Use a **dictionary comprehension** to apply the standard deviation function you create in part 1 to each numeric column in the dataframe.  **No loops**.\n",
    "    - Assign the output to variable `sd` as a dictionary where: \n",
    "        - Each column name is now a key \n",
    "        - That standard deviation of the column is the value \n",
    "        - *Example Output :* `{'ACT_Math': 120, 'ACT_Reading': 120, ...}`"
   ]
  },
  {
   "cell_type": "code",
   "execution_count": 166,
   "metadata": {},
   "outputs": [
    {
     "data": {
      "text/plain": [
       "{'participation': 0.36733687239364515,\n",
       " 'total': 95.44102700514097,\n",
       " 'year': 0.8190245714868826,\n",
       " 'total_norm': 0.0795341891709508}"
      ]
     },
     "execution_count": 166,
     "metadata": {},
     "output_type": "execute_result"
    }
   ],
   "source": [
    "sd_sat = {column: stdev_of_values(sat_all_df[column]) for column in sat_all_df.columns if sat_all_df[column].dtype in ['int64', 'float64']}\n",
    "sd_sat"
   ]
  },
  {
   "cell_type": "code",
   "execution_count": 167,
   "metadata": {},
   "outputs": [
    {
     "data": {
      "text/plain": [
       "{'participation': 0.33333847998985355,\n",
       " 'total': 2.080310232642433,\n",
       " 'year': 0.816496580927726,\n",
       " 'total_norm': 0.05943743521835524}"
      ]
     },
     "execution_count": 167,
     "metadata": {},
     "output_type": "execute_result"
    }
   ],
   "source": [
    "sd_act = {column: stdev_of_values(act_all_df[column]) for column in act_all_df.columns if act_all_df[column].dtype in ['int64', 'float64']}\n",
    "sd_act"
   ]
  },
  {
   "cell_type": "code",
   "execution_count": 168,
   "metadata": {},
   "outputs": [
    {
     "data": {
      "text/plain": [
       "{'number_of_applicants': 17166.400676527417,\n",
       " 'accept_rate': 0.24175568498775526,\n",
       " 'sat_norm_25th': 0.10813609391891678,\n",
       " 'sat_norm_75th': 0.09278397628439972,\n",
       " 'act_norm_25th': 0.118041493188887,\n",
       " 'act_norm_75th': 0.09013977383635584}"
      ]
     },
     "execution_count": 168,
     "metadata": {},
     "output_type": "execute_result"
    }
   ],
   "source": [
    "sd_sat_act_by_col = {column: stdev_of_values(sat_act_by_college_df[column]) for column in sat_act_by_college_df.columns if sat_act_by_college_df[column].dtype in ['int64', 'float64']}\n",
    "sd_sat_act_by_col"
   ]
  },
  {
   "cell_type": "markdown",
   "metadata": {},
   "source": [
    "_**Note:** The std numbers above are slightly different from those returned by the \"describe\" method._"
   ]
  },
  {
   "cell_type": "markdown",
   "metadata": {},
   "source": [
    "3. Investigate trends in the data.\n",
    "    - Using sorting and/or masking (along with the `.head()` method to avoid printing our entire dataframe), consider questions relevant to your problem statement. Some examples are provided below (but feel free to change these questions for your specific problem):\n",
    "        - Which states have the highest and lowest participation rates for the 2017, 2019, or 2019 SAT and ACT?\n",
    "        - Which states have the highest and lowest mean total/composite scores for the 2017, 2019, or 2019 SAT and ACT?\n",
    "        - Do any states with 100% participation on a given test have a rate change year-to-year?\n",
    "        - Do any states show have >50% participation on *both* tests each year?\n",
    "        - Which colleges have the highest median SAT and ACT scores for admittance?\n",
    "        - Which California school districts have the highest and lowest mean test scores?\n",
    "    - **You should comment on your findings at each step in a markdown cell below your code block**. Make sure you include at least one example of sorting your dataframe by a column, and one example of using boolean filtering (i.e., masking) to select a subset of the dataframe."
   ]
  },
  {
   "cell_type": "code",
   "execution_count": 169,
   "metadata": {},
   "outputs": [
    {
     "data": {
      "text/html": [
       "<div>\n",
       "<style scoped>\n",
       "    .dataframe tbody tr th:only-of-type {\n",
       "        vertical-align: middle;\n",
       "    }\n",
       "\n",
       "    .dataframe tbody tr th {\n",
       "        vertical-align: top;\n",
       "    }\n",
       "\n",
       "    .dataframe thead th {\n",
       "        text-align: right;\n",
       "    }\n",
       "</style>\n",
       "<table border=\"1\" class=\"dataframe\">\n",
       "  <thead>\n",
       "    <tr style=\"text-align: right;\">\n",
       "      <th></th>\n",
       "      <th>state</th>\n",
       "      <th>participation</th>\n",
       "    </tr>\n",
       "  </thead>\n",
       "  <tbody>\n",
       "    <tr>\n",
       "      <th>0</th>\n",
       "      <td>Alabama</td>\n",
       "      <td>0.060000</td>\n",
       "    </tr>\n",
       "    <tr>\n",
       "      <th>1</th>\n",
       "      <td>Alaska</td>\n",
       "      <td>0.406667</td>\n",
       "    </tr>\n",
       "    <tr>\n",
       "      <th>2</th>\n",
       "      <td>Arizona</td>\n",
       "      <td>0.300000</td>\n",
       "    </tr>\n",
       "    <tr>\n",
       "      <th>3</th>\n",
       "      <td>Arkansas</td>\n",
       "      <td>0.046667</td>\n",
       "    </tr>\n",
       "    <tr>\n",
       "      <th>4</th>\n",
       "      <td>California</td>\n",
       "      <td>0.586667</td>\n",
       "    </tr>\n",
       "  </tbody>\n",
       "</table>\n",
       "</div>"
      ],
      "text/plain": [
       "        state  participation\n",
       "0     Alabama       0.060000\n",
       "1      Alaska       0.406667\n",
       "2     Arizona       0.300000\n",
       "3    Arkansas       0.046667\n",
       "4  California       0.586667"
      ]
     },
     "execution_count": 169,
     "metadata": {},
     "output_type": "execute_result"
    }
   ],
   "source": [
    "# as a step towars finding states with significant differences in ACT vs SAT participation, I am calculating average SAT participation by state:\n",
    "sat_part_by_state = sat_all_df.groupby('state')['participation'].mean().reset_index()\n",
    "sat_part_by_state.head()"
   ]
  },
  {
   "cell_type": "code",
   "execution_count": 170,
   "metadata": {},
   "outputs": [
    {
     "data": {
      "text/html": [
       "<div>\n",
       "<style scoped>\n",
       "    .dataframe tbody tr th:only-of-type {\n",
       "        vertical-align: middle;\n",
       "    }\n",
       "\n",
       "    .dataframe tbody tr th {\n",
       "        vertical-align: top;\n",
       "    }\n",
       "\n",
       "    .dataframe thead th {\n",
       "        text-align: right;\n",
       "    }\n",
       "</style>\n",
       "<table border=\"1\" class=\"dataframe\">\n",
       "  <thead>\n",
       "    <tr style=\"text-align: right;\">\n",
       "      <th></th>\n",
       "      <th>state</th>\n",
       "      <th>participation</th>\n",
       "    </tr>\n",
       "  </thead>\n",
       "  <tbody>\n",
       "    <tr>\n",
       "      <th>0</th>\n",
       "      <td>Alabama</td>\n",
       "      <td>1.000000</td>\n",
       "    </tr>\n",
       "    <tr>\n",
       "      <th>1</th>\n",
       "      <td>Alaska</td>\n",
       "      <td>0.453333</td>\n",
       "    </tr>\n",
       "    <tr>\n",
       "      <th>2</th>\n",
       "      <td>Arizona</td>\n",
       "      <td>0.670000</td>\n",
       "    </tr>\n",
       "    <tr>\n",
       "      <th>3</th>\n",
       "      <td>Arkansas</td>\n",
       "      <td>1.000000</td>\n",
       "    </tr>\n",
       "    <tr>\n",
       "      <th>4</th>\n",
       "      <td>California</td>\n",
       "      <td>0.270000</td>\n",
       "    </tr>\n",
       "  </tbody>\n",
       "</table>\n",
       "</div>"
      ],
      "text/plain": [
       "        state  participation\n",
       "0     Alabama       1.000000\n",
       "1      Alaska       0.453333\n",
       "2     Arizona       0.670000\n",
       "3    Arkansas       1.000000\n",
       "4  California       0.270000"
      ]
     },
     "execution_count": 170,
     "metadata": {},
     "output_type": "execute_result"
    }
   ],
   "source": [
    "# as a step towars finding states with significant differences in ACT vs SAT participation, I am calculating average ACT participation by state:\n",
    "act_part_by_state = act_all_df.groupby('state')['participation'].mean().reset_index()\n",
    "act_part_by_state.head()"
   ]
  },
  {
   "cell_type": "code",
   "execution_count": 171,
   "metadata": {},
   "outputs": [
    {
     "data": {
      "text/html": [
       "<div>\n",
       "<style scoped>\n",
       "    .dataframe tbody tr th:only-of-type {\n",
       "        vertical-align: middle;\n",
       "    }\n",
       "\n",
       "    .dataframe tbody tr th {\n",
       "        vertical-align: top;\n",
       "    }\n",
       "\n",
       "    .dataframe thead th {\n",
       "        text-align: right;\n",
       "    }\n",
       "</style>\n",
       "<table border=\"1\" class=\"dataframe\">\n",
       "  <thead>\n",
       "    <tr style=\"text-align: right;\">\n",
       "      <th></th>\n",
       "      <th>state</th>\n",
       "      <th>participation_SAT</th>\n",
       "      <th>participation_ACT</th>\n",
       "      <th>participation_SATvsACT</th>\n",
       "    </tr>\n",
       "  </thead>\n",
       "  <tbody>\n",
       "    <tr>\n",
       "      <th>19</th>\n",
       "      <td>Maine</td>\n",
       "      <td>0.976667</td>\n",
       "      <td>0.070000</td>\n",
       "      <td>0.906667</td>\n",
       "    </tr>\n",
       "    <tr>\n",
       "      <th>7</th>\n",
       "      <td>Delaware</td>\n",
       "      <td>1.000000</td>\n",
       "      <td>0.160000</td>\n",
       "      <td>0.840000</td>\n",
       "    </tr>\n",
       "    <tr>\n",
       "      <th>29</th>\n",
       "      <td>New Hampshire</td>\n",
       "      <td>0.956667</td>\n",
       "      <td>0.160000</td>\n",
       "      <td>0.796667</td>\n",
       "    </tr>\n",
       "    <tr>\n",
       "      <th>22</th>\n",
       "      <td>Michigan</td>\n",
       "      <td>1.000000</td>\n",
       "      <td>0.233333</td>\n",
       "      <td>0.766667</td>\n",
       "    </tr>\n",
       "    <tr>\n",
       "      <th>6</th>\n",
       "      <td>Connecticut</td>\n",
       "      <td>1.000000</td>\n",
       "      <td>0.263333</td>\n",
       "      <td>0.736667</td>\n",
       "    </tr>\n",
       "  </tbody>\n",
       "</table>\n",
       "</div>"
      ],
      "text/plain": [
       "            state  participation_SAT  participation_ACT  \\\n",
       "19          Maine           0.976667           0.070000   \n",
       "7        Delaware           1.000000           0.160000   \n",
       "29  New Hampshire           0.956667           0.160000   \n",
       "22       Michigan           1.000000           0.233333   \n",
       "6     Connecticut           1.000000           0.263333   \n",
       "\n",
       "    participation_SATvsACT  \n",
       "19                0.906667  \n",
       "7                 0.840000  \n",
       "29                0.796667  \n",
       "22                0.766667  \n",
       "6                 0.736667  "
      ]
     },
     "execution_count": 171,
     "metadata": {},
     "output_type": "execute_result"
    }
   ],
   "source": [
    "# to find states with significant differences in ACT vs SAT participation, I am merging ACT and SAT participation by state and sorting by absolute difference:\n",
    "sat_act_part_by_state = sat_part_by_state.merge(act_part_by_state, how = 'inner', on = 'state', suffixes= ['_SAT', '_ACT'])\n",
    "sat_act_part_by_state['participation_SATvsACT'] = (sat_act_part_by_state['participation_SAT']-sat_act_part_by_state['participation_ACT'])\n",
    "sat_act_part_by_state = sat_act_part_by_state.sort_values(by = 'participation_SATvsACT', ascending = False)\n",
    "sat_act_part_by_state.head()"
   ]
  },
  {
   "cell_type": "code",
   "execution_count": 172,
   "metadata": {},
   "outputs": [
    {
     "data": {
      "text/html": [
       "<div>\n",
       "<style scoped>\n",
       "    .dataframe tbody tr th:only-of-type {\n",
       "        vertical-align: middle;\n",
       "    }\n",
       "\n",
       "    .dataframe tbody tr th {\n",
       "        vertical-align: top;\n",
       "    }\n",
       "\n",
       "    .dataframe thead th {\n",
       "        text-align: right;\n",
       "    }\n",
       "</style>\n",
       "<table border=\"1\" class=\"dataframe\">\n",
       "  <thead>\n",
       "    <tr style=\"text-align: right;\">\n",
       "      <th></th>\n",
       "      <th>state</th>\n",
       "      <th>participation_SAT</th>\n",
       "      <th>participation_ACT</th>\n",
       "      <th>participation_SATvsACT</th>\n",
       "    </tr>\n",
       "  </thead>\n",
       "  <tbody>\n",
       "    <tr>\n",
       "      <th>5</th>\n",
       "      <td>Colorado</td>\n",
       "      <td>0.703333</td>\n",
       "      <td>0.523333</td>\n",
       "      <td>0.180000</td>\n",
       "    </tr>\n",
       "    <tr>\n",
       "      <th>9</th>\n",
       "      <td>Florida</td>\n",
       "      <td>0.796667</td>\n",
       "      <td>0.643333</td>\n",
       "      <td>0.153333</td>\n",
       "    </tr>\n",
       "    <tr>\n",
       "      <th>10</th>\n",
       "      <td>Georgia</td>\n",
       "      <td>0.673333</td>\n",
       "      <td>0.523333</td>\n",
       "      <td>0.150000</td>\n",
       "    </tr>\n",
       "    <tr>\n",
       "      <th>13</th>\n",
       "      <td>Illinois</td>\n",
       "      <td>0.693333</td>\n",
       "      <td>0.570000</td>\n",
       "      <td>0.123333</td>\n",
       "    </tr>\n",
       "    <tr>\n",
       "      <th>11</th>\n",
       "      <td>Hawaii</td>\n",
       "      <td>0.550000</td>\n",
       "      <td>0.863333</td>\n",
       "      <td>-0.313333</td>\n",
       "    </tr>\n",
       "    <tr>\n",
       "      <th>40</th>\n",
       "      <td>South Carolina</td>\n",
       "      <td>0.576667</td>\n",
       "      <td>0.926667</td>\n",
       "      <td>-0.350000</td>\n",
       "    </tr>\n",
       "    <tr>\n",
       "      <th>33</th>\n",
       "      <td>North Carolina</td>\n",
       "      <td>0.506667</td>\n",
       "      <td>1.000000</td>\n",
       "      <td>-0.493333</td>\n",
       "    </tr>\n",
       "  </tbody>\n",
       "</table>\n",
       "</div>"
      ],
      "text/plain": [
       "             state  participation_SAT  participation_ACT  \\\n",
       "5         Colorado           0.703333           0.523333   \n",
       "9          Florida           0.796667           0.643333   \n",
       "10         Georgia           0.673333           0.523333   \n",
       "13        Illinois           0.693333           0.570000   \n",
       "11          Hawaii           0.550000           0.863333   \n",
       "40  South Carolina           0.576667           0.926667   \n",
       "33  North Carolina           0.506667           1.000000   \n",
       "\n",
       "    participation_SATvsACT  \n",
       "5                 0.180000  \n",
       "9                 0.153333  \n",
       "10                0.150000  \n",
       "13                0.123333  \n",
       "11               -0.313333  \n",
       "40               -0.350000  \n",
       "33               -0.493333  "
      ]
     },
     "execution_count": 172,
     "metadata": {},
     "output_type": "execute_result"
    }
   ],
   "source": [
    "# do any states have participation > 50% in both tests, on average?\n",
    "both_over_50 = sat_act_part_by_state[(sat_act_part_by_state['participation_ACT']>0.5) & (sat_act_part_by_state['participation_SAT']>0.5)]\n",
    "both_over_50"
   ]
  },
  {
   "cell_type": "code",
   "execution_count": 192,
   "metadata": {
    "scrolled": true
   },
   "outputs": [
    {
     "name": "stdout",
     "output_type": "stream",
     "text": [
      "7 states had average participation above 50% in both SAT and ACT during the period of 2017-2019:\n",
      "['Colorado', 'Florida', 'Georgia', 'Illinois', 'Hawaii', 'South Carolina', 'North Carolina'].\n"
     ]
    }
   ],
   "source": [
    "print(f'{len(both_over_50)} states had average participation above 50% in both SAT and ACT during the period of 2017-2019:\\n{list(both_over_50[\"state\"])}.')"
   ]
  },
  {
   "cell_type": "code",
   "execution_count": 194,
   "metadata": {},
   "outputs": [
    {
     "name": "stdout",
     "output_type": "stream",
     "text": [
      "3 states had participation above 50% in both ACT and SAT in 2017:\n",
      "['Florida', 'Georgia', 'Hawaii'].\n",
      "\n",
      "5 states had participation above 50% in both ACT and SAT in 2018:\n",
      "['Florida', 'Georgia', 'Hawaii', 'North Carolina', 'South Carolina'].\n",
      "\n",
      "4 states had participation above 50% in both ACT and SAT in 2019:\n",
      "['Florida', 'Hawaii', 'North Carolina', 'South Carolina'].\n",
      "\n",
      "2 states had participation above 50% in both ACT and SAT each year:\n",
      "['Florida', 'Hawaii'].\n",
      "\n"
     ]
    }
   ],
   "source": [
    "# do any states have participation > 50% in both tests, each year?\n",
    "sat_act_df = sat_all_df.merge(act_all_df, how = 'inner', on = ['state', 'year'], suffixes= ['_SAT', '_ACT'])\n",
    "both_over_50_2017 = sat_act_df[(sat_act_df['participation_ACT']>0.5) & (sat_act_df['participation_SAT']>0.5) & (sat_act_df['year'] == 2017)]\n",
    "both_over_50_2018 = sat_act_df[(sat_act_df['participation_ACT']>0.5) & (sat_act_df['participation_SAT']>0.5) & (sat_act_df['year'] == 2018)]\n",
    "both_over_50_2019 = sat_act_df[(sat_act_df['participation_ACT']>0.5) & (sat_act_df['participation_SAT']>0.5) & (sat_act_df['year'] == 2019)]\n",
    "\n",
    "#sat_act_df\n",
    "print(f'{len(both_over_50_2017)} states had participation above 50% in both ACT and SAT in 2017:\\n{list(both_over_50_2017[\"state\"])}.\\n')\n",
    "print(f'{len(both_over_50_2018)} states had participation above 50% in both ACT and SAT in 2018:\\n{list(both_over_50_2018[\"state\"])}.\\n')\n",
    "print(f'{len(both_over_50_2019)} states had participation above 50% in both ACT and SAT in 2019:\\n{list(both_over_50_2019[\"state\"])}.\\n')\n",
    "\n",
    "both_over_50_ey = (set(both_over_50_2017['state']).intersection(set(both_over_50_2018['state']))).intersection(set(both_over_50_2019['state']))\n",
    "both_over_50_ey\n",
    "\n",
    "print(f'{len(both_over_50_ey)} states had participation above 50% in both ACT and SAT each year:\\n{list(both_over_50_ey)}.\\n')"
   ]
  },
  {
   "cell_type": "code",
   "execution_count": 242,
   "metadata": {},
   "outputs": [],
   "source": [
    "# introducting SAT: ACT ratio for visualizations later on:\n",
    "sat_act_df['sat_over_act'] = sat_act_df['total_norm_SAT']/sat_act_df['total_norm_ACT']"
   ]
  },
  {
   "cell_type": "code",
   "execution_count": 195,
   "metadata": {},
   "outputs": [
    {
     "name": "stdout",
     "output_type": "stream",
     "text": [
      "There are 49 states where one of the tests (SAT or ACT) is more popular than the other by more than 10 pct points.\n",
      "There are 44 states where one of the tests (SAT or ACT) is more popular than the other by more than 20 pct points.\n",
      "There are 43 states where one of the tests (SAT or ACT) is more popular than the other by more than 30 pct points.\n",
      "There are 37 states where one of the tests (SAT or ACT) is more popular than the other by more than 40 pct points.\n",
      "There are 30 states where one of the tests (SAT or ACT) is more popular than the other by more than 50 pct points.\n",
      "There are 28 states where one of the tests (SAT or ACT) is more popular than the other by more than 60 pct points.\n",
      "There are 24 states where one of the tests (SAT or ACT) is more popular than the other by more than 70 pct points.\n",
      "There are 17 states where one of the tests (SAT or ACT) is more popular than the other by more than 80 pct points.\n",
      "There are 15 states where one of the tests (SAT or ACT) is more popular than the other by more than 90 pct points.\n"
     ]
    }
   ],
   "source": [
    "deltas = [0.1*i for i in range(1,10)]\n",
    "num_states_delta = []\n",
    "for d in deltas:\n",
    "    num_states_delta.append(len(sat_act_part_by_state[(sat_act_part_by_state['participation_SATvsACT'] > d) | (sat_act_part_by_state['participation_SATvsACT'] < -d)]))\n",
    "    \n",
    "for i in range(len(deltas)):\n",
    "    print(f'There are {num_states_delta[i]} states where one of the tests (SAT or ACT) is more popular than the other by more than {int(deltas[i]*100)} pct points.')"
   ]
  },
  {
   "cell_type": "code",
   "execution_count": 196,
   "metadata": {},
   "outputs": [
    {
     "data": {
      "text/html": [
       "<div>\n",
       "<style scoped>\n",
       "    .dataframe tbody tr th:only-of-type {\n",
       "        vertical-align: middle;\n",
       "    }\n",
       "\n",
       "    .dataframe tbody tr th {\n",
       "        vertical-align: top;\n",
       "    }\n",
       "\n",
       "    .dataframe thead th {\n",
       "        text-align: right;\n",
       "    }\n",
       "</style>\n",
       "<table border=\"1\" class=\"dataframe\">\n",
       "  <thead>\n",
       "    <tr style=\"text-align: right;\">\n",
       "      <th></th>\n",
       "      <th>index</th>\n",
       "      <th>state</th>\n",
       "      <th>participation_SAT</th>\n",
       "      <th>participation_ACT</th>\n",
       "      <th>participation_SATvsACT</th>\n",
       "      <th>SAT_ACT</th>\n",
       "    </tr>\n",
       "  </thead>\n",
       "  <tbody>\n",
       "    <tr>\n",
       "      <th>0</th>\n",
       "      <td>19</td>\n",
       "      <td>Maine</td>\n",
       "      <td>0.976667</td>\n",
       "      <td>0.070000</td>\n",
       "      <td>0.906667</td>\n",
       "      <td>SAT</td>\n",
       "    </tr>\n",
       "    <tr>\n",
       "      <th>1</th>\n",
       "      <td>7</td>\n",
       "      <td>Delaware</td>\n",
       "      <td>1.000000</td>\n",
       "      <td>0.160000</td>\n",
       "      <td>0.840000</td>\n",
       "      <td>SAT</td>\n",
       "    </tr>\n",
       "    <tr>\n",
       "      <th>2</th>\n",
       "      <td>29</td>\n",
       "      <td>New Hampshire</td>\n",
       "      <td>0.956667</td>\n",
       "      <td>0.160000</td>\n",
       "      <td>0.796667</td>\n",
       "      <td>SAT</td>\n",
       "    </tr>\n",
       "    <tr>\n",
       "      <th>3</th>\n",
       "      <td>22</td>\n",
       "      <td>Michigan</td>\n",
       "      <td>1.000000</td>\n",
       "      <td>0.233333</td>\n",
       "      <td>0.766667</td>\n",
       "      <td>SAT</td>\n",
       "    </tr>\n",
       "    <tr>\n",
       "      <th>4</th>\n",
       "      <td>6</td>\n",
       "      <td>Connecticut</td>\n",
       "      <td>1.000000</td>\n",
       "      <td>0.263333</td>\n",
       "      <td>0.736667</td>\n",
       "      <td>SAT</td>\n",
       "    </tr>\n",
       "  </tbody>\n",
       "</table>\n",
       "</div>"
      ],
      "text/plain": [
       "   index          state  participation_SAT  participation_ACT  \\\n",
       "0     19          Maine           0.976667           0.070000   \n",
       "1      7       Delaware           1.000000           0.160000   \n",
       "2     29  New Hampshire           0.956667           0.160000   \n",
       "3     22       Michigan           1.000000           0.233333   \n",
       "4      6    Connecticut           1.000000           0.263333   \n",
       "\n",
       "   participation_SATvsACT SAT_ACT  \n",
       "0                0.906667     SAT  \n",
       "1                0.840000     SAT  \n",
       "2                0.796667     SAT  \n",
       "3                0.766667     SAT  \n",
       "4                0.736667     SAT  "
      ]
     },
     "execution_count": 196,
     "metadata": {},
     "output_type": "execute_result"
    }
   ],
   "source": [
    "min_delta = 0.7\n",
    "stdztn_oppty = sat_act_part_by_state[(sat_act_part_by_state['participation_SATvsACT']>min_delta) | (sat_act_part_by_state['participation_SATvsACT'] < -min_delta)].reset_index()\n",
    "stdztn_oppty['SAT_ACT'] = stdztn_oppty['participation_SATvsACT'].apply(lambda x: 'SAT' if x > 0 else 'ACT')\n",
    "#stdztn_oppty['SAT'] = stdztn_oppty['participation_SAT'].apply(lambda x: 1 if x > min_part else 0)\n",
    "stdztn_oppty.head()"
   ]
  },
  {
   "cell_type": "code",
   "execution_count": 197,
   "metadata": {},
   "outputs": [
    {
     "name": "stdout",
     "output_type": "stream",
     "text": [
      "Of 24 states where either SAT or ACT dominates in terms of participation, 18 could accept ACT as the only standard \n",
      "test and 6 could standardize on SAT.\n"
     ]
    }
   ],
   "source": [
    "print(f\"Of {len(stdztn_oppty)} states where either SAT or ACT dominates in terms of participation, {sum(stdztn_oppty['SAT_ACT']=='ACT')} could accept ACT as the only standard \\ntest and {sum(stdztn_oppty['SAT_ACT']=='SAT')} could standardize on SAT.\") "
   ]
  },
  {
   "cell_type": "code",
   "execution_count": 198,
   "metadata": {},
   "outputs": [
    {
     "data": {
      "text/plain": [
       "count    51.000000\n",
       "mean      1.039819\n",
       "std       0.195988\n",
       "min       0.724167\n",
       "25%       0.884103\n",
       "50%       1.018450\n",
       "75%       1.223026\n",
       "max       1.394566\n",
       "Name: sat_over_act, dtype: float64"
      ]
     },
     "execution_count": 198,
     "metadata": {},
     "output_type": "execute_result"
    }
   ],
   "source": [
    "# similarly as above for participation, I am creating summaries for the average total score for both tests:\n",
    "sat_total_norm_by_state = sat_all_df.groupby('state')['total_norm'].mean().reset_index()\n",
    "act_total_norm_by_state = act_all_df.groupby('state')['total_norm'].mean().reset_index()\n",
    "sat_act_total_norm_by_state = sat_total_norm_by_state.merge(act_total_norm_by_state, how = 'inner', on = 'state', suffixes= ['_SAT', '_ACT'])\n",
    "#sat_act_total_by_state['participation_SATvsACT'] = abs(sat_act_part_by_state['participation_SAT']-sat_act_part_by_state['participation_ACT'])\n",
    "#sat_act_total_by_state = sat_act_part_by_state.sort_values(by = 'participation_SATvsACT', ascending = False)\n",
    "\n",
    "# to compare normalized scores, I create a ratio of SAT:ACT:\n",
    "sat_act_total_norm_by_state['sat_over_act'] = sat_act_total_norm_by_state['total_norm_SAT']/sat_act_total_norm_by_state['total_norm_ACT']\n",
    "sat_better = len(sat_act_total_norm_by_state[sat_act_total_norm_by_state['sat_over_act']>1])\n",
    "act_better = len(sat_act_total_norm_by_state[sat_act_total_norm_by_state['sat_over_act']<1])\n",
    "sat_act_total_norm_by_state.sort_values('total_norm_ACT', ascending = False, inplace = True)\n",
    "sat_act_total_norm_by_state['sat_over_act'].describe()"
   ]
  },
  {
   "cell_type": "markdown",
   "metadata": {},
   "source": [
    "**_Observations:_**\n",
    "As noted when comparing the summary statistics of normalized results for SAT and ACT, while the reults are close, SAT scores tend to be slightly higher: both the mean and the median for SAT:ACT ratio are greater than 1."
   ]
  },
  {
   "cell_type": "code",
   "execution_count": 202,
   "metadata": {},
   "outputs": [
    {
     "name": "stdout",
     "output_type": "stream",
     "text": [
      "It does not appear as though overall results are heavily skewed towards either SAT or ACT: \n",
      "27 states report better SAT results, 24 - better ACT results.\n"
     ]
    }
   ],
   "source": [
    "print(f'It does not appear as though overall results are heavily skewed towards either SAT or ACT: \\n{sat_better} states report better SAT results, {act_better} - better ACT results.')"
   ]
  },
  {
   "cell_type": "code",
   "execution_count": 203,
   "metadata": {},
   "outputs": [],
   "source": [
    "# the top_n_both function takes in the argument n and determines which states historically scored top n results \n",
    "# in both the SAT and the ACT:\n",
    "def top_n_both(n):\n",
    "    act_topn = set(sat_act_total_norm_by_state.nlargest(n, ['total_norm_SAT'])['state'])\n",
    "    sat_topn = set(sat_act_total_norm_by_state.nlargest(n, ['total_norm_ACT'])['state'])\n",
    "    if len(act_topn.intersection(sat_topn)) == 0:\n",
    "            print(f'No state achieved top {n} results in both SAT and ACT.\\n')\n",
    "    elif len(act_topn.intersection(sat_topn)) == 1:\n",
    "            print(f'One state {act_topn.intersection(sat_topn)} achieved top {n} results in both SAT and ACT.\\n')\n",
    "    else:  \n",
    "        print(f'{len(act_topn.intersection(sat_topn))} states are in the top {n} in terms of average results in both ACT and SAT:\\n {list(act_topn.intersection(sat_topn))}.\\n') "
   ]
  },
  {
   "cell_type": "code",
   "execution_count": 204,
   "metadata": {},
   "outputs": [
    {
     "name": "stdout",
     "output_type": "stream",
     "text": [
      "8 states are in the top 25 in terms of average results in both ACT and SAT:\n",
      " ['Iowa', 'Vermont', 'Minnesota', 'Virginia', 'Kansas', 'South Dakota', 'Oregon', 'Massachusetts'].\n",
      "\n"
     ]
    }
   ],
   "source": [
    "# using the top_n_both function to find which states were in top 25 SAT results and top 25 ACT results:\n",
    "top_n_both(25)"
   ]
  },
  {
   "cell_type": "code",
   "execution_count": 205,
   "metadata": {},
   "outputs": [],
   "source": [
    "# creating a df with min and max results for SAT and ACT, by state:\n",
    "sat_act_min_max_by_state = sat_act_df.groupby('state')[['total_norm_SAT', 'total_norm_ACT']].agg(['min', 'max']).reset_index()"
   ]
  },
  {
   "cell_type": "code",
   "execution_count": 206,
   "metadata": {},
   "outputs": [],
   "source": [
    "# dictionary borrowed from here: https://gist.github.com/rogerallen/1583593\n",
    "# (this was introduced mainly for the purpose of cleaner visuals but it makes sense to ingest it here)\n",
    "\n",
    "us_state_abbrev = {\n",
    "    'Alabama': 'AL',\n",
    "    'Alaska': 'AK',\n",
    "    'American Samoa': 'AS',\n",
    "    'Arizona': 'AZ',\n",
    "    'Arkansas': 'AR',\n",
    "    'California': 'CA',\n",
    "    'Colorado': 'CO',\n",
    "    'Connecticut': 'CT',\n",
    "    'Delaware': 'DE',\n",
    "    'District of Columbia': 'DC',\n",
    "    'Florida': 'FL',\n",
    "    'Georgia': 'GA',\n",
    "    'Guam': 'GU',\n",
    "    'Hawaii': 'HI',\n",
    "    'Idaho': 'ID',\n",
    "    'Illinois': 'IL',\n",
    "    'Indiana': 'IN',\n",
    "    'Iowa': 'IA',\n",
    "    'Kansas': 'KS',\n",
    "    'Kentucky': 'KY',\n",
    "    'Louisiana': 'LA',\n",
    "    'Maine': 'ME',\n",
    "    'Maryland': 'MD',\n",
    "    'Massachusetts': 'MA',\n",
    "    'Michigan': 'MI',\n",
    "    'Minnesota': 'MN',\n",
    "    'Mississippi': 'MS',\n",
    "    'Missouri': 'MO',\n",
    "    'Montana': 'MT',\n",
    "    'Nebraska': 'NE',\n",
    "    'Nevada': 'NV',\n",
    "    'New Hampshire': 'NH',\n",
    "    'New Jersey': 'NJ',\n",
    "    'New Mexico': 'NM',\n",
    "    'New York': 'NY',\n",
    "    'North Carolina': 'NC',\n",
    "    'North Dakota': 'ND',\n",
    "    'Northern Mariana Islands':'MP',\n",
    "    'Ohio': 'OH',\n",
    "    'Oklahoma': 'OK',\n",
    "    'Oregon': 'OR',\n",
    "    'Pennsylvania': 'PA',\n",
    "    'Puerto Rico': 'PR',\n",
    "    'Rhode Island': 'RI',\n",
    "    'South Carolina': 'SC',\n",
    "    'South Dakota': 'SD',\n",
    "    'Tennessee': 'TN',\n",
    "    'Texas': 'TX',\n",
    "    'Utah': 'UT',\n",
    "    'Vermont': 'VT',\n",
    "    'Virgin Islands': 'VI',\n",
    "    'Virginia': 'VA',\n",
    "    'Washington': 'WA',\n",
    "    'West Virginia': 'WV',\n",
    "    'Wisconsin': 'WI',\n",
    "    'Wyoming': 'WY'\n",
    "}"
   ]
  },
  {
   "cell_type": "code",
   "execution_count": 207,
   "metadata": {},
   "outputs": [
    {
     "data": {
      "text/html": [
       "<div>\n",
       "<style scoped>\n",
       "    .dataframe tbody tr th:only-of-type {\n",
       "        vertical-align: middle;\n",
       "    }\n",
       "\n",
       "    .dataframe tbody tr th {\n",
       "        vertical-align: top;\n",
       "    }\n",
       "\n",
       "    .dataframe thead tr th {\n",
       "        text-align: left;\n",
       "    }\n",
       "</style>\n",
       "<table border=\"1\" class=\"dataframe\">\n",
       "  <thead>\n",
       "    <tr>\n",
       "      <th></th>\n",
       "      <th>state</th>\n",
       "      <th colspan=\"2\" halign=\"left\">total_norm_SAT</th>\n",
       "      <th colspan=\"2\" halign=\"left\">total_norm_ACT</th>\n",
       "      <th>range_SAT</th>\n",
       "      <th>range_ACT</th>\n",
       "      <th>state_abb</th>\n",
       "    </tr>\n",
       "    <tr>\n",
       "      <th></th>\n",
       "      <th></th>\n",
       "      <th>min</th>\n",
       "      <th>max</th>\n",
       "      <th>min</th>\n",
       "      <th>max</th>\n",
       "      <th></th>\n",
       "      <th></th>\n",
       "      <th></th>\n",
       "    </tr>\n",
       "  </thead>\n",
       "  <tbody>\n",
       "    <tr>\n",
       "      <th>0</th>\n",
       "      <td>Alabama</td>\n",
       "      <td>0.619167</td>\n",
       "      <td>0.638333</td>\n",
       "      <td>0.511429</td>\n",
       "      <td>0.520000</td>\n",
       "      <td>0.019167</td>\n",
       "      <td>0.008571</td>\n",
       "      <td>AL</td>\n",
       "    </tr>\n",
       "    <tr>\n",
       "      <th>1</th>\n",
       "      <td>Alaska</td>\n",
       "      <td>0.566667</td>\n",
       "      <td>0.588333</td>\n",
       "      <td>0.537143</td>\n",
       "      <td>0.565714</td>\n",
       "      <td>0.021667</td>\n",
       "      <td>0.028571</td>\n",
       "      <td>AK</td>\n",
       "    </tr>\n",
       "    <tr>\n",
       "      <th>2</th>\n",
       "      <td>Arizona</td>\n",
       "      <td>0.596667</td>\n",
       "      <td>0.624167</td>\n",
       "      <td>0.514286</td>\n",
       "      <td>0.534286</td>\n",
       "      <td>0.027500</td>\n",
       "      <td>0.020000</td>\n",
       "      <td>AZ</td>\n",
       "    </tr>\n",
       "    <tr>\n",
       "      <th>3</th>\n",
       "      <td>Arkansas</td>\n",
       "      <td>0.617500</td>\n",
       "      <td>0.673333</td>\n",
       "      <td>0.522857</td>\n",
       "      <td>0.525714</td>\n",
       "      <td>0.055833</td>\n",
       "      <td>0.002857</td>\n",
       "      <td>AR</td>\n",
       "    </tr>\n",
       "    <tr>\n",
       "      <th>4</th>\n",
       "      <td>California</td>\n",
       "      <td>0.545833</td>\n",
       "      <td>0.563333</td>\n",
       "      <td>0.617143</td>\n",
       "      <td>0.622857</td>\n",
       "      <td>0.017500</td>\n",
       "      <td>0.005714</td>\n",
       "      <td>CA</td>\n",
       "    </tr>\n",
       "  </tbody>\n",
       "</table>\n",
       "</div>"
      ],
      "text/plain": [
       "        state total_norm_SAT           total_norm_ACT           range_SAT  \\\n",
       "                         min       max            min       max             \n",
       "0     Alabama       0.619167  0.638333       0.511429  0.520000  0.019167   \n",
       "1      Alaska       0.566667  0.588333       0.537143  0.565714  0.021667   \n",
       "2     Arizona       0.596667  0.624167       0.514286  0.534286  0.027500   \n",
       "3    Arkansas       0.617500  0.673333       0.522857  0.525714  0.055833   \n",
       "4  California       0.545833  0.563333       0.617143  0.622857  0.017500   \n",
       "\n",
       "  range_ACT state_abb  \n",
       "                       \n",
       "0  0.008571        AL  \n",
       "1  0.028571        AK  \n",
       "2  0.020000        AZ  \n",
       "3  0.002857        AR  \n",
       "4  0.005714        CA  "
      ]
     },
     "execution_count": 207,
     "metadata": {},
     "output_type": "execute_result"
    }
   ],
   "source": [
    "# creating range (max - min) columns for SAT and ACT and pulling in the state abbreviation:\n",
    "sat_act_min_max_by_state['range_SAT'] = sat_act_min_max_by_state.iloc[:,2]-sat_act_min_max_by_state.iloc[:,1]\n",
    "sat_act_min_max_by_state['range_ACT'] = sat_act_min_max_by_state.iloc[:,4]-sat_act_min_max_by_state.iloc[:,3]\n",
    "sat_act_min_max_by_state['state_abb'] = sat_act_min_max_by_state.iloc[:,0].apply(lambda x: us_state_abbrev[x])\n",
    "sat_act_min_max_by_state.head()"
   ]
  },
  {
   "cell_type": "code",
   "execution_count": 217,
   "metadata": {},
   "outputs": [],
   "source": [
    "# identifying \"top schools\" in terms of popularity(# of applicants) and selectivity (acceptance rate):\n",
    "top_schools = sat_act_by_college_df[(sat_act_by_college_df['number_of_applicants'] > sat_act_by_college_df['number_of_applicants'].mean())\n",
    "                     &(sat_act_by_college_df['accept_rate'] < sat_act_by_college_df['accept_rate'].mean())]"
   ]
  },
  {
   "cell_type": "code",
   "execution_count": 227,
   "metadata": {},
   "outputs": [
    {
     "name": "stdout",
     "output_type": "stream",
     "text": [
      "Getting into one of the 74 'top schools' requires ACT results of at least 71.4% or 25.7 points,\n",
      "or SAT results of at leat 69.2% (1142.9 points).\n"
     ]
    }
   ],
   "source": [
    "print(f\"Getting into one of the {len(top_schools)} 'top schools' requires ACT results of at least {round(100*top_schools['act_norm_25th'].quantile(0.25),1)}% or {round(top_schools['act_norm_25th'].quantile(0.25)*36,1)} points,\\nor SAT results of at leat {round(100*top_schools['sat_norm_25th'].quantile(0.25),1)}% ({round(top_schools['act_norm_25th'].quantile(0.25)*1600,1)} points).\")"
   ]
  },
  {
   "cell_type": "code",
   "execution_count": 229,
   "metadata": {},
   "outputs": [
    {
     "data": {
      "text/html": [
       "<div>\n",
       "<style scoped>\n",
       "    .dataframe tbody tr th:only-of-type {\n",
       "        vertical-align: middle;\n",
       "    }\n",
       "\n",
       "    .dataframe tbody tr th {\n",
       "        vertical-align: top;\n",
       "    }\n",
       "\n",
       "    .dataframe thead th {\n",
       "        text-align: right;\n",
       "    }\n",
       "</style>\n",
       "<table border=\"1\" class=\"dataframe\">\n",
       "  <thead>\n",
       "    <tr style=\"text-align: right;\">\n",
       "      <th></th>\n",
       "      <th>school</th>\n",
       "      <th>number_of_applicants</th>\n",
       "      <th>accept_rate</th>\n",
       "      <th>sat_norm_25th</th>\n",
       "      <th>sat_norm_75th</th>\n",
       "      <th>act_norm_25th</th>\n",
       "      <th>act_norm_75th</th>\n",
       "      <th>num_of_app_cum</th>\n",
       "    </tr>\n",
       "  </thead>\n",
       "  <tbody>\n",
       "    <tr>\n",
       "      <th>24</th>\n",
       "      <td>University of California—​Los Angeles</td>\n",
       "      <td>111322</td>\n",
       "      <td>0.123</td>\n",
       "      <td>0.741667</td>\n",
       "      <td>0.925000</td>\n",
       "      <td>0.742857</td>\n",
       "      <td>0.942857</td>\n",
       "      <td>0.015852</td>\n",
       "    </tr>\n",
       "    <tr>\n",
       "      <th>72</th>\n",
       "      <td>University of California—​San Diego</td>\n",
       "      <td>97901</td>\n",
       "      <td>0.302</td>\n",
       "      <td>0.708333</td>\n",
       "      <td>0.891667</td>\n",
       "      <td>0.714286</td>\n",
       "      <td>0.914286</td>\n",
       "      <td>0.029794</td>\n",
       "    </tr>\n",
       "    <tr>\n",
       "      <th>69</th>\n",
       "      <td>University of California—​Santa Barbara</td>\n",
       "      <td>93457</td>\n",
       "      <td>0.296</td>\n",
       "      <td>0.716667</td>\n",
       "      <td>0.883333</td>\n",
       "      <td>0.685714</td>\n",
       "      <td>0.914286</td>\n",
       "      <td>0.043102</td>\n",
       "    </tr>\n",
       "    <tr>\n",
       "      <th>33</th>\n",
       "      <td>University of California—​Berkeley</td>\n",
       "      <td>89621</td>\n",
       "      <td>0.148</td>\n",
       "      <td>0.750000</td>\n",
       "      <td>0.941667</td>\n",
       "      <td>0.771429</td>\n",
       "      <td>0.942857</td>\n",
       "      <td>0.055864</td>\n",
       "    </tr>\n",
       "    <tr>\n",
       "      <th>40</th>\n",
       "      <td>New York University</td>\n",
       "      <td>79462</td>\n",
       "      <td>0.162</td>\n",
       "      <td>0.808333</td>\n",
       "      <td>0.925000</td>\n",
       "      <td>0.828571</td>\n",
       "      <td>0.942857</td>\n",
       "      <td>0.067180</td>\n",
       "    </tr>\n",
       "    <tr>\n",
       "      <th>...</th>\n",
       "      <td>...</td>\n",
       "      <td>...</td>\n",
       "      <td>...</td>\n",
       "      <td>...</td>\n",
       "      <td>...</td>\n",
       "      <td>...</td>\n",
       "      <td>...</td>\n",
       "      <td>...</td>\n",
       "    </tr>\n",
       "    <tr>\n",
       "      <th>367</th>\n",
       "      <td>Mills College</td>\n",
       "      <td>1003</td>\n",
       "      <td>0.855</td>\n",
       "      <td>0.506667</td>\n",
       "      <td>0.700000</td>\n",
       "      <td>0.571429</td>\n",
       "      <td>0.800000</td>\n",
       "      <td>0.999703</td>\n",
       "    </tr>\n",
       "    <tr>\n",
       "      <th>170</th>\n",
       "      <td>St. John's College Annapolis</td>\n",
       "      <td>913</td>\n",
       "      <td>0.576</td>\n",
       "      <td>0.675000</td>\n",
       "      <td>0.875000</td>\n",
       "      <td>0.657143</td>\n",
       "      <td>0.914286</td>\n",
       "      <td>0.999833</td>\n",
       "    </tr>\n",
       "    <tr>\n",
       "      <th>401</th>\n",
       "      <td>Gallaudet University</td>\n",
       "      <td>496</td>\n",
       "      <td>0.571</td>\n",
       "      <td>0.327500</td>\n",
       "      <td>0.565000</td>\n",
       "      <td>0.400000</td>\n",
       "      <td>0.542857</td>\n",
       "      <td>0.999904</td>\n",
       "    </tr>\n",
       "    <tr>\n",
       "      <th>100</th>\n",
       "      <td>Soka University of America</td>\n",
       "      <td>464</td>\n",
       "      <td>0.388</td>\n",
       "      <td>0.650000</td>\n",
       "      <td>0.841667</td>\n",
       "      <td>0.742857</td>\n",
       "      <td>0.828571</td>\n",
       "      <td>0.999970</td>\n",
       "    </tr>\n",
       "    <tr>\n",
       "      <th>410</th>\n",
       "      <td>Thomas Aquinas College</td>\n",
       "      <td>211</td>\n",
       "      <td>0.777</td>\n",
       "      <td>0.683333</td>\n",
       "      <td>0.833333</td>\n",
       "      <td>0.685714</td>\n",
       "      <td>0.828571</td>\n",
       "      <td>1.000000</td>\n",
       "    </tr>\n",
       "  </tbody>\n",
       "</table>\n",
       "<p>405 rows × 8 columns</p>\n",
       "</div>"
      ],
      "text/plain": [
       "                                      school  number_of_applicants  \\\n",
       "24     University of California—​Los Angeles                111322   \n",
       "72       University of California—​San Diego                 97901   \n",
       "69   University of California—​Santa Barbara                 93457   \n",
       "33        University of California—​Berkeley                 89621   \n",
       "40                       New York University                 79462   \n",
       "..                                       ...                   ...   \n",
       "367                            Mills College                  1003   \n",
       "170             St. John's College Annapolis                   913   \n",
       "401                     Gallaudet University                   496   \n",
       "100               Soka University of America                   464   \n",
       "410                   Thomas Aquinas College                   211   \n",
       "\n",
       "     accept_rate  sat_norm_25th  sat_norm_75th  act_norm_25th  act_norm_75th  \\\n",
       "24         0.123       0.741667       0.925000       0.742857       0.942857   \n",
       "72         0.302       0.708333       0.891667       0.714286       0.914286   \n",
       "69         0.296       0.716667       0.883333       0.685714       0.914286   \n",
       "33         0.148       0.750000       0.941667       0.771429       0.942857   \n",
       "40         0.162       0.808333       0.925000       0.828571       0.942857   \n",
       "..           ...            ...            ...            ...            ...   \n",
       "367        0.855       0.506667       0.700000       0.571429       0.800000   \n",
       "170        0.576       0.675000       0.875000       0.657143       0.914286   \n",
       "401        0.571       0.327500       0.565000       0.400000       0.542857   \n",
       "100        0.388       0.650000       0.841667       0.742857       0.828571   \n",
       "410        0.777       0.683333       0.833333       0.685714       0.828571   \n",
       "\n",
       "     num_of_app_cum  \n",
       "24         0.015852  \n",
       "72         0.029794  \n",
       "69         0.043102  \n",
       "33         0.055864  \n",
       "40         0.067180  \n",
       "..              ...  \n",
       "367        0.999703  \n",
       "170        0.999833  \n",
       "401        0.999904  \n",
       "100        0.999970  \n",
       "410        1.000000  \n",
       "\n",
       "[405 rows x 8 columns]"
      ]
     },
     "execution_count": 229,
     "metadata": {},
     "output_type": "execute_result"
    }
   ],
   "source": [
    "# adding cumulative # of applicants for visualizations later on:\n",
    "sat_act_by_college_df.sort_values(by = 'number_of_applicants', ascending=False, inplace = True)\n",
    "sat_act_by_college_df['num_of_app_cum'] = sat_act_by_college_df['number_of_applicants'].cumsum()/sat_act_by_college_df['number_of_applicants'].sum()\n",
    "sat_act_by_college_df"
   ]
  },
  {
   "cell_type": "code",
   "execution_count": 233,
   "metadata": {},
   "outputs": [
    {
     "name": "stderr",
     "output_type": "stream",
     "text": [
      "<ipython-input-233-50a33e938fab>:3: UserWarning: Boolean Series key will be reindexed to match DataFrame index.\n",
      "  elite_schools = sat_act_by_college_df[sat_act_by_college_df['accept_rate']<0.2][sat_act_by_college_df['num_of_app_cum']<0.7]\n"
     ]
    }
   ],
   "source": [
    "# based on distribution visualizations for applications and acceptance rate, selecting \"elite schools\" based on popularity(# of applicants) and selectivity (acceptance rate):\n",
    "\n",
    "elite_schools = sat_act_by_college_df[sat_act_by_college_df['accept_rate']<0.2][sat_act_by_college_df['num_of_app_cum']<0.7]"
   ]
  },
  {
   "cell_type": "code",
   "execution_count": 232,
   "metadata": {},
   "outputs": [
    {
     "data": {
      "text/html": [
       "<div>\n",
       "<style scoped>\n",
       "    .dataframe tbody tr th:only-of-type {\n",
       "        vertical-align: middle;\n",
       "    }\n",
       "\n",
       "    .dataframe tbody tr th {\n",
       "        vertical-align: top;\n",
       "    }\n",
       "\n",
       "    .dataframe thead th {\n",
       "        text-align: right;\n",
       "    }\n",
       "</style>\n",
       "<table border=\"1\" class=\"dataframe\">\n",
       "  <thead>\n",
       "    <tr style=\"text-align: right;\">\n",
       "      <th></th>\n",
       "      <th>number_of_applicants</th>\n",
       "      <th>accept_rate</th>\n",
       "      <th>sat_norm_25th</th>\n",
       "      <th>sat_norm_75th</th>\n",
       "      <th>act_norm_25th</th>\n",
       "      <th>act_norm_75th</th>\n",
       "      <th>num_of_app_cum</th>\n",
       "    </tr>\n",
       "  </thead>\n",
       "  <tbody>\n",
       "    <tr>\n",
       "      <th>count</th>\n",
       "      <td>28.000000</td>\n",
       "      <td>28.000000</td>\n",
       "      <td>28.000000</td>\n",
       "      <td>28.000000</td>\n",
       "      <td>28.000000</td>\n",
       "      <td>28.000000</td>\n",
       "      <td>28.000000</td>\n",
       "    </tr>\n",
       "    <tr>\n",
       "      <th>mean</th>\n",
       "      <td>42152.714286</td>\n",
       "      <td>0.108571</td>\n",
       "      <td>0.849405</td>\n",
       "      <td>0.959821</td>\n",
       "      <td>0.883673</td>\n",
       "      <td>0.963265</td>\n",
       "      <td>0.376256</td>\n",
       "    </tr>\n",
       "    <tr>\n",
       "      <th>std</th>\n",
       "      <td>21716.499777</td>\n",
       "      <td>0.042701</td>\n",
       "      <td>0.045527</td>\n",
       "      <td>0.016981</td>\n",
       "      <td>0.045295</td>\n",
       "      <td>0.017138</td>\n",
       "      <td>0.191557</td>\n",
       "    </tr>\n",
       "    <tr>\n",
       "      <th>min</th>\n",
       "      <td>20923.000000</td>\n",
       "      <td>0.043000</td>\n",
       "      <td>0.741667</td>\n",
       "      <td>0.925000</td>\n",
       "      <td>0.742857</td>\n",
       "      <td>0.914286</td>\n",
       "      <td>0.015852</td>\n",
       "    </tr>\n",
       "    <tr>\n",
       "      <th>25%</th>\n",
       "      <td>27615.250000</td>\n",
       "      <td>0.072500</td>\n",
       "      <td>0.820833</td>\n",
       "      <td>0.947917</td>\n",
       "      <td>0.878571</td>\n",
       "      <td>0.942857</td>\n",
       "      <td>0.233776</td>\n",
       "    </tr>\n",
       "    <tr>\n",
       "      <th>50%</th>\n",
       "      <td>37077.000000</td>\n",
       "      <td>0.107500</td>\n",
       "      <td>0.866667</td>\n",
       "      <td>0.966667</td>\n",
       "      <td>0.885714</td>\n",
       "      <td>0.971429</td>\n",
       "      <td>0.383470</td>\n",
       "    </tr>\n",
       "    <tr>\n",
       "      <th>75%</th>\n",
       "      <td>45583.750000</td>\n",
       "      <td>0.148500</td>\n",
       "      <td>0.883333</td>\n",
       "      <td>0.975000</td>\n",
       "      <td>0.914286</td>\n",
       "      <td>0.971429</td>\n",
       "      <td>0.525909</td>\n",
       "    </tr>\n",
       "    <tr>\n",
       "      <th>max</th>\n",
       "      <td>111322.000000</td>\n",
       "      <td>0.185000</td>\n",
       "      <td>0.916667</td>\n",
       "      <td>0.983333</td>\n",
       "      <td>0.942857</td>\n",
       "      <td>1.000000</td>\n",
       "      <td>0.651568</td>\n",
       "    </tr>\n",
       "  </tbody>\n",
       "</table>\n",
       "</div>"
      ],
      "text/plain": [
       "       number_of_applicants  accept_rate  sat_norm_25th  sat_norm_75th  \\\n",
       "count             28.000000    28.000000      28.000000      28.000000   \n",
       "mean           42152.714286     0.108571       0.849405       0.959821   \n",
       "std            21716.499777     0.042701       0.045527       0.016981   \n",
       "min            20923.000000     0.043000       0.741667       0.925000   \n",
       "25%            27615.250000     0.072500       0.820833       0.947917   \n",
       "50%            37077.000000     0.107500       0.866667       0.966667   \n",
       "75%            45583.750000     0.148500       0.883333       0.975000   \n",
       "max           111322.000000     0.185000       0.916667       0.983333   \n",
       "\n",
       "       act_norm_25th  act_norm_75th  num_of_app_cum  \n",
       "count      28.000000      28.000000       28.000000  \n",
       "mean        0.883673       0.963265        0.376256  \n",
       "std         0.045295       0.017138        0.191557  \n",
       "min         0.742857       0.914286        0.015852  \n",
       "25%         0.878571       0.942857        0.233776  \n",
       "50%         0.885714       0.971429        0.383470  \n",
       "75%         0.914286       0.971429        0.525909  \n",
       "max         0.942857       1.000000        0.651568  "
      ]
     },
     "execution_count": 232,
     "metadata": {},
     "output_type": "execute_result"
    }
   ],
   "source": [
    "elite_schools.describe()"
   ]
  },
  {
   "cell_type": "code",
   "execution_count": 234,
   "metadata": {},
   "outputs": [
    {
     "name": "stdout",
     "output_type": "stream",
     "text": [
      "Getting into one of the 28 'elite schools' requires ACT results of at least 87.9% or 31.6 points,\n",
      "or SAT results of at leat 82.1% (1405.7 points).\n"
     ]
    }
   ],
   "source": [
    "print(f\"Getting into one of the {len(elite_schools)} 'elite schools' requires ACT results of at least {round(100*elite_schools['act_norm_25th'].quantile(0.25),1)}% or {round(elite_schools['act_norm_25th'].quantile(0.25)*36,1)} points,\\nor SAT results of at leat {round(100*elite_schools['sat_norm_25th'].quantile(0.25),1)}% ({round(elite_schools['act_norm_25th'].quantile(0.25)*1600,1)} points).\")"
   ]
  },
  {
   "cell_type": "markdown",
   "metadata": {},
   "source": [
    "## Visualize the Data\n",
    "\n",
    "There's not a magic bullet recommendation for the right number of plots to understand a given dataset, but visualizing your data is *always* a good idea. Not only does it allow you to quickly convey your findings (even if you have a non-technical audience), it will often reveal trends in your data that escaped you when you were looking only at numbers. It is important to not only create visualizations, but to **interpret your visualizations** as well.\n",
    "\n",
    "**Every plot should**:\n",
    "- Have a title\n",
    "- Have axis labels\n",
    "- Have appropriate tick labels\n",
    "- Text is legible in a plot\n",
    "- Plots demonstrate meaningful and valid relationships\n",
    "- Have an interpretation to aid understanding\n",
    "\n",
    "Here is an example of what your plots should look like following the above guidelines. Note that while the content of this example is unrelated, the principles of visualization hold:\n",
    "\n",
    "![](https://snag.gy/hCBR1U.jpg)\n",
    "*Interpretation: The above image shows that as we increase our spending on advertising, our sales numbers also tend to increase. There is a positive correlation between advertising spending and sales.*\n",
    "\n",
    "---\n",
    "\n",
    "Here are some prompts to get you started with visualizations. Feel free to add additional visualizations as you see fit:\n",
    "1. Use Seaborn's heatmap with pandas `.corr()` to visualize correlations between all numeric features.\n",
    "    - Heatmaps are generally not appropriate for presentations, and should often be excluded from reports as they can be visually overwhelming. **However**, they can be extremely useful in identify relationships of potential interest (as well as identifying potential collinearity before modeling).\n",
    "    - Please take time to format your output, adding a title. Look through some of the additional arguments and options. (Axis labels aren't really necessary, as long as the title is informative).\n",
    "2. Visualize distributions using histograms. If you have a lot, consider writing a custom function and use subplots.\n",
    "    - *OPTIONAL*: Summarize the underlying distributions of your features (in words & statistics)\n",
    "         - Be thorough in your verbal description of these distributions.\n",
    "         - Be sure to back up these summaries with statistics.\n",
    "         - We generally assume that data we sample from a population will be normally distributed. Do we observe this trend? Explain your answers for each distribution and how you think this will affect estimates made from these data.\n",
    "3. Plot and interpret boxplots. \n",
    "    - Boxplots demonstrate central tendency and spread in variables. In a certain sense, these are somewhat redundant with histograms, but you may be better able to identify clear outliers or differences in IQR, etc.\n",
    "    - Multiple values can be plotted to a single boxplot as long as they are of the same relative scale (meaning they have similar min/max values).\n",
    "    - Each boxplot should:\n",
    "        - Only include variables of a similar scale\n",
    "        - Have clear labels for each variable\n",
    "        - Have appropriate titles and labels\n",
    "4. Plot and interpret scatter plots to view relationships between features. Feel free to write a custom function, and subplot if you'd like. Functions save both time and space.\n",
    "    - Your plots should have:\n",
    "        - Two clearly labeled axes\n",
    "        - A proper title\n",
    "        - Colors and symbols that are clear and unmistakable\n",
    "5. Additional plots of your choosing.\n",
    "    - Are there any additional trends or relationships you haven't explored? Was there something interesting you saw that you'd like to dive further into? It's likely that there are a few more plots you might want to generate to support your narrative and recommendations that you are building toward. **As always, make sure you're interpreting your plots as you go**."
   ]
  },
  {
   "cell_type": "code",
   "execution_count": 448,
   "metadata": {},
   "outputs": [
    {
     "data": {
      "image/png": "[encoded data removed]",
      "text/plain": [
       "<Figure size 1224x648 with 1 Axes>"
      ]
     },
     "metadata": {
      "needs_background": "light"
     },
     "output_type": "display_data"
    }
   ],
   "source": [
    "# visualizing relative popularity of both tests each state, by participation:\n",
    "sat_act_part_by_state.head()\n",
    "plt.figure(figsize = (17,9))\n",
    "sns.barplot(data = sat_act_part_by_state, x = 'state', y = 'participation_SATvsACT', palette= 'RdBu')\n",
    "plt.ylabel('Difference between participation:\\nACT                  SAT')\n",
    "plt.xticks(rotation = 90)\n",
    "plt.title('Comparison of SAT/ACT popularity (measured by difference in participation), by state');\n",
    "plt.savefig('SAT_ACT_pop_bar')"
   ]
  },
  {
   "cell_type": "markdown",
   "metadata": {},
   "source": [
    "_**Observations:**_\n",
    "\n",
    "While both the ACT and the SAT are available to students in all 51 states, some states seem to overwhelmingly \"prefer\" one over the other:\n",
    "- SAT is more popular by over 50 p.p. in 9 states: Maine, Delaware, New Hampshire, Michigan, Connecticut, Rhode Island, DC, Idaho, and Massachusetts;\n",
    "- ACT is more popular by over 50 p.p. in 21 states: New Mexico, Iowa, Kansas, South Dakota, Ohio, Nevada, Oklahoma, Montana, Missouri, Nebraska, Tennessee, Alabama, 'Minnesota, 'North Dakota', Arkansas, Louisiana, Kentucky, Utah, Wisconsin, Wyoming, and Mississippi;\n",
    "- There are 24 states where one of the tests (SAT or ACT) is more popular than the other by more than 70 pct points;\n",
    "- There are 15 states where one of the tests (SAT or ACT) is more popular than the other by more than 90 pct points."
   ]
  },
  {
   "cell_type": "code",
   "execution_count": 260,
   "metadata": {},
   "outputs": [],
   "source": [
    "# template for observations 1 and 2:\n",
    "# print(f\"ACT is more popular by over 50 p.p. in {len(sat_act_part_by_state[sat_act_part_by_state['participation_SATvsACT']<-.5])} states:\\n{list(sat_act_part_by_state[sat_act_part_by_state['participation_SATvsACT']<-.5]['state'])}.\")"
   ]
  },
  {
   "cell_type": "code",
   "execution_count": 263,
   "metadata": {},
   "outputs": [],
   "source": [
    "# template for observations 3 and 4:\n",
    "#deltas = [0.1*i for i in range(5,10)]\n",
    "#num_states_delta = []\n",
    "#for d in deltas:\n",
    "#    num_states_delta.append(len(sat_act_part_by_state[(sat_act_part_by_state['participation_SATvsACT'] > d) | (sat_act_part_by_state['participation_SATvsACT'] < -d)]))\n",
    "    \n",
    "#for i in range(len(deltas)):\n",
    "#    print(f'There are {num_states_delta[i]} states where one of the tests (SAT or ACT) is more popular than the other by more than {int(deltas[i]*100)} pct points.')"
   ]
  },
  {
   "cell_type": "code",
   "execution_count": 326,
   "metadata": {},
   "outputs": [
    {
     "data": {
      "text/html": [
       "        <script type=\"text/javascript\">\n",
       "        window.PlotlyConfig = {MathJaxConfig: 'local'};\n",
       "        if (window.MathJax) {MathJax.Hub.Config({SVG: {font: \"STIX-Web\"}});}\n",
       "        if (typeof require !== 'undefined') {\n",
       "        require.undef(\"plotly\");\n",
       "        requirejs.config({\n",
       "            paths: {\n",
       "                'plotly': ['https://cdn.plot.ly/plotly-latest.min']\n",
       "            }\n",
       "        });\n",
       "        require(['plotly'], function(Plotly) {\n",
       "            window._Plotly = Plotly;\n",
       "        });\n",
       "        }\n",
       "        </script>\n",
       "        "
      ]
     },
     "metadata": {},
     "output_type": "display_data"
    },
    {
     "name": "stdout",
     "output_type": "stream",
     "text": [
      "Comparison of SAT/ACT popularity (measured by participation), by state:\n"
     ]
    },
    {
     "data": {
      "application/vnd.plotly.v1+json": {
       "config": {
        "linkText": "Export to plot.ly",
        "plotlyServerURL": "https://plot.ly",
        "showLink": false
       },
       "data": [
        {
         "colorbar": {
          "len": 300,
          "lenmode": "pixels",
          "title": {
           "text": "SAT | ACT"
          }
         },
         "colorscale": [
          [
           0,
           "rgb(103,0,31)"
          ],
          [
           0.1,
           "rgb(178,24,43)"
          ],
          [
           0.2,
           "rgb(214,96,77)"
          ],
          [
           0.3,
           "rgb(244,165,130)"
          ],
          [
           0.4,
           "rgb(253,219,199)"
          ],
          [
           0.5,
           "rgb(247,247,247)"
          ],
          [
           0.6,
           "rgb(209,229,240)"
          ],
          [
           0.7,
           "rgb(146,197,222)"
          ],
          [
           0.8,
           "rgb(67,147,195)"
          ],
          [
           0.9,
           "rgb(33,102,172)"
          ],
          [
           1,
           "rgb(5,48,97)"
          ]
         ],
         "locationmode": "USA-states",
         "locations": [
          "ME",
          "DE",
          "NH",
          "MI",
          "CT",
          "RI",
          "DC",
          "ID",
          "MA",
          "NY",
          "PA",
          "NJ",
          "MD",
          "VA",
          "WA",
          "VT",
          "IN",
          "CA",
          "TX",
          "CO",
          "FL",
          "GA",
          "IL",
          "OR",
          "AK",
          "WV",
          "HI",
          "SC",
          "AZ",
          "NC",
          "NM",
          "IA",
          "KS",
          "SD",
          "OH",
          "NV",
          "OK",
          "MT",
          "MO",
          "NE",
          "TN",
          "AL",
          "MN",
          "ND",
          "AR",
          "LA",
          "KY",
          "UT",
          "WI",
          "WY",
          "MS"
         ],
         "text": [
          "ME",
          "DE",
          "NH",
          "MI",
          "CT",
          "RI",
          "DC",
          "ID",
          "MA",
          "NY",
          "PA",
          "NJ",
          "MD",
          "VA",
          "WA",
          "VT",
          "IN",
          "CA",
          "TX",
          "CO",
          "FL",
          "GA",
          "IL",
          "OR",
          "AK",
          "WV",
          "HI",
          "SC",
          "AZ",
          "NC",
          "NM",
          "IA",
          "KS",
          "SD",
          "OH",
          "NV",
          "OK",
          "MT",
          "MO",
          "NE",
          "TN",
          "AL",
          "MN",
          "ND",
          "AR",
          "LA",
          "KY",
          "UT",
          "WI",
          "WY",
          "MS"
         ],
         "type": "choropleth",
         "z": [
          0.9066666666666665,
          0.84,
          0.7966666666666666,
          0.7666666666666667,
          0.7366666666666666,
          0.7333333333333332,
          0.6333333333333333,
          0.6266666666666667,
          0.54,
          0.48333333333333334,
          0.48333333333333317,
          0.4799999999999999,
          0.4666666666666667,
          0.42333333333333334,
          0.4200000000000001,
          0.39,
          0.32,
          0.31666666666666654,
          0.22333333333333333,
          0.18000000000000016,
          0.15333333333333332,
          0.15000000000000002,
          0.1233333333333334,
          0.06,
          -0.046666666666666634,
          -0.13999999999999996,
          -0.31333333333333324,
          -0.3500000000000001,
          -0.36999999999999994,
          -0.4933333333333333,
          -0.5033333333333333,
          -0.6433333333333334,
          -0.68,
          -0.7433333333333334,
          -0.7533333333333333,
          -0.77,
          -0.8766666666666667,
          -0.9033333333333333,
          -0.9033333333333333,
          -0.9166666666666666,
          -0.94,
          -0.94,
          -0.9433333333333334,
          -0.9533333333333333,
          -0.9533333333333334,
          -0.9566666666666667,
          -0.96,
          -0.9633333333333334,
          -0.97,
          -0.97,
          -0.9733333333333334
         ]
        }
       ],
       "layout": {
        "geo": {
         "scope": "usa"
        },
        "template": {
         "data": {
          "bar": [
           {
            "error_x": {
             "color": "#2a3f5f"
            },
            "error_y": {
             "color": "#2a3f5f"
            },
            "marker": {
             "line": {
              "color": "#E5ECF6",
              "width": 0.5
             }
            },
            "type": "bar"
           }
          ],
          "barpolar": [
           {
            "marker": {
             "line": {
              "color": "#E5ECF6",
              "width": 0.5
             }
            },
            "type": "barpolar"
           }
          ],
          "carpet": [
           {
            "aaxis": {
             "endlinecolor": "#2a3f5f",
             "gridcolor": "white",
             "linecolor": "white",
             "minorgridcolor": "white",
             "startlinecolor": "#2a3f5f"
            },
            "baxis": {
             "endlinecolor": "#2a3f5f",
             "gridcolor": "white",
             "linecolor": "white",
             "minorgridcolor": "white",
             "startlinecolor": "#2a3f5f"
            },
            "type": "carpet"
           }
          ],
          "choropleth": [
           {
            "colorbar": {
             "outlinewidth": 0,
             "ticks": ""
            },
            "type": "choropleth"
           }
          ],
          "contour": [
           {
            "colorbar": {
             "outlinewidth": 0,
             "ticks": ""
            },
            "colorscale": [
             [
              0,
              "#0d0887"
             ],
             [
              0.1111111111111111,
              "#46039f"
             ],
             [
              0.2222222222222222,
              "#7201a8"
             ],
             [
              0.3333333333333333,
              "#9c179e"
             ],
             [
              0.4444444444444444,
              "#bd3786"
             ],
             [
              0.5555555555555556,
              "#d8576b"
             ],
             [
              0.6666666666666666,
              "#ed7953"
             ],
             [
              0.7777777777777778,
              "#fb9f3a"
             ],
             [
              0.8888888888888888,
              "#fdca26"
             ],
             [
              1,
              "#f0f921"
             ]
            ],
            "type": "contour"
           }
          ],
          "contourcarpet": [
           {
            "colorbar": {
             "outlinewidth": 0,
             "ticks": ""
            },
            "type": "contourcarpet"
           }
          ],
          "heatmap": [
           {
            "colorbar": {
             "outlinewidth": 0,
             "ticks": ""
            },
            "colorscale": [
             [
              0,
              "#0d0887"
             ],
             [
              0.1111111111111111,
              "#46039f"
             ],
             [
              0.2222222222222222,
              "#7201a8"
             ],
             [
              0.3333333333333333,
              "#9c179e"
             ],
             [
              0.4444444444444444,
              "#bd3786"
             ],
             [
              0.5555555555555556,
              "#d8576b"
             ],
             [
              0.6666666666666666,
              "#ed7953"
             ],
             [
              0.7777777777777778,
              "#fb9f3a"
             ],
             [
              0.8888888888888888,
              "#fdca26"
             ],
             [
              1,
              "#f0f921"
             ]
            ],
            "type": "heatmap"
           }
          ],
          "heatmapgl": [
           {
            "colorbar": {
             "outlinewidth": 0,
             "ticks": ""
            },
            "colorscale": [
             [
              0,
              "#0d0887"
             ],
             [
              0.1111111111111111,
              "#46039f"
             ],
             [
              0.2222222222222222,
              "#7201a8"
             ],
             [
              0.3333333333333333,
              "#9c179e"
             ],
             [
              0.4444444444444444,
              "#bd3786"
             ],
             [
              0.5555555555555556,
              "#d8576b"
             ],
             [
              0.6666666666666666,
              "#ed7953"
             ],
             [
              0.7777777777777778,
              "#fb9f3a"
             ],
             [
              0.8888888888888888,
              "#fdca26"
             ],
             [
              1,
              "#f0f921"
             ]
            ],
            "type": "heatmapgl"
           }
          ],
          "histogram": [
           {
            "marker": {
             "colorbar": {
              "outlinewidth": 0,
              "ticks": ""
             }
            },
            "type": "histogram"
           }
          ],
          "histogram2d": [
           {
            "colorbar": {
             "outlinewidth": 0,
             "ticks": ""
            },
            "colorscale": [
             [
              0,
              "#0d0887"
             ],
             [
              0.1111111111111111,
              "#46039f"
             ],
             [
              0.2222222222222222,
              "#7201a8"
             ],
             [
              0.3333333333333333,
              "#9c179e"
             ],
             [
              0.4444444444444444,
              "#bd3786"
             ],
             [
              0.5555555555555556,
              "#d8576b"
             ],
             [
              0.6666666666666666,
              "#ed7953"
             ],
             [
              0.7777777777777778,
              "#fb9f3a"
             ],
             [
              0.8888888888888888,
              "#fdca26"
             ],
             [
              1,
              "#f0f921"
             ]
            ],
            "type": "histogram2d"
           }
          ],
          "histogram2dcontour": [
           {
            "colorbar": {
             "outlinewidth": 0,
             "ticks": ""
            },
            "colorscale": [
             [
              0,
              "#0d0887"
             ],
             [
              0.1111111111111111,
              "#46039f"
             ],
             [
              0.2222222222222222,
              "#7201a8"
             ],
             [
              0.3333333333333333,
              "#9c179e"
             ],
             [
              0.4444444444444444,
              "#bd3786"
             ],
             [
              0.5555555555555556,
              "#d8576b"
             ],
             [
              0.6666666666666666,
              "#ed7953"
             ],
             [
              0.7777777777777778,
              "#fb9f3a"
             ],
             [
              0.8888888888888888,
              "#fdca26"
             ],
             [
              1,
              "#f0f921"
             ]
            ],
            "type": "histogram2dcontour"
           }
          ],
          "mesh3d": [
           {
            "colorbar": {
             "outlinewidth": 0,
             "ticks": ""
            },
            "type": "mesh3d"
           }
          ],
          "parcoords": [
           {
            "line": {
             "colorbar": {
              "outlinewidth": 0,
              "ticks": ""
             }
            },
            "type": "parcoords"
           }
          ],
          "pie": [
           {
            "automargin": true,
            "type": "pie"
           }
          ],
          "scatter": [
           {
            "marker": {
             "colorbar": {
              "outlinewidth": 0,
              "ticks": ""
             }
            },
            "type": "scatter"
           }
          ],
          "scatter3d": [
           {
            "line": {
             "colorbar": {
              "outlinewidth": 0,
              "ticks": ""
             }
            },
            "marker": {
             "colorbar": {
              "outlinewidth": 0,
              "ticks": ""
             }
            },
            "type": "scatter3d"
           }
          ],
          "scattercarpet": [
           {
            "marker": {
             "colorbar": {
              "outlinewidth": 0,
              "ticks": ""
             }
            },
            "type": "scattercarpet"
           }
          ],
          "scattergeo": [
           {
            "marker": {
             "colorbar": {
              "outlinewidth": 0,
              "ticks": ""
             }
            },
            "type": "scattergeo"
           }
          ],
          "scattergl": [
           {
            "marker": {
             "colorbar": {
              "outlinewidth": 0,
              "ticks": ""
             }
            },
            "type": "scattergl"
           }
          ],
          "scattermapbox": [
           {
            "marker": {
             "colorbar": {
              "outlinewidth": 0,
              "ticks": ""
             }
            },
            "type": "scattermapbox"
           }
          ],
          "scatterpolar": [
           {
            "marker": {
             "colorbar": {
              "outlinewidth": 0,
              "ticks": ""
             }
            },
            "type": "scatterpolar"
           }
          ],
          "scatterpolargl": [
           {
            "marker": {
             "colorbar": {
              "outlinewidth": 0,
              "ticks": ""
             }
            },
            "type": "scatterpolargl"
           }
          ],
          "scatterternary": [
           {
            "marker": {
             "colorbar": {
              "outlinewidth": 0,
              "ticks": ""
             }
            },
            "type": "scatterternary"
           }
          ],
          "surface": [
           {
            "colorbar": {
             "outlinewidth": 0,
             "ticks": ""
            },
            "colorscale": [
             [
              0,
              "#0d0887"
             ],
             [
              0.1111111111111111,
              "#46039f"
             ],
             [
              0.2222222222222222,
              "#7201a8"
             ],
             [
              0.3333333333333333,
              "#9c179e"
             ],
             [
              0.4444444444444444,
              "#bd3786"
             ],
             [
              0.5555555555555556,
              "#d8576b"
             ],
             [
              0.6666666666666666,
              "#ed7953"
             ],
             [
              0.7777777777777778,
              "#fb9f3a"
             ],
             [
              0.8888888888888888,
              "#fdca26"
             ],
             [
              1,
              "#f0f921"
             ]
            ],
            "type": "surface"
           }
          ],
          "table": [
           {
            "cells": {
             "fill": {
              "color": "#EBF0F8"
             },
             "line": {
              "color": "white"
             }
            },
            "header": {
             "fill": {
              "color": "#C8D4E3"
             },
             "line": {
              "color": "white"
             }
            },
            "type": "table"
           }
          ]
         },
         "layout": {
          "annotationdefaults": {
           "arrowcolor": "#2a3f5f",
           "arrowhead": 0,
           "arrowwidth": 1
          },
          "coloraxis": {
           "colorbar": {
            "outlinewidth": 0,
            "ticks": ""
           }
          },
          "colorscale": {
           "diverging": [
            [
             0,
             "#8e0152"
            ],
            [
             0.1,
             "#c51b7d"
            ],
            [
             0.2,
             "#de77ae"
            ],
            [
             0.3,
             "#f1b6da"
            ],
            [
             0.4,
             "#fde0ef"
            ],
            [
             0.5,
             "#f7f7f7"
            ],
            [
             0.6,
             "#e6f5d0"
            ],
            [
             0.7,
             "#b8e186"
            ],
            [
             0.8,
             "#7fbc41"
            ],
            [
             0.9,
             "#4d9221"
            ],
            [
             1,
             "#276419"
            ]
           ],
           "sequential": [
            [
             0,
             "#0d0887"
            ],
            [
             0.1111111111111111,
             "#46039f"
            ],
            [
             0.2222222222222222,
             "#7201a8"
            ],
            [
             0.3333333333333333,
             "#9c179e"
            ],
            [
             0.4444444444444444,
             "#bd3786"
            ],
            [
             0.5555555555555556,
             "#d8576b"
            ],
            [
             0.6666666666666666,
             "#ed7953"
            ],
            [
             0.7777777777777778,
             "#fb9f3a"
            ],
            [
             0.8888888888888888,
             "#fdca26"
            ],
            [
             1,
             "#f0f921"
            ]
           ],
           "sequentialminus": [
            [
             0,
             "#0d0887"
            ],
            [
             0.1111111111111111,
             "#46039f"
            ],
            [
             0.2222222222222222,
             "#7201a8"
            ],
            [
             0.3333333333333333,
             "#9c179e"
            ],
            [
             0.4444444444444444,
             "#bd3786"
            ],
            [
             0.5555555555555556,
             "#d8576b"
            ],
            [
             0.6666666666666666,
             "#ed7953"
            ],
            [
             0.7777777777777778,
             "#fb9f3a"
            ],
            [
             0.8888888888888888,
             "#fdca26"
            ],
            [
             1,
             "#f0f921"
            ]
           ]
          },
          "colorway": [
           "#636efa",
           "#EF553B",
           "#00cc96",
           "#ab63fa",
           "#FFA15A",
           "#19d3f3",
           "#FF6692",
           "#B6E880",
           "#FF97FF",
           "#FECB52"
          ],
          "font": {
           "color": "#2a3f5f"
          },
          "geo": {
           "bgcolor": "white",
           "lakecolor": "white",
           "landcolor": "#E5ECF6",
           "showlakes": true,
           "showland": true,
           "subunitcolor": "white"
          },
          "hoverlabel": {
           "align": "left"
          },
          "hovermode": "closest",
          "mapbox": {
           "style": "light"
          },
          "paper_bgcolor": "white",
          "plot_bgcolor": "#E5ECF6",
          "polar": {
           "angularaxis": {
            "gridcolor": "white",
            "linecolor": "white",
            "ticks": ""
           },
           "bgcolor": "#E5ECF6",
           "radialaxis": {
            "gridcolor": "white",
            "linecolor": "white",
            "ticks": ""
           }
          },
          "scene": {
           "xaxis": {
            "backgroundcolor": "#E5ECF6",
            "gridcolor": "white",
            "gridwidth": 2,
            "linecolor": "white",
            "showbackground": true,
            "ticks": "",
            "zerolinecolor": "white"
           },
           "yaxis": {
            "backgroundcolor": "#E5ECF6",
            "gridcolor": "white",
            "gridwidth": 2,
            "linecolor": "white",
            "showbackground": true,
            "ticks": "",
            "zerolinecolor": "white"
           },
           "zaxis": {
            "backgroundcolor": "#E5ECF6",
            "gridcolor": "white",
            "gridwidth": 2,
            "linecolor": "white",
            "showbackground": true,
            "ticks": "",
            "zerolinecolor": "white"
           }
          },
          "shapedefaults": {
           "line": {
            "color": "#2a3f5f"
           }
          },
          "ternary": {
           "aaxis": {
            "gridcolor": "white",
            "linecolor": "white",
            "ticks": ""
           },
           "baxis": {
            "gridcolor": "white",
            "linecolor": "white",
            "ticks": ""
           },
           "bgcolor": "#E5ECF6",
           "caxis": {
            "gridcolor": "white",
            "linecolor": "white",
            "ticks": ""
           }
          },
          "title": {
           "x": 0.05
          },
          "xaxis": {
           "automargin": true,
           "gridcolor": "white",
           "linecolor": "white",
           "ticks": "",
           "title": {
            "standoff": 15
           },
           "zerolinecolor": "white",
           "zerolinewidth": 2
          },
          "yaxis": {
           "automargin": true,
           "gridcolor": "white",
           "linecolor": "white",
           "ticks": "",
           "title": {
            "standoff": 15
           },
           "zerolinecolor": "white",
           "zerolinewidth": 2
          }
         }
        }
       }
      },
      "text/html": [
       "<div>                            <div id=\"efb721aa-a541-4ad8-b81c-661271e467ea\" class=\"plotly-graph-div\" style=\"height:525px; width:100%;\"></div>            <script type=\"text/javascript\">                require([\"plotly\"], function(Plotly) {                    window.PLOTLYENV=window.PLOTLYENV || {};                                    if (document.getElementById(\"efb721aa-a541-4ad8-b81c-661271e467ea\")) {                    Plotly.newPlot(                        \"efb721aa-a541-4ad8-b81c-661271e467ea\",                        [{\"colorbar\": {\"len\": 300, \"lenmode\": \"pixels\", \"title\": {\"text\": \"SAT | ACT\"}}, \"colorscale\": [[0.0, \"rgb(103,0,31)\"], [0.1, \"rgb(178,24,43)\"], [0.2, \"rgb(214,96,77)\"], [0.3, \"rgb(244,165,130)\"], [0.4, \"rgb(253,219,199)\"], [0.5, \"rgb(247,247,247)\"], [0.6, \"rgb(209,229,240)\"], [0.7, \"rgb(146,197,222)\"], [0.8, \"rgb(67,147,195)\"], [0.9, \"rgb(33,102,172)\"], [1.0, \"rgb(5,48,97)\"]], \"locationmode\": \"USA-states\", \"locations\": [\"ME\", \"DE\", \"NH\", \"MI\", \"CT\", \"RI\", \"DC\", \"ID\", \"MA\", \"NY\", \"PA\", \"NJ\", \"MD\", \"VA\", \"WA\", \"VT\", \"IN\", \"CA\", \"TX\", \"CO\", \"FL\", \"GA\", \"IL\", \"OR\", \"AK\", \"WV\", \"HI\", \"SC\", \"AZ\", \"NC\", \"NM\", \"IA\", \"KS\", \"SD\", \"OH\", \"NV\", \"OK\", \"MT\", \"MO\", \"NE\", \"TN\", \"AL\", \"MN\", \"ND\", \"AR\", \"LA\", \"KY\", \"UT\", \"WI\", \"WY\", \"MS\"], \"text\": [\"ME\", \"DE\", \"NH\", \"MI\", \"CT\", \"RI\", \"DC\", \"ID\", \"MA\", \"NY\", \"PA\", \"NJ\", \"MD\", \"VA\", \"WA\", \"VT\", \"IN\", \"CA\", \"TX\", \"CO\", \"FL\", \"GA\", \"IL\", \"OR\", \"AK\", \"WV\", \"HI\", \"SC\", \"AZ\", \"NC\", \"NM\", \"IA\", \"KS\", \"SD\", \"OH\", \"NV\", \"OK\", \"MT\", \"MO\", \"NE\", \"TN\", \"AL\", \"MN\", \"ND\", \"AR\", \"LA\", \"KY\", \"UT\", \"WI\", \"WY\", \"MS\"], \"type\": \"choropleth\", \"z\": [0.9066666666666665, 0.84, 0.7966666666666666, 0.7666666666666667, 0.7366666666666666, 0.7333333333333332, 0.6333333333333333, 0.6266666666666667, 0.54, 0.48333333333333334, 0.48333333333333317, 0.4799999999999999, 0.4666666666666667, 0.42333333333333334, 0.4200000000000001, 0.39, 0.32, 0.31666666666666654, 0.22333333333333333, 0.18000000000000016, 0.15333333333333332, 0.15000000000000002, 0.1233333333333334, 0.06, -0.046666666666666634, -0.13999999999999996, -0.31333333333333324, -0.3500000000000001, -0.36999999999999994, -0.4933333333333333, -0.5033333333333333, -0.6433333333333334, -0.68, -0.7433333333333334, -0.7533333333333333, -0.77, -0.8766666666666667, -0.9033333333333333, -0.9033333333333333, -0.9166666666666666, -0.94, -0.94, -0.9433333333333334, -0.9533333333333333, -0.9533333333333334, -0.9566666666666667, -0.96, -0.9633333333333334, -0.97, -0.97, -0.9733333333333334]}],                        {\"geo\": {\"scope\": \"usa\"}, \"template\": {\"data\": {\"bar\": [{\"error_x\": {\"color\": \"#2a3f5f\"}, \"error_y\": {\"color\": \"#2a3f5f\"}, \"marker\": {\"line\": {\"color\": \"#E5ECF6\", \"width\": 0.5}}, \"type\": \"bar\"}], \"barpolar\": [{\"marker\": {\"line\": {\"color\": \"#E5ECF6\", \"width\": 0.5}}, \"type\": \"barpolar\"}], \"carpet\": [{\"aaxis\": {\"endlinecolor\": \"#2a3f5f\", \"gridcolor\": \"white\", \"linecolor\": \"white\", \"minorgridcolor\": \"white\", \"startlinecolor\": \"#2a3f5f\"}, \"baxis\": {\"endlinecolor\": \"#2a3f5f\", \"gridcolor\": \"white\", \"linecolor\": \"white\", \"minorgridcolor\": \"white\", \"startlinecolor\": \"#2a3f5f\"}, \"type\": \"carpet\"}], \"choropleth\": [{\"colorbar\": {\"outlinewidth\": 0, \"ticks\": \"\"}, \"type\": \"choropleth\"}], \"contour\": [{\"colorbar\": {\"outlinewidth\": 0, \"ticks\": \"\"}, \"colorscale\": [[0.0, \"#0d0887\"], [0.1111111111111111, \"#46039f\"], [0.2222222222222222, \"#7201a8\"], [0.3333333333333333, \"#9c179e\"], [0.4444444444444444, \"#bd3786\"], [0.5555555555555556, \"#d8576b\"], [0.6666666666666666, \"#ed7953\"], [0.7777777777777778, \"#fb9f3a\"], [0.8888888888888888, \"#fdca26\"], [1.0, \"#f0f921\"]], \"type\": \"contour\"}], \"contourcarpet\": [{\"colorbar\": {\"outlinewidth\": 0, \"ticks\": \"\"}, \"type\": \"contourcarpet\"}], \"heatmap\": [{\"colorbar\": {\"outlinewidth\": 0, \"ticks\": \"\"}, \"colorscale\": [[0.0, \"#0d0887\"], [0.1111111111111111, \"#46039f\"], [0.2222222222222222, \"#7201a8\"], [0.3333333333333333, \"#9c179e\"], [0.4444444444444444, \"#bd3786\"], [0.5555555555555556, \"#d8576b\"], [0.6666666666666666, \"#ed7953\"], [0.7777777777777778, \"#fb9f3a\"], [0.8888888888888888, \"#fdca26\"], [1.0, \"#f0f921\"]], \"type\": \"heatmap\"}], \"heatmapgl\": [{\"colorbar\": {\"outlinewidth\": 0, \"ticks\": \"\"}, \"colorscale\": [[0.0, \"#0d0887\"], [0.1111111111111111, \"#46039f\"], [0.2222222222222222, \"#7201a8\"], [0.3333333333333333, \"#9c179e\"], [0.4444444444444444, \"#bd3786\"], [0.5555555555555556, \"#d8576b\"], [0.6666666666666666, \"#ed7953\"], [0.7777777777777778, \"#fb9f3a\"], [0.8888888888888888, \"#fdca26\"], [1.0, \"#f0f921\"]], \"type\": \"heatmapgl\"}], \"histogram\": [{\"marker\": {\"colorbar\": {\"outlinewidth\": 0, \"ticks\": \"\"}}, \"type\": \"histogram\"}], \"histogram2d\": [{\"colorbar\": {\"outlinewidth\": 0, \"ticks\": \"\"}, \"colorscale\": [[0.0, \"#0d0887\"], [0.1111111111111111, \"#46039f\"], [0.2222222222222222, \"#7201a8\"], [0.3333333333333333, \"#9c179e\"], [0.4444444444444444, \"#bd3786\"], [0.5555555555555556, \"#d8576b\"], [0.6666666666666666, \"#ed7953\"], [0.7777777777777778, \"#fb9f3a\"], [0.8888888888888888, \"#fdca26\"], [1.0, \"#f0f921\"]], \"type\": \"histogram2d\"}], \"histogram2dcontour\": [{\"colorbar\": {\"outlinewidth\": 0, \"ticks\": \"\"}, \"colorscale\": [[0.0, \"#0d0887\"], [0.1111111111111111, \"#46039f\"], [0.2222222222222222, \"#7201a8\"], [0.3333333333333333, \"#9c179e\"], [0.4444444444444444, \"#bd3786\"], [0.5555555555555556, \"#d8576b\"], [0.6666666666666666, \"#ed7953\"], [0.7777777777777778, \"#fb9f3a\"], [0.8888888888888888, \"#fdca26\"], [1.0, \"#f0f921\"]], \"type\": \"histogram2dcontour\"}], \"mesh3d\": [{\"colorbar\": {\"outlinewidth\": 0, \"ticks\": \"\"}, \"type\": \"mesh3d\"}], \"parcoords\": [{\"line\": {\"colorbar\": {\"outlinewidth\": 0, \"ticks\": \"\"}}, \"type\": \"parcoords\"}], \"pie\": [{\"automargin\": true, \"type\": \"pie\"}], \"scatter\": [{\"marker\": {\"colorbar\": {\"outlinewidth\": 0, \"ticks\": \"\"}}, \"type\": \"scatter\"}], \"scatter3d\": [{\"line\": {\"colorbar\": {\"outlinewidth\": 0, \"ticks\": \"\"}}, \"marker\": {\"colorbar\": {\"outlinewidth\": 0, \"ticks\": \"\"}}, \"type\": \"scatter3d\"}], \"scattercarpet\": [{\"marker\": {\"colorbar\": {\"outlinewidth\": 0, \"ticks\": \"\"}}, \"type\": \"scattercarpet\"}], \"scattergeo\": [{\"marker\": {\"colorbar\": {\"outlinewidth\": 0, \"ticks\": \"\"}}, \"type\": \"scattergeo\"}], \"scattergl\": [{\"marker\": {\"colorbar\": {\"outlinewidth\": 0, \"ticks\": \"\"}}, \"type\": \"scattergl\"}], \"scattermapbox\": [{\"marker\": {\"colorbar\": {\"outlinewidth\": 0, \"ticks\": \"\"}}, \"type\": \"scattermapbox\"}], \"scatterpolar\": [{\"marker\": {\"colorbar\": {\"outlinewidth\": 0, \"ticks\": \"\"}}, \"type\": \"scatterpolar\"}], \"scatterpolargl\": [{\"marker\": {\"colorbar\": {\"outlinewidth\": 0, \"ticks\": \"\"}}, \"type\": \"scatterpolargl\"}], \"scatterternary\": [{\"marker\": {\"colorbar\": {\"outlinewidth\": 0, \"ticks\": \"\"}}, \"type\": \"scatterternary\"}], \"surface\": [{\"colorbar\": {\"outlinewidth\": 0, \"ticks\": \"\"}, \"colorscale\": [[0.0, \"#0d0887\"], [0.1111111111111111, \"#46039f\"], [0.2222222222222222, \"#7201a8\"], [0.3333333333333333, \"#9c179e\"], [0.4444444444444444, \"#bd3786\"], [0.5555555555555556, \"#d8576b\"], [0.6666666666666666, \"#ed7953\"], [0.7777777777777778, \"#fb9f3a\"], [0.8888888888888888, \"#fdca26\"], [1.0, \"#f0f921\"]], \"type\": \"surface\"}], \"table\": [{\"cells\": {\"fill\": {\"color\": \"#EBF0F8\"}, \"line\": {\"color\": \"white\"}}, \"header\": {\"fill\": {\"color\": \"#C8D4E3\"}, \"line\": {\"color\": \"white\"}}, \"type\": \"table\"}]}, \"layout\": {\"annotationdefaults\": {\"arrowcolor\": \"#2a3f5f\", \"arrowhead\": 0, \"arrowwidth\": 1}, \"coloraxis\": {\"colorbar\": {\"outlinewidth\": 0, \"ticks\": \"\"}}, \"colorscale\": {\"diverging\": [[0, \"#8e0152\"], [0.1, \"#c51b7d\"], [0.2, \"#de77ae\"], [0.3, \"#f1b6da\"], [0.4, \"#fde0ef\"], [0.5, \"#f7f7f7\"], [0.6, \"#e6f5d0\"], [0.7, \"#b8e186\"], [0.8, \"#7fbc41\"], [0.9, \"#4d9221\"], [1, \"#276419\"]], \"sequential\": [[0.0, \"#0d0887\"], [0.1111111111111111, \"#46039f\"], [0.2222222222222222, \"#7201a8\"], [0.3333333333333333, \"#9c179e\"], [0.4444444444444444, \"#bd3786\"], [0.5555555555555556, \"#d8576b\"], [0.6666666666666666, \"#ed7953\"], [0.7777777777777778, \"#fb9f3a\"], [0.8888888888888888, \"#fdca26\"], [1.0, \"#f0f921\"]], \"sequentialminus\": [[0.0, \"#0d0887\"], [0.1111111111111111, \"#46039f\"], [0.2222222222222222, \"#7201a8\"], [0.3333333333333333, \"#9c179e\"], [0.4444444444444444, \"#bd3786\"], [0.5555555555555556, \"#d8576b\"], [0.6666666666666666, \"#ed7953\"], [0.7777777777777778, \"#fb9f3a\"], [0.8888888888888888, \"#fdca26\"], [1.0, \"#f0f921\"]]}, \"colorway\": [\"#636efa\", \"#EF553B\", \"#00cc96\", \"#ab63fa\", \"#FFA15A\", \"#19d3f3\", \"#FF6692\", \"#B6E880\", \"#FF97FF\", \"#FECB52\"], \"font\": {\"color\": \"#2a3f5f\"}, \"geo\": {\"bgcolor\": \"white\", \"lakecolor\": \"white\", \"landcolor\": \"#E5ECF6\", \"showlakes\": true, \"showland\": true, \"subunitcolor\": \"white\"}, \"hoverlabel\": {\"align\": \"left\"}, \"hovermode\": \"closest\", \"mapbox\": {\"style\": \"light\"}, \"paper_bgcolor\": \"white\", \"plot_bgcolor\": \"#E5ECF6\", \"polar\": {\"angularaxis\": {\"gridcolor\": \"white\", \"linecolor\": \"white\", \"ticks\": \"\"}, \"bgcolor\": \"#E5ECF6\", \"radialaxis\": {\"gridcolor\": \"white\", \"linecolor\": \"white\", \"ticks\": \"\"}}, \"scene\": {\"xaxis\": {\"backgroundcolor\": \"#E5ECF6\", \"gridcolor\": \"white\", \"gridwidth\": 2, \"linecolor\": \"white\", \"showbackground\": true, \"ticks\": \"\", \"zerolinecolor\": \"white\"}, \"yaxis\": {\"backgroundcolor\": \"#E5ECF6\", \"gridcolor\": \"white\", \"gridwidth\": 2, \"linecolor\": \"white\", \"showbackground\": true, \"ticks\": \"\", \"zerolinecolor\": \"white\"}, \"zaxis\": {\"backgroundcolor\": \"#E5ECF6\", \"gridcolor\": \"white\", \"gridwidth\": 2, \"linecolor\": \"white\", \"showbackground\": true, \"ticks\": \"\", \"zerolinecolor\": \"white\"}}, \"shapedefaults\": {\"line\": {\"color\": \"#2a3f5f\"}}, \"ternary\": {\"aaxis\": {\"gridcolor\": \"white\", \"linecolor\": \"white\", \"ticks\": \"\"}, \"baxis\": {\"gridcolor\": \"white\", \"linecolor\": \"white\", \"ticks\": \"\"}, \"bgcolor\": \"#E5ECF6\", \"caxis\": {\"gridcolor\": \"white\", \"linecolor\": \"white\", \"ticks\": \"\"}}, \"title\": {\"x\": 0.05}, \"xaxis\": {\"automargin\": true, \"gridcolor\": \"white\", \"linecolor\": \"white\", \"ticks\": \"\", \"title\": {\"standoff\": 15}, \"zerolinecolor\": \"white\", \"zerolinewidth\": 2}, \"yaxis\": {\"automargin\": true, \"gridcolor\": \"white\", \"linecolor\": \"white\", \"ticks\": \"\", \"title\": {\"standoff\": 15}, \"zerolinecolor\": \"white\", \"zerolinewidth\": 2}}}},                        {\"responsive\": true}                    ).then(function(){\n",
       "                            \n",
       "var gd = document.getElementById('efb721aa-a541-4ad8-b81c-661271e467ea');\n",
       "var x = new MutationObserver(function (mutations, observer) {{\n",
       "        var display = window.getComputedStyle(gd).display;\n",
       "        if (!display || display === 'none') {{\n",
       "            console.log([gd, 'removed!']);\n",
       "            Plotly.purge(gd);\n",
       "            observer.disconnect();\n",
       "        }}\n",
       "}});\n",
       "\n",
       "// Listen for the removal of the full notebook cells\n",
       "var notebookContainer = gd.closest('#notebook-container');\n",
       "if (notebookContainer) {{\n",
       "    x.observe(notebookContainer, {childList: true});\n",
       "}}\n",
       "\n",
       "// Listen for the clearing of the current output cell\n",
       "var outputEl = gd.closest('.output');\n",
       "if (outputEl) {{\n",
       "    x.observe(outputEl, {childList: true});\n",
       "}}\n",
       "\n",
       "                        })                };                });            </script>        </div>"
      ]
     },
     "metadata": {},
     "output_type": "display_data"
    },
    {
     "data": {
      "text/plain": [
       "<Figure size 432x288 with 0 Axes>"
      ]
     },
     "metadata": {},
     "output_type": "display_data"
    }
   ],
   "source": [
    "# visualizing relative popularity of both tests on a map:\n",
    "# this part was created using tips from this guide: https://analyticsindiamag.com/beginners_guide_geographical_plotting_with_plotly/\n",
    "\n",
    "import chart_studio.plotly as py\n",
    "import plotly.graph_objects as go\n",
    "from plotly.offline import download_plotlyjs,init_notebook_mode,plot,iplot\n",
    "init_notebook_mode(connected=True)\n",
    "\n",
    "#initializing the data variable\n",
    "data = dict(type = 'choropleth',\n",
    "            locations = [us_state_abbrev[state] for state in list(sat_act_part_by_state['state'].unique())],\n",
    "            locationmode = 'USA-states',\n",
    "            colorscale= 'RdBu',\n",
    "            text= [us_state_abbrev[state] for state in list(sat_act_part_by_state['state'].unique())],\n",
    "            z=sat_act_part_by_state['participation_SATvsACT'],\n",
    "            colorbar = {'title':'SAT | ACT', 'len':300,'lenmode':'pixels' })\n",
    "\n",
    "#initializing the layout variable\n",
    "layout = dict(geo = {'scope':'usa'})\n",
    "\n",
    "# Initializing the Figure object by passing data and layout as arguments.\n",
    "col_map = go.Figure(data = [data],layout = layout)\n",
    "#plotting the map\n",
    "print('Comparison of SAT/ACT popularity (measured by participation), by state:')\n",
    "iplot(col_map)\n",
    "\n",
    "plt.savefig('SAT_ACT_pop_map')"
   ]
  },
  {
   "cell_type": "code",
   "execution_count": 240,
   "metadata": {},
   "outputs": [],
   "source": [
    "# this labeling function was adapted from here: https://stackoverflow.com/questions/46027653/adding-labels-in-x-y-scatter-plot-with-seaborn\n",
    "def scatter_text(x, y, text_column, data):\n",
    "    \"\"\"Scatter plot with country codes on the x y coordinates\n",
    "       Based on this answer: https://stackoverflow.com/a/54789170/2641825\"\"\"\n",
    "    # Create the scatter plot\n",
    "    p1 = sns.scatterplot(x, y, data=data, size = 5, legend=False)\n",
    "    # Add text besides each point\n",
    "    for line in range(0,data.shape[0]):\n",
    "         p1.text(data[x][line]+0.01, data[y][line], \n",
    "                 data[text_column][line], horizontalalignment='left', \n",
    "                 size='small', color='black', weight='light')\n",
    "\n",
    "    return p1"
   ]
  },
  {
   "cell_type": "code",
   "execution_count": 241,
   "metadata": {},
   "outputs": [
    {
     "data": {
      "text/plain": [
       "<matplotlib.axes._subplots.AxesSubplot at 0x7fdab7027ee0>"
      ]
     },
     "execution_count": 241,
     "metadata": {},
     "output_type": "execute_result"
    },
    {
     "data": {
      "image/png": "[encoded data removed]",
      "text/plain": [
       "<Figure size 432x288 with 1 Axes>"
      ]
     },
     "metadata": {
      "needs_background": "light"
     },
     "output_type": "display_data"
    }
   ],
   "source": [
    "scatter_text(data = sat_act_total_norm_by_state, x = 'total_norm_SAT', y = 'total_norm_ACT', text_column = 'state')"
   ]
  },
  {
   "cell_type": "code",
   "execution_count": 417,
   "metadata": {},
   "outputs": [
    {
     "name": "stdout",
     "output_type": "stream",
     "text": [
      "It does not appear as though overall results are heavily skewed towards either SAT or ACT, however:\n",
      "\n",
      "27 states report better SAT results, 24 - better ACT results.\n",
      "The mean score for the SAT is slightly higher: ~0.6 vs ~0.59 for the ACT.\n",
      "\n",
      "Finally, while some states average up to 0.74, for the normalized SAT scores,normalized ACT scores do not exceed 0.7.\n"
     ]
    },
    {
     "data": {
      "image/png": "[encoded data removed]",
      "text/plain": [
       "<Figure size 576x576 with 1 Axes>"
      ]
     },
     "metadata": {
      "needs_background": "light"
     },
     "output_type": "display_data"
    }
   ],
   "source": [
    "# scatterplot of normalized SAT X normalized ACT results:\n",
    "plt.figure(figsize = (8,8))\n",
    "sns.scatterplot(data = sat_act_total_norm_by_state, x = 'total_norm_SAT', y = 'total_norm_ACT', hue = 'sat_over_act', palette= 'RdBu', )\n",
    "plt.title('Normalized average SAT vs normalized average ACT scores \\n(each dot represents one state)')\n",
    "plt.xlabel('Normalized SAT scores')\n",
    "plt.ylabel('Normalized ACT scores')\n",
    "plt.hlines(sat_act_total_norm_by_state['total_norm_ACT'].mean(), 0, 1, color= (0.2519971417644415, 0.4987337088076726, 0.5751602783606602), linestyle = 'dotted')\n",
    "plt.vlines(sat_act_total_norm_by_state['total_norm_SAT'].mean(), 0, 1, color = (0.8510408608937171, 0.23436274952246883, 0.2796010376480583), linestyle = 'dotted')\n",
    "plt.hlines(sat_act_total_norm_by_state['total_norm_ACT'].max(), 0, 1, color= (0.2519971417644415, 0.4987337088076726, 0.5751602783606602), linestyle = 'dashdot')\n",
    "plt.vlines(sat_act_total_norm_by_state['total_norm_SAT'].max(), 0, 1, color = (0.8510408608937171, 0.23436274952246883, 0.2796010376480583), linestyle = 'dashdot')\n",
    "plt.plot([0,1], [0,1], c = 'gray', linestyle='dashed')\n",
    "plt.xlim(0.45, 0.8)\n",
    "plt.ylim(0.45, 0.8)\n",
    "#scatter_text(data = sat_act_total_norm_by_state, x = 'total_norm_SAT', y = 'total_norm_ACT', text_column = 'state')\n",
    "print(f\"It does not appear as though overall results are heavily skewed towards either SAT or ACT, however:\\n\\n{sat_better} states report better SAT results, {act_better} - better ACT results.\\nThe mean score for the SAT is slightly higher: ~{round(sat_act_total_norm_by_state['total_norm_SAT'].mean(),2)} vs ~{round(sat_act_total_norm_by_state['total_norm_ACT'].mean(),2)} for the ACT.\")\n",
    "print(f\"\\nFinally, while some states average up to {round(sat_act_total_norm_by_state['total_norm_SAT'].max(),2)}, for the normalized SAT scores,normalized ACT scores do not exceed {round(sat_act_total_norm_by_state['total_norm_ACT'].max(),2)}.\");\n",
    "plt.savefig('norm_SAT_norm_ACT.png')"
   ]
  },
  {
   "cell_type": "code",
   "execution_count": 280,
   "metadata": {},
   "outputs": [
    {
     "data": {
      "image/png": "[encoded data removed]",
      "text/plain": [
       "<Figure size 288x864 with 3 Axes>"
      ]
     },
     "metadata": {
      "needs_background": "light"
     },
     "output_type": "display_data"
    }
   ],
   "source": [
    "# checking to see if this plot changes much over time:\n",
    "plt.figure(figsize = (4,12))\n",
    "plt.suptitle('Normalized average SAT vs normalized average ACT scores \\n(each dot represents one state')\n",
    "plt.subplot(3,1,1)\n",
    "sns.scatterplot(data = sat_act_df[sat_act_df['year'] == 2017], x = 'total_norm_SAT', y = 'total_norm_ACT', hue = 'sat_over_act', palette= 'RdBu')\n",
    "plt.xlabel('')\n",
    "plt.ylabel('Normalized ACT scores')\n",
    "plt.plot([0,1], [0,1], c = 'gray', linestyle='dashed')\n",
    "plt.xlim(0.45, 0.8)\n",
    "plt.ylim(0.45, 0.8)\n",
    "plt.hlines(sat_act_df[sat_act_df['year'] == 2017]['total_norm_ACT'].mean(), 0, 1, color= (0.2519971417644415, 0.4987337088076726, 0.5751602783606602), linestyle = 'dotted')\n",
    "plt.vlines(sat_act_df[sat_act_df['year'] == 2017]['total_norm_SAT'].mean(), 0, 1, color = (0.8510408608937171, 0.23436274952246883, 0.2796010376480583), linestyle = 'dotted')\n",
    "plt.hlines(sat_act_df[sat_act_df['year'] == 2017]['total_norm_ACT'].max(), 0, 1, color= (0.2519971417644415, 0.4987337088076726, 0.5751602783606602), linestyle = 'dashdot')\n",
    "plt.vlines(sat_act_df[sat_act_df['year'] == 2017]['total_norm_SAT'].max(), 0, 1, color = (0.8510408608937171, 0.23436274952246883, 0.2796010376480583), linestyle = 'dashdot')\n",
    "plt.title('2017')\n",
    "plt.legend([])\n",
    "plt.subplot(3,1,2)\n",
    "sns.scatterplot(data = sat_act_df[sat_act_df['year'] == 2018], x = 'total_norm_SAT', y = 'total_norm_ACT', hue = 'sat_over_act', palette= 'RdBu')\n",
    "plt.xlabel('')\n",
    "plt.ylabel('Normalized ACT scores')\n",
    "plt.plot([0,1], [0,1], c = 'gray', linestyle='dashed')\n",
    "plt.xlim(0.45, 0.8)\n",
    "plt.ylim(0.45, 0.8)\n",
    "plt.hlines(sat_act_df[sat_act_df['year'] == 2018]['total_norm_ACT'].mean(), 0, 1, color= (0.2519971417644415, 0.4987337088076726, 0.5751602783606602), linestyle = 'dotted')\n",
    "plt.vlines(sat_act_df[sat_act_df['year'] == 2018]['total_norm_SAT'].mean(), 0, 1, color = (0.8510408608937171, 0.23436274952246883, 0.2796010376480583), linestyle = 'dotted')\n",
    "plt.hlines(sat_act_df[sat_act_df['year'] == 2018]['total_norm_ACT'].max(), 0, 1, color= (0.2519971417644415, 0.4987337088076726, 0.5751602783606602), linestyle = 'dashdot')\n",
    "plt.vlines(sat_act_df[sat_act_df['year'] == 2018]['total_norm_SAT'].max(), 0, 1, color = (0.8510408608937171, 0.23436274952246883, 0.2796010376480583), linestyle = 'dashdot')\n",
    "plt.title('2018')\n",
    "plt.legend([])\n",
    "plt.subplot(3,1,3)\n",
    "sns.scatterplot(data = sat_act_df[sat_act_df['year'] == 2019], x = 'total_norm_SAT', y = 'total_norm_ACT', hue = 'sat_over_act', palette= 'RdBu')\n",
    "plt.xlabel('Normalized SAT scores')\n",
    "plt.ylabel('Normalized ACT scores')\n",
    "plt.plot([0,1], [0,1], c = 'gray', linestyle='dashed')\n",
    "plt.xlim(0.45, 0.8)\n",
    "plt.ylim(0.45, 0.8)\n",
    "plt.hlines(sat_act_df[sat_act_df['year'] == 2019]['total_norm_ACT'].mean(), 0, 1, color= (0.2519971417644415, 0.4987337088076726, 0.5751602783606602), linestyle = 'dotted')\n",
    "plt.vlines(sat_act_df[sat_act_df['year'] == 2019]['total_norm_SAT'].mean(), 0, 1, color = (0.8510408608937171, 0.23436274952246883, 0.2796010376480583), linestyle = 'dotted')\n",
    "plt.hlines(sat_act_df[sat_act_df['year'] == 2019]['total_norm_ACT'].max(), 0, 1, color= (0.2519971417644415, 0.4987337088076726, 0.5751602783606602), linestyle = 'dashdot')\n",
    "plt.vlines(sat_act_df[sat_act_df['year'] == 2019]['total_norm_SAT'].max(), 0, 1, color = (0.8510408608937171, 0.23436274952246883, 0.2796010376480583), linestyle = 'dashdot')\n",
    "plt.title('2019')\n",
    "plt.legend([]);"
   ]
  },
  {
   "cell_type": "code",
   "execution_count": 458,
   "metadata": {},
   "outputs": [
    {
     "data": {
      "image/png": "[encoded data removed]",
      "text/plain": [
       "<Figure size 288x288 with 1 Axes>"
      ]
     },
     "metadata": {
      "needs_background": "light"
     },
     "output_type": "display_data"
    }
   ],
   "source": [
    "#how about over years? is one getting easier vs the other?\n",
    "\n",
    "plt.figure(figsize = (4,4))\n",
    "sns.lineplot(data = sat_act_df, x = 'year', y = 'total_norm_ACT', err_style = None, markers = 'X', color = (0.2519971417644415, 0.4987337088076726, 0.5751602783606602))\n",
    "sns.lineplot(data = sat_act_df, x = 'year', y = 'total_norm_SAT', err_style=None, markers = 'X', color = (0.8510408608937171, 0.23436274952246883, 0.2796010376480583))\n",
    "plt.title('Average normalized ACT / SAT score by year\\n ')\n",
    "plt.xlabel('Year')\n",
    "plt.xticks([2017, 2018, 2019])\n",
    "plt.ylabel('Average normalized SAT / ACT score\\n ')\n",
    "plt.ylim(0.55,0.65)\n",
    "plt.legend(['ACT', 'SAT'])\n",
    "plt.savefig('SAT_ACT_time');"
   ]
  },
  {
   "cell_type": "code",
   "execution_count": 465,
   "metadata": {},
   "outputs": [
    {
     "data": {
      "text/plain": [
       "0.5847058823529411"
      ]
     },
     "execution_count": 465,
     "metadata": {},
     "output_type": "execute_result"
    }
   ],
   "source": [
    "sat_act_df[sat_act_df['year']==2019]['total_norm_ACT'].mean()"
   ]
  },
  {
   "cell_type": "code",
   "execution_count": 441,
   "metadata": {},
   "outputs": [
    {
     "data": {
      "text/plain": [
       "0.16993464052287582"
      ]
     },
     "execution_count": 441,
     "metadata": {},
     "output_type": "execute_result"
    }
   ],
   "source": [
    "# the histogram chart labels are strange in both sns and plt, so I am calculating the max bar height:\n",
    "min_act = sat_act_df['total_norm_ACT'].min()\n",
    "max_act = sat_act_df['total_norm_ACT'].max()\n",
    "bin_wdth = (max_act-min_act)/10\n",
    "bar_heights = [len(sat_act_df[sat_act_df['total_norm_ACT'].between(l,l+bin_wdth)])/len(sat_act_df) \n",
    "               for l in [min_act + bin_wdth * i for i in range(0,10)]]\n",
    "\n",
    "max(bar_heights)"
   ]
  },
  {
   "cell_type": "code",
   "execution_count": 442,
   "metadata": {},
   "outputs": [
    {
     "data": {
      "image/png": "[encoded data removed]",
      "text/plain": [
       "<Figure size 1080x288 with 1 Axes>"
      ]
     },
     "metadata": {
      "needs_background": "light"
     },
     "output_type": "display_data"
    }
   ],
   "source": [
    "# Histogram of normalized scores for the SAT and ACT: \n",
    "plt.figure(figsize = (15,4))\n",
    "plt.hist(sat_act_df['total_norm_ACT'], bins = 10, histtype= 'stepfilled', alpha = 0.4, color = (0.2519971417644415, 0.4987337088076726, 0.5751602783606602), density = True)\n",
    "plt.hist(sat_act_df['total_norm_SAT'], bins = 10, histtype= 'stepfilled', alpha = 0.3, color = (0.8510408608937171, 0.23436274952246883, 0.2796010376480583), density = True)\n",
    "plt.xlabel('Normalized average scores for SAT and ACT (min = 0, max =1)')\n",
    "plt.ylabel('Proportion of occurences (max = 0.17)')\n",
    "plt.legend(['ACT', 'SAT'])\n",
    "plt.title('\"Histogram\" of average SAT and ACT scores')\n",
    "plt.yticks([]);\n",
    "plt.savefig('SAT_ACT_hist');"
   ]
  },
  {
   "cell_type": "markdown",
   "metadata": {},
   "source": [
    "_**Observations:**_\n",
    "- The SAT results are more widely distributed - average normalized ACT results fo from 0.48 to 0.70, whereas SAT results range from 0.45 to 0.74.\n",
    "- Both distributions appear to have several modes, with a significant proportion of students achieving results between 0.52 and 0.56 and a smaller (but still noticeable) group of students scoring between 0.63 and 0.68 for the ACT and between 0.68 and 0.72 for the SAT. "
   ]
  },
  {
   "cell_type": "code",
   "execution_count": 452,
   "metadata": {},
   "outputs": [],
   "source": [
    "sat_act_total_norm_by_state['state_abbr'] = sat_act_total_norm_by_state['state'].apply(lambda x: us_state_abbrev[x])"
   ]
  },
  {
   "cell_type": "code",
   "execution_count": 454,
   "metadata": {},
   "outputs": [
    {
     "name": "stdout",
     "output_type": "stream",
     "text": [
      "No state achieved top 10 results in both SAT and ACT.\n",
      "\n",
      "One state {'Massachusetts'} achieved top 20 results in both SAT and ACT.\n",
      "\n",
      "8 states are in the top 25 in terms of average results in both ACT and SAT:\n",
      " ['Iowa', 'Vermont', 'Minnesota', 'Virginia', 'Kansas', 'South Dakota', 'Oregon', 'Massachusetts'].\n",
      "\n"
     ]
    },
    {
     "data": {
      "image/png": "[encoded data removed]",
      "text/plain": [
       "<Figure size 1152x360 with 1 Axes>"
      ]
     },
     "metadata": {
      "needs_background": "light"
     },
     "output_type": "display_data"
    }
   ],
   "source": [
    "plt.figure(figsize = (16,5))\n",
    "plt.title('Normalized average scores for SAT and ACT, by state')\n",
    "plt.plot(sat_act_total_norm_by_state['state_abbr'], sat_act_total_norm_by_state['total_norm_SAT'], color = (0.8510408608937171, 0.23436274952246883, 0.2796010376480583), alpha = 0.8, marker = '*', ms = 10, mew = 2, linewidth = 0)\n",
    "plt.bar(sat_act_total_norm_by_state['state_abbr'], sat_act_total_norm_by_state['total_norm_ACT'], color= (0.2519971417644415, 0.4987337088076726, 0.5751602783606602), alpha = 0.8)\n",
    "plt.legend(['SAT', 'ACT'])\n",
    "plt.hlines([sat_act_total_norm_by_state['total_norm_SAT'].mean(), sat_act_total_norm_by_state['total_norm_ACT'].mean()], 0,51, linestyles='dashed', label = 'avg', color = [(0.8510408608937171, 0.23436274952246883, 0.2796010376480583),(0.2519971417644415, 0.4987337088076726, 0.5751602783606602)])\n",
    "plt.xlabel('State')\n",
    "plt.ylim(0.4,0.8)\n",
    "plt.ylabel('Normalized average score')\n",
    "plt.xticks(rotation = 90)\n",
    "plt.savefig('SAT_ACT_state')\n",
    "top_n_both(10)\n",
    "top_n_both(20)\n",
    "top_n_both(25)"
   ]
  },
  {
   "cell_type": "code",
   "execution_count": 247,
   "metadata": {},
   "outputs": [
    {
     "data": {
      "image/png": "[encoded data removed]",
      "text/plain": [
       "<Figure size 1152x432 with 2 Axes>"
      ]
     },
     "metadata": {
      "needs_background": "light"
     },
     "output_type": "display_data"
    }
   ],
   "source": [
    "plt.figure(figsize=(16,6))\n",
    "plt.suptitle('Ranges of SAT and ACT results, by state\\n(FUN TO MAKE - AWFUL TO LOOK AT)')\n",
    "plt.subplot(2,1,1)\n",
    "plt.bar(sat_act_min_max_by_state['state_abb'], sat_act_min_max_by_state['range_SAT'], bottom= sat_act_min_max_by_state.iloc[:,1], color = (0.8510408608937171, 0.23436274952246883, 0.2796010376480583))\n",
    "plt.subplot(2,1,2)\n",
    "plt.bar(sat_act_min_max_by_state['state_abb'], sat_act_min_max_by_state['range_ACT'], bottom= sat_act_min_max_by_state.iloc[:,3], color= (0.2519971417644415, 0.4987337088076726, 0.5751602783606602));"
   ]
  },
  {
   "cell_type": "code",
   "execution_count": 446,
   "metadata": {},
   "outputs": [
    {
     "data": {
      "image/png": "[encoded data removed]",
      "text/plain": [
       "<Figure size 1152x475.2 with 2 Axes>"
      ]
     },
     "metadata": {
      "needs_background": "light"
     },
     "output_type": "display_data"
    }
   ],
   "source": [
    "plt.figure(figsize = (16,6.6))\n",
    "plt.suptitle('Distribution of the value of 25th and 75th percentile for students accepted to US colleges')\n",
    "plt.subplot(1,2,1)\n",
    "sns.boxplot(data = sat_act_by_college_df[['sat_norm_25th','sat_norm_75th']], orient='v', palette='Reds')\n",
    "plt.xlabel('label: \\nsat_norm_25th = 25th percentile of normalized SAT scores, \\nsat_norm_75th = 75th percentile of normalized SAT scores, ')\n",
    "plt.ylabel('Range of normalized SAT scores')\n",
    "plt.ylim(0.3,1)\n",
    "plt.subplot(1,2,2)\n",
    "sns.boxplot(data = sat_act_by_college_df[['act_norm_25th','act_norm_75th']], orient='v', palette= 'Blues')\n",
    "plt.xlabel('label: \\nact_norm_25th = 25th percentile of normalized ACT scores, \\nact_norm_75th = 75th percentile of normalized ACT scores, ')\n",
    "plt.ylabel('Range of normalized ACT scores')\n",
    "plt.ylim(0.3,1)\n",
    "plt.savefig('SAT_ACT_box');"
   ]
  },
  {
   "cell_type": "code",
   "execution_count": 249,
   "metadata": {},
   "outputs": [
    {
     "data": {
      "text/plain": [
       "0.1925925925925926"
      ]
     },
     "execution_count": 249,
     "metadata": {},
     "output_type": "execute_result"
    }
   ],
   "source": [
    "min_ar = sat_act_by_college_df['accept_rate'].min()\n",
    "max_ar = sat_act_by_college_df['accept_rate'].max()\n",
    "bin_wdth = (max_ar-min_ar)/10\n",
    "bar_heights = [len(sat_act_by_college_df[sat_act_by_college_df['accept_rate'].between(l,l+0.1)])/len(sat_act_by_college_df) \n",
    "               for l in [min_ar + bin_wdth * i for i in range(10)]]\n",
    "bar_heights\n",
    "max(bar_heights)"
   ]
  },
  {
   "cell_type": "code",
   "execution_count": 336,
   "metadata": {},
   "outputs": [
    {
     "data": {
      "image/png": "[encoded data removed]",
      "text/plain": [
       "<Figure size 1224x288 with 2 Axes>"
      ]
     },
     "metadata": {
      "needs_background": "light"
     },
     "output_type": "display_data"
    }
   ],
   "source": [
    "plt.figure(figsize = (17,4))\n",
    "plt.subplot(1,2,2)\n",
    "plt.plot(list(range(1,len(sat_act_by_college_df['school'])+1)), sat_act_by_college_df['num_of_app_cum'], c = (0.5513264129181085, 0.537916186082276, 0.7524490580545944))\n",
    "plt.hlines(y = [0.7, 0.8, 0.9], xmin=0, xmax = len(sat_act_by_college_df), linestyles='dotted')\n",
    "xs = [len(sat_act_by_college_df[sat_act_by_college_df['num_of_app_cum']<= i]) for i in [0.7, 0.8, 0.9]]\n",
    "plt.vlines (x = xs, ymin = 0, ymax = 1, linestyles= 'dotted')\n",
    "plt.fill_between([0,135], 1, color = (0.5513264129181085, 0.537916186082276, 0.7524490580545944), alpha = 0.4)\n",
    "plt.xticks(sorted([0, 100, 100, 300, 400]+ xs))\n",
    "plt.xlabel('Number of schools (ordered descending by # of applicants)')\n",
    "plt.ylabel('Proportion of all applicants')\n",
    "plt.title('Pareto of cumulative number of applicants')\n",
    "plt.subplot(1,2,1)\n",
    "sns.distplot(sat_act_by_college_df['accept_rate'], kde = False, bins = 10 , color= (0.5513264129181085, 0.537916186082276, 0.7524490580545944), norm_hist= True)\n",
    "plt.title('\"Histogram\" of acceptance rates among US schools')\n",
    "plt.vlines (x = 0.2, ymin = 0, ymax = 2, linestyles= 'dotted')\n",
    "plt.fill_between([0,0.2], 2, color = (0.5513264129181085, 0.537916186082276, 0.7524490580545944), alpha = 0.3)\n",
    "plt.xlabel('Acceptance rate')\n",
    "plt.ylabel('Proportion of US schools (max = 0.19)')\n",
    "plt.yticks([]);\n",
    "plt.savefig('elite_schools')"
   ]
  },
  {
   "cell_type": "code",
   "execution_count": 338,
   "metadata": {},
   "outputs": [
    {
     "data": {
      "text/plain": [
       "['Brown University',\n",
       " 'Carnegie Mellon University',\n",
       " 'Columbia University',\n",
       " 'Cornell University',\n",
       " 'Dartmouth College',\n",
       " 'Duke University',\n",
       " 'Emory University',\n",
       " 'Georgetown University',\n",
       " 'Harvard College',\n",
       " 'Johns Hopkins University',\n",
       " 'Massachusetts Institute of Technology',\n",
       " 'New York University',\n",
       " 'Northeastern University',\n",
       " 'Northwestern University',\n",
       " 'Princeton University',\n",
       " 'Rice University',\n",
       " 'Stanford University',\n",
       " 'Tufts University',\n",
       " 'Tulane University',\n",
       " 'University of California—\\u200bBerkeley',\n",
       " 'University of California—\\u200bLos Angeles',\n",
       " 'University of Chicago',\n",
       " 'University of Notre Dame',\n",
       " 'University of Pennsylvania',\n",
       " 'University of Southern California',\n",
       " 'Vanderbilt University',\n",
       " 'Washington University in St. Louis',\n",
       " 'Yale University']"
      ]
     },
     "execution_count": 338,
     "metadata": {},
     "output_type": "execute_result"
    }
   ],
   "source": [
    "list(sorted(elite_schools['school']))"
   ]
  },
  {
   "cell_type": "code",
   "execution_count": 457,
   "metadata": {},
   "outputs": [
    {
     "data": {
      "image/png": "[encoded data removed]",
      "text/plain": [
       "<Figure size 1152x504 with 4 Axes>"
      ]
     },
     "metadata": {
      "needs_background": "light"
     },
     "output_type": "display_data"
    }
   ],
   "source": [
    "plt.figure(figsize = (16,7))\n",
    "plt.suptitle('Distribution of the value of 25th and 75th percentile of SAT/ ACT for students accepted to all US colleges (upper)\\n vs US colleges classified as \"elite schools\" (lower)\\n')\n",
    "plt.subplot(2,2,1)\n",
    "sns.boxplot(data = sat_act_by_college_df[['sat_norm_25th','sat_norm_75th']], orient='v', palette='Reds')\n",
    "#plt.xlabel('label: \\nsat_norm_25th = 25th percentile of normalized SAT scores, \\nsat_norm_75th = 75th percentile of normalized SAT scores, ')\n",
    "plt.ylabel('Range of normalized SAT scores')\n",
    "plt.ylim(0.3,1)\n",
    "plt.subplot(2,2,2)\n",
    "sns.boxplot(data = sat_act_by_college_df[['act_norm_25th','act_norm_75th']], orient='v', palette= 'Blues')\n",
    "#plt.xlabel('label: \\nact_norm_25th = 25th percentile of normalized ACT scores, \\nact_norm_75th = 75th percentile of normalized ACT scores, ')\n",
    "plt.ylabel('Range of normalized ACT scores')\n",
    "plt.ylim(0.3,1)\n",
    "plt.subplot(2,2,3)\n",
    "sns.boxplot(data = elite_schools[['sat_norm_25th','sat_norm_75th']], orient='v', palette='Reds')\n",
    "plt.xlabel('label: \\nsat_norm_25th = 25th percentile of normalized SAT scores, \\nsat_norm_75th = 75th percentile of normalized SAT scores, ')\n",
    "plt.ylabel('Range of normalized SAT scores')\n",
    "plt.ylim(0.3,1)\n",
    "plt.subplot(2,2,4)\n",
    "sns.boxplot(data = elite_schools[['act_norm_25th','act_norm_75th']], orient='v', palette= 'Blues')\n",
    "plt.xlabel('label: \\nact_norm_25th = 25th percentile of normalized ACT scores, \\nact_norm_75th = 75th percentile of normalized ACT scores, ')\n",
    "plt.ylabel('Range of normalized ACT scores')\n",
    "plt.ylim(0.3,1)\n",
    "plt.savefig('SAT_ACT_elite_box');"
   ]
  },
  {
   "cell_type": "code",
   "execution_count": 456,
   "metadata": {},
   "outputs": [
    {
     "name": "stdout",
     "output_type": "stream",
     "text": [
      "Getting into one of the 28 'elite schools' requires ACT results of at least 87.9% or 31.6 points,\n",
      "or SAT results of at least 82.1% (1405.7 points).\n"
     ]
    }
   ],
   "source": [
    "print(f\"Getting into one of the {len(elite_schools)} 'elite schools' requires ACT results of at least {round(100*elite_schools['act_norm_25th'].quantile(0.25),1)}% or {round(elite_schools['act_norm_25th'].quantile(0.25)*36,1)} points,\\nor SAT results of at least {round(100*elite_schools['sat_norm_25th'].quantile(0.25),1)}% ({round(elite_schools['act_norm_25th'].quantile(0.25)*1600,1)} points).\")"
   ]
  },
  {
   "cell_type": "markdown",
   "metadata": {},
   "source": [
    "standard deviation of SAT is 195\n",
    "(per https://nces.ed.gov/programs/digest/d17/tables/dt17_226.40.asp)\n",
    "\n",
    "standard deviation of ACT is 5.4\n",
    "(per https://www.collegeraptor.com/getting-in/articles/act-sat/act-scores/)"
   ]
  },
  {
   "cell_type": "code",
   "execution_count": 317,
   "metadata": {},
   "outputs": [
    {
     "name": "stdout",
     "output_type": "stream",
     "text": [
      "The probability af a student scoring enough points on the SAT to get into an 'elite school' is 3.5%, compared to 2.6% for ACT.\n"
     ]
    }
   ],
   "source": [
    "# standard deviation for both tests, expressed in terms of normalized scores:\n",
    "sat_std_n = 195/1600\n",
    "act_std_n = 5.4/36\n",
    "\n",
    "# z-score for both (distance from mean to lower range of acceptable results):\n",
    "sat_min_z = (elite_schools['sat_norm_25th'].quantile(0.25)  - sat_act_df['total_norm_SAT'].mean())/sat_std_n # z-score of 1.81 corresponds to p of 0.9649\n",
    "act_min_z = (elite_schools['act_norm_25th'].quantile(0.25) - sat_act_df['total_norm_ACT'].mean())/act_std_n # z-score of 1.92 corresponds to p of \n",
    "\n",
    "# probabilities of a US high school students scoring enough points on both tests to get into an \"elite school\"\n",
    "sat_prob = 1 - 0.9649\n",
    "act_prob = 1 - 0.9744\n",
    "\n",
    "print(f\"The probability af a student scoring enough points on the SAT to get into an 'elite school' is {round(100*sat_prob,1)}%, compared to {round(100*act_prob, 1)}% for ACT.\")"
   ]
  },
  {
   "cell_type": "code",
   "execution_count": 412,
   "metadata": {},
   "outputs": [
    {
     "data": {
      "text/plain": [
       "''"
      ]
     },
     "execution_count": 412,
     "metadata": {},
     "output_type": "execute_result"
    },
    {
     "data": {
      "image/png": "[encoded data removed]",
      "text/plain": [
       "<Figure size 720x576 with 2 Axes>"
      ]
     },
     "metadata": {
      "needs_background": "light"
     },
     "output_type": "display_data"
    }
   ],
   "source": [
    "from scipy.stats import norm\n",
    "\n",
    "norm_score_range = [i/100 for i in range(0,101)]\n",
    "plt.figure(figsize=(10,8))\n",
    "plt.suptitle('Approx. distribution of normalized ACT scores (top) & SAT scores (bottom)')\n",
    "plt.subplot(2,1,1)\n",
    "plt.plot(norm.pdf(norm_score_range,sat_act_df['total_norm_ACT'].mean(),act_std_n), color = (0.2519971417644415, 0.4987337088076726, 0.5751602783606602))\n",
    "plt.legend(['ACT'])\n",
    "plt.xlabel('Normalized ACT score (0-100)')\n",
    "plt.ylabel('Probability distribution')\n",
    "plt.vlines([sat_act_df['total_norm_ACT'].mean()*100],0,3.5, linestyles='dashed',color = (0.2519971417644415, 0.4987337088076726, 0.5751602783606602))\n",
    "plt.vlines([sat_act_df['total_norm_ACT'].mean()*100 + act_std_n*100*i for i in range(1,3)],0,3.5, linestyles='dotted',color = (0.2519971417644415, 0.4987337088076726, 0.5751602783606602))\n",
    "plt.subplot(2,1,2)\n",
    "plt.plot(norm.pdf(norm_score_range,sat_act_df['total_norm_SAT'].mean(),sat_std_n), color = (0.8510408608937171, 0.23436274952246883, 0.2796010376480583))\n",
    "plt.legend(['SAT'])\n",
    "plt.xlabel('Normalized SAT score (0-100)')\n",
    "plt.ylabel('Probability distribution')\n",
    "plt.vlines([sat_act_df['total_norm_SAT'].mean()*100],0,3.5, linestyles='dashed',color = (0.8510408608937171, 0.23436274952246883, 0.2796010376480583))\n",
    "plt.vlines([sat_act_df['total_norm_SAT'].mean()*100 + sat_std_n*100*i for i in range(1,3)],0,3.5, linestyles='dotted',color = (0.8510408608937171, 0.23436274952246883, 0.2796010376480583))\n",
    "plt.savefig('ACT_SAT_distr')\n",
    ";"
   ]
  },
  {
   "cell_type": "code",
   "execution_count": 413,
   "metadata": {},
   "outputs": [
    {
     "data": {
      "text/plain": [
       "''"
      ]
     },
     "execution_count": 413,
     "metadata": {},
     "output_type": "execute_result"
    },
    {
     "data": {
      "image/png": "[encoded data removed]",
      "text/plain": [
       "<Figure size 720x576 with 2 Axes>"
      ]
     },
     "metadata": {
      "needs_background": "light"
     },
     "output_type": "display_data"
    }
   ],
   "source": [
    "from scipy.stats import norm\n",
    "\n",
    "norm_score_range = [i/100 for i in range(0,101)]\n",
    "plt.figure(figsize=(10,8))\n",
    "plt.suptitle('Approx. distribution of normalized ACT scores (top) & SAT scores (bottom)\\nvs corresponding college acceptance \"minimum\"')\n",
    "plt.subplot(2,1,1)\n",
    "plt.plot(norm.pdf(norm_score_range,sat_act_df['total_norm_ACT'].mean(),act_std_n), color = (0.2519971417644415, 0.4987337088076726, 0.5751602783606602))\n",
    "plt.legend(['ACT'], loc = 'upper left')\n",
    "plt.xlabel('Normalized ACT score (0-100)')\n",
    "plt.ylabel('Probability distribution')\n",
    "plt.vlines([sat_act_df['total_norm_ACT'].mean()*100],0,3.5, linestyles='dashed',color = (0.2519971417644415, 0.4987337088076726, 0.5751602783606602))\n",
    "plt.vlines([sat_act_df['total_norm_ACT'].mean()*100 + act_std_n*100*i for i in range(1,3)],0,3.5, linestyles='dotted',color = (0.2519971417644415, 0.4987337088076726, 0.5751602783606602))\n",
    "plt.vlines(100*elite_schools['act_norm_25th'].quantile(0.25), 0, 3.5, linestyles='solid',color = (0.1272587466359093, 0.39584775086505203, 0.6687427912341407))\n",
    "plt.fill_betweenx([0,3.5],100*elite_schools['act_norm_25th'].quantile(0.25),100, color = (0.1272587466359093, 0.39584775086505203, 0.6687427912341407), alpha = 0.3)\n",
    "plt.subplot(2,1,2)\n",
    "plt.plot(norm.pdf(norm_score_range,sat_act_df['total_norm_SAT'].mean(),sat_std_n), color = (0.8510408608937171, 0.23436274952246883, 0.2796010376480583))\n",
    "plt.legend(['SAT'], loc = 'upper left')\n",
    "plt.xlabel('Normalized SAT score (0-100)')\n",
    "plt.ylabel('Probability distribution')\n",
    "plt.vlines([sat_act_df['total_norm_SAT'].mean()*100],0,3.5, linestyles='dashed',color = (0.8510408608937171, 0.23436274952246883, 0.2796010376480583))\n",
    "plt.vlines([sat_act_df['total_norm_SAT'].mean()*100 + sat_std_n*100*i for i in range(1,3)],0,3.5, linestyles='dotted',color = (0.8510408608937171, 0.23436274952246883, 0.2796010376480583))\n",
    "plt.vlines(100*elite_schools['sat_norm_25th'].quantile(0.25), 0, 3.5, linestyles='solid',color = (0.6922722029988467, 0.09227220299884642, 0.16770472895040373))\n",
    "plt.fill_betweenx([0,3.5],100*elite_schools['sat_norm_25th'].quantile(0.25),100, color = (0.6922722029988467, 0.09227220299884642, 0.16770472895040373), alpha = 0.3)\n",
    "plt.savefig('ACT_SAT_distr_fill')\n",
    ";"
   ]
  },
  {
   "cell_type": "code",
   "execution_count": 391,
   "metadata": {},
   "outputs": [
    {
     "data": {
      "application/vnd.jupyter.widget-view+json": {
       "model_id": "5730df31e2c34db1b9a7109ef2aefc0d",
       "version_major": 2,
       "version_minor": 0
      },
      "text/plain": [
       "interactive(children=(Dropdown(description='name', options=('RdBu', 'RdGy', 'PRGn', 'PiYG', 'BrBG', 'RdYlBu', …"
      ]
     },
     "metadata": {},
     "output_type": "display_data"
    },
    {
     "data": {
      "text/plain": [
       "[(0.6922722029988467, 0.09227220299884642, 0.16770472895040373),\n",
       " (0.8392156862745099, 0.376470588235294, 0.3019607843137253),\n",
       " (0.9545559400230679, 0.641753171856978, 0.5057285659361783),\n",
       " (0.9921568627450982, 0.8588235294117645, 0.7803921568627449),\n",
       " (0.9657054978854286, 0.9672433679354094, 0.9680891964628989),\n",
       " (0.8196078431372551, 0.8980392156862745, 0.9411764705882353),\n",
       " (0.5664744329104192, 0.7687043444828916, 0.8685121107266438),\n",
       " (0.26274509803921564, 0.576470588235294, 0.7647058823529411),\n",
       " (0.1272587466359093, 0.39584775086505203, 0.6687427912341407)]"
      ]
     },
     "execution_count": 391,
     "metadata": {},
     "output_type": "execute_result"
    }
   ],
   "source": [
    "sns.choose_colorbrewer_palette('d')"
   ]
  },
  {
   "cell_type": "code",
   "execution_count": 324,
   "metadata": {},
   "outputs": [
    {
     "data": {
      "text/plain": [
       "Text(0.5, 1.0, 'Heatmap of correlation for values of average SAT / ACT scores and participation\\n')"
      ]
     },
     "execution_count": 324,
     "metadata": {},
     "output_type": "execute_result"
    },
    {
     "data": {
      "image/png": "[encoded data removed]",
      "text/plain": [
       "<Figure size 576x576 with 2 Axes>"
      ]
     },
     "metadata": {
      "needs_background": "light"
     },
     "output_type": "display_data"
    }
   ],
   "source": [
    "plt.figure(figsize = (8,8))\n",
    "sns.heatmap(sat_act_df.corr(), cmap = 'RdBu', annot = True)\n",
    "plt.title('Heatmap of correlation for values of average SAT / ACT scores and participation\\n')"
   ]
  },
  {
   "cell_type": "markdown",
   "metadata": {},
   "source": [
    "## Conclusions and Recommendations"
   ]
  },
  {
   "cell_type": "markdown",
   "metadata": {},
   "source": [
    "Based on your exploration of the data, what are you key takeaways and recommendations? Make sure to answer your question of interest or address your problem statement here."
   ]
  },
  {
   "cell_type": "markdown",
   "metadata": {},
   "source": [
    "**To-Do:** *Edit this cell with your conclusions and recommendations.*"
   ]
  },
  {
   "cell_type": "markdown",
   "metadata": {},
   "source": [
    "Don't forget to create your README!\n",
    "\n",
    "**To-Do:** *If you combine your problem statement, data dictionary, brief summary of your analysis, and conclusions/recommendations, you have an amazing README.md file that quickly aligns your audience to the contents of your project.* Don't forget to cite your data sources!"
   ]
  }
 ],
 "metadata": {
  "anaconda-cloud": {},
  "kernelspec": {
   "display_name": "Python 3",
   "language": "python",
   "name": "python3"
  },
  "language_info": {
   "codemirror_mode": {
    "name": "ipython",
    "version": 3
   },
   "file_extension": ".py",
   "mimetype": "text/x-python",
   "name": "python",
   "nbconvert_exporter": "python",
   "pygments_lexer": "ipython3",
   "version": "3.8.3"
  }
 },
 "nbformat": 4,
 "nbformat_minor": 4
}
