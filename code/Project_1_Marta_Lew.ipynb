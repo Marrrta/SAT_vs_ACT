{
 "cells": [
  {
   "cell_type": "markdown",
   "metadata": {},
   "source": [
    "<img src=\"http://imgur.com/1ZcRyrc.png\" style=\"float: left; margin: 20px; height: 55px\">\n",
    "\n",
    "# Project 1: Standardized Test Analysis"
   ]
  },
  {
   "cell_type": "markdown",
   "metadata": {},
   "source": [
    "--- \n",
    "# Part 1\n",
    "\n",
    "Part 1 requires knowledge of basic Python.\n",
    "\n",
    "---"
   ]
  },
  {
   "cell_type": "markdown",
   "metadata": {},
   "source": [
    "## Problem Statement"
   ]
  },
  {
   "cell_type": "markdown",
   "metadata": {},
   "source": [
    "Decide on your problem statement that will guide your analysis for this project. For guidelines, sample prompts, or inspiration, check out the README.\n",
    "\n",
    "**To-Do:** *Replace this cell with your problem statement.*"
   ]
  },
  {
   "cell_type": "markdown",
   "metadata": {},
   "source": [
    "### Contents:\n",
    "- [Background](#Background)\n",
    "- [Data Import & Cleaning](#Data-Import-and-Cleaning)\n",
    "- [Exploratory Data Analysis](#Exploratory-Data-Analysis)\n",
    "- [Data Visualization](#Visualize-the-Data)\n",
    "- [Conclusions and Recommendations](#Conclusions-and-Recommendations)"
   ]
  },
  {
   "cell_type": "markdown",
   "metadata": {},
   "source": [
    "## Background"
   ]
  },
  {
   "cell_type": "markdown",
   "metadata": {},
   "source": [
    "The SAT and ACT are standardized tests that many colleges and universities in the United States require for their admissions process. This score is used along with other materials such as grade point average (GPA) and essay responses to determine whether or not a potential student will be accepted to the university.\n",
    "\n",
    "The SAT has two sections of the test: Evidence-Based Reading and Writing and Math ([*source*](https://www.princetonreview.com/college/sat-sections)). The ACT has 4 sections: English, Mathematics, Reading, and Science, with an additional optional writing section ([*source*](https://www.act.org/content/act/en/products-and-services/the-act/scores/understanding-your-scores.html)). They have different score ranges, which you can read more about on their websites or additional outside sources (a quick Google search will help you understand the scores for each test):\n",
    "* [SAT](https://collegereadiness.collegeboard.org/sat)\n",
    "* [ACT](https://www.act.org/content/act/en.html)\n",
    "\n",
    "Standardized tests have long been a controversial topic for students, administrators, and legislators. Since the 1940's, an increasing number of colleges have been using scores from sudents' performances on tests like the SAT and the ACT as a measure for college readiness and aptitude ([*source*](https://www.minotdailynews.com/news/local-news/2017/04/a-brief-history-of-the-sat-and-act/)). Supporters of these tests argue that these scores can be used as an objective measure to determine college admittance. Opponents of these tests claim that these tests are not accurate measures of students potential or ability and serve as an inequitable barrier to entry. Lately, more and more schools are opting to drop the SAT/ACT requirement for their Fall 2021 applications ([*read more about this here*](https://www.cnn.com/2020/04/14/us/coronavirus-colleges-sat-act-test-trnd/index.html)).\n",
    "\n",
    "**__My possible addition starts here:__**<br>\n",
    "*Both SAT and ACT are offered universally across all states, and students are generally free to select one or the other. The SAT is said to be ... while the ACT supposedly ...([*source*](https://www.xxx)).<br> While the tests are considered equivalent (neither is officially preferred by either ... or colleges, students tend to prepare for the SAT differently than for the SAT...* ([*more information about this can be found here*](https://www.xxx))."
   ]
  },
  {
   "cell_type": "markdown",
   "metadata": {},
   "source": [
    "**To-Do:** *Fill out this cell (or edit the above cell) with any other background or information that is necessary for your problem statement.*"
   ]
  },
  {
   "cell_type": "markdown",
   "metadata": {},
   "source": [
    "### Choose your Data\n",
    "\n",
    "There are 10 datasets included in the [`data`](./data/) folder for this project. You are required to pick **at least two** of these to complete your analysis. Feel free to use more than two if you would like, or add other relevant datasets you find online.\n",
    "\n",
    "* [`act_2017.csv`](./data/act_2017.csv): 2017 ACT Scores by State\n",
    "* [`act_2018.csv`](./data/act_2018.csv): 2018 ACT Scores by State\n",
    "* [`act_2019.csv`](./data/act_2019.csv): 2019 ACT Scores by State\n",
    "* [`act_2019_ca.csv`](./data/act_2019_ca.csv): 2019 ACT Scores in California by School\n",
    "* [`sat_2017.csv`](./data/sat_2017.csv): 2017 SAT Scores by State\n",
    "* [`sat_2018.csv`](./data/sat_2018.csv): 2018 SAT Scores by State\n",
    "* [`sat_2019.csv`](./data/sat_2019.csv): 2019 SAT Scores by State\n",
    "* [`sat_2019_by_intended_college_major.csv`](./data/sat_2019_by_intended_college_major.csv): 2019 SAT Scores by Intended College Major\n",
    "* [`sat_2019_ca.csv`](./data/sat_2019_ca.csv): 2019 SAT Scores in California by School\n",
    "* [`sat_act_by_college.csv`](./data/sat_act_by_college.csv): Ranges of Accepted ACT & SAT Student Scores by Colleges"
   ]
  },
  {
   "cell_type": "markdown",
   "metadata": {},
   "source": [
    "**To-Do:** *Fill out this cell with the datasets you will use for your analysis. Write a brief description of the contents for each dataset that you choose.*"
   ]
  },
  {
   "cell_type": "markdown",
   "metadata": {},
   "source": [
    "### Outside Research"
   ]
  },
  {
   "cell_type": "markdown",
   "metadata": {},
   "source": [
    "Based on your problem statement and your chosen datasets, spend some time doing outside research on state policies or additional information that might be relevant. Summarize your findings below. If you bring in any outside tables or charts, make sure you are explicit about having borrowed them. If you quote any text, make sure that it renders as being quoted. **Make sure that you cite your sources.**"
   ]
  },
  {
   "cell_type": "markdown",
   "metadata": {},
   "source": [
    "**To-Do:** *Fill out this cell with outside research or any additional background information that will support your analysis.*"
   ]
  },
  {
   "cell_type": "markdown",
   "metadata": {},
   "source": [
    "### Coding Challenges\n",
    "\n",
    "1. Manually calculate mean:\n",
    "\n",
    "    Write a function that takes in values and returns the mean of the values. Create a list of numbers that you test on your function to check to make sure your function works!\n",
    "    \n",
    "    *Note*: Do not use any mean methods built-in to any Python libraries to do this! This should be done without importing any additional libraries."
   ]
  },
  {
   "cell_type": "code",
   "execution_count": 390,
   "metadata": {},
   "outputs": [
    {
     "data": {
      "text/plain": [
       "True"
      ]
     },
     "execution_count": 390,
     "metadata": {},
     "output_type": "execute_result"
    }
   ],
   "source": [
    "# importing np to later test my functions:\n",
    "import numpy as np\n",
    "\n",
    "# Code:\n",
    "\n",
    "def mean_of_values(vals):\n",
    "    try:\n",
    "        nom = 0\n",
    "        denom = 0\n",
    "        for val in vals:\n",
    "            nom += val\n",
    "            denom += 1\n",
    "            mean_of_vals = nom / denom\n",
    "        return mean_of_vals\n",
    "    except:\n",
    "        print(\"Did you provide a list of numbers formatted as numbers?\")\n",
    "\n",
    "#testing that function works as expected and returns correct value\n",
    "test_vals = [3,4,5,9,2,0]\n",
    "mean_of_values(test_vals) == np.mean(test_vals)"
   ]
  },
  {
   "cell_type": "markdown",
   "metadata": {},
   "source": [
    "2. Manually calculate standard deviation:\n",
    "\n",
    "    The formula for standard deviation is below:\n",
    "\n",
    "    $$\\sigma = \\sqrt{\\frac{1}{n}\\sum_{i=1}^n(x_i - \\mu)^2}$$\n",
    "\n",
    "    Where $x_i$ represents each value in the dataset, $\\mu$ represents the mean of all values in the dataset and $n$ represents the number of values in the dataset.\n",
    "\n",
    "    Write a function that takes in values and returns the standard deviation of the values using the formula above. Hint: use the function you wrote above to calculate the mean! Use the list of numbers you created above to test on your function.\n",
    "    \n",
    "    *Note*: Do not use any standard deviation methods built-in to any Python libraries to do this! This should be done without importing any additional libraries."
   ]
  },
  {
   "cell_type": "code",
   "execution_count": 391,
   "metadata": {},
   "outputs": [
    {
     "data": {
      "text/plain": [
       "True"
      ]
     },
     "execution_count": 391,
     "metadata": {},
     "output_type": "execute_result"
    }
   ],
   "source": [
    "# Code:\n",
    "def stdev_of_values(vals):\n",
    "    try:\n",
    "        nom = 0\n",
    "        denom = 0\n",
    "        sum_errors_sq = 0\n",
    "        for val in vals:\n",
    "            nom += val\n",
    "            denom += 1\n",
    "            mean_of_vals = nom / denom\n",
    "        for val in vals:\n",
    "            sum_errors_sq += (val - mean_of_vals)**2\n",
    "            std_of_vals = (sum_errors_sq/denom)**0.5\n",
    "        return std_of_vals\n",
    "    except:\n",
    "        print(\"Did you provide a list of numbers formatted as numbers?\")\n",
    "\n",
    "\n",
    "#testing that function works as expected and returns correct value\n",
    "test_vals = [3,4,5,9,2,0]\n",
    "stdev_of_values(test_vals) == np.std(test_vals)"
   ]
  },
  {
   "cell_type": "markdown",
   "metadata": {},
   "source": [
    "3. Data cleaning function:\n",
    "    \n",
    "    Write a function that takes in a string that is a number and a percent symbol (ex. '50%', '30.5%', etc.) and converts this to a float that is the decimal approximation of the percent. For example, inputting '50%' in your function should return 0.5, '30.5%' should return 0.305, etc. Make sure to test your function to make sure it works!\n",
    "\n",
    "You will use these functions later on in the project!"
   ]
  },
  {
   "cell_type": "code",
   "execution_count": 392,
   "metadata": {},
   "outputs": [
    {
     "data": {
      "text/plain": [
       "0.353"
      ]
     },
     "execution_count": 392,
     "metadata": {},
     "output_type": "execute_result"
    }
   ],
   "source": [
    "# Code:\n",
    "def str_to_float(str):\n",
    "    str_no_perc = str.replace('%','')\n",
    "#    str_no_dash = str_no_perc.replace('-','')#some values in my data include a '-' so I want to take care of that at the same time\n",
    "    num = float(str_no_perc)/100\n",
    "    return num\n",
    "\n",
    "#testing the function to make sure it works as intended:\n",
    "str_to_float('35.3%')"
   ]
  },
  {
   "cell_type": "markdown",
   "metadata": {},
   "source": [
    "--- \n",
    "# Part 2\n",
    "\n",
    "Part 2 requires knowledge of Pandas, EDA, data cleaning, and data visualization.\n",
    "\n",
    "---"
   ]
  },
  {
   "cell_type": "markdown",
   "metadata": {},
   "source": [
    "*All libraries used should be added here*"
   ]
  },
  {
   "cell_type": "code",
   "execution_count": 393,
   "metadata": {},
   "outputs": [],
   "source": [
    "# Imports:\n",
    "import numpy as np\n",
    "import pandas as pd\n",
    "import seaborn as sns\n",
    "from matplotlib import pyplot as plt"
   ]
  },
  {
   "cell_type": "markdown",
   "metadata": {},
   "source": [
    "## Data Import and Cleaning"
   ]
  },
  {
   "cell_type": "markdown",
   "metadata": {},
   "source": [
    "### Data Import & Cleaning\n",
    "\n",
    "Import the datasets that you selected for this project and go through the following steps at a minimum. You are welcome to do further cleaning as you feel necessary:\n",
    "1. Display the data: print the first 5 rows of each dataframe to your Jupyter notebook.\n",
    "2. Check for missing values.\n",
    "3. Check for any obvious issues with the observations (keep in mind the minimum & maximum possible values for each test/subtest).\n",
    "4. Fix any errors you identified in steps 2-3.\n",
    "5. Display the data types of each feature.\n",
    "6. Fix any incorrect data types found in step 5.\n",
    "    - Fix any individual values preventing other columns from being the appropriate type.\n",
    "    - If your dataset has a column of percents (ex. '50%', '30.5%', etc.), use the function you wrote in Part 1 (coding challenges, number 3) to convert this to floats! *Hint*: use `.map()` or `.apply()`.\n",
    "7. Rename Columns.\n",
    "    - Column names should be all lowercase.\n",
    "    - Column names should not contain spaces (underscores will suffice--this allows for using the `df.column_name` method to access columns in addition to `df['column_name']`).\n",
    "    - Column names should be unique and informative.\n",
    "8. Drop unnecessary rows (if needed).\n",
    "9. Merge dataframes that can be merged.\n",
    "10. Perform any additional cleaning that you feel is necessary.\n",
    "11. Save your cleaned and merged dataframes as csv files."
   ]
  },
  {
   "cell_type": "code",
   "execution_count": 394,
   "metadata": {},
   "outputs": [],
   "source": [
    "# Code:\n",
    "act_2017_df = pd.read_csv('~/dsi/01-week/project_1/data/act_2017.csv')\n",
    "act_2018_df = pd.read_csv('~/dsi/01-week/project_1/data/act_2018.csv')\n",
    "act_2019_df = pd.read_csv('~/dsi/01-week/project_1/data/act_2019.csv')\n",
    "\n",
    "sat_2017_df = pd.read_csv('~/dsi/01-week/project_1/data/sat_2017.csv')\n",
    "sat_2018_df = pd.read_csv('~/dsi/01-week/project_1/data/sat_2018.csv')\n",
    "sat_2019_df = pd.read_csv('~/dsi/01-week/project_1/data/sat_2019.csv')\n",
    "\n",
    "sat_act_by_college_df = pd.read_csv('~/dsi/01-week/project_1/data/sat_act_by_college.csv', encoding='utf8')"
   ]
  },
  {
   "cell_type": "code",
   "execution_count": 395,
   "metadata": {},
   "outputs": [
    {
     "name": "stdout",
     "output_type": "stream",
     "text": [
      "<class 'pandas.core.frame.DataFrame'>\n",
      "RangeIndex: 52 entries, 0 to 51\n",
      "Data columns (total 7 columns):\n",
      " #   Column         Non-Null Count  Dtype  \n",
      "---  ------         --------------  -----  \n",
      " 0   State          52 non-null     object \n",
      " 1   Participation  52 non-null     object \n",
      " 2   English        52 non-null     float64\n",
      " 3   Math           52 non-null     float64\n",
      " 4   Reading        52 non-null     float64\n",
      " 5   Science        52 non-null     float64\n",
      " 6   Composite      52 non-null     object \n",
      "dtypes: float64(4), object(3)\n",
      "memory usage: 3.0+ KB\n"
     ]
    }
   ],
   "source": [
    "act_2017_df.head()\n",
    "act_2017_df.info()"
   ]
  },
  {
   "cell_type": "code",
   "execution_count": 396,
   "metadata": {},
   "outputs": [],
   "source": [
    "act_2017_df.drop(['English', 'Math', 'Reading', 'Science'], axis = 1, inplace = True)\n"
   ]
  },
  {
   "cell_type": "code",
   "execution_count": 397,
   "metadata": {},
   "outputs": [
    {
     "data": {
      "text/html": [
       "<div>\n",
       "<style scoped>\n",
       "    .dataframe tbody tr th:only-of-type {\n",
       "        vertical-align: middle;\n",
       "    }\n",
       "\n",
       "    .dataframe tbody tr th {\n",
       "        vertical-align: top;\n",
       "    }\n",
       "\n",
       "    .dataframe thead th {\n",
       "        text-align: right;\n",
       "    }\n",
       "</style>\n",
       "<table border=\"1\" class=\"dataframe\">\n",
       "  <thead>\n",
       "    <tr style=\"text-align: right;\">\n",
       "      <th></th>\n",
       "      <th>State</th>\n",
       "      <th>Participation</th>\n",
       "      <th>Composite</th>\n",
       "      <th>Year</th>\n",
       "    </tr>\n",
       "  </thead>\n",
       "  <tbody>\n",
       "    <tr>\n",
       "      <th>0</th>\n",
       "      <td>National</td>\n",
       "      <td>60%</td>\n",
       "      <td>21.0</td>\n",
       "      <td>2017</td>\n",
       "    </tr>\n",
       "    <tr>\n",
       "      <th>1</th>\n",
       "      <td>Alabama</td>\n",
       "      <td>100%</td>\n",
       "      <td>19.2</td>\n",
       "      <td>2017</td>\n",
       "    </tr>\n",
       "    <tr>\n",
       "      <th>2</th>\n",
       "      <td>Alaska</td>\n",
       "      <td>65%</td>\n",
       "      <td>19.8</td>\n",
       "      <td>2017</td>\n",
       "    </tr>\n",
       "    <tr>\n",
       "      <th>3</th>\n",
       "      <td>Arizona</td>\n",
       "      <td>62%</td>\n",
       "      <td>19.7</td>\n",
       "      <td>2017</td>\n",
       "    </tr>\n",
       "    <tr>\n",
       "      <th>4</th>\n",
       "      <td>Arkansas</td>\n",
       "      <td>100%</td>\n",
       "      <td>19.4</td>\n",
       "      <td>2017</td>\n",
       "    </tr>\n",
       "  </tbody>\n",
       "</table>\n",
       "</div>"
      ],
      "text/plain": [
       "      State Participation Composite  Year\n",
       "0  National           60%      21.0  2017\n",
       "1   Alabama          100%      19.2  2017\n",
       "2    Alaska           65%      19.8  2017\n",
       "3   Arizona           62%      19.7  2017\n",
       "4  Arkansas          100%      19.4  2017"
      ]
     },
     "execution_count": 397,
     "metadata": {},
     "output_type": "execute_result"
    }
   ],
   "source": [
    "act_2017_df['Year'] = 2017\n",
    "act_2017_df.head()"
   ]
  },
  {
   "cell_type": "code",
   "execution_count": 398,
   "metadata": {},
   "outputs": [
    {
     "name": "stdout",
     "output_type": "stream",
     "text": [
      "<class 'pandas.core.frame.DataFrame'>\n",
      "RangeIndex: 52 entries, 0 to 51\n",
      "Data columns (total 3 columns):\n",
      " #   Column         Non-Null Count  Dtype  \n",
      "---  ------         --------------  -----  \n",
      " 0   State          52 non-null     object \n",
      " 1   Participation  52 non-null     object \n",
      " 2   Composite      52 non-null     float64\n",
      "dtypes: float64(1), object(2)\n",
      "memory usage: 1.3+ KB\n"
     ]
    },
    {
     "data": {
      "text/html": [
       "<div>\n",
       "<style scoped>\n",
       "    .dataframe tbody tr th:only-of-type {\n",
       "        vertical-align: middle;\n",
       "    }\n",
       "\n",
       "    .dataframe tbody tr th {\n",
       "        vertical-align: top;\n",
       "    }\n",
       "\n",
       "    .dataframe thead th {\n",
       "        text-align: right;\n",
       "    }\n",
       "</style>\n",
       "<table border=\"1\" class=\"dataframe\">\n",
       "  <thead>\n",
       "    <tr style=\"text-align: right;\">\n",
       "      <th></th>\n",
       "      <th>State</th>\n",
       "      <th>Participation</th>\n",
       "      <th>Composite</th>\n",
       "      <th>Year</th>\n",
       "    </tr>\n",
       "  </thead>\n",
       "  <tbody>\n",
       "    <tr>\n",
       "      <th>0</th>\n",
       "      <td>Alabama</td>\n",
       "      <td>100%</td>\n",
       "      <td>19.1</td>\n",
       "      <td>2018</td>\n",
       "    </tr>\n",
       "    <tr>\n",
       "      <th>1</th>\n",
       "      <td>Alaska</td>\n",
       "      <td>33%</td>\n",
       "      <td>20.8</td>\n",
       "      <td>2018</td>\n",
       "    </tr>\n",
       "    <tr>\n",
       "      <th>2</th>\n",
       "      <td>Arizona</td>\n",
       "      <td>66%</td>\n",
       "      <td>19.2</td>\n",
       "      <td>2018</td>\n",
       "    </tr>\n",
       "    <tr>\n",
       "      <th>3</th>\n",
       "      <td>Arkansas</td>\n",
       "      <td>100%</td>\n",
       "      <td>19.4</td>\n",
       "      <td>2018</td>\n",
       "    </tr>\n",
       "    <tr>\n",
       "      <th>4</th>\n",
       "      <td>California</td>\n",
       "      <td>27%</td>\n",
       "      <td>22.7</td>\n",
       "      <td>2018</td>\n",
       "    </tr>\n",
       "  </tbody>\n",
       "</table>\n",
       "</div>"
      ],
      "text/plain": [
       "        State Participation  Composite  Year\n",
       "0     Alabama          100%       19.1  2018\n",
       "1      Alaska           33%       20.8  2018\n",
       "2     Arizona           66%       19.2  2018\n",
       "3    Arkansas          100%       19.4  2018\n",
       "4  California           27%       22.7  2018"
      ]
     },
     "execution_count": 398,
     "metadata": {},
     "output_type": "execute_result"
    }
   ],
   "source": [
    "act_2018_df.info()\n",
    "act_2018_df['Year'] = 2018\n",
    "act_2018_df.head()"
   ]
  },
  {
   "cell_type": "code",
   "execution_count": 399,
   "metadata": {},
   "outputs": [
    {
     "data": {
      "text/html": [
       "<div>\n",
       "<style scoped>\n",
       "    .dataframe tbody tr th:only-of-type {\n",
       "        vertical-align: middle;\n",
       "    }\n",
       "\n",
       "    .dataframe tbody tr th {\n",
       "        vertical-align: top;\n",
       "    }\n",
       "\n",
       "    .dataframe thead th {\n",
       "        text-align: right;\n",
       "    }\n",
       "</style>\n",
       "<table border=\"1\" class=\"dataframe\">\n",
       "  <thead>\n",
       "    <tr style=\"text-align: right;\">\n",
       "      <th></th>\n",
       "      <th>State</th>\n",
       "      <th>Participation</th>\n",
       "      <th>Composite</th>\n",
       "      <th>Year</th>\n",
       "    </tr>\n",
       "  </thead>\n",
       "  <tbody>\n",
       "    <tr>\n",
       "      <th>0</th>\n",
       "      <td>Alabama</td>\n",
       "      <td>100%</td>\n",
       "      <td>18.9</td>\n",
       "      <td>2019</td>\n",
       "    </tr>\n",
       "    <tr>\n",
       "      <th>1</th>\n",
       "      <td>Alaska</td>\n",
       "      <td>38%</td>\n",
       "      <td>20.1</td>\n",
       "      <td>2019</td>\n",
       "    </tr>\n",
       "    <tr>\n",
       "      <th>2</th>\n",
       "      <td>Arizona</td>\n",
       "      <td>73%</td>\n",
       "      <td>19.0</td>\n",
       "      <td>2019</td>\n",
       "    </tr>\n",
       "    <tr>\n",
       "      <th>3</th>\n",
       "      <td>Arkansas</td>\n",
       "      <td>100%</td>\n",
       "      <td>19.3</td>\n",
       "      <td>2019</td>\n",
       "    </tr>\n",
       "    <tr>\n",
       "      <th>4</th>\n",
       "      <td>California</td>\n",
       "      <td>23%</td>\n",
       "      <td>22.6</td>\n",
       "      <td>2019</td>\n",
       "    </tr>\n",
       "  </tbody>\n",
       "</table>\n",
       "</div>"
      ],
      "text/plain": [
       "        State Participation  Composite  Year\n",
       "0     Alabama          100%       18.9  2019\n",
       "1      Alaska           38%       20.1  2019\n",
       "2     Arizona           73%       19.0  2019\n",
       "3    Arkansas          100%       19.3  2019\n",
       "4  California           23%       22.6  2019"
      ]
     },
     "execution_count": 399,
     "metadata": {},
     "output_type": "execute_result"
    }
   ],
   "source": [
    "act_2019_df.head()\n",
    "act_2019_df['Year'] = 2019\n",
    "act_2019_df.head()"
   ]
  },
  {
   "cell_type": "code",
   "execution_count": 400,
   "metadata": {},
   "outputs": [
    {
     "data": {
      "text/html": [
       "<div>\n",
       "<style scoped>\n",
       "    .dataframe tbody tr th:only-of-type {\n",
       "        vertical-align: middle;\n",
       "    }\n",
       "\n",
       "    .dataframe tbody tr th {\n",
       "        vertical-align: top;\n",
       "    }\n",
       "\n",
       "    .dataframe thead th {\n",
       "        text-align: right;\n",
       "    }\n",
       "</style>\n",
       "<table border=\"1\" class=\"dataframe\">\n",
       "  <thead>\n",
       "    <tr style=\"text-align: right;\">\n",
       "      <th></th>\n",
       "      <th>State</th>\n",
       "      <th>Participation</th>\n",
       "      <th>Composite</th>\n",
       "      <th>Year</th>\n",
       "    </tr>\n",
       "  </thead>\n",
       "  <tbody>\n",
       "    <tr>\n",
       "      <th>0</th>\n",
       "      <td>National</td>\n",
       "      <td>60%</td>\n",
       "      <td>21.0</td>\n",
       "      <td>2017</td>\n",
       "    </tr>\n",
       "    <tr>\n",
       "      <th>1</th>\n",
       "      <td>Alabama</td>\n",
       "      <td>100%</td>\n",
       "      <td>19.2</td>\n",
       "      <td>2017</td>\n",
       "    </tr>\n",
       "    <tr>\n",
       "      <th>2</th>\n",
       "      <td>Alaska</td>\n",
       "      <td>65%</td>\n",
       "      <td>19.8</td>\n",
       "      <td>2017</td>\n",
       "    </tr>\n",
       "    <tr>\n",
       "      <th>3</th>\n",
       "      <td>Arizona</td>\n",
       "      <td>62%</td>\n",
       "      <td>19.7</td>\n",
       "      <td>2017</td>\n",
       "    </tr>\n",
       "    <tr>\n",
       "      <th>4</th>\n",
       "      <td>Arkansas</td>\n",
       "      <td>100%</td>\n",
       "      <td>19.4</td>\n",
       "      <td>2017</td>\n",
       "    </tr>\n",
       "  </tbody>\n",
       "</table>\n",
       "</div>"
      ],
      "text/plain": [
       "      State Participation Composite  Year\n",
       "0  National           60%      21.0  2017\n",
       "1   Alabama          100%      19.2  2017\n",
       "2    Alaska           65%      19.8  2017\n",
       "3   Arizona           62%      19.7  2017\n",
       "4  Arkansas          100%      19.4  2017"
      ]
     },
     "execution_count": 400,
     "metadata": {},
     "output_type": "execute_result"
    }
   ],
   "source": [
    "['act_'+str(year)+'_df' for year in range(2017,2020)]\n",
    "act_all_dfs = [act_2017_df, act_2018_df, act_2019_df]\n",
    "act_all_df = pd.concat(act_all_dfs)\n",
    "act_all_df.head()"
   ]
  },
  {
   "cell_type": "code",
   "execution_count": 401,
   "metadata": {},
   "outputs": [
    {
     "name": "stdout",
     "output_type": "stream",
     "text": [
      "(52, 4)\n",
      "(52, 4)\n",
      "(52, 4)\n",
      "(156, 4)\n"
     ]
    }
   ],
   "source": [
    "#Checking that each year's df got completely included in the 'all' df\n",
    "print(act_2017_df.shape)\n",
    "print(act_2018_df.shape)\n",
    "print(act_2019_df.shape)\n",
    "\n",
    "print(act_all_df.shape)"
   ]
  },
  {
   "cell_type": "code",
   "execution_count": 402,
   "metadata": {},
   "outputs": [
    {
     "data": {
      "text/html": [
       "<div>\n",
       "<style scoped>\n",
       "    .dataframe tbody tr th:only-of-type {\n",
       "        vertical-align: middle;\n",
       "    }\n",
       "\n",
       "    .dataframe tbody tr th {\n",
       "        vertical-align: top;\n",
       "    }\n",
       "\n",
       "    .dataframe thead th {\n",
       "        text-align: right;\n",
       "    }\n",
       "</style>\n",
       "<table border=\"1\" class=\"dataframe\">\n",
       "  <thead>\n",
       "    <tr style=\"text-align: right;\">\n",
       "      <th></th>\n",
       "      <th>State</th>\n",
       "      <th>Participation</th>\n",
       "      <th>EBRW</th>\n",
       "      <th>Math</th>\n",
       "      <th>Total</th>\n",
       "      <th>Year</th>\n",
       "    </tr>\n",
       "  </thead>\n",
       "  <tbody>\n",
       "    <tr>\n",
       "      <th>0</th>\n",
       "      <td>Alabama</td>\n",
       "      <td>5%</td>\n",
       "      <td>593</td>\n",
       "      <td>572</td>\n",
       "      <td>1165</td>\n",
       "      <td>2017</td>\n",
       "    </tr>\n",
       "    <tr>\n",
       "      <th>1</th>\n",
       "      <td>Alaska</td>\n",
       "      <td>38%</td>\n",
       "      <td>547</td>\n",
       "      <td>533</td>\n",
       "      <td>1080</td>\n",
       "      <td>2017</td>\n",
       "    </tr>\n",
       "    <tr>\n",
       "      <th>2</th>\n",
       "      <td>Arizona</td>\n",
       "      <td>30%</td>\n",
       "      <td>563</td>\n",
       "      <td>553</td>\n",
       "      <td>1116</td>\n",
       "      <td>2017</td>\n",
       "    </tr>\n",
       "    <tr>\n",
       "      <th>3</th>\n",
       "      <td>Arkansas</td>\n",
       "      <td>3%</td>\n",
       "      <td>614</td>\n",
       "      <td>594</td>\n",
       "      <td>1208</td>\n",
       "      <td>2017</td>\n",
       "    </tr>\n",
       "    <tr>\n",
       "      <th>4</th>\n",
       "      <td>California</td>\n",
       "      <td>53%</td>\n",
       "      <td>531</td>\n",
       "      <td>524</td>\n",
       "      <td>1055</td>\n",
       "      <td>2017</td>\n",
       "    </tr>\n",
       "  </tbody>\n",
       "</table>\n",
       "</div>"
      ],
      "text/plain": [
       "        State Participation  EBRW  Math  Total  Year\n",
       "0     Alabama            5%   593   572   1165  2017\n",
       "1      Alaska           38%   547   533   1080  2017\n",
       "2     Arizona           30%   563   553   1116  2017\n",
       "3    Arkansas            3%   614   594   1208  2017\n",
       "4  California           53%   531   524   1055  2017"
      ]
     },
     "execution_count": 402,
     "metadata": {},
     "output_type": "execute_result"
    }
   ],
   "source": [
    "sat_2017_df.head()\n",
    "sat_2017_df.rename(columns = {'Evidence-Based Reading and Writing':'EBRW'}, inplace=True)\n",
    "sat_2017_df['Year'] = 2017\n",
    "sat_2017_df.head()"
   ]
  },
  {
   "cell_type": "code",
   "execution_count": 403,
   "metadata": {},
   "outputs": [
    {
     "data": {
      "text/html": [
       "<div>\n",
       "<style scoped>\n",
       "    .dataframe tbody tr th:only-of-type {\n",
       "        vertical-align: middle;\n",
       "    }\n",
       "\n",
       "    .dataframe tbody tr th {\n",
       "        vertical-align: top;\n",
       "    }\n",
       "\n",
       "    .dataframe thead th {\n",
       "        text-align: right;\n",
       "    }\n",
       "</style>\n",
       "<table border=\"1\" class=\"dataframe\">\n",
       "  <thead>\n",
       "    <tr style=\"text-align: right;\">\n",
       "      <th></th>\n",
       "      <th>State</th>\n",
       "      <th>Participation</th>\n",
       "      <th>EBRW</th>\n",
       "      <th>Math</th>\n",
       "      <th>Total</th>\n",
       "      <th>Year</th>\n",
       "    </tr>\n",
       "  </thead>\n",
       "  <tbody>\n",
       "    <tr>\n",
       "      <th>0</th>\n",
       "      <td>Alabama</td>\n",
       "      <td>6%</td>\n",
       "      <td>595</td>\n",
       "      <td>571</td>\n",
       "      <td>1166</td>\n",
       "      <td>2018</td>\n",
       "    </tr>\n",
       "    <tr>\n",
       "      <th>1</th>\n",
       "      <td>Alaska</td>\n",
       "      <td>43%</td>\n",
       "      <td>562</td>\n",
       "      <td>544</td>\n",
       "      <td>1106</td>\n",
       "      <td>2018</td>\n",
       "    </tr>\n",
       "    <tr>\n",
       "      <th>2</th>\n",
       "      <td>Arizona</td>\n",
       "      <td>29%</td>\n",
       "      <td>577</td>\n",
       "      <td>572</td>\n",
       "      <td>1149</td>\n",
       "      <td>2018</td>\n",
       "    </tr>\n",
       "    <tr>\n",
       "      <th>3</th>\n",
       "      <td>Arkansas</td>\n",
       "      <td>5%</td>\n",
       "      <td>592</td>\n",
       "      <td>576</td>\n",
       "      <td>1169</td>\n",
       "      <td>2018</td>\n",
       "    </tr>\n",
       "    <tr>\n",
       "      <th>4</th>\n",
       "      <td>California</td>\n",
       "      <td>60%</td>\n",
       "      <td>540</td>\n",
       "      <td>536</td>\n",
       "      <td>1076</td>\n",
       "      <td>2018</td>\n",
       "    </tr>\n",
       "  </tbody>\n",
       "</table>\n",
       "</div>"
      ],
      "text/plain": [
       "        State Participation  EBRW  Math  Total  Year\n",
       "0     Alabama            6%   595   571   1166  2018\n",
       "1      Alaska           43%   562   544   1106  2018\n",
       "2     Arizona           29%   577   572   1149  2018\n",
       "3    Arkansas            5%   592   576   1169  2018\n",
       "4  California           60%   540   536   1076  2018"
      ]
     },
     "execution_count": 403,
     "metadata": {},
     "output_type": "execute_result"
    }
   ],
   "source": [
    "sat_2018_df.head()\n",
    "sat_2018_df.rename(columns = {'Evidence-Based Reading and Writing':'EBRW'}, inplace=True)\n",
    "sat_2018_df['Year'] = 2018\n",
    "sat_2018_df.head()"
   ]
  },
  {
   "cell_type": "code",
   "execution_count": 404,
   "metadata": {},
   "outputs": [],
   "source": [
    "sat_2019_df.head()\n",
    "sat_2019_df.rename(columns = {'Participation Rate':'Participation'}, inplace=True)\n",
    "sat_2019_df['Year'] = 2019\n",
    "sat_2019_df['Participation'].value_counts()\n",
    "sat_2019_df['Participation'] = sat_2019_df['Participation'].apply(lambda x: x.replace(\"—\", '0'))"
   ]
  },
  {
   "cell_type": "code",
   "execution_count": 405,
   "metadata": {},
   "outputs": [],
   "source": [
    "['sat_'+str(year)+'_df' for year in range(2017,2020)]\n",
    "sat_all_dfs = [sat_2017_df, sat_2018_df, sat_2019_df]\n",
    "sat_all_df = pd.concat(sat_all_dfs)"
   ]
  },
  {
   "cell_type": "code",
   "execution_count": 406,
   "metadata": {},
   "outputs": [
    {
     "name": "stdout",
     "output_type": "stream",
     "text": [
      "(51, 6)\n",
      "(51, 6)\n",
      "(53, 6)\n",
      "(155, 6)\n"
     ]
    }
   ],
   "source": [
    "#Checking that each year's df got completely included in the 'all' df\n",
    "print(sat_2017_df.shape)\n",
    "print(sat_2018_df.shape)\n",
    "print(sat_2019_df.shape)\n",
    "\n",
    "print(sat_all_df.shape)"
   ]
  },
  {
   "cell_type": "code",
   "execution_count": 407,
   "metadata": {},
   "outputs": [
    {
     "name": "stdout",
     "output_type": "stream",
     "text": [
      "<class 'pandas.core.frame.DataFrame'>\n",
      "Int64Index: 156 entries, 0 to 51\n",
      "Data columns (total 4 columns):\n",
      " #   Column         Non-Null Count  Dtype \n",
      "---  ------         --------------  ----- \n",
      " 0   State          156 non-null    object\n",
      " 1   Participation  156 non-null    object\n",
      " 2   Composite      156 non-null    object\n",
      " 3   Year           156 non-null    int64 \n",
      "dtypes: int64(1), object(3)\n",
      "memory usage: 6.1+ KB\n"
     ]
    }
   ],
   "source": [
    "act_all_df.info()"
   ]
  },
  {
   "cell_type": "code",
   "execution_count": 408,
   "metadata": {},
   "outputs": [],
   "source": [
    "act_all_df['Composite'] = act_all_df['Composite'].apply(lambda x: str(x))\n",
    "act_all_df['Composite'] = act_all_df['Composite'].apply(lambda x: x.replace('x',''))\n",
    "act_all_df['Composite'] = act_all_df['Composite'].apply(lambda x: float(x))\n",
    "act_all_df['Participation'] = act_all_df['Participation'].apply(lambda x: str_to_float(x))\n",
    "act_all_df = act_all_df.rename(columns = {orig: orig.lower() for orig in act_all_df.columns})"
   ]
  },
  {
   "cell_type": "code",
   "execution_count": 409,
   "metadata": {},
   "outputs": [
    {
     "name": "stdout",
     "output_type": "stream",
     "text": [
      "<class 'pandas.core.frame.DataFrame'>\n",
      "Int64Index: 156 entries, 0 to 51\n",
      "Data columns (total 4 columns):\n",
      " #   Column         Non-Null Count  Dtype  \n",
      "---  ------         --------------  -----  \n",
      " 0   state          156 non-null    object \n",
      " 1   participation  156 non-null    float64\n",
      " 2   composite      156 non-null    float64\n",
      " 3   year           156 non-null    int64  \n",
      "dtypes: float64(2), int64(1), object(1)\n",
      "memory usage: 6.1+ KB\n"
     ]
    }
   ],
   "source": [
    "act_all_df.info()"
   ]
  },
  {
   "cell_type": "code",
   "execution_count": 410,
   "metadata": {},
   "outputs": [
    {
     "name": "stdout",
     "output_type": "stream",
     "text": [
      "<class 'pandas.core.frame.DataFrame'>\n",
      "Int64Index: 155 entries, 0 to 52\n",
      "Data columns (total 6 columns):\n",
      " #   Column         Non-Null Count  Dtype \n",
      "---  ------         --------------  ----- \n",
      " 0   State          155 non-null    object\n",
      " 1   Participation  155 non-null    object\n",
      " 2   EBRW           155 non-null    int64 \n",
      " 3   Math           155 non-null    int64 \n",
      " 4   Total          155 non-null    int64 \n",
      " 5   Year           155 non-null    int64 \n",
      "dtypes: int64(4), object(2)\n",
      "memory usage: 8.5+ KB\n"
     ]
    }
   ],
   "source": [
    "sat_all_df.info()"
   ]
  },
  {
   "cell_type": "code",
   "execution_count": 411,
   "metadata": {},
   "outputs": [],
   "source": [
    "#sat_all_df['Participation'].value_counts()[:51]"
   ]
  },
  {
   "cell_type": "code",
   "execution_count": 412,
   "metadata": {},
   "outputs": [],
   "source": [
    "sat_all_df['Participation'] = sat_all_df['Participation'].apply(lambda x: str(x))\n",
    "sat_all_df['Participation'] = sat_all_df['Participation'].apply(lambda x: str_to_float(x))"
   ]
  },
  {
   "cell_type": "code",
   "execution_count": 413,
   "metadata": {},
   "outputs": [
    {
     "name": "stdout",
     "output_type": "stream",
     "text": [
      "<class 'pandas.core.frame.DataFrame'>\n",
      "Int64Index: 155 entries, 0 to 52\n",
      "Data columns (total 6 columns):\n",
      " #   Column         Non-Null Count  Dtype  \n",
      "---  ------         --------------  -----  \n",
      " 0   state          155 non-null    object \n",
      " 1   participation  155 non-null    float64\n",
      " 2   ebrw           155 non-null    int64  \n",
      " 3   math           155 non-null    int64  \n",
      " 4   total          155 non-null    int64  \n",
      " 5   year           155 non-null    int64  \n",
      "dtypes: float64(1), int64(4), object(1)\n",
      "memory usage: 8.5+ KB\n"
     ]
    }
   ],
   "source": [
    "# Replacing a couple zero values observed in \"Participation\" with average of all non-zero values\n",
    "sat_average_participation = sat_all_df['Participation'][sat_all_df['Participation']>0].mean() \n",
    "sat_all_df['Participation'] = sat_all_df['Participation'].apply(lambda x: sat_average_participation if x == 0 else x)\n",
    "sat_all_df = sat_all_df.rename(columns = {orig: orig.lower() for orig in sat_all_df.columns})\n",
    "sat_all_df.info()"
   ]
  },
  {
   "cell_type": "code",
   "execution_count": 414,
   "metadata": {},
   "outputs": [
    {
     "data": {
      "text/html": [
       "<div>\n",
       "<style scoped>\n",
       "    .dataframe tbody tr th:only-of-type {\n",
       "        vertical-align: middle;\n",
       "    }\n",
       "\n",
       "    .dataframe tbody tr th {\n",
       "        vertical-align: top;\n",
       "    }\n",
       "\n",
       "    .dataframe thead th {\n",
       "        text-align: right;\n",
       "    }\n",
       "</style>\n",
       "<table border=\"1\" class=\"dataframe\">\n",
       "  <thead>\n",
       "    <tr style=\"text-align: right;\">\n",
       "      <th></th>\n",
       "      <th>School</th>\n",
       "      <th>Test Optional?</th>\n",
       "      <th>Applies to Class Year(s)</th>\n",
       "      <th>Policy Details</th>\n",
       "      <th>Number of Applicants</th>\n",
       "      <th>Accept Rate</th>\n",
       "      <th>SAT Total 25th-75th Percentile</th>\n",
       "      <th>ACT Total 25th-75th Percentile</th>\n",
       "    </tr>\n",
       "  </thead>\n",
       "  <tbody>\n",
       "    <tr>\n",
       "      <th>0</th>\n",
       "      <td>Stanford University</td>\n",
       "      <td>Yes</td>\n",
       "      <td>2021</td>\n",
       "      <td>Stanford has adopted a one-year test optional ...</td>\n",
       "      <td>47452</td>\n",
       "      <td>4.3%</td>\n",
       "      <td>1440-1570</td>\n",
       "      <td>32-35</td>\n",
       "    </tr>\n",
       "    <tr>\n",
       "      <th>1</th>\n",
       "      <td>Harvard College</td>\n",
       "      <td>Yes</td>\n",
       "      <td>2021</td>\n",
       "      <td>Harvard has adopted a one-year test optional p...</td>\n",
       "      <td>42749</td>\n",
       "      <td>4.7%</td>\n",
       "      <td>1460-1580</td>\n",
       "      <td>33-35</td>\n",
       "    </tr>\n",
       "    <tr>\n",
       "      <th>2</th>\n",
       "      <td>Princeton University</td>\n",
       "      <td>Yes</td>\n",
       "      <td>2021</td>\n",
       "      <td>Princeton has adopted a one-year test optional...</td>\n",
       "      <td>35370</td>\n",
       "      <td>5.5%</td>\n",
       "      <td>1440-1570</td>\n",
       "      <td>32-35</td>\n",
       "    </tr>\n",
       "    <tr>\n",
       "      <th>3</th>\n",
       "      <td>Columbia University</td>\n",
       "      <td>Yes</td>\n",
       "      <td>2021</td>\n",
       "      <td>Columbia has adopted a one-year test optional ...</td>\n",
       "      <td>40203</td>\n",
       "      <td>5.5%</td>\n",
       "      <td>1450-1560</td>\n",
       "      <td>33-35</td>\n",
       "    </tr>\n",
       "    <tr>\n",
       "      <th>4</th>\n",
       "      <td>Yale University</td>\n",
       "      <td>Yes</td>\n",
       "      <td>2021</td>\n",
       "      <td>Yale has adopted a one-year test optional poli...</td>\n",
       "      <td>36844</td>\n",
       "      <td>6.1%</td>\n",
       "      <td>1460-1570</td>\n",
       "      <td>33-35</td>\n",
       "    </tr>\n",
       "    <tr>\n",
       "      <th>5</th>\n",
       "      <td>California Institute of Technology</td>\n",
       "      <td>Yes (TB)</td>\n",
       "      <td>2021 2022</td>\n",
       "      <td>CalTech has adopted a two-year Test Blind poli...</td>\n",
       "      <td>8367</td>\n",
       "      <td>6.4%</td>\n",
       "      <td>​​ 1530-1560</td>\n",
       "      <td>35-36</td>\n",
       "    </tr>\n",
       "    <tr>\n",
       "      <th>6</th>\n",
       "      <td>Massachusetts Institute of Technology</td>\n",
       "      <td>Yes</td>\n",
       "      <td>2021</td>\n",
       "      <td>MIT has adopted a one-year test optional polic...</td>\n",
       "      <td>21706</td>\n",
       "      <td>6.7%</td>\n",
       "      <td>​​ 1500-1570</td>\n",
       "      <td>34-36</td>\n",
       "    </tr>\n",
       "  </tbody>\n",
       "</table>\n",
       "</div>"
      ],
      "text/plain": [
       "                                  School Test Optional?  \\\n",
       "0                    Stanford University            Yes   \n",
       "1                        Harvard College            Yes   \n",
       "2                   Princeton University            Yes   \n",
       "3                    Columbia University            Yes   \n",
       "4                        Yale University            Yes   \n",
       "5     California Institute of Technology       Yes (TB)   \n",
       "6  Massachusetts Institute of Technology            Yes   \n",
       "\n",
       "  Applies to Class Year(s)                                     Policy Details  \\\n",
       "0                     2021  Stanford has adopted a one-year test optional ...   \n",
       "1                     2021  Harvard has adopted a one-year test optional p...   \n",
       "2                     2021  Princeton has adopted a one-year test optional...   \n",
       "3                     2021  Columbia has adopted a one-year test optional ...   \n",
       "4                     2021  Yale has adopted a one-year test optional poli...   \n",
       "5                2021 2022  CalTech has adopted a two-year Test Blind poli...   \n",
       "6                     2021  MIT has adopted a one-year test optional polic...   \n",
       "\n",
       "   Number of Applicants Accept Rate SAT Total 25th-75th Percentile  \\\n",
       "0                 47452        4.3%                      1440-1570   \n",
       "1                 42749        4.7%                      1460-1580   \n",
       "2                 35370        5.5%                      1440-1570   \n",
       "3                 40203        5.5%                      1450-1560   \n",
       "4                 36844        6.1%                      1460-1570   \n",
       "5                  8367        6.4%                   ​​ 1530-1560   \n",
       "6                 21706        6.7%                   ​​ 1500-1570   \n",
       "\n",
       "  ACT Total 25th-75th Percentile  \n",
       "0                          32-35  \n",
       "1                          33-35  \n",
       "2                          32-35  \n",
       "3                          33-35  \n",
       "4                          33-35  \n",
       "5                          35-36  \n",
       "6                          34-36  "
      ]
     },
     "execution_count": 414,
     "metadata": {},
     "output_type": "execute_result"
    }
   ],
   "source": [
    "sat_act_by_college_df.head(7)"
   ]
  },
  {
   "cell_type": "code",
   "execution_count": 415,
   "metadata": {},
   "outputs": [],
   "source": [
    "sat_act_by_college_df = sat_act_by_college_df.rename(columns = {orig: orig.lower() for orig in sat_act_by_college_df.columns})\n",
    "sat_act_by_college_df = sat_act_by_college_df.rename(columns = {orig: orig.replace(' ','_') for orig in sat_act_by_college_df.columns})\n",
    "sat_act_by_college_df['accept_rate'] = sat_act_by_college_df['accept_rate'].apply(lambda x: 0 if x in ['-',''] else x)\n",
    "sat_act_by_college_df['accept_rate'] = sat_act_by_college_df['accept_rate'].apply(lambda x: str_to_float(x))"
   ]
  },
  {
   "cell_type": "code",
   "execution_count": 416,
   "metadata": {},
   "outputs": [],
   "source": [
    "sat_act_by_college_df['sat_total_25th'] = sat_act_by_college_df['sat_total_25th-75th_percentile'].apply(lambda x: x.split('-')[0])\n",
    "sat_act_by_college_df['sat_total_75th'] = sat_act_by_college_df['sat_total_25th-75th_percentile'].apply(lambda x: x.split('-')[1])\n",
    "sat_act_by_college_df['sat_total_25th'] = sat_act_by_college_df['sat_total_25th'].apply(lambda x: '0' if x in ['-',''] else x)\n",
    "sat_act_by_college_df['sat_total_75th'] = sat_act_by_college_df['sat_total_25th'].apply(lambda x: '0' if x in ['-',''] else x)"
   ]
  },
  {
   "cell_type": "code",
   "execution_count": 417,
   "metadata": {},
   "outputs": [],
   "source": [
    "sat_act_by_college_df['sat_total_25th'] = sat_act_by_college_df['sat_total_25th'].apply(lambda x: str(x).lstrip('\\u200b\\u200b '))\n",
    "sat_act_by_college_df['sat_total_25th'] = sat_act_by_college_df['sat_total_25th'].apply(lambda x: str_to_float(x))\n",
    "sat_act_by_college_df['sat_total_75th'] = sat_act_by_college_df['sat_total_75th'].apply(lambda x: str(x).lstrip('\\u200b\\u200b '))\n",
    "sat_act_by_college_df['sat_total_75th'] = sat_act_by_college_df['sat_total_75th'].apply(lambda x: str_to_float(x))"
   ]
  },
  {
   "cell_type": "code",
   "execution_count": 420,
   "metadata": {},
   "outputs": [],
   "source": [
    "sat_act_by_college_df['act_total_25th'] = sat_act_by_college_df['act_total_25th-75th_percentile'].apply(lambda x: x.split('-')[0])\n",
    "sat_act_by_college_df['act_total_75th'] = sat_act_by_college_df['act_total_25th-75th_percentile'].apply(lambda x: x.split('-')[1])\n",
    "sat_act_by_college_df['act_total_25th'] = sat_act_by_college_df['act_total_25th'].apply(lambda x: '0' if x in ['-',''] else x)\n",
    "sat_act_by_college_df['act_total_75th'] = sat_act_by_college_df['act_total_25th'].apply(lambda x: '0' if x in ['-',''] else x)\n",
    "sat_act_by_college_df['act_total_25th'] = sat_act_by_college_df['act_total_25th'].apply(lambda x: str_to_float(x))\n",
    "sat_act_by_college_df['act_total_75th'] = sat_act_by_college_df['act_total_75th'].apply(lambda x: str_to_float(x))"
   ]
  },
  {
   "cell_type": "code",
   "execution_count": 425,
   "metadata": {},
   "outputs": [
    {
     "name": "stdout",
     "output_type": "stream",
     "text": [
      "<class 'pandas.core.frame.DataFrame'>\n",
      "RangeIndex: 416 entries, 0 to 415\n",
      "Data columns (total 8 columns):\n",
      " #   Column                          Non-Null Count  Dtype  \n",
      "---  ------                          --------------  -----  \n",
      " 0   school                          416 non-null    object \n",
      " 1   number_of_applicants            416 non-null    int64  \n",
      " 2   accept_rate                     416 non-null    float64\n",
      " 3   act_total_25th-75th_percentile  416 non-null    object \n",
      " 4   sat_total_25th                  416 non-null    float64\n",
      " 5   sat_total_75th                  416 non-null    float64\n",
      " 6   act_total_25th                  416 non-null    float64\n",
      " 7   act_total_75th                  416 non-null    float64\n",
      "dtypes: float64(5), int64(1), object(2)\n",
      "memory usage: 26.1+ KB\n"
     ]
    }
   ],
   "source": [
    "sat_act_by_college_df.drop(['test_optional?', 'applies_to_class_year(s)', 'policy_details', 'sat_total_25th-75th_percentile','sat_total_25th-75th_percentile'], axis = 1, inplace= True)\n",
    "sat_act_by_college_df.info()"
   ]
  },
  {
   "cell_type": "code",
   "execution_count": 427,
   "metadata": {},
   "outputs": [],
   "source": [
    "sat_all_df.to_csv('sat_all.csv')\n",
    "act_all_df.to_csv('act_all.csv')\n",
    "sat_act_by_college_df.to_csv('sat_act_by_college_mod.csv')"
   ]
  },
  {
   "cell_type": "markdown",
   "metadata": {},
   "source": [
    "### Data Dictionary\n",
    "\n",
    "Now that we've fixed our data, and given it appropriate names, let's create a [data dictionary](http://library.ucmerced.edu/node/10249). \n",
    "\n",
    "A data dictionary provides a quick overview of features/variables/columns, alongside data types and descriptions. The more descriptive you can be, the more useful this document is.\n",
    "\n",
    "Example of a Fictional Data Dictionary Entry: \n",
    "\n",
    "|Feature|Type|Dataset|Description|\n",
    "|---|---|---|---|\n",
    "|**county_pop**|*integer*|2010 census|The population of the county (units in thousands, where 2.5 represents 2500 people).| \n",
    "|**per_poverty**|*float*|2010 census|The percent of the county over the age of 18 living below the 200% of official US poverty rate (units percent to two decimal places 98.10 means 98.1%)|\n",
    "\n",
    "[Here's a quick link to a short guide for formatting markdown in Jupyter notebooks](https://jupyter-notebook.readthedocs.io/en/stable/examples/Notebook/Working%20With%20Markdown%20Cells.html).\n",
    "\n",
    "Provided is the skeleton for formatting a markdown table, with columns headers that will help you create a data dictionary to quickly summarize your data, as well as some examples. **This would be a great thing to copy and paste into your custom README for this project.**\n",
    "\n",
    "*Note*: if you are unsure of what a feature is, check the source of the data! This can be found in the README."
   ]
  },
  {
   "cell_type": "markdown",
   "metadata": {},
   "source": [
    "**To-Do:** *Edit the table below to create your own data dictionary for the datasets you chose.*\n",
    "\n",
    "\n",
    "|**Feature**|**Type**|**Dataset**|**Description**|\n",
    "|:---|:---|:---|:---|\n",
    "|---|---|sat_all.csv|...|\n",
    "|---|---|sat_all.csv|...|\n",
    "|---|---|sat_all.csv|...|\n",
    "|---|---|sat_all.csv|...|\n",
    "|---|---|act_all.csv|...|\n",
    "|---|---|act_all.csv|...|\n",
    "|---|---|act_all.csv|...|\n",
    "|---|---|act_all.csv|...|\n",
    "|---|---|act_all.csv|...|\n",
    "|school|string|sat_act_by_college_mod.csv|Name of a U.S. college|\n",
    "|number of applicants|integer|sat_act_by_college_mod.csv|The number of students applying to the college in a year|\n",
    "|accept_rate|float|sat_act_by_college_mod.csv|Percentage of applicants accepted to the college|\n",
    "|sat_total_25th|float|sat_act_by_college_mod.csv|Lower bound of interquartile range of SAT scores for students accepted to school|\n",
    "|sat_total_75th|float|sat_act_by_college_mod.csv|Upper bound of interquartile range of SAT scores for students accepted to school|\n",
    "|act_total_25th|float|sat_act_by_college_mod.csv|Lower bound of interquartile range of ACT scores for students accepted to school|\n",
    "|act_total_75th|float|sat_act_by_college_mod.csv|Upper bound of interquartile range of ACT scores for students accepted to school|"
   ]
  },
  {
   "cell_type": "code",
   "execution_count": 430,
   "metadata": {},
   "outputs": [
    {
     "name": "stdout",
     "output_type": "stream",
     "text": [
      "<class 'pandas.core.frame.DataFrame'>\n",
      "RangeIndex: 416 entries, 0 to 415\n",
      "Data columns (total 8 columns):\n",
      " #   Column                          Non-Null Count  Dtype  \n",
      "---  ------                          --------------  -----  \n",
      " 0   school                          416 non-null    object \n",
      " 1   number_of_applicants            416 non-null    int64  \n",
      " 2   accept_rate                     416 non-null    float64\n",
      " 3   act_total_25th-75th_percentile  416 non-null    object \n",
      " 4   sat_total_25th                  416 non-null    float64\n",
      " 5   sat_total_75th                  416 non-null    float64\n",
      " 6   act_total_25th                  416 non-null    float64\n",
      " 7   act_total_75th                  416 non-null    float64\n",
      "dtypes: float64(5), int64(1), object(2)\n",
      "memory usage: 26.1+ KB\n"
     ]
    }
   ],
   "source": [
    "sat_act_by_college_df.info()"
   ]
  },
  {
   "cell_type": "markdown",
   "metadata": {},
   "source": [
    "## Exploratory Data Analysis\n",
    "\n",
    "Complete the following steps to explore your data. You are welcome to do more EDA than the steps outlined here as you feel necessary:\n",
    "1. Summary Statistics.\n",
    "2. Use a **dictionary comprehension** to apply the standard deviation function you create in part 1 to each numeric column in the dataframe.  **No loops**.\n",
    "    - Assign the output to variable `sd` as a dictionary where: \n",
    "        - Each column name is now a key \n",
    "        - That standard deviation of the column is the value \n",
    "        - *Example Output :* `{'ACT_Math': 120, 'ACT_Reading': 120, ...}`\n",
    "3. Investigate trends in the data.\n",
    "    - Using sorting and/or masking (along with the `.head()` method to avoid printing our entire dataframe), consider questions relevant to your problem statement. Some examples are provided below (but feel free to change these questions for your specific problem):\n",
    "        - Which states have the highest and lowest participation rates for the 2017, 2019, or 2019 SAT and ACT?\n",
    "        - Which states have the highest and lowest mean total/composite scores for the 2017, 2019, or 2019 SAT and ACT?\n",
    "        - Do any states with 100% participation on a given test have a rate change year-to-year?\n",
    "        - Do any states show have >50% participation on *both* tests each year?\n",
    "        - Which colleges have the highest median SAT and ACT scores for admittance?\n",
    "        - Which California school districts have the highest and lowest mean test scores?\n",
    "    - **You should comment on your findings at each step in a markdown cell below your code block**. Make sure you include at least one example of sorting your dataframe by a column, and one example of using boolean filtering (i.e., masking) to select a subset of the dataframe."
   ]
  },
  {
   "cell_type": "markdown",
   "metadata": {},
   "source": [
    "**To-Do:** *Edit this cell with your findings on trends in the data (step 3 above).*"
   ]
  },
  {
   "cell_type": "code",
   "execution_count": 422,
   "metadata": {},
   "outputs": [
    {
     "data": {
      "text/html": [
       "<div>\n",
       "<style scoped>\n",
       "    .dataframe tbody tr th:only-of-type {\n",
       "        vertical-align: middle;\n",
       "    }\n",
       "\n",
       "    .dataframe tbody tr th {\n",
       "        vertical-align: top;\n",
       "    }\n",
       "\n",
       "    .dataframe thead th {\n",
       "        text-align: right;\n",
       "    }\n",
       "</style>\n",
       "<table border=\"1\" class=\"dataframe\">\n",
       "  <thead>\n",
       "    <tr style=\"text-align: right;\">\n",
       "      <th></th>\n",
       "      <th>participation</th>\n",
       "      <th>ebrw</th>\n",
       "      <th>math</th>\n",
       "      <th>total</th>\n",
       "      <th>year</th>\n",
       "    </tr>\n",
       "  </thead>\n",
       "  <tbody>\n",
       "    <tr>\n",
       "      <th>count</th>\n",
       "      <td>155.000000</td>\n",
       "      <td>155.000000</td>\n",
       "      <td>155.000000</td>\n",
       "      <td>155.000000</td>\n",
       "      <td>155.000000</td>\n",
       "    </tr>\n",
       "    <tr>\n",
       "      <th>mean</th>\n",
       "      <td>0.448693</td>\n",
       "      <td>563.529032</td>\n",
       "      <td>550.748387</td>\n",
       "      <td>1117.406452</td>\n",
       "      <td>2018.012903</td>\n",
       "    </tr>\n",
       "    <tr>\n",
       "      <th>std</th>\n",
       "      <td>0.368528</td>\n",
       "      <td>46.842276</td>\n",
       "      <td>63.824190</td>\n",
       "      <td>95.750399</td>\n",
       "      <td>0.821679</td>\n",
       "    </tr>\n",
       "    <tr>\n",
       "      <th>min</th>\n",
       "      <td>0.020000</td>\n",
       "      <td>480.000000</td>\n",
       "      <td>52.000000</td>\n",
       "      <td>935.000000</td>\n",
       "      <td>2017.000000</td>\n",
       "    </tr>\n",
       "    <tr>\n",
       "      <th>25%</th>\n",
       "      <td>0.045000</td>\n",
       "      <td>530.500000</td>\n",
       "      <td>519.500000</td>\n",
       "      <td>1052.000000</td>\n",
       "      <td>2017.000000</td>\n",
       "    </tr>\n",
       "    <tr>\n",
       "      <th>50%</th>\n",
       "      <td>0.490000</td>\n",
       "      <td>552.000000</td>\n",
       "      <td>545.000000</td>\n",
       "      <td>1098.000000</td>\n",
       "      <td>2018.000000</td>\n",
       "    </tr>\n",
       "    <tr>\n",
       "      <th>75%</th>\n",
       "      <td>0.735000</td>\n",
       "      <td>613.000000</td>\n",
       "      <td>595.500000</td>\n",
       "      <td>1209.000000</td>\n",
       "      <td>2019.000000</td>\n",
       "    </tr>\n",
       "    <tr>\n",
       "      <th>max</th>\n",
       "      <td>1.000000</td>\n",
       "      <td>644.000000</td>\n",
       "      <td>655.000000</td>\n",
       "      <td>1298.000000</td>\n",
       "      <td>2019.000000</td>\n",
       "    </tr>\n",
       "  </tbody>\n",
       "</table>\n",
       "</div>"
      ],
      "text/plain": [
       "       participation        ebrw        math        total         year\n",
       "count     155.000000  155.000000  155.000000   155.000000   155.000000\n",
       "mean        0.448693  563.529032  550.748387  1117.406452  2018.012903\n",
       "std         0.368528   46.842276   63.824190    95.750399     0.821679\n",
       "min         0.020000  480.000000   52.000000   935.000000  2017.000000\n",
       "25%         0.045000  530.500000  519.500000  1052.000000  2017.000000\n",
       "50%         0.490000  552.000000  545.000000  1098.000000  2018.000000\n",
       "75%         0.735000  613.000000  595.500000  1209.000000  2019.000000\n",
       "max         1.000000  644.000000  655.000000  1298.000000  2019.000000"
      ]
     },
     "execution_count": 422,
     "metadata": {},
     "output_type": "execute_result"
    }
   ],
   "source": [
    "# Code:\n",
    "# Summary statistics for the sat_all_df dataframe\n",
    "sat_all_df.describe()"
   ]
  },
  {
   "cell_type": "code",
   "execution_count": 423,
   "metadata": {},
   "outputs": [
    {
     "data": {
      "text/html": [
       "<div>\n",
       "<style scoped>\n",
       "    .dataframe tbody tr th:only-of-type {\n",
       "        vertical-align: middle;\n",
       "    }\n",
       "\n",
       "    .dataframe tbody tr th {\n",
       "        vertical-align: top;\n",
       "    }\n",
       "\n",
       "    .dataframe thead th {\n",
       "        text-align: right;\n",
       "    }\n",
       "</style>\n",
       "<table border=\"1\" class=\"dataframe\">\n",
       "  <thead>\n",
       "    <tr style=\"text-align: right;\">\n",
       "      <th></th>\n",
       "      <th>participation</th>\n",
       "      <th>composite</th>\n",
       "      <th>year</th>\n",
       "    </tr>\n",
       "  </thead>\n",
       "  <tbody>\n",
       "    <tr>\n",
       "      <th>count</th>\n",
       "      <td>156.000000</td>\n",
       "      <td>156.000000</td>\n",
       "      <td>156.000000</td>\n",
       "    </tr>\n",
       "    <tr>\n",
       "      <th>mean</th>\n",
       "      <td>0.614551</td>\n",
       "      <td>21.501282</td>\n",
       "      <td>2018.000000</td>\n",
       "    </tr>\n",
       "    <tr>\n",
       "      <th>std</th>\n",
       "      <td>0.334412</td>\n",
       "      <td>2.087010</td>\n",
       "      <td>0.819126</td>\n",
       "    </tr>\n",
       "    <tr>\n",
       "      <th>min</th>\n",
       "      <td>0.060000</td>\n",
       "      <td>17.700000</td>\n",
       "      <td>2017.000000</td>\n",
       "    </tr>\n",
       "    <tr>\n",
       "      <th>25%</th>\n",
       "      <td>0.290000</td>\n",
       "      <td>19.800000</td>\n",
       "      <td>2017.000000</td>\n",
       "    </tr>\n",
       "    <tr>\n",
       "      <th>50%</th>\n",
       "      <td>0.655000</td>\n",
       "      <td>21.250000</td>\n",
       "      <td>2018.000000</td>\n",
       "    </tr>\n",
       "    <tr>\n",
       "      <th>75%</th>\n",
       "      <td>1.000000</td>\n",
       "      <td>23.625000</td>\n",
       "      <td>2019.000000</td>\n",
       "    </tr>\n",
       "    <tr>\n",
       "      <th>max</th>\n",
       "      <td>1.000000</td>\n",
       "      <td>25.600000</td>\n",
       "      <td>2019.000000</td>\n",
       "    </tr>\n",
       "  </tbody>\n",
       "</table>\n",
       "</div>"
      ],
      "text/plain": [
       "       participation   composite         year\n",
       "count     156.000000  156.000000   156.000000\n",
       "mean        0.614551   21.501282  2018.000000\n",
       "std         0.334412    2.087010     0.819126\n",
       "min         0.060000   17.700000  2017.000000\n",
       "25%         0.290000   19.800000  2017.000000\n",
       "50%         0.655000   21.250000  2018.000000\n",
       "75%         1.000000   23.625000  2019.000000\n",
       "max         1.000000   25.600000  2019.000000"
      ]
     },
     "execution_count": 423,
     "metadata": {},
     "output_type": "execute_result"
    }
   ],
   "source": [
    "# Summary statistics for the act_all_df dataframe\n",
    "act_all_df.describe()"
   ]
  },
  {
   "cell_type": "code",
   "execution_count": null,
   "metadata": {},
   "outputs": [],
   "source": [
    "sat_std_dict = {column: stdev_of_values(sat_all_df[column]) for column in sat_all_df.columns if sat_all_df[column].dtype in ['int64', 'float64']}\n",
    "sat_std_dict"
   ]
  },
  {
   "cell_type": "markdown",
   "metadata": {},
   "source": [
    "## Visualize the Data\n",
    "\n",
    "There's not a magic bullet recommendation for the right number of plots to understand a given dataset, but visualizing your data is *always* a good idea. Not only does it allow you to quickly convey your findings (even if you have a non-technical audience), it will often reveal trends in your data that escaped you when you were looking only at numbers. It is important to not only create visualizations, but to **interpret your visualizations** as well.\n",
    "\n",
    "**Every plot should**:\n",
    "- Have a title\n",
    "- Have axis labels\n",
    "- Have appropriate tick labels\n",
    "- Text is legible in a plot\n",
    "- Plots demonstrate meaningful and valid relationships\n",
    "- Have an interpretation to aid understanding\n",
    "\n",
    "Here is an example of what your plots should look like following the above guidelines. Note that while the content of this example is unrelated, the principles of visualization hold:\n",
    "\n",
    "![](https://snag.gy/hCBR1U.jpg)\n",
    "*Interpretation: The above image shows that as we increase our spending on advertising, our sales numbers also tend to increase. There is a positive correlation between advertising spending and sales.*\n",
    "\n",
    "---\n",
    "\n",
    "Here are some prompts to get you started with visualizations. Feel free to add additional visualizations as you see fit:\n",
    "1. Use Seaborn's heatmap with pandas `.corr()` to visualize correlations between all numeric features.\n",
    "    - Heatmaps are generally not appropriate for presentations, and should often be excluded from reports as they can be visually overwhelming. **However**, they can be extremely useful in identify relationships of potential interest (as well as identifying potential collinearity before modeling).\n",
    "    - Please take time to format your output, adding a title. Look through some of the additional arguments and options. (Axis labels aren't really necessary, as long as the title is informative).\n",
    "2. Visualize distributions using histograms. If you have a lot, consider writing a custom function and use subplots.\n",
    "    - *OPTIONAL*: Summarize the underlying distributions of your features (in words & statistics)\n",
    "         - Be thorough in your verbal description of these distributions.\n",
    "         - Be sure to back up these summaries with statistics.\n",
    "         - We generally assume that data we sample from a population will be normally distributed. Do we observe this trend? Explain your answers for each distribution and how you think this will affect estimates made from these data.\n",
    "3. Plot and interpret boxplots. \n",
    "    - Boxplots demonstrate central tendency and spread in variables. In a certain sense, these are somewhat redundant with histograms, but you may be better able to identify clear outliers or differences in IQR, etc.\n",
    "    - Multiple values can be plotted to a single boxplot as long as they are of the same relative scale (meaning they have similar min/max values).\n",
    "    - Each boxplot should:\n",
    "        - Only include variables of a similar scale\n",
    "        - Have clear labels for each variable\n",
    "        - Have appropriate titles and labels\n",
    "4. Plot and interpret scatter plots to view relationships between features. Feel free to write a custom function, and subplot if you'd like. Functions save both time and space.\n",
    "    - Your plots should have:\n",
    "        - Two clearly labeled axes\n",
    "        - A proper title\n",
    "        - Colors and symbols that are clear and unmistakable\n",
    "5. Additional plots of your choosing.\n",
    "    - Are there any additional trends or relationships you haven't explored? Was there something interesting you saw that you'd like to dive further into? It's likely that there are a few more plots you might want to generate to support your narrative and recommendations that you are building toward. **As always, make sure you're interpreting your plots as you go**."
   ]
  },
  {
   "cell_type": "code",
   "execution_count": null,
   "metadata": {},
   "outputs": [],
   "source": [
    "# Code"
   ]
  },
  {
   "cell_type": "markdown",
   "metadata": {},
   "source": [
    "## Conclusions and Recommendations"
   ]
  },
  {
   "cell_type": "markdown",
   "metadata": {},
   "source": [
    "Based on your exploration of the data, what are you key takeaways and recommendations? Make sure to answer your question of interest or address your problem statement here."
   ]
  },
  {
   "cell_type": "markdown",
   "metadata": {},
   "source": [
    "**To-Do:** *Edit this cell with your conclusions and recommendations.*"
   ]
  },
  {
   "cell_type": "markdown",
   "metadata": {},
   "source": [
    "Don't forget to create your README!\n",
    "\n",
    "**To-Do:** *If you combine your problem statement, data dictionary, brief summary of your analysis, and conclusions/recommendations, you have an amazing README.md file that quickly aligns your audience to the contents of your project.* Don't forget to cite your data sources!"
   ]
  }
 ],
 "metadata": {
  "anaconda-cloud": {},
  "kernelspec": {
   "display_name": "Python 3",
   "language": "python",
   "name": "python3"
  },
  "language_info": {
   "codemirror_mode": {
    "name": "ipython",
    "version": 3
   },
   "file_extension": ".py",
   "mimetype": "text/x-python",
   "name": "python",
   "nbconvert_exporter": "python",
   "pygments_lexer": "ipython3",
   "version": "3.8.3"
  }
 },
 "nbformat": 4,
 "nbformat_minor": 4
}
