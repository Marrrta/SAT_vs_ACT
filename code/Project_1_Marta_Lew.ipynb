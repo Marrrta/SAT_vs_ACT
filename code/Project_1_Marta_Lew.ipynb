{
 "cells": [
  {
   "cell_type": "markdown",
   "metadata": {},
   "source": [
    "<img src=\"http://imgur.com/1ZcRyrc.png\" style=\"float: left; margin: 20px; height: 55px\">\n",
    "\n",
    "# Project 1: Standardized Test Analysis"
   ]
  },
  {
   "cell_type": "markdown",
   "metadata": {},
   "source": [
    "--- \n",
    "# Part 1\n",
    "\n",
    "Part 1 requires knowledge of basic Python.\n",
    "\n",
    "---"
   ]
  },
  {
   "cell_type": "markdown",
   "metadata": {},
   "source": [
    "## Problem Statement"
   ]
  },
  {
   "cell_type": "markdown",
   "metadata": {},
   "source": [
    "This project attempts to validate the need for two separate standardized admissions tests in the USA. By examining the popularity and results of both SAT and ACT across all states and top academic institutions in the country, we are ... _fill the blank_ In applying exploratory data analysis to _fill the blank_, we ...\n",
    "\n",
    "**To-Do:** *Replace this cell with your problem statement.*"
   ]
  },
  {
   "cell_type": "markdown",
   "metadata": {},
   "source": [
    "### Contents:\n",
    "- [Background](#Background)\n",
    "- [Data Import & Cleaning](#Data-Import-and-Cleaning)\n",
    "- [Exploratory Data Analysis](#Exploratory-Data-Analysis)\n",
    "- [Data Visualization](#Visualize-the-Data)\n",
    "- [Conclusions and Recommendations](#Conclusions-and-Recommendations)"
   ]
  },
  {
   "cell_type": "markdown",
   "metadata": {},
   "source": [
    "## Background"
   ]
  },
  {
   "cell_type": "markdown",
   "metadata": {},
   "source": [
    "The SAT and ACT are standardized tests that many colleges and universities in the United States require for their admissions process. This score is used along with other materials such as grade point average (GPA) and essay responses to determine whether or not a potential student will be accepted to the university.\n",
    "\n",
    "The SAT has two sections of the test: Evidence-Based Reading and Writing and Math ([*source*](https://www.princetonreview.com/college/sat-sections)). The ACT has 4 sections: English, Mathematics, Reading, and Science, with an additional optional writing section ([*source*](https://www.act.org/content/act/en/products-and-services/the-act/scores/understanding-your-scores.html)). As indicated below, the tests have different score ranges -  you can find more detail on their websites:\n",
    "* [SAT](https://collegereadiness.collegeboard.org/sat): total composite scores range from 400 to 1600\n",
    "* [ACT](https://www.act.org/content/act/en.html): total composite scores range from 1 to 36\n",
    "\n",
    "Standardized tests have long been a controversial for students, administrators, and legislators. Since the 1940's, an increasing number of colleges have been using scores from sudents' performances on tests like the SAT and the ACT as a measure for college readiness and aptitude ([*source*](https://www.minotdailynews.com/news/local-news/2017/04/a-brief-history-of-the-sat-and-act/)). Supporters of these tests argue that these scores can be used as an objective measure to determine college admittance. Opponents of these tests claim that these tests are not accurate measures of students potential or ability and serve as an inequitable barrier to entry. Lately, more and more schools are opting to drop the SAT/ACT requirement for their Fall 2021 applications ([*read more about this here*](https://www.cnn.com/2020/04/14/us/coronavirus-colleges-sat-act-test-trnd/index.html)).\n",
    "\n",
    "**__My possible addition starts here:__**<br>\n",
    "*Both SAT and ACT are offered universally across all states, and students are generally free to select one or the other. The SAT is said to be ... while the ACT supposedly ...([*source*](https://www.xxx)).<br> While the tests are considered equivalent (neither is officially preferred by either ... or colleges, students tend to prepare for the SAT differently than for the SAT...* ([*more information about this can be found here*](https://www.xxx))."
   ]
  },
  {
   "cell_type": "markdown",
   "metadata": {},
   "source": [
    "**To-Do:** *Fill out this cell (or edit the above cell) with any other background or information that is necessary for your problem statement.*"
   ]
  },
  {
   "cell_type": "markdown",
   "metadata": {},
   "source": [
    "### Choose your Data\n",
    "\n",
    "There are 10 datasets included in the [`data`](./data/) folder for this project. You are required to pick **at least two** of these to complete your analysis. Feel free to use more than two if you would like, or add other relevant datasets you find online.\n",
    "\n",
    "* [`act_2017.csv`](./data/act_2017.csv): 2017 ACT Scores by State\n",
    "* [`act_2018.csv`](./data/act_2018.csv): 2018 ACT Scores by State\n",
    "* [`act_2019.csv`](./data/act_2019.csv): 2019 ACT Scores by State\n",
    "* [`act_2019_ca.csv`](./data/act_2019_ca.csv): 2019 ACT Scores in California by School\n",
    "* [`sat_2017.csv`](./data/sat_2017.csv): 2017 SAT Scores by State\n",
    "* [`sat_2018.csv`](./data/sat_2018.csv): 2018 SAT Scores by State\n",
    "* [`sat_2019.csv`](./data/sat_2019.csv): 2019 SAT Scores by State\n",
    "* [`sat_2019_by_intended_college_major.csv`](./data/sat_2019_by_intended_college_major.csv): 2019 SAT Scores by Intended College Major\n",
    "* [`sat_2019_ca.csv`](./data/sat_2019_ca.csv): 2019 SAT Scores in California by School\n",
    "* [`sat_act_by_college.csv`](./data/sat_act_by_college.csv): Ranges of Accepted ACT & SAT Student Scores by Colleges"
   ]
  },
  {
   "cell_type": "markdown",
   "metadata": {},
   "source": [
    "**To-Do:** *Fill out this cell with the datasets you will use for your analysis. Write a brief description of the contents for each dataset that you choose.*"
   ]
  },
  {
   "cell_type": "markdown",
   "metadata": {},
   "source": [
    "### Outside Research"
   ]
  },
  {
   "cell_type": "markdown",
   "metadata": {},
   "source": [
    "Based on your problem statement and your chosen datasets, spend some time doing outside research on state policies or additional information that might be relevant. Summarize your findings below. If you bring in any outside tables or charts, make sure you are explicit about having borrowed them. If you quote any text, make sure that it renders as being quoted. **Make sure that you cite your sources.**"
   ]
  },
  {
   "cell_type": "markdown",
   "metadata": {},
   "source": [
    "**To-Do:** *Fill out this cell with outside research or any additional background information that will support your analysis.*"
   ]
  },
  {
   "cell_type": "markdown",
   "metadata": {},
   "source": [
    "### Coding Challenges\n",
    "\n",
    "1. Manually calculate mean:\n",
    "\n",
    "    Write a function that takes in values and returns the mean of the values. Create a list of numbers that you test on your function to check to make sure your function works!\n",
    "    \n",
    "    *Note*: Do not use any mean methods built-in to any Python libraries to do this! This should be done without importing any additional libraries."
   ]
  },
  {
   "cell_type": "code",
   "execution_count": 228,
   "metadata": {},
   "outputs": [
    {
     "data": {
      "text/plain": [
       "True"
      ]
     },
     "execution_count": 228,
     "metadata": {},
     "output_type": "execute_result"
    }
   ],
   "source": [
    "# importing np to later test my functions:\n",
    "import numpy as np\n",
    "\n",
    "# Code:\n",
    "\n",
    "def mean_of_values(vals):\n",
    "    try:\n",
    "        nom = 0\n",
    "        denom = 0\n",
    "        for val in vals:\n",
    "            nom += val\n",
    "            denom += 1\n",
    "            mean_of_vals = nom / denom\n",
    "        return mean_of_vals\n",
    "    except:\n",
    "        print(\"Did you provide a list of numbers formatted as numbers?\")\n",
    "\n",
    "#testing that function works as expected and returns correct value\n",
    "test_vals = [3,4,5,9,2,0]\n",
    "mean_of_values(test_vals) == np.mean(test_vals)"
   ]
  },
  {
   "cell_type": "markdown",
   "metadata": {},
   "source": [
    "2. Manually calculate standard deviation:\n",
    "\n",
    "    The formula for standard deviation is below:\n",
    "\n",
    "    $$\\sigma = \\sqrt{\\frac{1}{n}\\sum_{i=1}^n(x_i - \\mu)^2}$$\n",
    "\n",
    "    Where $x_i$ represents each value in the dataset, $\\mu$ represents the mean of all values in the dataset and $n$ represents the number of values in the dataset.\n",
    "\n",
    "    Write a function that takes in values and returns the standard deviation of the values using the formula above. Hint: use the function you wrote above to calculate the mean! Use the list of numbers you created above to test on your function.\n",
    "    \n",
    "    *Note*: Do not use any standard deviation methods built-in to any Python libraries to do this! This should be done without importing any additional libraries."
   ]
  },
  {
   "cell_type": "code",
   "execution_count": 229,
   "metadata": {},
   "outputs": [
    {
     "data": {
      "text/plain": [
       "True"
      ]
     },
     "execution_count": 229,
     "metadata": {},
     "output_type": "execute_result"
    }
   ],
   "source": [
    "# Code:\n",
    "def stdev_of_values(vals):\n",
    "    try:\n",
    "        nom = 0\n",
    "        denom = 0\n",
    "        sum_errors_sq = 0\n",
    "        for val in vals:\n",
    "            nom += val\n",
    "            denom += 1\n",
    "            mean_of_vals = nom / denom\n",
    "        for val in vals:\n",
    "            sum_errors_sq += (val - mean_of_vals)**2\n",
    "            std_of_vals = (sum_errors_sq/denom)**0.5\n",
    "        return std_of_vals\n",
    "    except:\n",
    "        print(\"Did you provide a list of numbers formatted as numbers?\")\n",
    "\n",
    "\n",
    "#testing that function works as expected and returns correct value\n",
    "test_vals = [3,4,5,9,2,0]\n",
    "stdev_of_values(test_vals) == np.std(test_vals)"
   ]
  },
  {
   "cell_type": "markdown",
   "metadata": {},
   "source": [
    "3. Data cleaning function:\n",
    "    \n",
    "    Write a function that takes in a string that is a number and a percent symbol (ex. '50%', '30.5%', etc.) and converts this to a float that is the decimal approximation of the percent. For example, inputting '50%' in your function should return 0.5, '30.5%' should return 0.305, etc. Make sure to test your function to make sure it works!\n",
    "\n",
    "You will use these functions later on in the project!"
   ]
  },
  {
   "cell_type": "code",
   "execution_count": 230,
   "metadata": {},
   "outputs": [
    {
     "data": {
      "text/plain": [
       "0.353"
      ]
     },
     "execution_count": 230,
     "metadata": {},
     "output_type": "execute_result"
    }
   ],
   "source": [
    "# Code:\n",
    "def str_to_float(str):\n",
    "    str_no_perc = str.replace('%','')\n",
    "#    str_no_dash = str_no_perc.replace('-','')#some values in my data include a '-' so I want to take care of that at the same time\n",
    "    num = float(str_no_perc)/100\n",
    "    return num\n",
    "\n",
    "#testing the function to make sure it works as intended:\n",
    "str_to_float('35.3%')"
   ]
  },
  {
   "cell_type": "markdown",
   "metadata": {},
   "source": [
    "--- \n",
    "# Part 2\n",
    "\n",
    "Part 2 requires knowledge of Pandas, EDA, data cleaning, and data visualization.\n",
    "\n",
    "---"
   ]
  },
  {
   "cell_type": "markdown",
   "metadata": {},
   "source": [
    "*All libraries used should be added here*"
   ]
  },
  {
   "cell_type": "code",
   "execution_count": 231,
   "metadata": {},
   "outputs": [],
   "source": [
    "# Imports:\n",
    "import numpy as np\n",
    "import pandas as pd\n",
    "import seaborn as sns\n",
    "from matplotlib import pyplot as plt"
   ]
  },
  {
   "cell_type": "markdown",
   "metadata": {},
   "source": [
    "## Data Import and Cleaning"
   ]
  },
  {
   "cell_type": "markdown",
   "metadata": {},
   "source": [
    "### Data Import & Cleaning\n",
    "\n",
    "Import the datasets that you selected for this project and go through the following steps at a minimum. You are welcome to do further cleaning as you feel necessary:\n",
    "1. Display the data: print the first 5 rows of each dataframe to your Jupyter notebook.\n",
    "2. Check for missing values.\n",
    "3. Check for any obvious issues with the observations (keep in mind the minimum & maximum possible values for each test/subtest).\n",
    "4. Fix any errors you identified in steps 2-3.\n",
    "5. Display the data types of each feature.\n",
    "6. Fix any incorrect data types found in step 5.\n",
    "    - Fix any individual values preventing other columns from being the appropriate type.\n",
    "    - If your dataset has a column of percents (ex. '50%', '30.5%', etc.), use the function you wrote in Part 1 (coding challenges, number 3) to convert this to floats! *Hint*: use `.map()` or `.apply()`.\n",
    "7. Rename Columns.\n",
    "    - Column names should be all lowercase.\n",
    "    - Column names should not contain spaces (underscores will suffice--this allows for using the `df.column_name` method to access columns in addition to `df['column_name']`).\n",
    "    - Column names should be unique and informative.\n",
    "8. Drop unnecessary rows (if needed).\n",
    "9. Merge dataframes that can be merged.\n",
    "10. Perform any additional cleaning that you feel is necessary.\n",
    "11. Save your cleaned and merged dataframes as csv files."
   ]
  },
  {
   "cell_type": "code",
   "execution_count": 232,
   "metadata": {},
   "outputs": [],
   "source": [
    "# Code:\n",
    "act_2017_df = pd.read_csv('~/dsi/01-week/project_1/data/act_2017.csv')\n",
    "act_2018_df = pd.read_csv('~/dsi/01-week/project_1/data/act_2018.csv')\n",
    "act_2019_df = pd.read_csv('~/dsi/01-week/project_1/data/act_2019.csv')\n",
    "\n",
    "sat_2017_df = pd.read_csv('~/dsi/01-week/project_1/data/sat_2017.csv')\n",
    "sat_2018_df = pd.read_csv('~/dsi/01-week/project_1/data/sat_2018.csv')\n",
    "sat_2019_df = pd.read_csv('~/dsi/01-week/project_1/data/sat_2019.csv')\n",
    "\n",
    "sat_act_by_college_df = pd.read_csv('~/dsi/01-week/project_1/data/sat_act_by_college.csv', encoding='utf8')"
   ]
  },
  {
   "cell_type": "code",
   "execution_count": 233,
   "metadata": {},
   "outputs": [
    {
     "name": "stdout",
     "output_type": "stream",
     "text": [
      "<class 'pandas.core.frame.DataFrame'>\n",
      "RangeIndex: 52 entries, 0 to 51\n",
      "Data columns (total 7 columns):\n",
      " #   Column         Non-Null Count  Dtype  \n",
      "---  ------         --------------  -----  \n",
      " 0   State          52 non-null     object \n",
      " 1   Participation  52 non-null     object \n",
      " 2   English        52 non-null     float64\n",
      " 3   Math           52 non-null     float64\n",
      " 4   Reading        52 non-null     float64\n",
      " 5   Science        52 non-null     float64\n",
      " 6   Composite      52 non-null     object \n",
      "dtypes: float64(4), object(3)\n",
      "memory usage: 3.0+ KB\n"
     ]
    }
   ],
   "source": [
    "act_2017_df.head()\n",
    "act_2017_df.info()"
   ]
  },
  {
   "cell_type": "code",
   "execution_count": 234,
   "metadata": {},
   "outputs": [],
   "source": [
    "act_2017_df.drop(['English', 'Math', 'Reading', 'Science'], axis = 1, inplace = True)"
   ]
  },
  {
   "cell_type": "code",
   "execution_count": 235,
   "metadata": {},
   "outputs": [
    {
     "data": {
      "text/html": [
       "<div>\n",
       "<style scoped>\n",
       "    .dataframe tbody tr th:only-of-type {\n",
       "        vertical-align: middle;\n",
       "    }\n",
       "\n",
       "    .dataframe tbody tr th {\n",
       "        vertical-align: top;\n",
       "    }\n",
       "\n",
       "    .dataframe thead th {\n",
       "        text-align: right;\n",
       "    }\n",
       "</style>\n",
       "<table border=\"1\" class=\"dataframe\">\n",
       "  <thead>\n",
       "    <tr style=\"text-align: right;\">\n",
       "      <th></th>\n",
       "      <th>State</th>\n",
       "      <th>Participation</th>\n",
       "      <th>Composite</th>\n",
       "      <th>Year</th>\n",
       "    </tr>\n",
       "  </thead>\n",
       "  <tbody>\n",
       "    <tr>\n",
       "      <th>0</th>\n",
       "      <td>National</td>\n",
       "      <td>60%</td>\n",
       "      <td>21.0</td>\n",
       "      <td>2017</td>\n",
       "    </tr>\n",
       "    <tr>\n",
       "      <th>1</th>\n",
       "      <td>Alabama</td>\n",
       "      <td>100%</td>\n",
       "      <td>19.2</td>\n",
       "      <td>2017</td>\n",
       "    </tr>\n",
       "    <tr>\n",
       "      <th>2</th>\n",
       "      <td>Alaska</td>\n",
       "      <td>65%</td>\n",
       "      <td>19.8</td>\n",
       "      <td>2017</td>\n",
       "    </tr>\n",
       "    <tr>\n",
       "      <th>3</th>\n",
       "      <td>Arizona</td>\n",
       "      <td>62%</td>\n",
       "      <td>19.7</td>\n",
       "      <td>2017</td>\n",
       "    </tr>\n",
       "    <tr>\n",
       "      <th>4</th>\n",
       "      <td>Arkansas</td>\n",
       "      <td>100%</td>\n",
       "      <td>19.4</td>\n",
       "      <td>2017</td>\n",
       "    </tr>\n",
       "  </tbody>\n",
       "</table>\n",
       "</div>"
      ],
      "text/plain": [
       "      State Participation Composite  Year\n",
       "0  National           60%      21.0  2017\n",
       "1   Alabama          100%      19.2  2017\n",
       "2    Alaska           65%      19.8  2017\n",
       "3   Arizona           62%      19.7  2017\n",
       "4  Arkansas          100%      19.4  2017"
      ]
     },
     "execution_count": 235,
     "metadata": {},
     "output_type": "execute_result"
    }
   ],
   "source": [
    "act_2017_df['Year'] = 2017\n",
    "act_2017_df.head()"
   ]
  },
  {
   "cell_type": "code",
   "execution_count": 236,
   "metadata": {},
   "outputs": [
    {
     "name": "stdout",
     "output_type": "stream",
     "text": [
      "<class 'pandas.core.frame.DataFrame'>\n",
      "RangeIndex: 52 entries, 0 to 51\n",
      "Data columns (total 3 columns):\n",
      " #   Column         Non-Null Count  Dtype  \n",
      "---  ------         --------------  -----  \n",
      " 0   State          52 non-null     object \n",
      " 1   Participation  52 non-null     object \n",
      " 2   Composite      52 non-null     float64\n",
      "dtypes: float64(1), object(2)\n",
      "memory usage: 1.3+ KB\n"
     ]
    },
    {
     "data": {
      "text/html": [
       "<div>\n",
       "<style scoped>\n",
       "    .dataframe tbody tr th:only-of-type {\n",
       "        vertical-align: middle;\n",
       "    }\n",
       "\n",
       "    .dataframe tbody tr th {\n",
       "        vertical-align: top;\n",
       "    }\n",
       "\n",
       "    .dataframe thead th {\n",
       "        text-align: right;\n",
       "    }\n",
       "</style>\n",
       "<table border=\"1\" class=\"dataframe\">\n",
       "  <thead>\n",
       "    <tr style=\"text-align: right;\">\n",
       "      <th></th>\n",
       "      <th>State</th>\n",
       "      <th>Participation</th>\n",
       "      <th>Composite</th>\n",
       "      <th>Year</th>\n",
       "    </tr>\n",
       "  </thead>\n",
       "  <tbody>\n",
       "    <tr>\n",
       "      <th>0</th>\n",
       "      <td>Alabama</td>\n",
       "      <td>100%</td>\n",
       "      <td>19.1</td>\n",
       "      <td>2018</td>\n",
       "    </tr>\n",
       "    <tr>\n",
       "      <th>1</th>\n",
       "      <td>Alaska</td>\n",
       "      <td>33%</td>\n",
       "      <td>20.8</td>\n",
       "      <td>2018</td>\n",
       "    </tr>\n",
       "    <tr>\n",
       "      <th>2</th>\n",
       "      <td>Arizona</td>\n",
       "      <td>66%</td>\n",
       "      <td>19.2</td>\n",
       "      <td>2018</td>\n",
       "    </tr>\n",
       "    <tr>\n",
       "      <th>3</th>\n",
       "      <td>Arkansas</td>\n",
       "      <td>100%</td>\n",
       "      <td>19.4</td>\n",
       "      <td>2018</td>\n",
       "    </tr>\n",
       "    <tr>\n",
       "      <th>4</th>\n",
       "      <td>California</td>\n",
       "      <td>27%</td>\n",
       "      <td>22.7</td>\n",
       "      <td>2018</td>\n",
       "    </tr>\n",
       "  </tbody>\n",
       "</table>\n",
       "</div>"
      ],
      "text/plain": [
       "        State Participation  Composite  Year\n",
       "0     Alabama          100%       19.1  2018\n",
       "1      Alaska           33%       20.8  2018\n",
       "2     Arizona           66%       19.2  2018\n",
       "3    Arkansas          100%       19.4  2018\n",
       "4  California           27%       22.7  2018"
      ]
     },
     "execution_count": 236,
     "metadata": {},
     "output_type": "execute_result"
    }
   ],
   "source": [
    "act_2018_df.info()\n",
    "act_2018_df['Year'] = 2018\n",
    "act_2018_df.head()"
   ]
  },
  {
   "cell_type": "code",
   "execution_count": 237,
   "metadata": {},
   "outputs": [
    {
     "data": {
      "text/html": [
       "<div>\n",
       "<style scoped>\n",
       "    .dataframe tbody tr th:only-of-type {\n",
       "        vertical-align: middle;\n",
       "    }\n",
       "\n",
       "    .dataframe tbody tr th {\n",
       "        vertical-align: top;\n",
       "    }\n",
       "\n",
       "    .dataframe thead th {\n",
       "        text-align: right;\n",
       "    }\n",
       "</style>\n",
       "<table border=\"1\" class=\"dataframe\">\n",
       "  <thead>\n",
       "    <tr style=\"text-align: right;\">\n",
       "      <th></th>\n",
       "      <th>State</th>\n",
       "      <th>Participation</th>\n",
       "      <th>Composite</th>\n",
       "      <th>Year</th>\n",
       "    </tr>\n",
       "  </thead>\n",
       "  <tbody>\n",
       "    <tr>\n",
       "      <th>0</th>\n",
       "      <td>Alabama</td>\n",
       "      <td>100%</td>\n",
       "      <td>18.9</td>\n",
       "      <td>2019</td>\n",
       "    </tr>\n",
       "    <tr>\n",
       "      <th>1</th>\n",
       "      <td>Alaska</td>\n",
       "      <td>38%</td>\n",
       "      <td>20.1</td>\n",
       "      <td>2019</td>\n",
       "    </tr>\n",
       "    <tr>\n",
       "      <th>2</th>\n",
       "      <td>Arizona</td>\n",
       "      <td>73%</td>\n",
       "      <td>19.0</td>\n",
       "      <td>2019</td>\n",
       "    </tr>\n",
       "    <tr>\n",
       "      <th>3</th>\n",
       "      <td>Arkansas</td>\n",
       "      <td>100%</td>\n",
       "      <td>19.3</td>\n",
       "      <td>2019</td>\n",
       "    </tr>\n",
       "    <tr>\n",
       "      <th>4</th>\n",
       "      <td>California</td>\n",
       "      <td>23%</td>\n",
       "      <td>22.6</td>\n",
       "      <td>2019</td>\n",
       "    </tr>\n",
       "  </tbody>\n",
       "</table>\n",
       "</div>"
      ],
      "text/plain": [
       "        State Participation  Composite  Year\n",
       "0     Alabama          100%       18.9  2019\n",
       "1      Alaska           38%       20.1  2019\n",
       "2     Arizona           73%       19.0  2019\n",
       "3    Arkansas          100%       19.3  2019\n",
       "4  California           23%       22.6  2019"
      ]
     },
     "execution_count": 237,
     "metadata": {},
     "output_type": "execute_result"
    }
   ],
   "source": [
    "act_2019_df.head()\n",
    "act_2019_df['Year'] = 2019\n",
    "act_2019_df.head()"
   ]
  },
  {
   "cell_type": "code",
   "execution_count": 238,
   "metadata": {},
   "outputs": [
    {
     "data": {
      "text/html": [
       "<div>\n",
       "<style scoped>\n",
       "    .dataframe tbody tr th:only-of-type {\n",
       "        vertical-align: middle;\n",
       "    }\n",
       "\n",
       "    .dataframe tbody tr th {\n",
       "        vertical-align: top;\n",
       "    }\n",
       "\n",
       "    .dataframe thead th {\n",
       "        text-align: right;\n",
       "    }\n",
       "</style>\n",
       "<table border=\"1\" class=\"dataframe\">\n",
       "  <thead>\n",
       "    <tr style=\"text-align: right;\">\n",
       "      <th></th>\n",
       "      <th>State</th>\n",
       "      <th>Participation</th>\n",
       "      <th>Composite</th>\n",
       "      <th>Year</th>\n",
       "    </tr>\n",
       "  </thead>\n",
       "  <tbody>\n",
       "    <tr>\n",
       "      <th>0</th>\n",
       "      <td>National</td>\n",
       "      <td>60%</td>\n",
       "      <td>21.0</td>\n",
       "      <td>2017</td>\n",
       "    </tr>\n",
       "    <tr>\n",
       "      <th>1</th>\n",
       "      <td>Alabama</td>\n",
       "      <td>100%</td>\n",
       "      <td>19.2</td>\n",
       "      <td>2017</td>\n",
       "    </tr>\n",
       "    <tr>\n",
       "      <th>2</th>\n",
       "      <td>Alaska</td>\n",
       "      <td>65%</td>\n",
       "      <td>19.8</td>\n",
       "      <td>2017</td>\n",
       "    </tr>\n",
       "    <tr>\n",
       "      <th>3</th>\n",
       "      <td>Arizona</td>\n",
       "      <td>62%</td>\n",
       "      <td>19.7</td>\n",
       "      <td>2017</td>\n",
       "    </tr>\n",
       "    <tr>\n",
       "      <th>4</th>\n",
       "      <td>Arkansas</td>\n",
       "      <td>100%</td>\n",
       "      <td>19.4</td>\n",
       "      <td>2017</td>\n",
       "    </tr>\n",
       "  </tbody>\n",
       "</table>\n",
       "</div>"
      ],
      "text/plain": [
       "      State Participation Composite  Year\n",
       "0  National           60%      21.0  2017\n",
       "1   Alabama          100%      19.2  2017\n",
       "2    Alaska           65%      19.8  2017\n",
       "3   Arizona           62%      19.7  2017\n",
       "4  Arkansas          100%      19.4  2017"
      ]
     },
     "execution_count": 238,
     "metadata": {},
     "output_type": "execute_result"
    }
   ],
   "source": [
    "['act_'+str(year)+'_df' for year in range(2017,2020)]\n",
    "act_all_dfs = [act_2017_df, act_2018_df, act_2019_df]\n",
    "act_all_df = pd.concat(act_all_dfs)\n",
    "act_all_df.head()"
   ]
  },
  {
   "cell_type": "code",
   "execution_count": 239,
   "metadata": {},
   "outputs": [
    {
     "name": "stdout",
     "output_type": "stream",
     "text": [
      "(52, 4)\n",
      "(52, 4)\n",
      "(52, 4)\n",
      "(156, 4)\n"
     ]
    }
   ],
   "source": [
    "#Checking that each year's df got completely included in the 'all' df: 52 + 52 + 52 = 156\n",
    "print(act_2017_df.shape)\n",
    "print(act_2018_df.shape)\n",
    "print(act_2019_df.shape)\n",
    "\n",
    "print(act_all_df.shape)"
   ]
  },
  {
   "cell_type": "code",
   "execution_count": 240,
   "metadata": {},
   "outputs": [
    {
     "data": {
      "text/html": [
       "<div>\n",
       "<style scoped>\n",
       "    .dataframe tbody tr th:only-of-type {\n",
       "        vertical-align: middle;\n",
       "    }\n",
       "\n",
       "    .dataframe tbody tr th {\n",
       "        vertical-align: top;\n",
       "    }\n",
       "\n",
       "    .dataframe thead th {\n",
       "        text-align: right;\n",
       "    }\n",
       "</style>\n",
       "<table border=\"1\" class=\"dataframe\">\n",
       "  <thead>\n",
       "    <tr style=\"text-align: right;\">\n",
       "      <th></th>\n",
       "      <th>State</th>\n",
       "      <th>Participation</th>\n",
       "      <th>EBRW</th>\n",
       "      <th>Math</th>\n",
       "      <th>Total</th>\n",
       "      <th>Year</th>\n",
       "    </tr>\n",
       "  </thead>\n",
       "  <tbody>\n",
       "    <tr>\n",
       "      <th>0</th>\n",
       "      <td>Alabama</td>\n",
       "      <td>5%</td>\n",
       "      <td>593</td>\n",
       "      <td>572</td>\n",
       "      <td>1165</td>\n",
       "      <td>2017</td>\n",
       "    </tr>\n",
       "    <tr>\n",
       "      <th>1</th>\n",
       "      <td>Alaska</td>\n",
       "      <td>38%</td>\n",
       "      <td>547</td>\n",
       "      <td>533</td>\n",
       "      <td>1080</td>\n",
       "      <td>2017</td>\n",
       "    </tr>\n",
       "    <tr>\n",
       "      <th>2</th>\n",
       "      <td>Arizona</td>\n",
       "      <td>30%</td>\n",
       "      <td>563</td>\n",
       "      <td>553</td>\n",
       "      <td>1116</td>\n",
       "      <td>2017</td>\n",
       "    </tr>\n",
       "    <tr>\n",
       "      <th>3</th>\n",
       "      <td>Arkansas</td>\n",
       "      <td>3%</td>\n",
       "      <td>614</td>\n",
       "      <td>594</td>\n",
       "      <td>1208</td>\n",
       "      <td>2017</td>\n",
       "    </tr>\n",
       "    <tr>\n",
       "      <th>4</th>\n",
       "      <td>California</td>\n",
       "      <td>53%</td>\n",
       "      <td>531</td>\n",
       "      <td>524</td>\n",
       "      <td>1055</td>\n",
       "      <td>2017</td>\n",
       "    </tr>\n",
       "  </tbody>\n",
       "</table>\n",
       "</div>"
      ],
      "text/plain": [
       "        State Participation  EBRW  Math  Total  Year\n",
       "0     Alabama            5%   593   572   1165  2017\n",
       "1      Alaska           38%   547   533   1080  2017\n",
       "2     Arizona           30%   563   553   1116  2017\n",
       "3    Arkansas            3%   614   594   1208  2017\n",
       "4  California           53%   531   524   1055  2017"
      ]
     },
     "execution_count": 240,
     "metadata": {},
     "output_type": "execute_result"
    }
   ],
   "source": [
    "sat_2017_df.head()\n",
    "sat_2017_df.rename(columns = {'Evidence-Based Reading and Writing':'EBRW'}, inplace=True)\n",
    "sat_2017_df['Year'] = 2017\n",
    "sat_2017_df.head()"
   ]
  },
  {
   "cell_type": "code",
   "execution_count": 241,
   "metadata": {},
   "outputs": [
    {
     "data": {
      "text/html": [
       "<div>\n",
       "<style scoped>\n",
       "    .dataframe tbody tr th:only-of-type {\n",
       "        vertical-align: middle;\n",
       "    }\n",
       "\n",
       "    .dataframe tbody tr th {\n",
       "        vertical-align: top;\n",
       "    }\n",
       "\n",
       "    .dataframe thead th {\n",
       "        text-align: right;\n",
       "    }\n",
       "</style>\n",
       "<table border=\"1\" class=\"dataframe\">\n",
       "  <thead>\n",
       "    <tr style=\"text-align: right;\">\n",
       "      <th></th>\n",
       "      <th>State</th>\n",
       "      <th>Participation</th>\n",
       "      <th>EBRW</th>\n",
       "      <th>Math</th>\n",
       "      <th>Total</th>\n",
       "      <th>Year</th>\n",
       "    </tr>\n",
       "  </thead>\n",
       "  <tbody>\n",
       "    <tr>\n",
       "      <th>0</th>\n",
       "      <td>Alabama</td>\n",
       "      <td>6%</td>\n",
       "      <td>595</td>\n",
       "      <td>571</td>\n",
       "      <td>1166</td>\n",
       "      <td>2018</td>\n",
       "    </tr>\n",
       "    <tr>\n",
       "      <th>1</th>\n",
       "      <td>Alaska</td>\n",
       "      <td>43%</td>\n",
       "      <td>562</td>\n",
       "      <td>544</td>\n",
       "      <td>1106</td>\n",
       "      <td>2018</td>\n",
       "    </tr>\n",
       "    <tr>\n",
       "      <th>2</th>\n",
       "      <td>Arizona</td>\n",
       "      <td>29%</td>\n",
       "      <td>577</td>\n",
       "      <td>572</td>\n",
       "      <td>1149</td>\n",
       "      <td>2018</td>\n",
       "    </tr>\n",
       "    <tr>\n",
       "      <th>3</th>\n",
       "      <td>Arkansas</td>\n",
       "      <td>5%</td>\n",
       "      <td>592</td>\n",
       "      <td>576</td>\n",
       "      <td>1169</td>\n",
       "      <td>2018</td>\n",
       "    </tr>\n",
       "    <tr>\n",
       "      <th>4</th>\n",
       "      <td>California</td>\n",
       "      <td>60%</td>\n",
       "      <td>540</td>\n",
       "      <td>536</td>\n",
       "      <td>1076</td>\n",
       "      <td>2018</td>\n",
       "    </tr>\n",
       "  </tbody>\n",
       "</table>\n",
       "</div>"
      ],
      "text/plain": [
       "        State Participation  EBRW  Math  Total  Year\n",
       "0     Alabama            6%   595   571   1166  2018\n",
       "1      Alaska           43%   562   544   1106  2018\n",
       "2     Arizona           29%   577   572   1149  2018\n",
       "3    Arkansas            5%   592   576   1169  2018\n",
       "4  California           60%   540   536   1076  2018"
      ]
     },
     "execution_count": 241,
     "metadata": {},
     "output_type": "execute_result"
    }
   ],
   "source": [
    "sat_2018_df.head()\n",
    "sat_2018_df.rename(columns = {'Evidence-Based Reading and Writing':'EBRW'}, inplace=True)\n",
    "sat_2018_df['Year'] = 2018\n",
    "sat_2018_df.head()"
   ]
  },
  {
   "cell_type": "code",
   "execution_count": 222,
   "metadata": {},
   "outputs": [],
   "source": [
    "sat_2019_df.head()\n",
    "sat_2019_df.rename(columns = {'Participation Rate':'Participation'}, inplace=True)\n",
    "sat_2019_df['Year'] = 2019\n",
    "sat_2019_df['Participation'].value_counts()\n",
    "sat_2019_df['Participation'] = sat_2019_df['Participation'].apply(lambda x: x.replace(\"—\", '0'))"
   ]
  },
  {
   "cell_type": "code",
   "execution_count": 223,
   "metadata": {},
   "outputs": [],
   "source": [
    "['sat_'+str(year)+'_df' for year in range(2017,2020)]\n",
    "sat_all_dfs = [sat_2017_df, sat_2018_df, sat_2019_df]\n",
    "sat_all_df = pd.concat(sat_all_dfs)"
   ]
  },
  {
   "cell_type": "code",
   "execution_count": 243,
   "metadata": {},
   "outputs": [
    {
     "data": {
      "text/html": [
       "<div>\n",
       "<style scoped>\n",
       "    .dataframe tbody tr th:only-of-type {\n",
       "        vertical-align: middle;\n",
       "    }\n",
       "\n",
       "    .dataframe tbody tr th {\n",
       "        vertical-align: top;\n",
       "    }\n",
       "\n",
       "    .dataframe thead th {\n",
       "        text-align: right;\n",
       "    }\n",
       "</style>\n",
       "<table border=\"1\" class=\"dataframe\">\n",
       "  <thead>\n",
       "    <tr style=\"text-align: right;\">\n",
       "      <th></th>\n",
       "      <th>State</th>\n",
       "      <th>Participation</th>\n",
       "      <th>EBRW</th>\n",
       "      <th>Math</th>\n",
       "      <th>Total</th>\n",
       "      <th>Year</th>\n",
       "      <th>total_norm</th>\n",
       "    </tr>\n",
       "  </thead>\n",
       "  <tbody>\n",
       "    <tr>\n",
       "      <th>0</th>\n",
       "      <td>Alabama</td>\n",
       "      <td>5%</td>\n",
       "      <td>593</td>\n",
       "      <td>572</td>\n",
       "      <td>1165</td>\n",
       "      <td>2017</td>\n",
       "      <td>0.637500</td>\n",
       "    </tr>\n",
       "    <tr>\n",
       "      <th>1</th>\n",
       "      <td>Alaska</td>\n",
       "      <td>38%</td>\n",
       "      <td>547</td>\n",
       "      <td>533</td>\n",
       "      <td>1080</td>\n",
       "      <td>2017</td>\n",
       "      <td>0.566667</td>\n",
       "    </tr>\n",
       "    <tr>\n",
       "      <th>2</th>\n",
       "      <td>Arizona</td>\n",
       "      <td>30%</td>\n",
       "      <td>563</td>\n",
       "      <td>553</td>\n",
       "      <td>1116</td>\n",
       "      <td>2017</td>\n",
       "      <td>0.596667</td>\n",
       "    </tr>\n",
       "    <tr>\n",
       "      <th>3</th>\n",
       "      <td>Arkansas</td>\n",
       "      <td>3%</td>\n",
       "      <td>614</td>\n",
       "      <td>594</td>\n",
       "      <td>1208</td>\n",
       "      <td>2017</td>\n",
       "      <td>0.673333</td>\n",
       "    </tr>\n",
       "    <tr>\n",
       "      <th>4</th>\n",
       "      <td>California</td>\n",
       "      <td>53%</td>\n",
       "      <td>531</td>\n",
       "      <td>524</td>\n",
       "      <td>1055</td>\n",
       "      <td>2017</td>\n",
       "      <td>0.545833</td>\n",
       "    </tr>\n",
       "  </tbody>\n",
       "</table>\n",
       "</div>"
      ],
      "text/plain": [
       "        State Participation  EBRW  Math  Total  Year  total_norm\n",
       "0     Alabama            5%   593   572   1165  2017    0.637500\n",
       "1      Alaska           38%   547   533   1080  2017    0.566667\n",
       "2     Arizona           30%   563   553   1116  2017    0.596667\n",
       "3    Arkansas            3%   614   594   1208  2017    0.673333\n",
       "4  California           53%   531   524   1055  2017    0.545833"
      ]
     },
     "execution_count": 243,
     "metadata": {},
     "output_type": "execute_result"
    }
   ],
   "source": [
    "#applying min-max normalization to total column in SAT column:\n",
    "sat_all_df['total_norm'] = (sat_all_df['Total'] - 400)/1200\n",
    "sat_all_df.head()"
   ]
  },
  {
   "cell_type": "code",
   "execution_count": 244,
   "metadata": {},
   "outputs": [
    {
     "name": "stdout",
     "output_type": "stream",
     "text": [
      "(51, 6)\n",
      "(51, 6)\n",
      "(53, 5)\n",
      "(155, 7)\n"
     ]
    }
   ],
   "source": [
    "#Checking that each year's df got completely included in the 'all' df: 51 + 51 + 53 = 155\n",
    "print(sat_2017_df.shape)\n",
    "print(sat_2018_df.shape)\n",
    "print(sat_2019_df.shape)\n",
    "\n",
    "print(sat_all_df.shape)"
   ]
  },
  {
   "cell_type": "code",
   "execution_count": 245,
   "metadata": {},
   "outputs": [
    {
     "name": "stdout",
     "output_type": "stream",
     "text": [
      "<class 'pandas.core.frame.DataFrame'>\n",
      "Int64Index: 156 entries, 0 to 51\n",
      "Data columns (total 4 columns):\n",
      " #   Column         Non-Null Count  Dtype \n",
      "---  ------         --------------  ----- \n",
      " 0   State          156 non-null    object\n",
      " 1   Participation  156 non-null    object\n",
      " 2   Total          156 non-null    object\n",
      " 3   Year           156 non-null    int64 \n",
      "dtypes: int64(1), object(3)\n",
      "memory usage: 6.1+ KB\n"
     ]
    }
   ],
   "source": [
    "act_all_df.rename(columns = {'Composite': 'Total'}, inplace= True)\n",
    "act_all_df.info()"
   ]
  },
  {
   "cell_type": "code",
   "execution_count": 246,
   "metadata": {},
   "outputs": [],
   "source": [
    "act_all_df['Total'] = act_all_df['Total'].apply(lambda x: str(x))\n",
    "act_all_df['Total'] = act_all_df['Total'].apply(lambda x: x.replace('x',''))\n",
    "act_all_df['Total'] = act_all_df['Total'].apply(lambda x: float(x))\n",
    "act_all_df['Participation'] = act_all_df['Participation'].apply(lambda x: str_to_float(x))\n",
    "act_all_df = act_all_df.rename(columns = {orig: orig.lower() for orig in act_all_df.columns})"
   ]
  },
  {
   "cell_type": "code",
   "execution_count": 247,
   "metadata": {},
   "outputs": [
    {
     "data": {
      "text/html": [
       "<div>\n",
       "<style scoped>\n",
       "    .dataframe tbody tr th:only-of-type {\n",
       "        vertical-align: middle;\n",
       "    }\n",
       "\n",
       "    .dataframe tbody tr th {\n",
       "        vertical-align: top;\n",
       "    }\n",
       "\n",
       "    .dataframe thead th {\n",
       "        text-align: right;\n",
       "    }\n",
       "</style>\n",
       "<table border=\"1\" class=\"dataframe\">\n",
       "  <thead>\n",
       "    <tr style=\"text-align: right;\">\n",
       "      <th></th>\n",
       "      <th>state</th>\n",
       "      <th>participation</th>\n",
       "      <th>total</th>\n",
       "      <th>year</th>\n",
       "      <th>total_norm</th>\n",
       "    </tr>\n",
       "  </thead>\n",
       "  <tbody>\n",
       "    <tr>\n",
       "      <th>0</th>\n",
       "      <td>National</td>\n",
       "      <td>0.60</td>\n",
       "      <td>21.0</td>\n",
       "      <td>2017</td>\n",
       "      <td>0.571429</td>\n",
       "    </tr>\n",
       "    <tr>\n",
       "      <th>1</th>\n",
       "      <td>Alabama</td>\n",
       "      <td>1.00</td>\n",
       "      <td>19.2</td>\n",
       "      <td>2017</td>\n",
       "      <td>0.520000</td>\n",
       "    </tr>\n",
       "    <tr>\n",
       "      <th>2</th>\n",
       "      <td>Alaska</td>\n",
       "      <td>0.65</td>\n",
       "      <td>19.8</td>\n",
       "      <td>2017</td>\n",
       "      <td>0.537143</td>\n",
       "    </tr>\n",
       "    <tr>\n",
       "      <th>3</th>\n",
       "      <td>Arizona</td>\n",
       "      <td>0.62</td>\n",
       "      <td>19.7</td>\n",
       "      <td>2017</td>\n",
       "      <td>0.534286</td>\n",
       "    </tr>\n",
       "    <tr>\n",
       "      <th>4</th>\n",
       "      <td>Arkansas</td>\n",
       "      <td>1.00</td>\n",
       "      <td>19.4</td>\n",
       "      <td>2017</td>\n",
       "      <td>0.525714</td>\n",
       "    </tr>\n",
       "  </tbody>\n",
       "</table>\n",
       "</div>"
      ],
      "text/plain": [
       "      state  participation  total  year  total_norm\n",
       "0  National           0.60   21.0  2017    0.571429\n",
       "1   Alabama           1.00   19.2  2017    0.520000\n",
       "2    Alaska           0.65   19.8  2017    0.537143\n",
       "3   Arizona           0.62   19.7  2017    0.534286\n",
       "4  Arkansas           1.00   19.4  2017    0.525714"
      ]
     },
     "execution_count": 247,
     "metadata": {},
     "output_type": "execute_result"
    }
   ],
   "source": [
    "#applying min-max normalization to total column in ACT column:\n",
    "act_all_df['total_norm'] = (act_all_df['total'] - 1)/35\n",
    "act_all_df.head()"
   ]
  },
  {
   "cell_type": "code",
   "execution_count": 248,
   "metadata": {},
   "outputs": [
    {
     "name": "stdout",
     "output_type": "stream",
     "text": [
      "<class 'pandas.core.frame.DataFrame'>\n",
      "Int64Index: 156 entries, 0 to 51\n",
      "Data columns (total 5 columns):\n",
      " #   Column         Non-Null Count  Dtype  \n",
      "---  ------         --------------  -----  \n",
      " 0   state          156 non-null    object \n",
      " 1   participation  156 non-null    float64\n",
      " 2   total          156 non-null    float64\n",
      " 3   year           156 non-null    int64  \n",
      " 4   total_norm     156 non-null    float64\n",
      "dtypes: float64(3), int64(1), object(1)\n",
      "memory usage: 7.3+ KB\n"
     ]
    }
   ],
   "source": [
    "act_all_df.info()"
   ]
  },
  {
   "cell_type": "code",
   "execution_count": 249,
   "metadata": {},
   "outputs": [
    {
     "name": "stdout",
     "output_type": "stream",
     "text": [
      "<class 'pandas.core.frame.DataFrame'>\n",
      "Int64Index: 155 entries, 0 to 52\n",
      "Data columns (total 7 columns):\n",
      " #   Column         Non-Null Count  Dtype  \n",
      "---  ------         --------------  -----  \n",
      " 0   State          155 non-null    object \n",
      " 1   Participation  155 non-null    object \n",
      " 2   EBRW           155 non-null    int64  \n",
      " 3   Math           155 non-null    int64  \n",
      " 4   Total          155 non-null    int64  \n",
      " 5   Year           155 non-null    int64  \n",
      " 6   total_norm     155 non-null    float64\n",
      "dtypes: float64(1), int64(4), object(2)\n",
      "memory usage: 9.7+ KB\n"
     ]
    }
   ],
   "source": [
    "sat_all_df.info()"
   ]
  },
  {
   "cell_type": "code",
   "execution_count": null,
   "metadata": {},
   "outputs": [],
   "source": [
    "#sat_all_df['Participation'].value_counts()[:51]"
   ]
  },
  {
   "cell_type": "code",
   "execution_count": 250,
   "metadata": {},
   "outputs": [],
   "source": [
    "sat_all_df['Participation'] = sat_all_df['Participation'].apply(lambda x: str(x))\n",
    "sat_all_df['Participation'] = sat_all_df['Participation'].apply(lambda x: str_to_float(x))"
   ]
  },
  {
   "cell_type": "code",
   "execution_count": 251,
   "metadata": {},
   "outputs": [
    {
     "name": "stdout",
     "output_type": "stream",
     "text": [
      "<class 'pandas.core.frame.DataFrame'>\n",
      "Int64Index: 155 entries, 0 to 52\n",
      "Data columns (total 7 columns):\n",
      " #   Column         Non-Null Count  Dtype  \n",
      "---  ------         --------------  -----  \n",
      " 0   state          155 non-null    object \n",
      " 1   participation  155 non-null    float64\n",
      " 2   ebrw           155 non-null    int64  \n",
      " 3   math           155 non-null    int64  \n",
      " 4   total          155 non-null    int64  \n",
      " 5   year           155 non-null    int64  \n",
      " 6   total_norm     155 non-null    float64\n",
      "dtypes: float64(2), int64(4), object(1)\n",
      "memory usage: 9.7+ KB\n"
     ]
    }
   ],
   "source": [
    "# Replacing a couple zero values observed in \"Participation\" with average of all non-zero values\n",
    "sat_average_participation = sat_all_df['Participation'][sat_all_df['Participation']>0].mean() \n",
    "sat_all_df['Participation'] = sat_all_df['Participation'].apply(lambda x: sat_average_participation if x == 0 else x)\n",
    "sat_all_df = sat_all_df.rename(columns = {orig: orig.lower() for orig in sat_all_df.columns})\n",
    "sat_all_df.info()"
   ]
  },
  {
   "cell_type": "code",
   "execution_count": 282,
   "metadata": {},
   "outputs": [
    {
     "data": {
      "text/html": [
       "<div>\n",
       "<style scoped>\n",
       "    .dataframe tbody tr th:only-of-type {\n",
       "        vertical-align: middle;\n",
       "    }\n",
       "\n",
       "    .dataframe tbody tr th {\n",
       "        vertical-align: top;\n",
       "    }\n",
       "\n",
       "    .dataframe thead th {\n",
       "        text-align: right;\n",
       "    }\n",
       "</style>\n",
       "<table border=\"1\" class=\"dataframe\">\n",
       "  <thead>\n",
       "    <tr style=\"text-align: right;\">\n",
       "      <th></th>\n",
       "      <th>School</th>\n",
       "      <th>Test Optional?</th>\n",
       "      <th>Applies to Class Year(s)</th>\n",
       "      <th>Policy Details</th>\n",
       "      <th>Number of Applicants</th>\n",
       "      <th>Accept Rate</th>\n",
       "      <th>SAT Total 25th-75th Percentile</th>\n",
       "      <th>ACT Total 25th-75th Percentile</th>\n",
       "    </tr>\n",
       "  </thead>\n",
       "  <tbody>\n",
       "    <tr>\n",
       "      <th>0</th>\n",
       "      <td>Stanford University</td>\n",
       "      <td>Yes</td>\n",
       "      <td>2021</td>\n",
       "      <td>Stanford has adopted a one-year test optional ...</td>\n",
       "      <td>47452</td>\n",
       "      <td>4.3%</td>\n",
       "      <td>1440-1570</td>\n",
       "      <td>32-35</td>\n",
       "    </tr>\n",
       "    <tr>\n",
       "      <th>1</th>\n",
       "      <td>Harvard College</td>\n",
       "      <td>Yes</td>\n",
       "      <td>2021</td>\n",
       "      <td>Harvard has adopted a one-year test optional p...</td>\n",
       "      <td>42749</td>\n",
       "      <td>4.7%</td>\n",
       "      <td>1460-1580</td>\n",
       "      <td>33-35</td>\n",
       "    </tr>\n",
       "    <tr>\n",
       "      <th>2</th>\n",
       "      <td>Princeton University</td>\n",
       "      <td>Yes</td>\n",
       "      <td>2021</td>\n",
       "      <td>Princeton has adopted a one-year test optional...</td>\n",
       "      <td>35370</td>\n",
       "      <td>5.5%</td>\n",
       "      <td>1440-1570</td>\n",
       "      <td>32-35</td>\n",
       "    </tr>\n",
       "    <tr>\n",
       "      <th>3</th>\n",
       "      <td>Columbia University</td>\n",
       "      <td>Yes</td>\n",
       "      <td>2021</td>\n",
       "      <td>Columbia has adopted a one-year test optional ...</td>\n",
       "      <td>40203</td>\n",
       "      <td>5.5%</td>\n",
       "      <td>1450-1560</td>\n",
       "      <td>33-35</td>\n",
       "    </tr>\n",
       "    <tr>\n",
       "      <th>4</th>\n",
       "      <td>Yale University</td>\n",
       "      <td>Yes</td>\n",
       "      <td>2021</td>\n",
       "      <td>Yale has adopted a one-year test optional poli...</td>\n",
       "      <td>36844</td>\n",
       "      <td>6.1%</td>\n",
       "      <td>1460-1570</td>\n",
       "      <td>33-35</td>\n",
       "    </tr>\n",
       "    <tr>\n",
       "      <th>5</th>\n",
       "      <td>California Institute of Technology</td>\n",
       "      <td>Yes (TB)</td>\n",
       "      <td>2021 2022</td>\n",
       "      <td>CalTech has adopted a two-year Test Blind poli...</td>\n",
       "      <td>8367</td>\n",
       "      <td>6.4%</td>\n",
       "      <td>​​ 1530-1560</td>\n",
       "      <td>35-36</td>\n",
       "    </tr>\n",
       "    <tr>\n",
       "      <th>6</th>\n",
       "      <td>Massachusetts Institute of Technology</td>\n",
       "      <td>Yes</td>\n",
       "      <td>2021</td>\n",
       "      <td>MIT has adopted a one-year test optional polic...</td>\n",
       "      <td>21706</td>\n",
       "      <td>6.7%</td>\n",
       "      <td>​​ 1500-1570</td>\n",
       "      <td>34-36</td>\n",
       "    </tr>\n",
       "  </tbody>\n",
       "</table>\n",
       "</div>"
      ],
      "text/plain": [
       "                                  School Test Optional?  \\\n",
       "0                    Stanford University            Yes   \n",
       "1                        Harvard College            Yes   \n",
       "2                   Princeton University            Yes   \n",
       "3                    Columbia University            Yes   \n",
       "4                        Yale University            Yes   \n",
       "5     California Institute of Technology       Yes (TB)   \n",
       "6  Massachusetts Institute of Technology            Yes   \n",
       "\n",
       "  Applies to Class Year(s)                                     Policy Details  \\\n",
       "0                     2021  Stanford has adopted a one-year test optional ...   \n",
       "1                     2021  Harvard has adopted a one-year test optional p...   \n",
       "2                     2021  Princeton has adopted a one-year test optional...   \n",
       "3                     2021  Columbia has adopted a one-year test optional ...   \n",
       "4                     2021  Yale has adopted a one-year test optional poli...   \n",
       "5                2021 2022  CalTech has adopted a two-year Test Blind poli...   \n",
       "6                     2021  MIT has adopted a one-year test optional polic...   \n",
       "\n",
       "   Number of Applicants Accept Rate SAT Total 25th-75th Percentile  \\\n",
       "0                 47452        4.3%                      1440-1570   \n",
       "1                 42749        4.7%                      1460-1580   \n",
       "2                 35370        5.5%                      1440-1570   \n",
       "3                 40203        5.5%                      1450-1560   \n",
       "4                 36844        6.1%                      1460-1570   \n",
       "5                  8367        6.4%                   ​​ 1530-1560   \n",
       "6                 21706        6.7%                   ​​ 1500-1570   \n",
       "\n",
       "  ACT Total 25th-75th Percentile  \n",
       "0                          32-35  \n",
       "1                          33-35  \n",
       "2                          32-35  \n",
       "3                          33-35  \n",
       "4                          33-35  \n",
       "5                          35-36  \n",
       "6                          34-36  "
      ]
     },
     "execution_count": 282,
     "metadata": {},
     "output_type": "execute_result"
    }
   ],
   "source": [
    "sat_act_by_college_df = pd.read_csv('~/dsi/01-week/project_1/data/sat_act_by_college.csv', encoding='utf8')\n",
    "sat_act_by_college_df.head(7)"
   ]
  },
  {
   "cell_type": "code",
   "execution_count": 283,
   "metadata": {},
   "outputs": [],
   "source": [
    "sat_act_by_college_df = sat_act_by_college_df.rename(columns = {orig: orig.lower() for orig in sat_act_by_college_df.columns})\n",
    "sat_act_by_college_df = sat_act_by_college_df.rename(columns = {orig: orig.replace(' ','_') for orig in sat_act_by_college_df.columns})\n",
    "sat_act_by_college_df['accept_rate'] = sat_act_by_college_df['accept_rate'].apply(lambda x: 0 if x in ['-',''] else x)\n",
    "sat_act_by_college_df['accept_rate'] = sat_act_by_college_df['accept_rate'].apply(lambda x: str_to_float(x))"
   ]
  },
  {
   "cell_type": "code",
   "execution_count": 284,
   "metadata": {},
   "outputs": [],
   "source": [
    "sat_act_by_college_df['sat_total_25th'] = sat_act_by_college_df['sat_total_25th-75th_percentile'].apply(lambda x: x.split('-')[0])\n",
    "sat_act_by_college_df['sat_total_75th'] = sat_act_by_college_df['sat_total_25th-75th_percentile'].apply(lambda x: x.split('-')[1])\n",
    "sat_act_by_college_df['sat_total_25th'] = sat_act_by_college_df['sat_total_25th'].apply(lambda x: '0' if x in ['-',''] else x)\n",
    "sat_act_by_college_df['sat_total_75th'] = sat_act_by_college_df['sat_total_75th'].apply(lambda x: '0' if x in ['-',''] else x)"
   ]
  },
  {
   "cell_type": "code",
   "execution_count": 285,
   "metadata": {},
   "outputs": [],
   "source": [
    "sat_act_by_college_df['sat_total_25th'] = sat_act_by_college_df['sat_total_25th'].apply(lambda x: str(x).lstrip('\\u200b\\u200b '))\n",
    "sat_act_by_college_df['sat_total_25th'] = sat_act_by_college_df['sat_total_25th'].apply(lambda x: float(x))\n",
    "sat_act_by_college_df['sat_total_75th'] = sat_act_by_college_df['sat_total_75th'].apply(lambda x: str(x).lstrip('\\u200b\\u200b '))\n",
    "sat_act_by_college_df['sat_total_75th'] = sat_act_by_college_df['sat_total_75th'].apply(lambda x: float(x))"
   ]
  },
  {
   "cell_type": "code",
   "execution_count": 286,
   "metadata": {},
   "outputs": [],
   "source": [
    "sat_act_by_college_df['act_total_25th'] = sat_act_by_college_df['act_total_25th-75th_percentile'].apply(lambda x: x.split('-')[0])\n",
    "sat_act_by_college_df['act_total_75th'] = sat_act_by_college_df['act_total_25th-75th_percentile'].apply(lambda x: x.split('-')[1])\n",
    "sat_act_by_college_df['act_total_25th'] = sat_act_by_college_df['act_total_25th'].apply(lambda x: '0' if x in ['-',''] else x)\n",
    "sat_act_by_college_df['act_total_75th'] = sat_act_by_college_df['act_total_75th'].apply(lambda x: '0' if x in ['-',''] else x)\n",
    "sat_act_by_college_df['act_total_25th'] = sat_act_by_college_df['act_total_25th'].apply(lambda x: float(x))\n",
    "sat_act_by_college_df['act_total_75th'] = sat_act_by_college_df['act_total_75th'].apply(lambda x: float(x))"
   ]
  },
  {
   "cell_type": "code",
   "execution_count": 287,
   "metadata": {},
   "outputs": [
    {
     "data": {
      "text/html": [
       "<div>\n",
       "<style scoped>\n",
       "    .dataframe tbody tr th:only-of-type {\n",
       "        vertical-align: middle;\n",
       "    }\n",
       "\n",
       "    .dataframe tbody tr th {\n",
       "        vertical-align: top;\n",
       "    }\n",
       "\n",
       "    .dataframe thead th {\n",
       "        text-align: right;\n",
       "    }\n",
       "</style>\n",
       "<table border=\"1\" class=\"dataframe\">\n",
       "  <thead>\n",
       "    <tr style=\"text-align: right;\">\n",
       "      <th></th>\n",
       "      <th>school</th>\n",
       "      <th>test_optional?</th>\n",
       "      <th>applies_to_class_year(s)</th>\n",
       "      <th>policy_details</th>\n",
       "      <th>number_of_applicants</th>\n",
       "      <th>accept_rate</th>\n",
       "      <th>sat_total_25th-75th_percentile</th>\n",
       "      <th>act_total_25th-75th_percentile</th>\n",
       "      <th>sat_total_25th</th>\n",
       "      <th>sat_total_75th</th>\n",
       "      <th>act_total_25th</th>\n",
       "      <th>act_total_75th</th>\n",
       "    </tr>\n",
       "  </thead>\n",
       "  <tbody>\n",
       "    <tr>\n",
       "      <th>0</th>\n",
       "      <td>Stanford University</td>\n",
       "      <td>Yes</td>\n",
       "      <td>2021</td>\n",
       "      <td>Stanford has adopted a one-year test optional ...</td>\n",
       "      <td>47452</td>\n",
       "      <td>0.043</td>\n",
       "      <td>1440-1570</td>\n",
       "      <td>32-35</td>\n",
       "      <td>1440.0</td>\n",
       "      <td>1570.0</td>\n",
       "      <td>32.0</td>\n",
       "      <td>35.0</td>\n",
       "    </tr>\n",
       "    <tr>\n",
       "      <th>1</th>\n",
       "      <td>Harvard College</td>\n",
       "      <td>Yes</td>\n",
       "      <td>2021</td>\n",
       "      <td>Harvard has adopted a one-year test optional p...</td>\n",
       "      <td>42749</td>\n",
       "      <td>0.047</td>\n",
       "      <td>1460-1580</td>\n",
       "      <td>33-35</td>\n",
       "      <td>1460.0</td>\n",
       "      <td>1580.0</td>\n",
       "      <td>33.0</td>\n",
       "      <td>35.0</td>\n",
       "    </tr>\n",
       "    <tr>\n",
       "      <th>2</th>\n",
       "      <td>Princeton University</td>\n",
       "      <td>Yes</td>\n",
       "      <td>2021</td>\n",
       "      <td>Princeton has adopted a one-year test optional...</td>\n",
       "      <td>35370</td>\n",
       "      <td>0.055</td>\n",
       "      <td>1440-1570</td>\n",
       "      <td>32-35</td>\n",
       "      <td>1440.0</td>\n",
       "      <td>1570.0</td>\n",
       "      <td>32.0</td>\n",
       "      <td>35.0</td>\n",
       "    </tr>\n",
       "    <tr>\n",
       "      <th>3</th>\n",
       "      <td>Columbia University</td>\n",
       "      <td>Yes</td>\n",
       "      <td>2021</td>\n",
       "      <td>Columbia has adopted a one-year test optional ...</td>\n",
       "      <td>40203</td>\n",
       "      <td>0.055</td>\n",
       "      <td>1450-1560</td>\n",
       "      <td>33-35</td>\n",
       "      <td>1450.0</td>\n",
       "      <td>1560.0</td>\n",
       "      <td>33.0</td>\n",
       "      <td>35.0</td>\n",
       "    </tr>\n",
       "    <tr>\n",
       "      <th>4</th>\n",
       "      <td>Yale University</td>\n",
       "      <td>Yes</td>\n",
       "      <td>2021</td>\n",
       "      <td>Yale has adopted a one-year test optional poli...</td>\n",
       "      <td>36844</td>\n",
       "      <td>0.061</td>\n",
       "      <td>1460-1570</td>\n",
       "      <td>33-35</td>\n",
       "      <td>1460.0</td>\n",
       "      <td>1570.0</td>\n",
       "      <td>33.0</td>\n",
       "      <td>35.0</td>\n",
       "    </tr>\n",
       "  </tbody>\n",
       "</table>\n",
       "</div>"
      ],
      "text/plain": [
       "                 school test_optional? applies_to_class_year(s)  \\\n",
       "0   Stanford University            Yes                     2021   \n",
       "1       Harvard College            Yes                     2021   \n",
       "2  Princeton University            Yes                     2021   \n",
       "3   Columbia University            Yes                     2021   \n",
       "4       Yale University            Yes                     2021   \n",
       "\n",
       "                                      policy_details  number_of_applicants  \\\n",
       "0  Stanford has adopted a one-year test optional ...                 47452   \n",
       "1  Harvard has adopted a one-year test optional p...                 42749   \n",
       "2  Princeton has adopted a one-year test optional...                 35370   \n",
       "3  Columbia has adopted a one-year test optional ...                 40203   \n",
       "4  Yale has adopted a one-year test optional poli...                 36844   \n",
       "\n",
       "   accept_rate sat_total_25th-75th_percentile act_total_25th-75th_percentile  \\\n",
       "0        0.043                      1440-1570                          32-35   \n",
       "1        0.047                      1460-1580                          33-35   \n",
       "2        0.055                      1440-1570                          32-35   \n",
       "3        0.055                      1450-1560                          33-35   \n",
       "4        0.061                      1460-1570                          33-35   \n",
       "\n",
       "   sat_total_25th  sat_total_75th  act_total_25th  act_total_75th  \n",
       "0          1440.0          1570.0            32.0            35.0  \n",
       "1          1460.0          1580.0            33.0            35.0  \n",
       "2          1440.0          1570.0            32.0            35.0  \n",
       "3          1450.0          1560.0            33.0            35.0  \n",
       "4          1460.0          1570.0            33.0            35.0  "
      ]
     },
     "execution_count": 287,
     "metadata": {},
     "output_type": "execute_result"
    }
   ],
   "source": [
    "sat_act_by_college_df.head()"
   ]
  },
  {
   "cell_type": "code",
   "execution_count": 288,
   "metadata": {},
   "outputs": [
    {
     "data": {
      "text/html": [
       "<div>\n",
       "<style scoped>\n",
       "    .dataframe tbody tr th:only-of-type {\n",
       "        vertical-align: middle;\n",
       "    }\n",
       "\n",
       "    .dataframe tbody tr th {\n",
       "        vertical-align: top;\n",
       "    }\n",
       "\n",
       "    .dataframe thead th {\n",
       "        text-align: right;\n",
       "    }\n",
       "</style>\n",
       "<table border=\"1\" class=\"dataframe\">\n",
       "  <thead>\n",
       "    <tr style=\"text-align: right;\">\n",
       "      <th></th>\n",
       "      <th>school</th>\n",
       "      <th>test_optional?</th>\n",
       "      <th>applies_to_class_year(s)</th>\n",
       "      <th>policy_details</th>\n",
       "      <th>number_of_applicants</th>\n",
       "      <th>accept_rate</th>\n",
       "      <th>sat_total_25th-75th_percentile</th>\n",
       "      <th>act_total_25th-75th_percentile</th>\n",
       "      <th>sat_total_25th</th>\n",
       "      <th>sat_total_75th</th>\n",
       "      <th>act_total_25th</th>\n",
       "      <th>act_total_75th</th>\n",
       "      <th>sat_norm_25th</th>\n",
       "      <th>sat_norm_75th</th>\n",
       "      <th>act_norm_25th</th>\n",
       "      <th>act_norm_75th</th>\n",
       "    </tr>\n",
       "  </thead>\n",
       "  <tbody>\n",
       "    <tr>\n",
       "      <th>0</th>\n",
       "      <td>Stanford University</td>\n",
       "      <td>Yes</td>\n",
       "      <td>2021</td>\n",
       "      <td>Stanford has adopted a one-year test optional ...</td>\n",
       "      <td>47452</td>\n",
       "      <td>0.043</td>\n",
       "      <td>1440-1570</td>\n",
       "      <td>32-35</td>\n",
       "      <td>1440.0</td>\n",
       "      <td>1570.0</td>\n",
       "      <td>32.0</td>\n",
       "      <td>35.0</td>\n",
       "      <td>0.866667</td>\n",
       "      <td>0.975000</td>\n",
       "      <td>0.885714</td>\n",
       "      <td>0.971429</td>\n",
       "    </tr>\n",
       "    <tr>\n",
       "      <th>1</th>\n",
       "      <td>Harvard College</td>\n",
       "      <td>Yes</td>\n",
       "      <td>2021</td>\n",
       "      <td>Harvard has adopted a one-year test optional p...</td>\n",
       "      <td>42749</td>\n",
       "      <td>0.047</td>\n",
       "      <td>1460-1580</td>\n",
       "      <td>33-35</td>\n",
       "      <td>1460.0</td>\n",
       "      <td>1580.0</td>\n",
       "      <td>33.0</td>\n",
       "      <td>35.0</td>\n",
       "      <td>0.883333</td>\n",
       "      <td>0.983333</td>\n",
       "      <td>0.914286</td>\n",
       "      <td>0.971429</td>\n",
       "    </tr>\n",
       "    <tr>\n",
       "      <th>2</th>\n",
       "      <td>Princeton University</td>\n",
       "      <td>Yes</td>\n",
       "      <td>2021</td>\n",
       "      <td>Princeton has adopted a one-year test optional...</td>\n",
       "      <td>35370</td>\n",
       "      <td>0.055</td>\n",
       "      <td>1440-1570</td>\n",
       "      <td>32-35</td>\n",
       "      <td>1440.0</td>\n",
       "      <td>1570.0</td>\n",
       "      <td>32.0</td>\n",
       "      <td>35.0</td>\n",
       "      <td>0.866667</td>\n",
       "      <td>0.975000</td>\n",
       "      <td>0.885714</td>\n",
       "      <td>0.971429</td>\n",
       "    </tr>\n",
       "    <tr>\n",
       "      <th>3</th>\n",
       "      <td>Columbia University</td>\n",
       "      <td>Yes</td>\n",
       "      <td>2021</td>\n",
       "      <td>Columbia has adopted a one-year test optional ...</td>\n",
       "      <td>40203</td>\n",
       "      <td>0.055</td>\n",
       "      <td>1450-1560</td>\n",
       "      <td>33-35</td>\n",
       "      <td>1450.0</td>\n",
       "      <td>1560.0</td>\n",
       "      <td>33.0</td>\n",
       "      <td>35.0</td>\n",
       "      <td>0.875000</td>\n",
       "      <td>0.966667</td>\n",
       "      <td>0.914286</td>\n",
       "      <td>0.971429</td>\n",
       "    </tr>\n",
       "    <tr>\n",
       "      <th>4</th>\n",
       "      <td>Yale University</td>\n",
       "      <td>Yes</td>\n",
       "      <td>2021</td>\n",
       "      <td>Yale has adopted a one-year test optional poli...</td>\n",
       "      <td>36844</td>\n",
       "      <td>0.061</td>\n",
       "      <td>1460-1570</td>\n",
       "      <td>33-35</td>\n",
       "      <td>1460.0</td>\n",
       "      <td>1570.0</td>\n",
       "      <td>33.0</td>\n",
       "      <td>35.0</td>\n",
       "      <td>0.883333</td>\n",
       "      <td>0.975000</td>\n",
       "      <td>0.914286</td>\n",
       "      <td>0.971429</td>\n",
       "    </tr>\n",
       "  </tbody>\n",
       "</table>\n",
       "</div>"
      ],
      "text/plain": [
       "                 school test_optional? applies_to_class_year(s)  \\\n",
       "0   Stanford University            Yes                     2021   \n",
       "1       Harvard College            Yes                     2021   \n",
       "2  Princeton University            Yes                     2021   \n",
       "3   Columbia University            Yes                     2021   \n",
       "4       Yale University            Yes                     2021   \n",
       "\n",
       "                                      policy_details  number_of_applicants  \\\n",
       "0  Stanford has adopted a one-year test optional ...                 47452   \n",
       "1  Harvard has adopted a one-year test optional p...                 42749   \n",
       "2  Princeton has adopted a one-year test optional...                 35370   \n",
       "3  Columbia has adopted a one-year test optional ...                 40203   \n",
       "4  Yale has adopted a one-year test optional poli...                 36844   \n",
       "\n",
       "   accept_rate sat_total_25th-75th_percentile act_total_25th-75th_percentile  \\\n",
       "0        0.043                      1440-1570                          32-35   \n",
       "1        0.047                      1460-1580                          33-35   \n",
       "2        0.055                      1440-1570                          32-35   \n",
       "3        0.055                      1450-1560                          33-35   \n",
       "4        0.061                      1460-1570                          33-35   \n",
       "\n",
       "   sat_total_25th  sat_total_75th  act_total_25th  act_total_75th  \\\n",
       "0          1440.0          1570.0            32.0            35.0   \n",
       "1          1460.0          1580.0            33.0            35.0   \n",
       "2          1440.0          1570.0            32.0            35.0   \n",
       "3          1450.0          1560.0            33.0            35.0   \n",
       "4          1460.0          1570.0            33.0            35.0   \n",
       "\n",
       "   sat_norm_25th  sat_norm_75th  act_norm_25th  act_norm_75th  \n",
       "0       0.866667       0.975000       0.885714       0.971429  \n",
       "1       0.883333       0.983333       0.914286       0.971429  \n",
       "2       0.866667       0.975000       0.885714       0.971429  \n",
       "3       0.875000       0.966667       0.914286       0.971429  \n",
       "4       0.883333       0.975000       0.914286       0.971429  "
      ]
     },
     "execution_count": 288,
     "metadata": {},
     "output_type": "execute_result"
    }
   ],
   "source": [
    "# replacing IQRs with normalized scores (min-max):\n",
    "sat_act_by_college_df['sat_norm_25th'] = (sat_act_by_college_df['sat_total_25th'] - 400)/1200\n",
    "sat_act_by_college_df['sat_norm_75th'] = (sat_act_by_college_df['sat_total_75th'] - 400)/1200\n",
    "sat_act_by_college_df['act_norm_25th'] = (sat_act_by_college_df['act_total_25th'] - 1)/35\n",
    "sat_act_by_college_df['act_norm_75th'] = (sat_act_by_college_df['act_total_75th'] - 1)/35\n",
    "sat_act_by_college_df.head()"
   ]
  },
  {
   "cell_type": "code",
   "execution_count": 289,
   "metadata": {},
   "outputs": [],
   "source": [
    "# dropping redundant and unnecessary columns:\n",
    "sat_act_by_college_df.drop(['test_optional?', 'applies_to_class_year(s)', 'policy_details', 'act_total_25th-75th_percentile','sat_total_25th-75th_percentile', 'sat_total_25th', 'sat_total_75th', 'act_total_25th', 'act_total_75th'], axis = 1, inplace= True)"
   ]
  },
  {
   "cell_type": "code",
   "execution_count": 260,
   "metadata": {},
   "outputs": [],
   "source": [
    "sat_all_df.to_csv('sat_all.csv')\n",
    "act_all_df.to_csv('act_all.csv')\n",
    "sat_act_by_college_df.to_csv('sat_act_by_college_mod.csv')"
   ]
  },
  {
   "cell_type": "markdown",
   "metadata": {},
   "source": [
    "### Data Dictionary\n",
    "\n",
    "Now that we've fixed our data, and given it appropriate names, let's create a [data dictionary](http://library.ucmerced.edu/node/10249). \n",
    "\n",
    "A data dictionary provides a quick overview of features/variables/columns, alongside data types and descriptions. The more descriptive you can be, the more useful this document is.\n",
    "\n",
    "Example of a Fictional Data Dictionary Entry: \n",
    "\n",
    "|Feature|Type|Dataset|Description|\n",
    "|---|---|---|---|\n",
    "|**county_pop**|*integer*|2010 census|The population of the county (units in thousands, where 2.5 represents 2500 people).| \n",
    "|**per_poverty**|*float*|2010 census|The percent of the county over the age of 18 living below the 200% of official US poverty rate (units percent to two decimal places 98.10 means 98.1%)|\n",
    "\n",
    "[Here's a quick link to a short guide for formatting markdown in Jupyter notebooks](https://jupyter-notebook.readthedocs.io/en/stable/examples/Notebook/Working%20With%20Markdown%20Cells.html).\n",
    "\n",
    "Provided is the skeleton for formatting a markdown table, with columns headers that will help you create a data dictionary to quickly summarize your data, as well as some examples. **This would be a great thing to copy and paste into your custom README for this project.**\n",
    "\n",
    "*Note*: if you are unsure of what a feature is, check the source of the data! This can be found in the README."
   ]
  },
  {
   "cell_type": "markdown",
   "metadata": {},
   "source": [
    "**To-Do:** *Edit the table below to create your own data dictionary for the datasets you chose.*\n",
    "\n",
    "\n",
    "|**Feature**|**Type**|**Dataset**|**Description**|\n",
    "|:---|:---|:---|:---|\n",
    "|state|string|sat_all.csv|Name of US state where SAT is administered|\n",
    "|participation|float|sat_all.csv|Percentage of eligible students who take the SAT in each state|\n",
    "|ebrw|int|sat_all.csv|...|\n",
    "|math|int|sat_all.csv|...|\n",
    "|total|int|sat_all.csv|Average total (composite) SAT score of students in each state|\n",
    "|total_norm|float|sat_all.csv|Average total (composite) SAT score of students in each state, normalized using min-max method|\n",
    "|year|int|sat_all.csv|The year (2017/2018/2019) covered in listed dataset|\n",
    "|state|string|act_all.csv|Name of US state where ACT is administered|\n",
    "|participation|float|act_all.csv|Percentage of eligible students who take the ACT in each state|\n",
    "|total|float|act_all.csv|Average total (composite) ACT score of students in each state|\n",
    "|total_norm|float|act_all.csv|Average total (composite) ACT score of students in each state, normalized using min-max method|\n",
    "|year|int|act_all.csv|The year (2017/2018/2019) covered in listed dataset|\n",
    "|school|string|sat_act_by_college_mod.csv|Name of a U.S. college|\n",
    "|number of applicants|integer|sat_act_by_college_mod.csv|The number of students applying to the college in a year|\n",
    "|accept_rate|float|sat_act_by_college_mod.csv|Percentage of applicants accepted to the college|\n",
    "|sat_total_25th|float|sat_act_by_college_mod.csv|Lower bound of interquartile range of SAT scores for students accepted to school|\n",
    "|sat_total_75th|float|sat_act_by_college_mod.csv|Upper bound of interquartile range of SAT scores for students accepted to school|\n",
    "|act_total_25th|float|sat_act_by_college_mod.csv|Lower bound of interquartile range of ACT scores for students accepted to school|\n",
    "|act_total_75th|float|sat_act_by_college_mod.csv|Upper bound of interquartile range of ACT scores for students accepted to school|"
   ]
  },
  {
   "cell_type": "markdown",
   "metadata": {},
   "source": [
    "## Exploratory Data Analysis\n",
    "\n",
    "Complete the following steps to explore your data. You are welcome to do more EDA than the steps outlined here as you feel necessary:\n",
    "1. Summary Statistics.\n",
    "\n",
    "_(Steps 2 and three described and executed further below)_"
   ]
  },
  {
   "cell_type": "code",
   "execution_count": 107,
   "metadata": {},
   "outputs": [
    {
     "data": {
      "text/html": [
       "<div>\n",
       "<style scoped>\n",
       "    .dataframe tbody tr th:only-of-type {\n",
       "        vertical-align: middle;\n",
       "    }\n",
       "\n",
       "    .dataframe tbody tr th {\n",
       "        vertical-align: top;\n",
       "    }\n",
       "\n",
       "    .dataframe thead th {\n",
       "        text-align: right;\n",
       "    }\n",
       "</style>\n",
       "<table border=\"1\" class=\"dataframe\">\n",
       "  <thead>\n",
       "    <tr style=\"text-align: right;\">\n",
       "      <th></th>\n",
       "      <th>participation</th>\n",
       "      <th>ebrw</th>\n",
       "      <th>math</th>\n",
       "      <th>total</th>\n",
       "      <th>year</th>\n",
       "    </tr>\n",
       "  </thead>\n",
       "  <tbody>\n",
       "    <tr>\n",
       "      <th>count</th>\n",
       "      <td>155.000000</td>\n",
       "      <td>155.000000</td>\n",
       "      <td>155.000000</td>\n",
       "      <td>155.000000</td>\n",
       "      <td>155.000000</td>\n",
       "    </tr>\n",
       "    <tr>\n",
       "      <th>mean</th>\n",
       "      <td>0.448693</td>\n",
       "      <td>563.529032</td>\n",
       "      <td>550.748387</td>\n",
       "      <td>1117.406452</td>\n",
       "      <td>2018.012903</td>\n",
       "    </tr>\n",
       "    <tr>\n",
       "      <th>std</th>\n",
       "      <td>0.368528</td>\n",
       "      <td>46.842276</td>\n",
       "      <td>63.824190</td>\n",
       "      <td>95.750399</td>\n",
       "      <td>0.821679</td>\n",
       "    </tr>\n",
       "    <tr>\n",
       "      <th>min</th>\n",
       "      <td>0.020000</td>\n",
       "      <td>480.000000</td>\n",
       "      <td>52.000000</td>\n",
       "      <td>935.000000</td>\n",
       "      <td>2017.000000</td>\n",
       "    </tr>\n",
       "    <tr>\n",
       "      <th>25%</th>\n",
       "      <td>0.045000</td>\n",
       "      <td>530.500000</td>\n",
       "      <td>519.500000</td>\n",
       "      <td>1052.000000</td>\n",
       "      <td>2017.000000</td>\n",
       "    </tr>\n",
       "    <tr>\n",
       "      <th>50%</th>\n",
       "      <td>0.490000</td>\n",
       "      <td>552.000000</td>\n",
       "      <td>545.000000</td>\n",
       "      <td>1098.000000</td>\n",
       "      <td>2018.000000</td>\n",
       "    </tr>\n",
       "    <tr>\n",
       "      <th>75%</th>\n",
       "      <td>0.735000</td>\n",
       "      <td>613.000000</td>\n",
       "      <td>595.500000</td>\n",
       "      <td>1209.000000</td>\n",
       "      <td>2019.000000</td>\n",
       "    </tr>\n",
       "    <tr>\n",
       "      <th>max</th>\n",
       "      <td>1.000000</td>\n",
       "      <td>644.000000</td>\n",
       "      <td>655.000000</td>\n",
       "      <td>1298.000000</td>\n",
       "      <td>2019.000000</td>\n",
       "    </tr>\n",
       "  </tbody>\n",
       "</table>\n",
       "</div>"
      ],
      "text/plain": [
       "       participation        ebrw        math        total         year\n",
       "count     155.000000  155.000000  155.000000   155.000000   155.000000\n",
       "mean        0.448693  563.529032  550.748387  1117.406452  2018.012903\n",
       "std         0.368528   46.842276   63.824190    95.750399     0.821679\n",
       "min         0.020000  480.000000   52.000000   935.000000  2017.000000\n",
       "25%         0.045000  530.500000  519.500000  1052.000000  2017.000000\n",
       "50%         0.490000  552.000000  545.000000  1098.000000  2018.000000\n",
       "75%         0.735000  613.000000  595.500000  1209.000000  2019.000000\n",
       "max         1.000000  644.000000  655.000000  1298.000000  2019.000000"
      ]
     },
     "execution_count": 107,
     "metadata": {},
     "output_type": "execute_result"
    }
   ],
   "source": [
    "# Code:\n",
    "# Summary statistics for the sat_all_df dataframe\n",
    "sat_all_df.describe()"
   ]
  },
  {
   "cell_type": "code",
   "execution_count": 108,
   "metadata": {},
   "outputs": [
    {
     "data": {
      "text/html": [
       "<div>\n",
       "<style scoped>\n",
       "    .dataframe tbody tr th:only-of-type {\n",
       "        vertical-align: middle;\n",
       "    }\n",
       "\n",
       "    .dataframe tbody tr th {\n",
       "        vertical-align: top;\n",
       "    }\n",
       "\n",
       "    .dataframe thead th {\n",
       "        text-align: right;\n",
       "    }\n",
       "</style>\n",
       "<table border=\"1\" class=\"dataframe\">\n",
       "  <thead>\n",
       "    <tr style=\"text-align: right;\">\n",
       "      <th></th>\n",
       "      <th>participation</th>\n",
       "      <th>total</th>\n",
       "      <th>year</th>\n",
       "    </tr>\n",
       "  </thead>\n",
       "  <tbody>\n",
       "    <tr>\n",
       "      <th>count</th>\n",
       "      <td>156.000000</td>\n",
       "      <td>156.000000</td>\n",
       "      <td>156.000000</td>\n",
       "    </tr>\n",
       "    <tr>\n",
       "      <th>mean</th>\n",
       "      <td>0.614551</td>\n",
       "      <td>21.501282</td>\n",
       "      <td>2018.000000</td>\n",
       "    </tr>\n",
       "    <tr>\n",
       "      <th>std</th>\n",
       "      <td>0.334412</td>\n",
       "      <td>2.087010</td>\n",
       "      <td>0.819126</td>\n",
       "    </tr>\n",
       "    <tr>\n",
       "      <th>min</th>\n",
       "      <td>0.060000</td>\n",
       "      <td>17.700000</td>\n",
       "      <td>2017.000000</td>\n",
       "    </tr>\n",
       "    <tr>\n",
       "      <th>25%</th>\n",
       "      <td>0.290000</td>\n",
       "      <td>19.800000</td>\n",
       "      <td>2017.000000</td>\n",
       "    </tr>\n",
       "    <tr>\n",
       "      <th>50%</th>\n",
       "      <td>0.655000</td>\n",
       "      <td>21.250000</td>\n",
       "      <td>2018.000000</td>\n",
       "    </tr>\n",
       "    <tr>\n",
       "      <th>75%</th>\n",
       "      <td>1.000000</td>\n",
       "      <td>23.625000</td>\n",
       "      <td>2019.000000</td>\n",
       "    </tr>\n",
       "    <tr>\n",
       "      <th>max</th>\n",
       "      <td>1.000000</td>\n",
       "      <td>25.600000</td>\n",
       "      <td>2019.000000</td>\n",
       "    </tr>\n",
       "  </tbody>\n",
       "</table>\n",
       "</div>"
      ],
      "text/plain": [
       "       participation       total         year\n",
       "count     156.000000  156.000000   156.000000\n",
       "mean        0.614551   21.501282  2018.000000\n",
       "std         0.334412    2.087010     0.819126\n",
       "min         0.060000   17.700000  2017.000000\n",
       "25%         0.290000   19.800000  2017.000000\n",
       "50%         0.655000   21.250000  2018.000000\n",
       "75%         1.000000   23.625000  2019.000000\n",
       "max         1.000000   25.600000  2019.000000"
      ]
     },
     "execution_count": 108,
     "metadata": {},
     "output_type": "execute_result"
    }
   ],
   "source": [
    "# Summary statistics for the act_all_df dataframe\n",
    "act_all_df.describe()"
   ]
  },
  {
   "cell_type": "code",
   "execution_count": 109,
   "metadata": {},
   "outputs": [
    {
     "data": {
      "text/html": [
       "<div>\n",
       "<style scoped>\n",
       "    .dataframe tbody tr th:only-of-type {\n",
       "        vertical-align: middle;\n",
       "    }\n",
       "\n",
       "    .dataframe tbody tr th {\n",
       "        vertical-align: top;\n",
       "    }\n",
       "\n",
       "    .dataframe thead th {\n",
       "        text-align: right;\n",
       "    }\n",
       "</style>\n",
       "<table border=\"1\" class=\"dataframe\">\n",
       "  <thead>\n",
       "    <tr style=\"text-align: right;\">\n",
       "      <th></th>\n",
       "      <th>number_of_applicants</th>\n",
       "      <th>accept_rate</th>\n",
       "      <th>sat_total_25th</th>\n",
       "      <th>sat_total_75th</th>\n",
       "      <th>act_total_25th</th>\n",
       "      <th>act_total_75th</th>\n",
       "    </tr>\n",
       "  </thead>\n",
       "  <tbody>\n",
       "    <tr>\n",
       "      <th>count</th>\n",
       "      <td>416.000000</td>\n",
       "      <td>416.000000</td>\n",
       "      <td>416.000000</td>\n",
       "      <td>416.000000</td>\n",
       "      <td>416.000000</td>\n",
       "      <td>416.000000</td>\n",
       "    </tr>\n",
       "    <tr>\n",
       "      <th>mean</th>\n",
       "      <td>17481.759615</td>\n",
       "      <td>0.557034</td>\n",
       "      <td>11.501767</td>\n",
       "      <td>11.501767</td>\n",
       "      <td>0.243565</td>\n",
       "      <td>0.243565</td>\n",
       "    </tr>\n",
       "    <tr>\n",
       "      <th>std</th>\n",
       "      <td>17447.621897</td>\n",
       "      <td>0.242117</td>\n",
       "      <td>1.896208</td>\n",
       "      <td>1.896208</td>\n",
       "      <td>0.050492</td>\n",
       "      <td>0.050492</td>\n",
       "    </tr>\n",
       "    <tr>\n",
       "      <th>min</th>\n",
       "      <td>211.000000</td>\n",
       "      <td>0.043000</td>\n",
       "      <td>0.000000</td>\n",
       "      <td>0.000000</td>\n",
       "      <td>0.000000</td>\n",
       "      <td>0.000000</td>\n",
       "    </tr>\n",
       "    <tr>\n",
       "      <th>25%</th>\n",
       "      <td>5313.000000</td>\n",
       "      <td>0.376250</td>\n",
       "      <td>10.700000</td>\n",
       "      <td>10.700000</td>\n",
       "      <td>0.220000</td>\n",
       "      <td>0.220000</td>\n",
       "    </tr>\n",
       "    <tr>\n",
       "      <th>50%</th>\n",
       "      <td>11622.000000</td>\n",
       "      <td>0.613000</td>\n",
       "      <td>11.500000</td>\n",
       "      <td>11.500000</td>\n",
       "      <td>0.240000</td>\n",
       "      <td>0.240000</td>\n",
       "    </tr>\n",
       "    <tr>\n",
       "      <th>75%</th>\n",
       "      <td>23599.750000</td>\n",
       "      <td>0.742250</td>\n",
       "      <td>12.500000</td>\n",
       "      <td>12.500000</td>\n",
       "      <td>0.272500</td>\n",
       "      <td>0.272500</td>\n",
       "    </tr>\n",
       "    <tr>\n",
       "      <th>max</th>\n",
       "      <td>111322.000000</td>\n",
       "      <td>0.999000</td>\n",
       "      <td>15.300000</td>\n",
       "      <td>15.300000</td>\n",
       "      <td>0.350000</td>\n",
       "      <td>0.350000</td>\n",
       "    </tr>\n",
       "  </tbody>\n",
       "</table>\n",
       "</div>"
      ],
      "text/plain": [
       "       number_of_applicants  accept_rate  sat_total_25th  sat_total_75th  \\\n",
       "count            416.000000   416.000000      416.000000      416.000000   \n",
       "mean           17481.759615     0.557034       11.501767       11.501767   \n",
       "std            17447.621897     0.242117        1.896208        1.896208   \n",
       "min              211.000000     0.043000        0.000000        0.000000   \n",
       "25%             5313.000000     0.376250       10.700000       10.700000   \n",
       "50%            11622.000000     0.613000       11.500000       11.500000   \n",
       "75%            23599.750000     0.742250       12.500000       12.500000   \n",
       "max           111322.000000     0.999000       15.300000       15.300000   \n",
       "\n",
       "       act_total_25th  act_total_75th  \n",
       "count      416.000000      416.000000  \n",
       "mean         0.243565        0.243565  \n",
       "std          0.050492        0.050492  \n",
       "min          0.000000        0.000000  \n",
       "25%          0.220000        0.220000  \n",
       "50%          0.240000        0.240000  \n",
       "75%          0.272500        0.272500  \n",
       "max          0.350000        0.350000  "
      ]
     },
     "execution_count": 109,
     "metadata": {},
     "output_type": "execute_result"
    }
   ],
   "source": [
    "sat_act_by_college_df.describe()"
   ]
  },
  {
   "cell_type": "markdown",
   "metadata": {},
   "source": [
    "2. Use a **dictionary comprehension** to apply the standard deviation function you create in part 1 to each numeric column in the dataframe.  **No loops**.\n",
    "    - Assign the output to variable `sd` as a dictionary where: \n",
    "        - Each column name is now a key \n",
    "        - That standard deviation of the column is the value \n",
    "        - *Example Output :* `{'ACT_Math': 120, 'ACT_Reading': 120, ...}`"
   ]
  },
  {
   "cell_type": "code",
   "execution_count": 110,
   "metadata": {},
   "outputs": [
    {
     "data": {
      "text/plain": [
       "{'participation': 0.36733687239364515,\n",
       " 'ebrw': 46.69092744329553,\n",
       " 'math': 63.61797205480763,\n",
       " 'total': 95.44102700514097,\n",
       " 'year': 0.8190245714868826}"
      ]
     },
     "execution_count": 110,
     "metadata": {},
     "output_type": "execute_result"
    }
   ],
   "source": [
    "sd_sat = {column: stdev_of_values(sat_all_df[column]) for column in sat_all_df.columns if sat_all_df[column].dtype in ['int64', 'float64']}\n",
    "sd_sat"
   ]
  },
  {
   "cell_type": "code",
   "execution_count": 111,
   "metadata": {},
   "outputs": [
    {
     "data": {
      "text/plain": [
       "{'participation': 0.33333847998985355,\n",
       " 'total': 2.080310232642433,\n",
       " 'year': 0.816496580927726}"
      ]
     },
     "execution_count": 111,
     "metadata": {},
     "output_type": "execute_result"
    }
   ],
   "source": [
    "sd_act = {column: stdev_of_values(act_all_df[column]) for column in act_all_df.columns if act_all_df[column].dtype in ['int64', 'float64']}\n",
    "sd_act"
   ]
  },
  {
   "cell_type": "code",
   "execution_count": 112,
   "metadata": {},
   "outputs": [
    {
     "data": {
      "text/plain": [
       "{'number_of_applicants': 17426.638579835628,\n",
       " 'accept_rate': 0.24182623255559774,\n",
       " 'sat_total_25th': 1.8939271790574808,\n",
       " 'sat_total_75th': 1.8939271790574808,\n",
       " 'act_total_25th': 0.05043136633651409,\n",
       " 'act_total_75th': 0.05043136633651409}"
      ]
     },
     "execution_count": 112,
     "metadata": {},
     "output_type": "execute_result"
    }
   ],
   "source": [
    "sd_sat_act_by_col = {column: stdev_of_values(sat_act_by_college_df[column]) for column in sat_act_by_college_df.columns if sat_act_by_college_df[column].dtype in ['int64', 'float64']}\n",
    "sd_sat_act_by_col"
   ]
  },
  {
   "cell_type": "markdown",
   "metadata": {},
   "source": [
    "_**Note:** The std numbers above are slightly different from those returned by the \"describe\" method._"
   ]
  },
  {
   "cell_type": "markdown",
   "metadata": {},
   "source": [
    "3. Investigate trends in the data.\n",
    "    - Using sorting and/or masking (along with the `.head()` method to avoid printing our entire dataframe), consider questions relevant to your problem statement. Some examples are provided below (but feel free to change these questions for your specific problem):\n",
    "        - Which states have the highest and lowest participation rates for the 2017, 2019, or 2019 SAT and ACT?\n",
    "        - Which states have the highest and lowest mean total/composite scores for the 2017, 2019, or 2019 SAT and ACT?\n",
    "        - Do any states with 100% participation on a given test have a rate change year-to-year?\n",
    "        - Do any states show have >50% participation on *both* tests each year?\n",
    "        - Which colleges have the highest median SAT and ACT scores for admittance?\n",
    "        - Which California school districts have the highest and lowest mean test scores?\n",
    "    - **You should comment on your findings at each step in a markdown cell below your code block**. Make sure you include at least one example of sorting your dataframe by a column, and one example of using boolean filtering (i.e., masking) to select a subset of the dataframe."
   ]
  },
  {
   "cell_type": "code",
   "execution_count": 45,
   "metadata": {},
   "outputs": [
    {
     "data": {
      "text/plain": [
       "Index(['state', 'participation', 'ebrw', 'math', 'total', 'year'], dtype='object')"
      ]
     },
     "execution_count": 45,
     "metadata": {},
     "output_type": "execute_result"
    }
   ],
   "source": [
    "sat_all_df.columns"
   ]
  },
  {
   "cell_type": "code",
   "execution_count": 53,
   "metadata": {},
   "outputs": [
    {
     "data": {
      "text/html": [
       "<div>\n",
       "<style scoped>\n",
       "    .dataframe tbody tr th:only-of-type {\n",
       "        vertical-align: middle;\n",
       "    }\n",
       "\n",
       "    .dataframe tbody tr th {\n",
       "        vertical-align: top;\n",
       "    }\n",
       "\n",
       "    .dataframe thead th {\n",
       "        text-align: right;\n",
       "    }\n",
       "</style>\n",
       "<table border=\"1\" class=\"dataframe\">\n",
       "  <thead>\n",
       "    <tr style=\"text-align: right;\">\n",
       "      <th></th>\n",
       "      <th>state</th>\n",
       "      <th>participation</th>\n",
       "    </tr>\n",
       "  </thead>\n",
       "  <tbody>\n",
       "    <tr>\n",
       "      <th>0</th>\n",
       "      <td>Alabama</td>\n",
       "      <td>0.060000</td>\n",
       "    </tr>\n",
       "    <tr>\n",
       "      <th>1</th>\n",
       "      <td>Alaska</td>\n",
       "      <td>0.406667</td>\n",
       "    </tr>\n",
       "    <tr>\n",
       "      <th>2</th>\n",
       "      <td>Arizona</td>\n",
       "      <td>0.300000</td>\n",
       "    </tr>\n",
       "    <tr>\n",
       "      <th>3</th>\n",
       "      <td>Arkansas</td>\n",
       "      <td>0.046667</td>\n",
       "    </tr>\n",
       "    <tr>\n",
       "      <th>4</th>\n",
       "      <td>California</td>\n",
       "      <td>0.586667</td>\n",
       "    </tr>\n",
       "  </tbody>\n",
       "</table>\n",
       "</div>"
      ],
      "text/plain": [
       "        state  participation\n",
       "0     Alabama       0.060000\n",
       "1      Alaska       0.406667\n",
       "2     Arizona       0.300000\n",
       "3    Arkansas       0.046667\n",
       "4  California       0.586667"
      ]
     },
     "execution_count": 53,
     "metadata": {},
     "output_type": "execute_result"
    }
   ],
   "source": [
    "#as a step towars finding states with significant differences in ACT vs SAT participation, I am calculating average SAT participation by state:\n",
    "sat_part_by_state = sat_all_df.groupby('state')['participation'].mean().reset_index()\n",
    "sat_part_by_state.head()"
   ]
  },
  {
   "cell_type": "code",
   "execution_count": 54,
   "metadata": {},
   "outputs": [
    {
     "data": {
      "text/html": [
       "<div>\n",
       "<style scoped>\n",
       "    .dataframe tbody tr th:only-of-type {\n",
       "        vertical-align: middle;\n",
       "    }\n",
       "\n",
       "    .dataframe tbody tr th {\n",
       "        vertical-align: top;\n",
       "    }\n",
       "\n",
       "    .dataframe thead th {\n",
       "        text-align: right;\n",
       "    }\n",
       "</style>\n",
       "<table border=\"1\" class=\"dataframe\">\n",
       "  <thead>\n",
       "    <tr style=\"text-align: right;\">\n",
       "      <th></th>\n",
       "      <th>state</th>\n",
       "      <th>participation</th>\n",
       "    </tr>\n",
       "  </thead>\n",
       "  <tbody>\n",
       "    <tr>\n",
       "      <th>0</th>\n",
       "      <td>Alabama</td>\n",
       "      <td>1.000000</td>\n",
       "    </tr>\n",
       "    <tr>\n",
       "      <th>1</th>\n",
       "      <td>Alaska</td>\n",
       "      <td>0.453333</td>\n",
       "    </tr>\n",
       "    <tr>\n",
       "      <th>2</th>\n",
       "      <td>Arizona</td>\n",
       "      <td>0.670000</td>\n",
       "    </tr>\n",
       "    <tr>\n",
       "      <th>3</th>\n",
       "      <td>Arkansas</td>\n",
       "      <td>1.000000</td>\n",
       "    </tr>\n",
       "    <tr>\n",
       "      <th>4</th>\n",
       "      <td>California</td>\n",
       "      <td>0.270000</td>\n",
       "    </tr>\n",
       "  </tbody>\n",
       "</table>\n",
       "</div>"
      ],
      "text/plain": [
       "        state  participation\n",
       "0     Alabama       1.000000\n",
       "1      Alaska       0.453333\n",
       "2     Arizona       0.670000\n",
       "3    Arkansas       1.000000\n",
       "4  California       0.270000"
      ]
     },
     "execution_count": 54,
     "metadata": {},
     "output_type": "execute_result"
    }
   ],
   "source": [
    "#as a step towars finding states with significant differences in ACT vs SAT participation, I am calculating average ACT participation by state:\n",
    "act_part_by_state = act_all_df.groupby('state')['participation'].mean().reset_index()\n",
    "act_part_by_state.head()"
   ]
  },
  {
   "cell_type": "code",
   "execution_count": 418,
   "metadata": {},
   "outputs": [
    {
     "data": {
      "text/html": [
       "<div>\n",
       "<style scoped>\n",
       "    .dataframe tbody tr th:only-of-type {\n",
       "        vertical-align: middle;\n",
       "    }\n",
       "\n",
       "    .dataframe tbody tr th {\n",
       "        vertical-align: top;\n",
       "    }\n",
       "\n",
       "    .dataframe thead th {\n",
       "        text-align: right;\n",
       "    }\n",
       "</style>\n",
       "<table border=\"1\" class=\"dataframe\">\n",
       "  <thead>\n",
       "    <tr style=\"text-align: right;\">\n",
       "      <th></th>\n",
       "      <th>state</th>\n",
       "      <th>participation_SAT</th>\n",
       "      <th>participation_ACT</th>\n",
       "      <th>participation_SATvsACT</th>\n",
       "    </tr>\n",
       "  </thead>\n",
       "  <tbody>\n",
       "    <tr>\n",
       "      <th>19</th>\n",
       "      <td>Maine</td>\n",
       "      <td>0.976667</td>\n",
       "      <td>0.070000</td>\n",
       "      <td>0.906667</td>\n",
       "    </tr>\n",
       "    <tr>\n",
       "      <th>7</th>\n",
       "      <td>Delaware</td>\n",
       "      <td>1.000000</td>\n",
       "      <td>0.160000</td>\n",
       "      <td>0.840000</td>\n",
       "    </tr>\n",
       "    <tr>\n",
       "      <th>29</th>\n",
       "      <td>New Hampshire</td>\n",
       "      <td>0.956667</td>\n",
       "      <td>0.160000</td>\n",
       "      <td>0.796667</td>\n",
       "    </tr>\n",
       "    <tr>\n",
       "      <th>22</th>\n",
       "      <td>Michigan</td>\n",
       "      <td>1.000000</td>\n",
       "      <td>0.233333</td>\n",
       "      <td>0.766667</td>\n",
       "    </tr>\n",
       "    <tr>\n",
       "      <th>6</th>\n",
       "      <td>Connecticut</td>\n",
       "      <td>1.000000</td>\n",
       "      <td>0.263333</td>\n",
       "      <td>0.736667</td>\n",
       "    </tr>\n",
       "  </tbody>\n",
       "</table>\n",
       "</div>"
      ],
      "text/plain": [
       "            state  participation_SAT  participation_ACT  \\\n",
       "19          Maine           0.976667           0.070000   \n",
       "7        Delaware           1.000000           0.160000   \n",
       "29  New Hampshire           0.956667           0.160000   \n",
       "22       Michigan           1.000000           0.233333   \n",
       "6     Connecticut           1.000000           0.263333   \n",
       "\n",
       "    participation_SATvsACT  \n",
       "19                0.906667  \n",
       "7                 0.840000  \n",
       "29                0.796667  \n",
       "22                0.766667  \n",
       "6                 0.736667  "
      ]
     },
     "execution_count": 418,
     "metadata": {},
     "output_type": "execute_result"
    }
   ],
   "source": [
    "#to find states with significant differences in ACT vs SAT participation, I am merging ACT and SAT participation by state and sorting by absolute difference:\n",
    "sat_act_part_by_state = sat_part_by_state.merge(act_part_by_state, how = 'inner', on = 'state', suffixes= ['_SAT', '_ACT'])\n",
    "sat_act_part_by_state['participation_SATvsACT'] = (sat_act_part_by_state['participation_SAT']-sat_act_part_by_state['participation_ACT'])\n",
    "sat_act_part_by_state = sat_act_part_by_state.sort_values(by = 'participation_SATvsACT', ascending = False)\n",
    "sat_act_part_by_state.head()"
   ]
  },
  {
   "cell_type": "code",
   "execution_count": 126,
   "metadata": {},
   "outputs": [
    {
     "data": {
      "text/html": [
       "<div>\n",
       "<style scoped>\n",
       "    .dataframe tbody tr th:only-of-type {\n",
       "        vertical-align: middle;\n",
       "    }\n",
       "\n",
       "    .dataframe tbody tr th {\n",
       "        vertical-align: top;\n",
       "    }\n",
       "\n",
       "    .dataframe thead th {\n",
       "        text-align: right;\n",
       "    }\n",
       "</style>\n",
       "<table border=\"1\" class=\"dataframe\">\n",
       "  <thead>\n",
       "    <tr style=\"text-align: right;\">\n",
       "      <th></th>\n",
       "      <th>state</th>\n",
       "      <th>participation_SAT</th>\n",
       "      <th>participation_ACT</th>\n",
       "      <th>participation_SATvsACT</th>\n",
       "    </tr>\n",
       "  </thead>\n",
       "  <tbody>\n",
       "    <tr>\n",
       "      <th>33</th>\n",
       "      <td>North Carolina</td>\n",
       "      <td>0.506667</td>\n",
       "      <td>1.000000</td>\n",
       "      <td>0.493333</td>\n",
       "    </tr>\n",
       "    <tr>\n",
       "      <th>40</th>\n",
       "      <td>South Carolina</td>\n",
       "      <td>0.576667</td>\n",
       "      <td>0.926667</td>\n",
       "      <td>0.350000</td>\n",
       "    </tr>\n",
       "    <tr>\n",
       "      <th>11</th>\n",
       "      <td>Hawaii</td>\n",
       "      <td>0.550000</td>\n",
       "      <td>0.863333</td>\n",
       "      <td>0.313333</td>\n",
       "    </tr>\n",
       "    <tr>\n",
       "      <th>5</th>\n",
       "      <td>Colorado</td>\n",
       "      <td>0.703333</td>\n",
       "      <td>0.523333</td>\n",
       "      <td>0.180000</td>\n",
       "    </tr>\n",
       "    <tr>\n",
       "      <th>9</th>\n",
       "      <td>Florida</td>\n",
       "      <td>0.796667</td>\n",
       "      <td>0.643333</td>\n",
       "      <td>0.153333</td>\n",
       "    </tr>\n",
       "    <tr>\n",
       "      <th>10</th>\n",
       "      <td>Georgia</td>\n",
       "      <td>0.673333</td>\n",
       "      <td>0.523333</td>\n",
       "      <td>0.150000</td>\n",
       "    </tr>\n",
       "    <tr>\n",
       "      <th>13</th>\n",
       "      <td>Illinois</td>\n",
       "      <td>0.693333</td>\n",
       "      <td>0.570000</td>\n",
       "      <td>0.123333</td>\n",
       "    </tr>\n",
       "  </tbody>\n",
       "</table>\n",
       "</div>"
      ],
      "text/plain": [
       "             state  participation_SAT  participation_ACT  \\\n",
       "33  North Carolina           0.506667           1.000000   \n",
       "40  South Carolina           0.576667           0.926667   \n",
       "11          Hawaii           0.550000           0.863333   \n",
       "5         Colorado           0.703333           0.523333   \n",
       "9          Florida           0.796667           0.643333   \n",
       "10         Georgia           0.673333           0.523333   \n",
       "13        Illinois           0.693333           0.570000   \n",
       "\n",
       "    participation_SATvsACT  \n",
       "33                0.493333  \n",
       "40                0.350000  \n",
       "11                0.313333  \n",
       "5                 0.180000  \n",
       "9                 0.153333  \n",
       "10                0.150000  \n",
       "13                0.123333  "
      ]
     },
     "execution_count": 126,
     "metadata": {},
     "output_type": "execute_result"
    }
   ],
   "source": [
    "# do any states have participation > 50% in both tests, on average?\n",
    "both_over_50 = sat_act_part_by_state[(sat_act_part_by_state['participation_ACT']>0.5) & (sat_act_part_by_state['participation_SAT']>0.5)]\n",
    "both_over_50"
   ]
  },
  {
   "cell_type": "code",
   "execution_count": 134,
   "metadata": {
    "scrolled": true
   },
   "outputs": [
    {
     "name": "stdout",
     "output_type": "stream",
     "text": [
      "7 states had average participation above 50% over 2017-2019:\n",
      "['North Carolina', 'South Carolina', 'Hawaii', 'Colorado', 'Florida', 'Georgia', 'Illinois'].\n"
     ]
    }
   ],
   "source": [
    "print(f'{len(both_over_50)} states had average participation above 50% over 2017-2019:\\n{list(both_over_50[\"state\"])}.')"
   ]
  },
  {
   "cell_type": "code",
   "execution_count": 138,
   "metadata": {},
   "outputs": [
    {
     "data": {
      "text/html": [
       "<div>\n",
       "<style scoped>\n",
       "    .dataframe tbody tr th:only-of-type {\n",
       "        vertical-align: middle;\n",
       "    }\n",
       "\n",
       "    .dataframe tbody tr th {\n",
       "        vertical-align: top;\n",
       "    }\n",
       "\n",
       "    .dataframe thead th {\n",
       "        text-align: right;\n",
       "    }\n",
       "</style>\n",
       "<table border=\"1\" class=\"dataframe\">\n",
       "  <thead>\n",
       "    <tr style=\"text-align: right;\">\n",
       "      <th></th>\n",
       "      <th>state</th>\n",
       "      <th>participation_SAT</th>\n",
       "      <th>ebrw</th>\n",
       "      <th>math</th>\n",
       "      <th>total_SAT</th>\n",
       "      <th>year</th>\n",
       "      <th>total_norm_SAT</th>\n",
       "      <th>participation_ACT</th>\n",
       "      <th>total_ACT</th>\n",
       "      <th>total_norm_ACT</th>\n",
       "    </tr>\n",
       "  </thead>\n",
       "  <tbody>\n",
       "    <tr>\n",
       "      <th>5</th>\n",
       "      <td>Colorado</td>\n",
       "      <td>0.11</td>\n",
       "      <td>606</td>\n",
       "      <td>595</td>\n",
       "      <td>1201</td>\n",
       "      <td>2017</td>\n",
       "      <td>0.667500</td>\n",
       "      <td>1.00</td>\n",
       "      <td>20.8</td>\n",
       "      <td>0.565714</td>\n",
       "    </tr>\n",
       "    <tr>\n",
       "      <th>9</th>\n",
       "      <td>Florida</td>\n",
       "      <td>0.83</td>\n",
       "      <td>520</td>\n",
       "      <td>497</td>\n",
       "      <td>1017</td>\n",
       "      <td>2017</td>\n",
       "      <td>0.514167</td>\n",
       "      <td>0.73</td>\n",
       "      <td>19.8</td>\n",
       "      <td>0.537143</td>\n",
       "    </tr>\n",
       "    <tr>\n",
       "      <th>10</th>\n",
       "      <td>Georgia</td>\n",
       "      <td>0.61</td>\n",
       "      <td>535</td>\n",
       "      <td>515</td>\n",
       "      <td>1050</td>\n",
       "      <td>2017</td>\n",
       "      <td>0.541667</td>\n",
       "      <td>0.55</td>\n",
       "      <td>21.4</td>\n",
       "      <td>0.582857</td>\n",
       "    </tr>\n",
       "    <tr>\n",
       "      <th>11</th>\n",
       "      <td>Hawaii</td>\n",
       "      <td>0.55</td>\n",
       "      <td>544</td>\n",
       "      <td>541</td>\n",
       "      <td>1085</td>\n",
       "      <td>2017</td>\n",
       "      <td>0.570833</td>\n",
       "      <td>0.90</td>\n",
       "      <td>19.0</td>\n",
       "      <td>0.514286</td>\n",
       "    </tr>\n",
       "    <tr>\n",
       "      <th>13</th>\n",
       "      <td>Illinois</td>\n",
       "      <td>0.09</td>\n",
       "      <td>559</td>\n",
       "      <td>556</td>\n",
       "      <td>1115</td>\n",
       "      <td>2017</td>\n",
       "      <td>0.595833</td>\n",
       "      <td>0.93</td>\n",
       "      <td>21.4</td>\n",
       "      <td>0.582857</td>\n",
       "    </tr>\n",
       "    <tr>\n",
       "      <th>33</th>\n",
       "      <td>North Carolina</td>\n",
       "      <td>0.49</td>\n",
       "      <td>546</td>\n",
       "      <td>535</td>\n",
       "      <td>1081</td>\n",
       "      <td>2017</td>\n",
       "      <td>0.567500</td>\n",
       "      <td>1.00</td>\n",
       "      <td>19.1</td>\n",
       "      <td>0.517143</td>\n",
       "    </tr>\n",
       "    <tr>\n",
       "      <th>40</th>\n",
       "      <td>South Carolina</td>\n",
       "      <td>0.50</td>\n",
       "      <td>543</td>\n",
       "      <td>521</td>\n",
       "      <td>1064</td>\n",
       "      <td>2017</td>\n",
       "      <td>0.553333</td>\n",
       "      <td>1.00</td>\n",
       "      <td>18.7</td>\n",
       "      <td>0.505714</td>\n",
       "    </tr>\n",
       "  </tbody>\n",
       "</table>\n",
       "</div>"
      ],
      "text/plain": [
       "             state  participation_SAT  ebrw  math  total_SAT  year  \\\n",
       "5         Colorado               0.11   606   595       1201  2017   \n",
       "9          Florida               0.83   520   497       1017  2017   \n",
       "10         Georgia               0.61   535   515       1050  2017   \n",
       "11          Hawaii               0.55   544   541       1085  2017   \n",
       "13        Illinois               0.09   559   556       1115  2017   \n",
       "33  North Carolina               0.49   546   535       1081  2017   \n",
       "40  South Carolina               0.50   543   521       1064  2017   \n",
       "\n",
       "    total_norm_SAT  participation_ACT  total_ACT  total_norm_ACT  \n",
       "5         0.667500               1.00       20.8        0.565714  \n",
       "9         0.514167               0.73       19.8        0.537143  \n",
       "10        0.541667               0.55       21.4        0.582857  \n",
       "11        0.570833               0.90       19.0        0.514286  \n",
       "13        0.595833               0.93       21.4        0.582857  \n",
       "33        0.567500               1.00       19.1        0.517143  \n",
       "40        0.553333               1.00       18.7        0.505714  "
      ]
     },
     "execution_count": 138,
     "metadata": {},
     "output_type": "execute_result"
    }
   ],
   "source": [
    "# do any states have participation > 50% in both tests, each year?\n",
    "sat_act_df = sat_all_df.merge(act_all_df, how = 'inner', on = ['state', 'year'], suffixes= ['_SAT', '_ACT'])\n",
    "sat_act_df\n",
    "both_over_50_ey = sat_act_df[(sat_act_df['participation_ACT']>0.5) & (sat_act_part_by_state['participation_SAT']>0.5)]"
   ]
  },
  {
   "cell_type": "markdown",
   "metadata": {},
   "source": [
    "**Observation:** all instances where participation was reported at >50% for both SAT and ACT were from 2017. No state appears to have had participation above 50% in 2018 or 2019."
   ]
  },
  {
   "cell_type": "code",
   "execution_count": 419,
   "metadata": {},
   "outputs": [
    {
     "name": "stdout",
     "output_type": "stream",
     "text": [
      "There are 49 states where one of the tests (SAT or ACT) is more popular than the other by more than 10 pct points.\n",
      "There are 44 states where one of the tests (SAT or ACT) is more popular than the other by more than 20 pct points.\n",
      "There are 43 states where one of the tests (SAT or ACT) is more popular than the other by more than 30 pct points.\n",
      "There are 37 states where one of the tests (SAT or ACT) is more popular than the other by more than 40 pct points.\n",
      "There are 30 states where one of the tests (SAT or ACT) is more popular than the other by more than 50 pct points.\n",
      "There are 28 states where one of the tests (SAT or ACT) is more popular than the other by more than 60 pct points.\n",
      "There are 24 states where one of the tests (SAT or ACT) is more popular than the other by more than 70 pct points.\n",
      "There are 17 states where one of the tests (SAT or ACT) is more popular than the other by more than 80 pct points.\n",
      "There are 15 states where one of the tests (SAT or ACT) is more popular than the other by more than 90 pct points.\n"
     ]
    }
   ],
   "source": [
    "deltas = [0.1*i for i in range(1,10)]\n",
    "num_states_delta = []\n",
    "for d in deltas:\n",
    "    num_states_delta.append(len(sat_act_part_by_state[(sat_act_part_by_state['participation_SATvsACT'] > d) | (sat_act_part_by_state['participation_SATvsACT'] < -d)]))\n",
    "    \n",
    "for i in range(len(deltas)):\n",
    "    print(f'There are {num_states_delta[i]} states where one of the tests (SAT or ACT) is more popular than the other by more than {int(deltas[i]*100)} pct points.')"
   ]
  },
  {
   "cell_type": "code",
   "execution_count": 427,
   "metadata": {},
   "outputs": [
    {
     "data": {
      "text/html": [
       "<div>\n",
       "<style scoped>\n",
       "    .dataframe tbody tr th:only-of-type {\n",
       "        vertical-align: middle;\n",
       "    }\n",
       "\n",
       "    .dataframe tbody tr th {\n",
       "        vertical-align: top;\n",
       "    }\n",
       "\n",
       "    .dataframe thead th {\n",
       "        text-align: right;\n",
       "    }\n",
       "</style>\n",
       "<table border=\"1\" class=\"dataframe\">\n",
       "  <thead>\n",
       "    <tr style=\"text-align: right;\">\n",
       "      <th></th>\n",
       "      <th>index</th>\n",
       "      <th>state</th>\n",
       "      <th>participation_SAT</th>\n",
       "      <th>participation_ACT</th>\n",
       "      <th>participation_SATvsACT</th>\n",
       "      <th>SAT_ACT</th>\n",
       "    </tr>\n",
       "  </thead>\n",
       "  <tbody>\n",
       "    <tr>\n",
       "      <th>0</th>\n",
       "      <td>19</td>\n",
       "      <td>Maine</td>\n",
       "      <td>0.976667</td>\n",
       "      <td>0.070000</td>\n",
       "      <td>0.906667</td>\n",
       "      <td>SAT</td>\n",
       "    </tr>\n",
       "    <tr>\n",
       "      <th>1</th>\n",
       "      <td>7</td>\n",
       "      <td>Delaware</td>\n",
       "      <td>1.000000</td>\n",
       "      <td>0.160000</td>\n",
       "      <td>0.840000</td>\n",
       "      <td>SAT</td>\n",
       "    </tr>\n",
       "    <tr>\n",
       "      <th>2</th>\n",
       "      <td>29</td>\n",
       "      <td>New Hampshire</td>\n",
       "      <td>0.956667</td>\n",
       "      <td>0.160000</td>\n",
       "      <td>0.796667</td>\n",
       "      <td>SAT</td>\n",
       "    </tr>\n",
       "    <tr>\n",
       "      <th>3</th>\n",
       "      <td>22</td>\n",
       "      <td>Michigan</td>\n",
       "      <td>1.000000</td>\n",
       "      <td>0.233333</td>\n",
       "      <td>0.766667</td>\n",
       "      <td>SAT</td>\n",
       "    </tr>\n",
       "    <tr>\n",
       "      <th>4</th>\n",
       "      <td>6</td>\n",
       "      <td>Connecticut</td>\n",
       "      <td>1.000000</td>\n",
       "      <td>0.263333</td>\n",
       "      <td>0.736667</td>\n",
       "      <td>SAT</td>\n",
       "    </tr>\n",
       "  </tbody>\n",
       "</table>\n",
       "</div>"
      ],
      "text/plain": [
       "   index          state  participation_SAT  participation_ACT  \\\n",
       "0     19          Maine           0.976667           0.070000   \n",
       "1      7       Delaware           1.000000           0.160000   \n",
       "2     29  New Hampshire           0.956667           0.160000   \n",
       "3     22       Michigan           1.000000           0.233333   \n",
       "4      6    Connecticut           1.000000           0.263333   \n",
       "\n",
       "   participation_SATvsACT SAT_ACT  \n",
       "0                0.906667     SAT  \n",
       "1                0.840000     SAT  \n",
       "2                0.796667     SAT  \n",
       "3                0.766667     SAT  \n",
       "4                0.736667     SAT  "
      ]
     },
     "execution_count": 427,
     "metadata": {},
     "output_type": "execute_result"
    }
   ],
   "source": [
    "min_delta = 0.7\n",
    "stdztn_oppty = sat_act_part_by_state[(sat_act_part_by_state['participation_SATvsACT']>min_delta) | (sat_act_part_by_state['participation_SATvsACT'] < -min_delta)].reset_index()\n",
    "stdztn_oppty['SAT_ACT'] = stdztn_oppty['participation_SATvsACT'].apply(lambda x: 'SAT' if x > 0 else 'ACT')\n",
    "#stdztn_oppty['SAT'] = stdztn_oppty['participation_SAT'].apply(lambda x: 1 if x > min_part else 0)\n",
    "stdztn_oppty.head()"
   ]
  },
  {
   "cell_type": "code",
   "execution_count": 425,
   "metadata": {},
   "outputs": [
    {
     "name": "stdout",
     "output_type": "stream",
     "text": [
      "Of 24 states where either SAT or ACT dominates in terms of participation, 18 could accept ACT as the only standard \n",
      "test and 6 could standardize on SAT.\n"
     ]
    }
   ],
   "source": [
    "print(f\"Of {len(stdztn_oppty)} states where either SAT or ACT dominates in terms of participation, {sum(stdztn_oppty['SAT_ACT']=='ACT')} could accept ACT as the only standard \\ntest and {sum(stdztn_oppty['SAT_ACT']=='SAT')} could standardize on SAT.\") "
   ]
  },
  {
   "cell_type": "code",
   "execution_count": 166,
   "metadata": {},
   "outputs": [
    {
     "data": {
      "text/plain": [
       "count    51.000000\n",
       "mean      1.039819\n",
       "std       0.195988\n",
       "min       0.724167\n",
       "25%       0.884103\n",
       "50%       1.018450\n",
       "75%       1.223026\n",
       "max       1.394566\n",
       "Name: sat_over_act, dtype: float64"
      ]
     },
     "execution_count": 166,
     "metadata": {},
     "output_type": "execute_result"
    }
   ],
   "source": [
    "# similarly as above for participation, I am creating summaries for the average total score for both tests:\n",
    "sat_total_norm_by_state = sat_all_df.groupby('state')['total_norm'].mean().reset_index()\n",
    "act_total_norm_by_state = act_all_df.groupby('state')['total_norm'].mean().reset_index()\n",
    "sat_act_total_norm_by_state = sat_total_norm_by_state.merge(act_total_norm_by_state, how = 'inner', on = 'state', suffixes= ['_SAT', '_ACT'])\n",
    "#sat_act_total_by_state['participation_SATvsACT'] = abs(sat_act_part_by_state['participation_SAT']-sat_act_part_by_state['participation_ACT'])\n",
    "#sat_act_total_by_state = sat_act_part_by_state.sort_values(by = 'participation_SATvsACT', ascending = False)\n",
    "sat_act_total_norm_by_state['sat_over_act'] = sat_act_total_norm_by_state['total_norm_SAT']/sat_act_total_norm_by_state['total_norm_ACT']\n",
    "sat_better = len(sat_act_total_norm_by_state[sat_act_total_norm_by_state['sat_over_act']>1])\n",
    "act_better = len(sat_act_total_norm_by_state[sat_act_total_norm_by_sbtate['sat_over_act']<1])\n",
    "sat_act_total_norm_by_state['sat_over_act'].describe()"
   ]
  },
  {
   "cell_type": "code",
   "execution_count": 437,
   "metadata": {},
   "outputs": [
    {
     "name": "stdout",
     "output_type": "stream",
     "text": [
      "It does not appear as though overall results are skewed towards either SAT or ACT: \n",
      "27 states report better SAT results, 24 - better ACT results.\n"
     ]
    }
   ],
   "source": [
    "print(f'It does not appear as though overall results are skewed towards either SAT or ACT: \\n{sat_better} states report better SAT results, {act_better} - better ACT results.')"
   ]
  },
  {
   "cell_type": "code",
   "execution_count": 290,
   "metadata": {},
   "outputs": [
    {
     "data": {
      "text/html": [
       "<div>\n",
       "<style scoped>\n",
       "    .dataframe tbody tr th:only-of-type {\n",
       "        vertical-align: middle;\n",
       "    }\n",
       "\n",
       "    .dataframe tbody tr th {\n",
       "        vertical-align: top;\n",
       "    }\n",
       "\n",
       "    .dataframe thead th {\n",
       "        text-align: right;\n",
       "    }\n",
       "</style>\n",
       "<table border=\"1\" class=\"dataframe\">\n",
       "  <thead>\n",
       "    <tr style=\"text-align: right;\">\n",
       "      <th></th>\n",
       "      <th>school</th>\n",
       "      <th>number_of_applicants</th>\n",
       "      <th>accept_rate</th>\n",
       "      <th>sat_norm_25th</th>\n",
       "      <th>sat_norm_75th</th>\n",
       "      <th>act_norm_25th</th>\n",
       "      <th>act_norm_75th</th>\n",
       "    </tr>\n",
       "  </thead>\n",
       "  <tbody>\n",
       "    <tr>\n",
       "      <th>0</th>\n",
       "      <td>Stanford University</td>\n",
       "      <td>47452</td>\n",
       "      <td>0.043</td>\n",
       "      <td>0.866667</td>\n",
       "      <td>0.975000</td>\n",
       "      <td>0.885714</td>\n",
       "      <td>0.971429</td>\n",
       "    </tr>\n",
       "    <tr>\n",
       "      <th>1</th>\n",
       "      <td>Harvard College</td>\n",
       "      <td>42749</td>\n",
       "      <td>0.047</td>\n",
       "      <td>0.883333</td>\n",
       "      <td>0.983333</td>\n",
       "      <td>0.914286</td>\n",
       "      <td>0.971429</td>\n",
       "    </tr>\n",
       "    <tr>\n",
       "      <th>2</th>\n",
       "      <td>Princeton University</td>\n",
       "      <td>35370</td>\n",
       "      <td>0.055</td>\n",
       "      <td>0.866667</td>\n",
       "      <td>0.975000</td>\n",
       "      <td>0.885714</td>\n",
       "      <td>0.971429</td>\n",
       "    </tr>\n",
       "    <tr>\n",
       "      <th>3</th>\n",
       "      <td>Columbia University</td>\n",
       "      <td>40203</td>\n",
       "      <td>0.055</td>\n",
       "      <td>0.875000</td>\n",
       "      <td>0.966667</td>\n",
       "      <td>0.914286</td>\n",
       "      <td>0.971429</td>\n",
       "    </tr>\n",
       "    <tr>\n",
       "      <th>4</th>\n",
       "      <td>Yale University</td>\n",
       "      <td>36844</td>\n",
       "      <td>0.061</td>\n",
       "      <td>0.883333</td>\n",
       "      <td>0.975000</td>\n",
       "      <td>0.914286</td>\n",
       "      <td>0.971429</td>\n",
       "    </tr>\n",
       "    <tr>\n",
       "      <th>...</th>\n",
       "      <td>...</td>\n",
       "      <td>...</td>\n",
       "      <td>...</td>\n",
       "      <td>...</td>\n",
       "      <td>...</td>\n",
       "      <td>...</td>\n",
       "      <td>...</td>\n",
       "    </tr>\n",
       "    <tr>\n",
       "      <th>395</th>\n",
       "      <td>Howard University</td>\n",
       "      <td>20946</td>\n",
       "      <td>0.316</td>\n",
       "      <td>0.616667</td>\n",
       "      <td>0.737500</td>\n",
       "      <td>0.600000</td>\n",
       "      <td>0.742857</td>\n",
       "    </tr>\n",
       "    <tr>\n",
       "      <th>396</th>\n",
       "      <td>Florida State University</td>\n",
       "      <td>58936</td>\n",
       "      <td>0.360</td>\n",
       "      <td>0.666667</td>\n",
       "      <td>0.783333</td>\n",
       "      <td>0.714286</td>\n",
       "      <td>0.828571</td>\n",
       "    </tr>\n",
       "    <tr>\n",
       "      <th>398</th>\n",
       "      <td>University of Central Florida</td>\n",
       "      <td>35240</td>\n",
       "      <td>0.382</td>\n",
       "      <td>0.633333</td>\n",
       "      <td>0.783333</td>\n",
       "      <td>0.685714</td>\n",
       "      <td>0.800000</td>\n",
       "    </tr>\n",
       "    <tr>\n",
       "      <th>399</th>\n",
       "      <td>University of Florida</td>\n",
       "      <td>38905</td>\n",
       "      <td>0.388</td>\n",
       "      <td>0.733333</td>\n",
       "      <td>0.866667</td>\n",
       "      <td>0.742857</td>\n",
       "      <td>0.885714</td>\n",
       "    </tr>\n",
       "    <tr>\n",
       "      <th>400</th>\n",
       "      <td>University of South Florida</td>\n",
       "      <td>36986</td>\n",
       "      <td>0.477</td>\n",
       "      <td>0.641667</td>\n",
       "      <td>0.775000</td>\n",
       "      <td>0.685714</td>\n",
       "      <td>0.800000</td>\n",
       "    </tr>\n",
       "  </tbody>\n",
       "</table>\n",
       "<p>78 rows × 7 columns</p>\n",
       "</div>"
      ],
      "text/plain": [
       "                            school  number_of_applicants  accept_rate  \\\n",
       "0              Stanford University                 47452        0.043   \n",
       "1                  Harvard College                 42749        0.047   \n",
       "2             Princeton University                 35370        0.055   \n",
       "3              Columbia University                 40203        0.055   \n",
       "4                  Yale University                 36844        0.061   \n",
       "..                             ...                   ...          ...   \n",
       "395              Howard University                 20946        0.316   \n",
       "396       Florida State University                 58936        0.360   \n",
       "398  University of Central Florida                 35240        0.382   \n",
       "399          University of Florida                 38905        0.388   \n",
       "400    University of South Florida                 36986        0.477   \n",
       "\n",
       "     sat_norm_25th  sat_norm_75th  act_norm_25th  act_norm_75th  \n",
       "0         0.866667       0.975000       0.885714       0.971429  \n",
       "1         0.883333       0.983333       0.914286       0.971429  \n",
       "2         0.866667       0.975000       0.885714       0.971429  \n",
       "3         0.875000       0.966667       0.914286       0.971429  \n",
       "4         0.883333       0.975000       0.914286       0.971429  \n",
       "..             ...            ...            ...            ...  \n",
       "395       0.616667       0.737500       0.600000       0.742857  \n",
       "396       0.666667       0.783333       0.714286       0.828571  \n",
       "398       0.633333       0.783333       0.685714       0.800000  \n",
       "399       0.733333       0.866667       0.742857       0.885714  \n",
       "400       0.641667       0.775000       0.685714       0.800000  \n",
       "\n",
       "[78 rows x 7 columns]"
      ]
     },
     "execution_count": 290,
     "metadata": {},
     "output_type": "execute_result"
    }
   ],
   "source": [
    "# narrowing down to top schools in terms of popularity(# of applicants) and selectivity (acceptance rate)\n",
    "sat_act_by_college_df[(sat_act_by_college_df['number_of_applicants'] > sat_act_by_college_df['number_of_applicants'].mean())\n",
    "                     &(sat_act_by_college_df['accept_rate'] < sat_act_by_college_df['accept_rate'].mean())]"
   ]
  },
  {
   "cell_type": "code",
   "execution_count": 303,
   "metadata": {},
   "outputs": [
    {
     "data": {
      "text/html": [
       "<div>\n",
       "<style scoped>\n",
       "    .dataframe tbody tr th:only-of-type {\n",
       "        vertical-align: middle;\n",
       "    }\n",
       "\n",
       "    .dataframe tbody tr th {\n",
       "        vertical-align: top;\n",
       "    }\n",
       "\n",
       "    .dataframe thead th {\n",
       "        text-align: right;\n",
       "    }\n",
       "</style>\n",
       "<table border=\"1\" class=\"dataframe\">\n",
       "  <thead>\n",
       "    <tr style=\"text-align: right;\">\n",
       "      <th></th>\n",
       "      <th>school</th>\n",
       "      <th>number_of_applicants</th>\n",
       "      <th>accept_rate</th>\n",
       "      <th>sat_norm_25th</th>\n",
       "      <th>sat_norm_75th</th>\n",
       "      <th>act_norm_25th</th>\n",
       "      <th>act_norm_75th</th>\n",
       "      <th>num_of_app_cum</th>\n",
       "    </tr>\n",
       "  </thead>\n",
       "  <tbody>\n",
       "    <tr>\n",
       "      <th>24</th>\n",
       "      <td>University of California—​Los Angeles</td>\n",
       "      <td>111322</td>\n",
       "      <td>0.123</td>\n",
       "      <td>0.741667</td>\n",
       "      <td>0.925000</td>\n",
       "      <td>0.742857</td>\n",
       "      <td>0.942857</td>\n",
       "      <td>0.015307</td>\n",
       "    </tr>\n",
       "    <tr>\n",
       "      <th>72</th>\n",
       "      <td>University of California—​San Diego</td>\n",
       "      <td>97901</td>\n",
       "      <td>0.302</td>\n",
       "      <td>0.708333</td>\n",
       "      <td>0.891667</td>\n",
       "      <td>0.714286</td>\n",
       "      <td>0.914286</td>\n",
       "      <td>0.028769</td>\n",
       "    </tr>\n",
       "    <tr>\n",
       "      <th>60</th>\n",
       "      <td>University of California—​Irvine</td>\n",
       "      <td>95568</td>\n",
       "      <td>0.265</td>\n",
       "      <td>0.650000</td>\n",
       "      <td>0.866667</td>\n",
       "      <td>-0.028571</td>\n",
       "      <td>-0.028571</td>\n",
       "      <td>0.041911</td>\n",
       "    </tr>\n",
       "    <tr>\n",
       "      <th>69</th>\n",
       "      <td>University of California—​Santa Barbara</td>\n",
       "      <td>93457</td>\n",
       "      <td>0.296</td>\n",
       "      <td>0.716667</td>\n",
       "      <td>0.883333</td>\n",
       "      <td>0.685714</td>\n",
       "      <td>0.914286</td>\n",
       "      <td>0.054761</td>\n",
       "    </tr>\n",
       "    <tr>\n",
       "      <th>33</th>\n",
       "      <td>University of California—​Berkeley</td>\n",
       "      <td>89621</td>\n",
       "      <td>0.148</td>\n",
       "      <td>0.750000</td>\n",
       "      <td>0.941667</td>\n",
       "      <td>0.771429</td>\n",
       "      <td>0.942857</td>\n",
       "      <td>0.067085</td>\n",
       "    </tr>\n",
       "    <tr>\n",
       "      <th>...</th>\n",
       "      <td>...</td>\n",
       "      <td>...</td>\n",
       "      <td>...</td>\n",
       "      <td>...</td>\n",
       "      <td>...</td>\n",
       "      <td>...</td>\n",
       "      <td>...</td>\n",
       "      <td>...</td>\n",
       "    </tr>\n",
       "    <tr>\n",
       "      <th>367</th>\n",
       "      <td>Mills College</td>\n",
       "      <td>1003</td>\n",
       "      <td>0.855</td>\n",
       "      <td>0.506667</td>\n",
       "      <td>0.700000</td>\n",
       "      <td>0.571429</td>\n",
       "      <td>0.800000</td>\n",
       "      <td>0.999713</td>\n",
       "    </tr>\n",
       "    <tr>\n",
       "      <th>170</th>\n",
       "      <td>St. John's College Annapolis</td>\n",
       "      <td>913</td>\n",
       "      <td>0.576</td>\n",
       "      <td>0.675000</td>\n",
       "      <td>0.875000</td>\n",
       "      <td>0.657143</td>\n",
       "      <td>0.914286</td>\n",
       "      <td>0.999839</td>\n",
       "    </tr>\n",
       "    <tr>\n",
       "      <th>401</th>\n",
       "      <td>Gallaudet University</td>\n",
       "      <td>496</td>\n",
       "      <td>0.571</td>\n",
       "      <td>0.327500</td>\n",
       "      <td>0.565000</td>\n",
       "      <td>0.400000</td>\n",
       "      <td>0.542857</td>\n",
       "      <td>0.999907</td>\n",
       "    </tr>\n",
       "    <tr>\n",
       "      <th>100</th>\n",
       "      <td>Soka University of America</td>\n",
       "      <td>464</td>\n",
       "      <td>0.388</td>\n",
       "      <td>0.650000</td>\n",
       "      <td>0.841667</td>\n",
       "      <td>0.742857</td>\n",
       "      <td>0.828571</td>\n",
       "      <td>0.999971</td>\n",
       "    </tr>\n",
       "    <tr>\n",
       "      <th>410</th>\n",
       "      <td>Thomas Aquinas College</td>\n",
       "      <td>211</td>\n",
       "      <td>0.777</td>\n",
       "      <td>0.683333</td>\n",
       "      <td>0.833333</td>\n",
       "      <td>0.685714</td>\n",
       "      <td>0.828571</td>\n",
       "      <td>1.000000</td>\n",
       "    </tr>\n",
       "  </tbody>\n",
       "</table>\n",
       "<p>416 rows × 8 columns</p>\n",
       "</div>"
      ],
      "text/plain": [
       "                                      school  number_of_applicants  \\\n",
       "24     University of California—​Los Angeles                111322   \n",
       "72       University of California—​San Diego                 97901   \n",
       "60          University of California—​Irvine                 95568   \n",
       "69   University of California—​Santa Barbara                 93457   \n",
       "33        University of California—​Berkeley                 89621   \n",
       "..                                       ...                   ...   \n",
       "367                            Mills College                  1003   \n",
       "170             St. John's College Annapolis                   913   \n",
       "401                     Gallaudet University                   496   \n",
       "100               Soka University of America                   464   \n",
       "410                   Thomas Aquinas College                   211   \n",
       "\n",
       "     accept_rate  sat_norm_25th  sat_norm_75th  act_norm_25th  act_norm_75th  \\\n",
       "24         0.123       0.741667       0.925000       0.742857       0.942857   \n",
       "72         0.302       0.708333       0.891667       0.714286       0.914286   \n",
       "60         0.265       0.650000       0.866667      -0.028571      -0.028571   \n",
       "69         0.296       0.716667       0.883333       0.685714       0.914286   \n",
       "33         0.148       0.750000       0.941667       0.771429       0.942857   \n",
       "..           ...            ...            ...            ...            ...   \n",
       "367        0.855       0.506667       0.700000       0.571429       0.800000   \n",
       "170        0.576       0.675000       0.875000       0.657143       0.914286   \n",
       "401        0.571       0.327500       0.565000       0.400000       0.542857   \n",
       "100        0.388       0.650000       0.841667       0.742857       0.828571   \n",
       "410        0.777       0.683333       0.833333       0.685714       0.828571   \n",
       "\n",
       "     num_of_app_cum  \n",
       "24         0.015307  \n",
       "72         0.028769  \n",
       "60         0.041911  \n",
       "69         0.054761  \n",
       "33         0.067085  \n",
       "..              ...  \n",
       "367        0.999713  \n",
       "170        0.999839  \n",
       "401        0.999907  \n",
       "100        0.999971  \n",
       "410        1.000000  \n",
       "\n",
       "[416 rows x 8 columns]"
      ]
     },
     "execution_count": 303,
     "metadata": {},
     "output_type": "execute_result"
    }
   ],
   "source": [
    "sat_act_by_college_df.sort_values(by = 'number_of_applicants', ascending=False, inplace = True)\n",
    "sat_act_by_college_df['num_of_app_cum'] = sat_act_by_college_df['number_of_applicants'].cumsum()/sat_act_by_college_df['number_of_applicants'].sum()\n",
    "sat_act_by_college_df"
   ]
  },
  {
   "cell_type": "code",
   "execution_count": 307,
   "metadata": {},
   "outputs": [
    {
     "data": {
      "text/plain": [
       "185"
      ]
     },
     "execution_count": 307,
     "metadata": {},
     "output_type": "execute_result"
    }
   ],
   "source": [
    "len(sat_act_by_college_df[sat_act_by_college_df['num_of_app_cum']<=0.8])"
   ]
  },
  {
   "cell_type": "markdown",
   "metadata": {},
   "source": [
    "## Visualize the Data\n",
    "\n",
    "There's not a magic bullet recommendation for the right number of plots to understand a given dataset, but visualizing your data is *always* a good idea. Not only does it allow you to quickly convey your findings (even if you have a non-technical audience), it will often reveal trends in your data that escaped you when you were looking only at numbers. It is important to not only create visualizations, but to **interpret your visualizations** as well.\n",
    "\n",
    "**Every plot should**:\n",
    "- Have a title\n",
    "- Have axis labels\n",
    "- Have appropriate tick labels\n",
    "- Text is legible in a plot\n",
    "- Plots demonstrate meaningful and valid relationships\n",
    "- Have an interpretation to aid understanding\n",
    "\n",
    "Here is an example of what your plots should look like following the above guidelines. Note that while the content of this example is unrelated, the principles of visualization hold:\n",
    "\n",
    "![](https://snag.gy/hCBR1U.jpg)\n",
    "*Interpretation: The above image shows that as we increase our spending on advertising, our sales numbers also tend to increase. There is a positive correlation between advertising spending and sales.*\n",
    "\n",
    "---\n",
    "\n",
    "Here are some prompts to get you started with visualizations. Feel free to add additional visualizations as you see fit:\n",
    "1. Use Seaborn's heatmap with pandas `.corr()` to visualize correlations between all numeric features.\n",
    "    - Heatmaps are generally not appropriate for presentations, and should often be excluded from reports as they can be visually overwhelming. **However**, they can be extremely useful in identify relationships of potential interest (as well as identifying potential collinearity before modeling).\n",
    "    - Please take time to format your output, adding a title. Look through some of the additional arguments and options. (Axis labels aren't really necessary, as long as the title is informative).\n",
    "2. Visualize distributions using histograms. If you have a lot, consider writing a custom function and use subplots.\n",
    "    - *OPTIONAL*: Summarize the underlying distributions of your features (in words & statistics)\n",
    "         - Be thorough in your verbal description of these distributions.\n",
    "         - Be sure to back up these summaries with statistics.\n",
    "         - We generally assume that data we sample from a population will be normally distributed. Do we observe this trend? Explain your answers for each distribution and how you think this will affect estimates made from these data.\n",
    "3. Plot and interpret boxplots. \n",
    "    - Boxplots demonstrate central tendency and spread in variables. In a certain sense, these are somewhat redundant with histograms, but you may be better able to identify clear outliers or differences in IQR, etc.\n",
    "    - Multiple values can be plotted to a single boxplot as long as they are of the same relative scale (meaning they have similar min/max values).\n",
    "    - Each boxplot should:\n",
    "        - Only include variables of a similar scale\n",
    "        - Have clear labels for each variable\n",
    "        - Have appropriate titles and labels\n",
    "4. Plot and interpret scatter plots to view relationships between features. Feel free to write a custom function, and subplot if you'd like. Functions save both time and space.\n",
    "    - Your plots should have:\n",
    "        - Two clearly labeled axes\n",
    "        - A proper title\n",
    "        - Colors and symbols that are clear and unmistakable\n",
    "5. Additional plots of your choosing.\n",
    "    - Are there any additional trends or relationships you haven't explored? Was there something interesting you saw that you'd like to dive further into? It's likely that there are a few more plots you might want to generate to support your narrative and recommendations that you are building toward. **As always, make sure you're interpreting your plots as you go**."
   ]
  },
  {
   "cell_type": "code",
   "execution_count": 433,
   "metadata": {},
   "outputs": [
    {
     "data": {
      "image/png": "[encoded data removed]",
      "text/plain": [
       "<Figure size 1224x360 with 1 Axes>"
      ]
     },
     "metadata": {
      "needs_background": "light"
     },
     "output_type": "display_data"
    }
   ],
   "source": [
    "sat_act_part_by_state.head()\n",
    "plt.figure(figsize = (17,5))\n",
    "sns.barplot(data = sat_act_part_by_state, x = 'state', y = 'participation_SATvsACT', palette= 'RdBu')\n",
    "plt.ylabel('Difference between participation:\\nACT                  SAT')\n",
    "plt.xticks(rotation = 90)\n",
    "plt.title('Comparison of SAT/ACT popularity (measured by participation), by state');"
   ]
  },
  {
   "cell_type": "code",
   "execution_count": 438,
   "metadata": {},
   "outputs": [
    {
     "data": {
      "image/png": "[encoded data removed]",
      "text/plain": [
       "<Figure size 576x576 with 1 Axes>"
      ]
     },
     "metadata": {
      "needs_background": "light"
     },
     "output_type": "display_data"
    },
    {
     "name": "stdout",
     "output_type": "stream",
     "text": [
      "It does not appear as though overall results are skewed towards either SAT or ACT: \n",
      "27 states report better SAT results, 24 - better ACT results.\n"
     ]
    }
   ],
   "source": [
    "plt.figure(figsize = (8,8))\n",
    "sns.scatterplot(data = sat_act_total_norm_by_state, x = 'total_norm_SAT', y = 'total_norm_ACT', hue = 'sat_over_act', palette= 'RdBu')\n",
    "plt.title('Normalized average SAT vs normalized average ACT scores \\n(each dot represents one state)')\n",
    "plt.xlabel('Normalized SAT scores')\n",
    "plt.ylabel('Normalized ACT scores')\n",
    "plt.plot([0,1], [0,1], c = 'gray', linestyle='dashed')\n",
    "plt.xlim(0.45, 0.8)\n",
    "plt.ylim(0.45, 0.8);\n",
    "plt.show()\n",
    "print(f'It does not appear as though overall results are skewed towards either SAT or ACT: \\n{sat_better} states report better SAT results, {act_better} - better ACT results.')"
   ]
  },
  {
   "cell_type": "code",
   "execution_count": 439,
   "metadata": {},
   "outputs": [
    {
     "data": {
      "image/png": "[encoded data removed]",
      "text/plain": [
       "<Figure size 1080x288 with 1 Axes>"
      ]
     },
     "metadata": {
      "needs_background": "light"
     },
     "output_type": "display_data"
    }
   ],
   "source": [
    "plt.figure(figsize = (15,4))\n",
    "plt.hist(sat_act_df['total_norm_ACT'], histtype= 'step', color= (0.2519971417644415, 0.4987337088076726, 0.5751602783606602), density = True)\n",
    "plt.hist(sat_act_df['total_norm_SAT'], histtype= 'step', color = (0.8510408608937171, 0.23436274952246883, 0.2796010376480583), density = True)\n",
    "plt.xlabel('Normalized average scores for SAT and ACT (min = 0, max =1)')\n",
    "plt.ylabel('Number of occurences')\n",
    "plt.legend(['ACT', 'SAT'])\n",
    "plt.title('\"Histogram\" of average SAT and ACT scores');\n"
   ]
  },
  {
   "cell_type": "code",
   "execution_count": 388,
   "metadata": {},
   "outputs": [
    {
     "data": {
      "text/plain": [
       "[(0.8828143021914648, 0.9546943483275664, 0.8621914648212226),\n",
       " (0.7371472510572856, 0.895517108804306, 0.7108342945021145),\n",
       " (0.5573241061130334, 0.8164244521337947, 0.546958861976163),\n",
       " (0.3388235294117647, 0.7117262591311034, 0.40584390618992694),\n",
       " (0.17139561707035755, 0.581514801999231, 0.2979008073817762),\n",
       " (0.017762399077277974, 0.44267589388696654, 0.18523644752018453)]"
      ]
     },
     "execution_count": 388,
     "metadata": {},
     "output_type": "execute_result"
    }
   ],
   "source": [
    "sns.color_palette('Greens')"
   ]
  },
  {
   "cell_type": "code",
   "execution_count": 444,
   "metadata": {},
   "outputs": [
    {
     "data": {
      "image/png": "[encoded data removed]",
      "text/plain": [
       "<Figure size 1152x360 with 2 Axes>"
      ]
     },
     "metadata": {
      "needs_background": "light"
     },
     "output_type": "display_data"
    }
   ],
   "source": [
    "plt.figure(figsize = (16,5))\n",
    "plt.suptitle('Distribution of the value of 25th and 75th percentile for students accepted to US colleges')\n",
    "plt.subplot(1,2,1)\n",
    "sns.boxplot(data = sat_act_by_college_df[['sat_norm_25th','sat_norm_75th']], orient='v', palette='Reds')\n",
    "plt.xlabel('label: \\nsat_norm_25th = 25th percentile of normalized SAT scores, \\nsat_norm_75th = 75th percentile of normalized SAT scores, ')\n",
    "plt.ylabel('Range of normalized SAT scores')\n",
    "plt.ylim(0,1)\n",
    "plt.subplot(1,2,2)\n",
    "sns.boxplot(data = sat_act_by_college_df[['act_norm_25th','act_norm_75th']], orient='v', palette= 'Blues')\n",
    "plt.xlabel('label: \\nact_norm_25th = 25th percentile of normalized ACT scores, \\nact_norm_75th = 75th percentile of normalized ACT scores, ')\n",
    "plt.ylabel('Range of normalized ACT scores');"
   ]
  },
  {
   "cell_type": "code",
   "execution_count": 407,
   "metadata": {},
   "outputs": [
    {
     "data": {
      "image/png": "[encoded data removed]",
      "text/plain": [
       "<Figure size 1224x288 with 2 Axes>"
      ]
     },
     "metadata": {
      "needs_background": "light"
     },
     "output_type": "display_data"
    }
   ],
   "source": [
    "plt.figure(figsize = (17,4))\n",
    "plt.subplot(1,2,2)\n",
    "plt.plot(list(range(1,len(sat_act_by_college_df['school'])+1)), sat_act_by_college_df['num_of_app_cum'], c = 'green')\n",
    "plt.hlines(y = [0.7, 0.8, 0.9], xmin=0, xmax = len(sat_act_by_college_df), linestyles='dotted')\n",
    "xs = [len(sat_act_by_college_df[sat_act_by_college_df['num_of_app_cum']<= i]) for i in [0.7, 0.8, 0.9]]\n",
    "plt.vlines (x = xs, ymin = 0, ymax = 1, linestyles= 'dotted', )\n",
    "plt.xticks(sorted([0, 100, 100, 300, 400]+ xs))\n",
    "plt.xlabel('Number of schools (ordered descending by # of applicants)')\n",
    "plt.ylabel('Proportion of all applicants')\n",
    "plt.title('Pareto of cumulative number of applicants')\n",
    "plt.subplot(1,2,1)\n",
    "sns.distplot(sat_act_by_college_df['accept_rate'], kde = False, bins= 10, color= (0.017762399077277974, 0.44267589388696654, 0.18523644752018453), norm_hist= True)\n",
    "plt.title('\"Histogram\" of acceptance rates among US schools')\n",
    "plt.xlabel('Acceptance rate')\n",
    "plt.ylabel('Proportion of US schools');"
   ]
  },
  {
   "cell_type": "code",
   "execution_count": 410,
   "metadata": {},
   "outputs": [
    {
     "name": "stderr",
     "output_type": "stream",
     "text": [
      "<ipython-input-410-1245dc2526f3>:1: UserWarning: Boolean Series key will be reindexed to match DataFrame index.\n",
      "  elite_schools = sat_act_by_college_df[sat_act_by_college_df['accept_rate']<0.2][sat_act_by_college_df['num_of_app_cum']<0.7]\n"
     ]
    }
   ],
   "source": [
    "elite_schools = sat_act_by_college_df[sat_act_by_college_df['accept_rate']<0.2][sat_act_by_college_df['num_of_app_cum']<0.7]"
   ]
  },
  {
   "cell_type": "markdown",
   "metadata": {},
   "source": [
    "## Conclusions and Recommendations"
   ]
  },
  {
   "cell_type": "markdown",
   "metadata": {},
   "source": [
    "Based on your exploration of the data, what are you key takeaways and recommendations? Make sure to answer your question of interest or address your problem statement here."
   ]
  },
  {
   "cell_type": "markdown",
   "metadata": {},
   "source": [
    "**To-Do:** *Edit this cell with your conclusions and recommendations.*"
   ]
  },
  {
   "cell_type": "markdown",
   "metadata": {},
   "source": [
    "Don't forget to create your README!\n",
    "\n",
    "**To-Do:** *If you combine your problem statement, data dictionary, brief summary of your analysis, and conclusions/recommendations, you have an amazing README.md file that quickly aligns your audience to the contents of your project.* Don't forget to cite your data sources!"
   ]
  }
 ],
 "metadata": {
  "anaconda-cloud": {},
  "kernelspec": {
   "display_name": "Python 3",
   "language": "python",
   "name": "python3"
  },
  "language_info": {
   "codemirror_mode": {
    "name": "ipython",
    "version": 3
   },
   "file_extension": ".py",
   "mimetype": "text/x-python",
   "name": "python",
   "nbconvert_exporter": "python",
   "pygments_lexer": "ipython3",
   "version": "3.8.3"
  }
 },
 "nbformat": 4,
 "nbformat_minor": 4
}
